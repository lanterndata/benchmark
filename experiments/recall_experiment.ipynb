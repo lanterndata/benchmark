{
 "cells": [
  {
   "attachments": {},
   "cell_type": "markdown",
   "id": "eca8e64f-cb07-4e53-bbf4-e897fa1f5da5",
   "metadata": {},
   "source": [
    "# Generate data"
   ]
  },
  {
   "cell_type": "code",
   "execution_count": 1,
   "id": "5ebb9f4b-a1a5-427a-bb3d-774f149a14cc",
   "metadata": {},
   "outputs": [
    {
     "name": "stdout",
     "output_type": "stream",
     "text": [
      "('pgvector', 'sift', '10k', [1, 3, 5, 10, 20, 40, 80])\n",
      "('pgvector', 'sift', '1m', [1, 3, 5, 10, 20, 40, 80])\n",
      "('pgvector', 'gist', '1m', [1, 3, 5, 10, 20, 40, 80])\n",
      "\n",
      "dataset=sift, extension=pgvector, N=10k | recall @ 1: 1.0\n",
      "dataset=sift, extension=pgvector, N=10k | recall @ 3: 1.0\n",
      "dataset=sift, extension=pgvector, N=10k | recall @ 5: 1.0\n",
      "dataset=sift, extension=pgvector, N=10k | recall @ 10: 1.0\n",
      "dataset=sift, extension=pgvector, N=10k | recall @ 20: 1.0\n",
      "dataset=sift, extension=pgvector, N=10k | recall @ 40: 0.9994999999999999\n",
      "dataset=sift, extension=pgvector, N=10k | recall @ 80: 0.99975\n",
      "dataset=sift, extension=pgvector, N=1m | recall @ 1: 1.0\n",
      "dataset=sift, extension=pgvector, N=1m | recall @ 3: 1.0\n",
      "dataset=sift, extension=pgvector, N=1m | recall @ 5: 1.0\n",
      "dataset=sift, extension=pgvector, N=1m | recall @ 10: 1.0\n",
      "dataset=sift, extension=pgvector, N=1m | recall @ 20: 1.0\n",
      "dataset=sift, extension=pgvector, N=1m | recall @ 40: 1.0\n"
     ]
    },
    {
     "name": "stderr",
     "output_type": "stream",
     "text": [
      "\n",
      "KeyboardInterrupt\n",
      "\n"
     ]
    }
   ],
   "source": [
    "from run_experiment import generate_extension_results\n",
    "generate_extension_results('pgvector', { 'lists': 100 }, 'recall')"
   ]
  },
  {
   "attachments": {},
   "cell_type": "markdown",
   "id": "4a4e37ce-7c49-4bb0-ba87-82ba676fa461",
   "metadata": {},
   "source": [
    "# Parse data and generate plots"
   ]
  },
  {
   "cell_type": "code",
   "execution_count": 1,
   "id": "7b7a744c-42a0-4966-82af-0d504add9ddd",
   "metadata": {},
   "outputs": [
    {
     "ename": "NameError",
     "evalue": "name 'database_params' is not defined",
     "output_type": "error",
     "traceback": [
      "\u001b[0;31m---------------------------------------------------------------------------\u001b[0m",
      "\u001b[0;31mNameError\u001b[0m                                 Traceback (most recent call last)",
      "Cell \u001b[0;32mIn[1], line 2\u001b[0m\n\u001b[1;32m      1\u001b[0m \u001b[38;5;28;01mfrom\u001b[39;00m \u001b[38;5;21;01mrecall_experiment\u001b[39;00m \u001b[38;5;28;01mimport\u001b[39;00m plot_results\n\u001b[0;32m----> 2\u001b[0m \u001b[43mplot_results\u001b[49m\u001b[43m(\u001b[49m\u001b[38;5;124;43m'\u001b[39;49m\u001b[38;5;124;43mpgvector\u001b[39;49m\u001b[38;5;124;43m'\u001b[39;49m\u001b[43m,\u001b[49m\u001b[43m \u001b[49m\u001b[38;5;124;43m'\u001b[39;49m\u001b[38;5;124;43msift\u001b[39;49m\u001b[38;5;124;43m'\u001b[39;49m\u001b[43m)\u001b[49m\n\u001b[1;32m      3\u001b[0m plot_results(\u001b[38;5;124m'\u001b[39m\u001b[38;5;124mlantern\u001b[39m\u001b[38;5;124m'\u001b[39m, \u001b[38;5;124m'\u001b[39m\u001b[38;5;124msift\u001b[39m\u001b[38;5;124m'\u001b[39m)\n\u001b[1;32m      4\u001b[0m \u001b[38;5;66;03m# plot_results('pgvector', 'gist')\u001b[39;00m\n\u001b[1;32m      5\u001b[0m \u001b[38;5;66;03m# plot_results('lantern', 'gist')\u001b[39;00m\n",
      "File \u001b[0;32m/app/experiments/recall_experiment.py:95\u001b[0m, in \u001b[0;36mplot_results\u001b[0;34m(extension, dataset)\u001b[0m\n\u001b[1;32m     89\u001b[0m       \u001b[38;5;28;01mcontinue\u001b[39;00m\n\u001b[1;32m     90\u001b[0m     K_values, recalls \u001b[38;5;241m=\u001b[39m \u001b[38;5;28mzip\u001b[39m(\u001b[38;5;241m*\u001b[39mresults)\n\u001b[1;32m     91\u001b[0m     fig\u001b[38;5;241m.\u001b[39madd_trace(go\u001b[38;5;241m.\u001b[39mScatter(\n\u001b[1;32m     92\u001b[0m         x\u001b[38;5;241m=\u001b[39mK_values,\n\u001b[1;32m     93\u001b[0m         y\u001b[38;5;241m=\u001b[39mrecalls,\n\u001b[1;32m     94\u001b[0m         mode\u001b[38;5;241m=\u001b[39m\u001b[38;5;124m'\u001b[39m\u001b[38;5;124mlines+markers\u001b[39m\u001b[38;5;124m'\u001b[39m,\n\u001b[0;32m---> 95\u001b[0m         name\u001b[38;5;241m=\u001b[39m\u001b[38;5;124mf\u001b[39m\u001b[38;5;124m\"\u001b[39m\u001b[38;5;124mN=\u001b[39m\u001b[38;5;132;01m{\u001b[39;00mN\u001b[38;5;132;01m}\u001b[39;00m\u001b[38;5;124m \u001b[39m\u001b[38;5;132;01m{\u001b[39;00m\u001b[43mdatabase_params\u001b[49m\u001b[38;5;132;01m}\u001b[39;00m\u001b[38;5;124m\"\u001b[39m,\n\u001b[1;32m     96\u001b[0m         legendgroup\u001b[38;5;241m=\u001b[39m\u001b[38;5;124mf\u001b[39m\u001b[38;5;124m\"\u001b[39m\u001b[38;5;124mN=\u001b[39m\u001b[38;5;132;01m{\u001b[39;00mN\u001b[38;5;132;01m}\u001b[39;00m\u001b[38;5;124m\"\u001b[39m,\n\u001b[1;32m     97\u001b[0m         legendgrouptitle\u001b[38;5;241m=\u001b[39m{\u001b[38;5;124m'\u001b[39m\u001b[38;5;124mtext\u001b[39m\u001b[38;5;124m'\u001b[39m: \u001b[38;5;124mf\u001b[39m\u001b[38;5;124m\"\u001b[39m\u001b[38;5;124mN=\u001b[39m\u001b[38;5;132;01m{\u001b[39;00mN\u001b[38;5;132;01m}\u001b[39;00m\u001b[38;5;124m\"\u001b[39m}\n\u001b[1;32m     98\u001b[0m     ))\n\u001b[1;32m     99\u001b[0m fig\u001b[38;5;241m.\u001b[39mupdate_layout(\n\u001b[1;32m    100\u001b[0m     title\u001b[38;5;241m=\u001b[39m\u001b[38;5;124mf\u001b[39m\u001b[38;5;124m\"\u001b[39m\u001b[38;5;124mRecall vs. K for extension \u001b[39m\u001b[38;5;132;01m{\u001b[39;00mextension\u001b[38;5;132;01m}\u001b[39;00m\u001b[38;5;124m and dataset \u001b[39m\u001b[38;5;132;01m{\u001b[39;00mdataset\u001b[38;5;132;01m}\u001b[39;00m\u001b[38;5;124m\"\u001b[39m,\n\u001b[1;32m    101\u001b[0m     xaxis_title\u001b[38;5;241m=\u001b[39m\u001b[38;5;124m'\u001b[39m\u001b[38;5;124mNumber of similar vectors retrieved (K)\u001b[39m\u001b[38;5;124m'\u001b[39m,\n\u001b[0;32m   (...)\u001b[0m\n\u001b[1;32m    107\u001b[0m     )\n\u001b[1;32m    108\u001b[0m )\n\u001b[1;32m    109\u001b[0m fig\u001b[38;5;241m.\u001b[39mshow()\n",
      "\u001b[0;31mNameError\u001b[0m: name 'database_params' is not defined"
     ]
    }
   ],
   "source": [
    "from recall_experiment import plot_results\n",
    "plot_results('pgvector', 'sift')\n",
    "plot_results('lantern', 'sift')\n",
    "# plot_results('pgvector', 'gist')\n",
    "# plot_results('lantern', 'gist')"
   ]
  },
  {
   "cell_type": "code",
   "execution_count": null,
   "id": "919fd276-3478-41b4-a3a0-8c6f96e011ec",
   "metadata": {},
   "outputs": [],
   "source": []
  },
  {
   "cell_type": "code",
   "execution_count": null,
   "id": "d4e54dca-808d-4a61-b2bb-52c9e5bfe7aa",
   "metadata": {},
   "outputs": [],
   "source": []
  },
  {
   "cell_type": "code",
   "execution_count": null,
   "id": "8d7cda16-fb48-45a4-ab2d-b87edcf8a314",
   "metadata": {},
   "outputs": [],
   "source": []
  }
 ],
 "metadata": {
  "kernelspec": {
   "display_name": "Python 3 (ipykernel)",
   "language": "python",
   "name": "python3"
  },
  "language_info": {
   "codemirror_mode": {
    "name": "ipython",
    "version": 3
   },
   "file_extension": ".py",
   "mimetype": "text/x-python",
   "name": "python",
   "nbconvert_exporter": "python",
   "pygments_lexer": "ipython3",
   "version": "3.11.2"
  }
 },
 "nbformat": 4,
 "nbformat_minor": 5
}
