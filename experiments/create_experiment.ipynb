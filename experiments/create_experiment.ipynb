{
 "cells": [
  {
   "cell_type": "markdown",
   "id": "54e28d83-4e78-4c6d-805e-981851ce4430",
   "metadata": {},
   "source": [
    "# Generate data"
   ]
  },
  {
   "cell_type": "code",
   "execution_count": null,
   "id": "50ba8dfd-4428-4bef-af6c-5e85602dc20b",
   "metadata": {
    "scrolled": true
   },
   "outputs": [
    {
     "name": "stdout",
     "output_type": "stream",
     "text": [
      "pgvector sift 10k\n",
      "pgvector sift 100k\n",
      "pgvector sift 200k\n",
      "pgvector sift 400k\n",
      "pgvector sift 600k\n",
      "pgvector sift 800k\n",
      "pgvector sift 1m\n",
      "pgvector gist 100k\n",
      "pgvector gist 200k\n",
      "pgvector gist 400k\n",
      "pgvector gist 600k\n",
      "pgvector gist 800k\n",
      "pgvector gist 1m\n",
      "\n",
      "extension: pgvector, index params: {'lists': 100}, dataset: sift, N: 10k\n",
      "0 / 10: 539.52 ms\n",
      "1 / 10: 555.29 ms\n",
      "2 / 10: 581.57 ms\n",
      "3 / 10: 514.50 ms\n",
      "4 / 10: 652.10 ms\n",
      "5 / 10: 528.24 ms\n",
      "6 / 10: 520.92 ms\n",
      "7 / 10: 525.10 ms\n",
      "8 / 10: 543.46 ms\n",
      "9 / 10: 595.07 ms\n",
      "average latency: 555.58 ms\n",
      "stddev latency 42.85 ms\n",
      "\n",
      "extension: pgvector, index params: {'lists': 100}, dataset: sift, N: 100k\n",
      "0 / 10: 2425.48 ms\n",
      "1 / 10: 2545.24 ms\n",
      "2 / 10: 2466.71 ms\n",
      "3 / 10: 2373.34 ms\n",
      "4 / 10: 2362.75 ms\n",
      "5 / 10: 2414.65 ms\n",
      "6 / 10: 2513.44 ms\n",
      "7 / 10: 2398.93 ms\n",
      "8 / 10: 2479.75 ms\n",
      "9 / 10: 2382.82 ms\n",
      "average latency: 2436.31 ms\n",
      "stddev latency 62.22 ms\n",
      "\n",
      "extension: pgvector, index params: {'lists': 100}, dataset: sift, N: 200k\n",
      "0 / 10: 4472.37 ms\n",
      "1 / 10: 4410.01 ms\n",
      "2 / 10: 4492.52 ms\n",
      "3 / 10: 4610.02 ms\n",
      "4 / 10: 4463.92 ms\n",
      "5 / 10: 4423.75 ms\n",
      "6 / 10: 4365.89 ms\n",
      "7 / 10: 4432.72 ms\n",
      "8 / 10: 4427.94 ms\n",
      "9 / 10: 4432.79 ms\n",
      "average latency: 4453.19 ms\n",
      "stddev latency 65.36 ms\n",
      "\n",
      "extension: pgvector, index params: {'lists': 100}, dataset: sift, N: 400k\n",
      "0 / 10: 17435.56 ms\n",
      "1 / 10: 13780.02 ms\n",
      "2 / 10: 14793.58 ms\n",
      "3 / 10: 15185.40 ms\n",
      "4 / 10: 12412.20 ms\n",
      "5 / 10: 8882.69 ms\n",
      "6 / 10: 8629.76 ms\n",
      "7 / 10: 8422.83 ms\n",
      "8 / 10: 8472.97 ms\n",
      "9 / 10: 8565.25 ms\n",
      "average latency: 11658.03 ms\n",
      "stddev latency 3460.49 ms\n",
      "\n",
      "extension: pgvector, index params: {'lists': 100}, dataset: sift, N: 600k\n",
      "0 / 10: 22747.28 ms\n",
      "1 / 10: 13073.08 ms\n",
      "2 / 10: 12343.78 ms\n",
      "3 / 10: 12313.67 ms\n",
      "4 / 10: 12632.57 ms\n",
      "5 / 10: 12488.18 ms\n",
      "6 / 10: 12355.05 ms\n",
      "7 / 10: 12723.15 ms\n",
      "8 / 10: 12402.48 ms\n",
      "9 / 10: 12423.46 ms\n",
      "average latency: 13550.27 ms\n",
      "stddev latency 3239.81 ms\n",
      "\n",
      "extension: pgvector, index params: {'lists': 100}, dataset: sift, N: 800k\n"
     ]
    }
   ],
   "source": [
    "from utils.constants import Extension, Metric\n",
    "from scripts.run_experiment import generate_extension_results\n",
    "index_params = { 'lists': 100 }\n",
    "generate_extension_results(Extension.PGVECTOR, index_params, Metric.CREATE_LATENCY)"
   ]
  },
  {
   "cell_type": "code",
   "execution_count": null,
   "id": "aecb4475-db6a-4e24-af41-cc40da2f37cc",
   "metadata": {
    "scrolled": true
   },
   "outputs": [
    {
     "name": "stdout",
     "output_type": "stream",
     "text": [
      "lantern sift 10k\n",
      "lantern sift 100k\n",
      "lantern sift 200k\n",
      "lantern sift 400k\n",
      "lantern sift 600k\n",
      "lantern sift 800k\n",
      "lantern sift 1m\n",
      "lantern gist 100k\n",
      "lantern gist 200k\n",
      "lantern gist 400k\n",
      "lantern gist 600k\n",
      "lantern gist 800k\n",
      "lantern gist 1m\n",
      "\n",
      "extension: lantern, index params: {'M': 4, 'ef_construction': 16, 'ef': 10}, dataset: sift, N: 10k\n",
      "0 / 10: 2178.155 ms\n",
      "1 / 10: 2088.202 ms\n",
      "2 / 10: 2053.796 ms\n",
      "3 / 10: 2051.047 ms\n",
      "4 / 10: 2060.294 ms\n",
      "5 / 10: 2032.235 ms\n",
      "6 / 10: 2103.429 ms\n",
      "7 / 10: 2088.761 ms\n",
      "8 / 10: 2105.271 ms\n",
      "9 / 10: 2083.818 ms\n",
      "average latency: 2084.5008000000003 ms\n",
      "\n",
      "extension: lantern, index params: {'M': 4, 'ef_construction': 16, 'ef': 10}, dataset: sift, N: 100k\n",
      "0 / 10: 45170.823 ms\n",
      "1 / 10: 46506.084 ms\n",
      "2 / 10: 47530.668 ms\n",
      "3 / 10: 49233.743 ms\n",
      "4 / 10: 49053.978 ms\n",
      "5 / 10: 49993.359 ms\n",
      "6 / 10: 49856.043 ms\n",
      "7 / 10: 49262.003 ms\n",
      "8 / 10: 49409.909 ms\n",
      "9 / 10: 48843.52 ms\n",
      "average latency: 48486.013 ms\n",
      "\n",
      "extension: lantern, index params: {'M': 4, 'ef_construction': 16, 'ef': 10}, dataset: sift, N: 200k\n",
      "0 / 10: 133219.283 ms\n",
      "1 / 10: 118618.489 ms\n",
      "2 / 10: 109803.369 ms\n",
      "3 / 10: 115391.285 ms\n",
      "4 / 10: 118293.743 ms\n",
      "5 / 10: 120728.475 ms\n",
      "6 / 10: 133131.461 ms\n",
      "7 / 10: 111826.897 ms\n",
      "8 / 10: 106120.144 ms\n",
      "9 / 10: 105658.198 ms\n",
      "average latency: 117279.13440000001 ms\n",
      "\n",
      "extension: lantern, index params: {'M': 4, 'ef_construction': 16, 'ef': 10}, dataset: sift, N: 400k\n"
     ]
    }
   ],
   "source": [
    "from utils.constants import Extension, Metric\n",
    "from scripts.run_experiment import generate_extension_results\n",
    "index_params = { 'M': 4, 'ef_construction': 16, 'ef': 10 }\n",
    "generate_extension_results(Extension.LANTERN, index_params, Metric.CREATE_LATENCY)"
   ]
  },
  {
   "cell_type": "code",
   "execution_count": null,
   "id": "de5fbf1c-2b28-4514-9dc0-8dd24f9641cf",
   "metadata": {
    "scrolled": true
   },
   "outputs": [
    {
     "name": "stdout",
     "output_type": "stream",
     "text": [
      "neon sift 10k\n",
      "neon sift 100k\n",
      "neon sift 200k\n",
      "neon sift 400k\n",
      "neon sift 600k\n",
      "neon sift 800k\n",
      "neon sift 1m\n",
      "neon gist 100k\n",
      "neon gist 200k\n",
      "neon gist 400k\n",
      "neon gist 600k\n",
      "neon gist 800k\n",
      "neon gist 1m\n",
      "\n",
      "extension: neon, index params: {'M': 4, 'ef_construction': 16, 'ef': 10}, dataset: sift, N: 10k\n",
      "0 / 10: 496.602 ms\n",
      "1 / 10: 444.988 ms\n",
      "2 / 10: 446.614 ms\n",
      "3 / 10: 439.556 ms\n",
      "4 / 10: 449.072 ms\n",
      "5 / 10: 457.921 ms\n",
      "6 / 10: 448.558 ms\n",
      "7 / 10: 457.913 ms\n",
      "8 / 10: 444.592 ms\n",
      "9 / 10: 452.924 ms\n",
      "average latency: 453.87399999999997 ms\n",
      "\n",
      "extension: neon, index params: {'M': 4, 'ef_construction': 16, 'ef': 10}, dataset: sift, N: 100k\n",
      "0 / 10: 6120.677 ms\n",
      "1 / 10: 11163.581 ms\n",
      "2 / 10: 11442.239 ms\n",
      "3 / 10: 10500.757 ms\n",
      "4 / 10: 6286.815 ms\n",
      "5 / 10: 6045.342 ms\n",
      "6 / 10: 5953.239 ms\n",
      "7 / 10: 6103.775 ms\n",
      "8 / 10: 5960.589 ms\n",
      "9 / 10: 6048.567 ms\n",
      "average latency: 7562.5581 ms\n",
      "\n",
      "extension: neon, index params: {'M': 4, 'ef_construction': 16, 'ef': 10}, dataset: sift, N: 200k\n",
      "0 / 10: 14852.961 ms\n",
      "1 / 10: 13209.643 ms\n",
      "2 / 10: 13188.398 ms\n",
      "3 / 10: 14131.274 ms\n",
      "4 / 10: 13198.447 ms\n",
      "5 / 10: 13270.42 ms\n",
      "6 / 10: 13174.626 ms\n",
      "7 / 10: 13083.816 ms\n",
      "8 / 10: 12915.099 ms\n",
      "9 / 10: 13054.992 ms\n",
      "average latency: 13407.9676 ms\n",
      "\n",
      "extension: neon, index params: {'M': 4, 'ef_construction': 16, 'ef': 10}, dataset: sift, N: 400k\n",
      "0 / 10: 33111.537 ms\n"
     ]
    }
   ],
   "source": [
    "from utils.constants import Extension, Metric\n",
    "from scripts.run_experiment import generate_extension_results\n",
    "index_params = { 'M': 4, 'ef_construction': 16, 'ef': 10 }\n",
    "generate_extension_results(Extension.NEON, index_params, Metric.CREATE_LATENCY)"
   ]
  },
  {
   "cell_type": "markdown",
   "id": "f474894f-41bd-42f8-b2cf-3e60b4ecd75b",
   "metadata": {},
   "source": [
    "# Print data"
   ]
  },
  {
   "cell_type": "code",
   "execution_count": 1,
   "id": "6fd1773e-7b24-49e6-8165-aee61b1bf9ed",
   "metadata": {
    "scrolled": true
   },
   "outputs": [
    {
     "name": "stdout",
     "output_type": "stream",
     "text": [
      "extension: pgvector, index params: {\"lists\": 100}, dataset: sift\n",
      "N              Time (ms)      \n",
      "------------------------------\n",
      "10k            606.18         \n",
      "100k           2753.78        \n",
      "200k           4745.90        \n",
      "400k           9468.23        \n",
      "600k           13279.27       \n",
      "800k           19164.03       \n",
      "1m             23314.40       \n",
      "\n",
      "\n",
      "\n",
      "extension: lantern, index params: {\"M\": 4, \"ef_construction\": 16, \"ef\": 10}, dataset: sift\n",
      "N              Time (ms)      \n",
      "------------------------------\n",
      "10k            2084.50        \n",
      "100k           48486.01       \n",
      "200k           117279.13      \n",
      "400k           0.61           \n",
      "600k           0.49           \n",
      "800k           0.53           \n",
      "1m             0.60           \n",
      "\n",
      "\n",
      "\n",
      "extension: neon, index params: {\"M\": 4, \"ef_construction\": 16, \"ef\": 10}, dataset: sift\n",
      "N              Time (ms)      \n",
      "------------------------------\n",
      "10k            453.87         \n",
      "100k           7562.56        \n",
      "200k           13407.97       \n",
      "400k           0.63           \n",
      "600k           0.51           \n",
      "800k           0.58           \n",
      "1m             0.68           \n",
      "\n",
      "\n",
      "\n"
     ]
    }
   ],
   "source": [
    "from utils.constants import Dataset\n",
    "from scripts.create_experiment import print_results\n",
    "print_results(Dataset.SIFT)"
   ]
  },
  {
   "cell_type": "markdown",
   "id": "4d109a7e-ee2c-45a3-a4b5-4fe3daba78ef",
   "metadata": {},
   "source": [
    "# Plot data"
   ]
  },
  {
   "cell_type": "code",
   "execution_count": 3,
   "id": "88c7d489-a825-4a7e-9dc1-6d786d009088",
   "metadata": {},
   "outputs": [
    {
     "data": {
      "application/vnd.plotly.v1+json": {
       "config": {
        "plotlyServerURL": "https://plot.ly"
       },
       "data": [
        {
         "legendgroup": "PGVECTOR",
         "legendgrouptitle": {
          "text": "PGVECTOR"
         },
         "marker": {
          "color": "rgb(153,153,255)"
         },
         "mode": "lines+markers",
         "name": "PGVECTOR - {\"lists\": 100}",
         "type": "scatter",
         "x": [
          10000,
          100000,
          200000,
          400000,
          600000,
          800000,
          1000000
         ],
         "y": [
          606.1844,
          2753.784,
          4745.9012999999995,
          9468.2314,
          13279.2655,
          19164.0271,
          23314.3972
         ]
        },
        {
         "legendgroup": "LANTERN",
         "legendgrouptitle": {
          "text": "LANTERN"
         },
         "marker": {
          "color": "rgb(153,255,153)"
         },
         "mode": "lines+markers",
         "name": "LANTERN - {\"M\": 4, \"ef_construction\": 16, \"ef\": 10}",
         "type": "scatter",
         "x": [
          10000,
          100000,
          200000
         ],
         "y": [
          2084.5008000000003,
          48486.013,
          117279.13440000001
         ]
        },
        {
         "legendgroup": "NEON",
         "legendgrouptitle": {
          "text": "NEON"
         },
         "marker": {
          "color": "rgb(204,153,255)"
         },
         "mode": "lines+markers",
         "name": "NEON - {\"M\": 4, \"ef_construction\": 16, \"ef\": 10}",
         "type": "scatter",
         "x": [
          10000,
          100000,
          200000,
          400000,
          600000,
          800000,
          1000000
         ],
         "y": [
          453.87399999999997,
          7562.5581,
          13407.9676,
          0.6346,
          0.5108,
          0.582,
          0.6791
         ]
        }
       ],
       "layout": {
        "autosize": true,
        "template": {
         "data": {
          "bar": [
           {
            "error_x": {
             "color": "#2a3f5f"
            },
            "error_y": {
             "color": "#2a3f5f"
            },
            "marker": {
             "line": {
              "color": "#E5ECF6",
              "width": 0.5
             },
             "pattern": {
              "fillmode": "overlay",
              "size": 10,
              "solidity": 0.2
             }
            },
            "type": "bar"
           }
          ],
          "barpolar": [
           {
            "marker": {
             "line": {
              "color": "#E5ECF6",
              "width": 0.5
             },
             "pattern": {
              "fillmode": "overlay",
              "size": 10,
              "solidity": 0.2
             }
            },
            "type": "barpolar"
           }
          ],
          "carpet": [
           {
            "aaxis": {
             "endlinecolor": "#2a3f5f",
             "gridcolor": "white",
             "linecolor": "white",
             "minorgridcolor": "white",
             "startlinecolor": "#2a3f5f"
            },
            "baxis": {
             "endlinecolor": "#2a3f5f",
             "gridcolor": "white",
             "linecolor": "white",
             "minorgridcolor": "white",
             "startlinecolor": "#2a3f5f"
            },
            "type": "carpet"
           }
          ],
          "choropleth": [
           {
            "colorbar": {
             "outlinewidth": 0,
             "ticks": ""
            },
            "type": "choropleth"
           }
          ],
          "contour": [
           {
            "colorbar": {
             "outlinewidth": 0,
             "ticks": ""
            },
            "colorscale": [
             [
              0,
              "#0d0887"
             ],
             [
              0.1111111111111111,
              "#46039f"
             ],
             [
              0.2222222222222222,
              "#7201a8"
             ],
             [
              0.3333333333333333,
              "#9c179e"
             ],
             [
              0.4444444444444444,
              "#bd3786"
             ],
             [
              0.5555555555555556,
              "#d8576b"
             ],
             [
              0.6666666666666666,
              "#ed7953"
             ],
             [
              0.7777777777777778,
              "#fb9f3a"
             ],
             [
              0.8888888888888888,
              "#fdca26"
             ],
             [
              1,
              "#f0f921"
             ]
            ],
            "type": "contour"
           }
          ],
          "contourcarpet": [
           {
            "colorbar": {
             "outlinewidth": 0,
             "ticks": ""
            },
            "type": "contourcarpet"
           }
          ],
          "heatmap": [
           {
            "colorbar": {
             "outlinewidth": 0,
             "ticks": ""
            },
            "colorscale": [
             [
              0,
              "#0d0887"
             ],
             [
              0.1111111111111111,
              "#46039f"
             ],
             [
              0.2222222222222222,
              "#7201a8"
             ],
             [
              0.3333333333333333,
              "#9c179e"
             ],
             [
              0.4444444444444444,
              "#bd3786"
             ],
             [
              0.5555555555555556,
              "#d8576b"
             ],
             [
              0.6666666666666666,
              "#ed7953"
             ],
             [
              0.7777777777777778,
              "#fb9f3a"
             ],
             [
              0.8888888888888888,
              "#fdca26"
             ],
             [
              1,
              "#f0f921"
             ]
            ],
            "type": "heatmap"
           }
          ],
          "heatmapgl": [
           {
            "colorbar": {
             "outlinewidth": 0,
             "ticks": ""
            },
            "colorscale": [
             [
              0,
              "#0d0887"
             ],
             [
              0.1111111111111111,
              "#46039f"
             ],
             [
              0.2222222222222222,
              "#7201a8"
             ],
             [
              0.3333333333333333,
              "#9c179e"
             ],
             [
              0.4444444444444444,
              "#bd3786"
             ],
             [
              0.5555555555555556,
              "#d8576b"
             ],
             [
              0.6666666666666666,
              "#ed7953"
             ],
             [
              0.7777777777777778,
              "#fb9f3a"
             ],
             [
              0.8888888888888888,
              "#fdca26"
             ],
             [
              1,
              "#f0f921"
             ]
            ],
            "type": "heatmapgl"
           }
          ],
          "histogram": [
           {
            "marker": {
             "pattern": {
              "fillmode": "overlay",
              "size": 10,
              "solidity": 0.2
             }
            },
            "type": "histogram"
           }
          ],
          "histogram2d": [
           {
            "colorbar": {
             "outlinewidth": 0,
             "ticks": ""
            },
            "colorscale": [
             [
              0,
              "#0d0887"
             ],
             [
              0.1111111111111111,
              "#46039f"
             ],
             [
              0.2222222222222222,
              "#7201a8"
             ],
             [
              0.3333333333333333,
              "#9c179e"
             ],
             [
              0.4444444444444444,
              "#bd3786"
             ],
             [
              0.5555555555555556,
              "#d8576b"
             ],
             [
              0.6666666666666666,
              "#ed7953"
             ],
             [
              0.7777777777777778,
              "#fb9f3a"
             ],
             [
              0.8888888888888888,
              "#fdca26"
             ],
             [
              1,
              "#f0f921"
             ]
            ],
            "type": "histogram2d"
           }
          ],
          "histogram2dcontour": [
           {
            "colorbar": {
             "outlinewidth": 0,
             "ticks": ""
            },
            "colorscale": [
             [
              0,
              "#0d0887"
             ],
             [
              0.1111111111111111,
              "#46039f"
             ],
             [
              0.2222222222222222,
              "#7201a8"
             ],
             [
              0.3333333333333333,
              "#9c179e"
             ],
             [
              0.4444444444444444,
              "#bd3786"
             ],
             [
              0.5555555555555556,
              "#d8576b"
             ],
             [
              0.6666666666666666,
              "#ed7953"
             ],
             [
              0.7777777777777778,
              "#fb9f3a"
             ],
             [
              0.8888888888888888,
              "#fdca26"
             ],
             [
              1,
              "#f0f921"
             ]
            ],
            "type": "histogram2dcontour"
           }
          ],
          "mesh3d": [
           {
            "colorbar": {
             "outlinewidth": 0,
             "ticks": ""
            },
            "type": "mesh3d"
           }
          ],
          "parcoords": [
           {
            "line": {
             "colorbar": {
              "outlinewidth": 0,
              "ticks": ""
             }
            },
            "type": "parcoords"
           }
          ],
          "pie": [
           {
            "automargin": true,
            "type": "pie"
           }
          ],
          "scatter": [
           {
            "fillpattern": {
             "fillmode": "overlay",
             "size": 10,
             "solidity": 0.2
            },
            "type": "scatter"
           }
          ],
          "scatter3d": [
           {
            "line": {
             "colorbar": {
              "outlinewidth": 0,
              "ticks": ""
             }
            },
            "marker": {
             "colorbar": {
              "outlinewidth": 0,
              "ticks": ""
             }
            },
            "type": "scatter3d"
           }
          ],
          "scattercarpet": [
           {
            "marker": {
             "colorbar": {
              "outlinewidth": 0,
              "ticks": ""
             }
            },
            "type": "scattercarpet"
           }
          ],
          "scattergeo": [
           {
            "marker": {
             "colorbar": {
              "outlinewidth": 0,
              "ticks": ""
             }
            },
            "type": "scattergeo"
           }
          ],
          "scattergl": [
           {
            "marker": {
             "colorbar": {
              "outlinewidth": 0,
              "ticks": ""
             }
            },
            "type": "scattergl"
           }
          ],
          "scattermapbox": [
           {
            "marker": {
             "colorbar": {
              "outlinewidth": 0,
              "ticks": ""
             }
            },
            "type": "scattermapbox"
           }
          ],
          "scatterpolar": [
           {
            "marker": {
             "colorbar": {
              "outlinewidth": 0,
              "ticks": ""
             }
            },
            "type": "scatterpolar"
           }
          ],
          "scatterpolargl": [
           {
            "marker": {
             "colorbar": {
              "outlinewidth": 0,
              "ticks": ""
             }
            },
            "type": "scatterpolargl"
           }
          ],
          "scatterternary": [
           {
            "marker": {
             "colorbar": {
              "outlinewidth": 0,
              "ticks": ""
             }
            },
            "type": "scatterternary"
           }
          ],
          "surface": [
           {
            "colorbar": {
             "outlinewidth": 0,
             "ticks": ""
            },
            "colorscale": [
             [
              0,
              "#0d0887"
             ],
             [
              0.1111111111111111,
              "#46039f"
             ],
             [
              0.2222222222222222,
              "#7201a8"
             ],
             [
              0.3333333333333333,
              "#9c179e"
             ],
             [
              0.4444444444444444,
              "#bd3786"
             ],
             [
              0.5555555555555556,
              "#d8576b"
             ],
             [
              0.6666666666666666,
              "#ed7953"
             ],
             [
              0.7777777777777778,
              "#fb9f3a"
             ],
             [
              0.8888888888888888,
              "#fdca26"
             ],
             [
              1,
              "#f0f921"
             ]
            ],
            "type": "surface"
           }
          ],
          "table": [
           {
            "cells": {
             "fill": {
              "color": "#EBF0F8"
             },
             "line": {
              "color": "white"
             }
            },
            "header": {
             "fill": {
              "color": "#C8D4E3"
             },
             "line": {
              "color": "white"
             }
            },
            "type": "table"
           }
          ]
         },
         "layout": {
          "annotationdefaults": {
           "arrowcolor": "#2a3f5f",
           "arrowhead": 0,
           "arrowwidth": 1
          },
          "autotypenumbers": "strict",
          "coloraxis": {
           "colorbar": {
            "outlinewidth": 0,
            "ticks": ""
           }
          },
          "colorscale": {
           "diverging": [
            [
             0,
             "#8e0152"
            ],
            [
             0.1,
             "#c51b7d"
            ],
            [
             0.2,
             "#de77ae"
            ],
            [
             0.3,
             "#f1b6da"
            ],
            [
             0.4,
             "#fde0ef"
            ],
            [
             0.5,
             "#f7f7f7"
            ],
            [
             0.6,
             "#e6f5d0"
            ],
            [
             0.7,
             "#b8e186"
            ],
            [
             0.8,
             "#7fbc41"
            ],
            [
             0.9,
             "#4d9221"
            ],
            [
             1,
             "#276419"
            ]
           ],
           "sequential": [
            [
             0,
             "#0d0887"
            ],
            [
             0.1111111111111111,
             "#46039f"
            ],
            [
             0.2222222222222222,
             "#7201a8"
            ],
            [
             0.3333333333333333,
             "#9c179e"
            ],
            [
             0.4444444444444444,
             "#bd3786"
            ],
            [
             0.5555555555555556,
             "#d8576b"
            ],
            [
             0.6666666666666666,
             "#ed7953"
            ],
            [
             0.7777777777777778,
             "#fb9f3a"
            ],
            [
             0.8888888888888888,
             "#fdca26"
            ],
            [
             1,
             "#f0f921"
            ]
           ],
           "sequentialminus": [
            [
             0,
             "#0d0887"
            ],
            [
             0.1111111111111111,
             "#46039f"
            ],
            [
             0.2222222222222222,
             "#7201a8"
            ],
            [
             0.3333333333333333,
             "#9c179e"
            ],
            [
             0.4444444444444444,
             "#bd3786"
            ],
            [
             0.5555555555555556,
             "#d8576b"
            ],
            [
             0.6666666666666666,
             "#ed7953"
            ],
            [
             0.7777777777777778,
             "#fb9f3a"
            ],
            [
             0.8888888888888888,
             "#fdca26"
            ],
            [
             1,
             "#f0f921"
            ]
           ]
          },
          "colorway": [
           "#636efa",
           "#EF553B",
           "#00cc96",
           "#ab63fa",
           "#FFA15A",
           "#19d3f3",
           "#FF6692",
           "#B6E880",
           "#FF97FF",
           "#FECB52"
          ],
          "font": {
           "color": "#2a3f5f"
          },
          "geo": {
           "bgcolor": "white",
           "lakecolor": "white",
           "landcolor": "#E5ECF6",
           "showlakes": true,
           "showland": true,
           "subunitcolor": "white"
          },
          "hoverlabel": {
           "align": "left"
          },
          "hovermode": "closest",
          "mapbox": {
           "style": "light"
          },
          "paper_bgcolor": "white",
          "plot_bgcolor": "#E5ECF6",
          "polar": {
           "angularaxis": {
            "gridcolor": "white",
            "linecolor": "white",
            "ticks": ""
           },
           "bgcolor": "#E5ECF6",
           "radialaxis": {
            "gridcolor": "white",
            "linecolor": "white",
            "ticks": ""
           }
          },
          "scene": {
           "xaxis": {
            "backgroundcolor": "#E5ECF6",
            "gridcolor": "white",
            "gridwidth": 2,
            "linecolor": "white",
            "showbackground": true,
            "ticks": "",
            "zerolinecolor": "white"
           },
           "yaxis": {
            "backgroundcolor": "#E5ECF6",
            "gridcolor": "white",
            "gridwidth": 2,
            "linecolor": "white",
            "showbackground": true,
            "ticks": "",
            "zerolinecolor": "white"
           },
           "zaxis": {
            "backgroundcolor": "#E5ECF6",
            "gridcolor": "white",
            "gridwidth": 2,
            "linecolor": "white",
            "showbackground": true,
            "ticks": "",
            "zerolinecolor": "white"
           }
          },
          "shapedefaults": {
           "line": {
            "color": "#2a3f5f"
           }
          },
          "ternary": {
           "aaxis": {
            "gridcolor": "white",
            "linecolor": "white",
            "ticks": ""
           },
           "baxis": {
            "gridcolor": "white",
            "linecolor": "white",
            "ticks": ""
           },
           "bgcolor": "#E5ECF6",
           "caxis": {
            "gridcolor": "white",
            "linecolor": "white",
            "ticks": ""
           }
          },
          "title": {
           "x": 0.05
          },
          "xaxis": {
           "automargin": true,
           "gridcolor": "white",
           "linecolor": "white",
           "ticks": "",
           "title": {
            "standoff": 15
           },
           "zerolinecolor": "white",
           "zerolinewidth": 2
          },
          "yaxis": {
           "automargin": true,
           "gridcolor": "white",
           "linecolor": "white",
           "ticks": "",
           "title": {
            "standoff": 15
           },
           "zerolinecolor": "white",
           "zerolinewidth": 2
          }
         }
        },
        "title": {
         "text": "Create Index Latency over Number of Rows for sift"
        },
        "xaxis": {
         "autorange": true,
         "range": [
          -48416.149068322986,
          1058416.149068323
         ],
         "title": {
          "text": "Number of rows"
         },
         "type": "linear"
        },
        "yaxis": {
         "autorange": true,
         "range": [
          -9677.82221553398,
          126957.46741553399
         ],
         "title": {
          "text": "Latency (ms)"
         },
         "type": "linear"
        }
       }
      },
      "image/png": "[encoded data removed]",
      "text/html": [
       "<div>                            <div id=\"193f35c6-9284-4d33-87e0-2bf98a85770c\" class=\"plotly-graph-div\" style=\"height:525px; width:100%;\"></div>            <script type=\"text/javascript\">                require([\"plotly\"], function(Plotly) {                    window.PLOTLYENV=window.PLOTLYENV || {};                                    if (document.getElementById(\"193f35c6-9284-4d33-87e0-2bf98a85770c\")) {                    Plotly.newPlot(                        \"193f35c6-9284-4d33-87e0-2bf98a85770c\",                        [{\"legendgroup\":\"PGVECTOR\",\"legendgrouptitle\":{\"text\":\"PGVECTOR\"},\"marker\":{\"color\":\"rgb(153,153,255)\"},\"mode\":\"lines+markers\",\"name\":\"PGVECTOR - {\\\"lists\\\": 100}\",\"x\":[10000,100000,200000,400000,600000,800000,1000000],\"y\":[606.1844,2753.784,4745.9012999999995,9468.2314,13279.2655,19164.0271,23314.3972],\"type\":\"scatter\"},{\"legendgroup\":\"LANTERN\",\"legendgrouptitle\":{\"text\":\"LANTERN\"},\"marker\":{\"color\":\"rgb(153,255,153)\"},\"mode\":\"lines+markers\",\"name\":\"LANTERN - {\\\"M\\\": 4, \\\"ef_construction\\\": 16, \\\"ef\\\": 10}\",\"x\":[10000,100000,200000],\"y\":[2084.5008000000003,48486.013,117279.13440000001],\"type\":\"scatter\"},{\"legendgroup\":\"NEON\",\"legendgrouptitle\":{\"text\":\"NEON\"},\"marker\":{\"color\":\"rgb(204,153,255)\"},\"mode\":\"lines+markers\",\"name\":\"NEON - {\\\"M\\\": 4, \\\"ef_construction\\\": 16, \\\"ef\\\": 10}\",\"x\":[10000,100000,200000,400000,600000,800000,1000000],\"y\":[453.87399999999997,7562.5581,13407.9676,0.6346,0.5108,0.582,0.6791],\"type\":\"scatter\"}],                        {\"template\":{\"data\":{\"histogram2dcontour\":[{\"type\":\"histogram2dcontour\",\"colorbar\":{\"outlinewidth\":0,\"ticks\":\"\"},\"colorscale\":[[0.0,\"#0d0887\"],[0.1111111111111111,\"#46039f\"],[0.2222222222222222,\"#7201a8\"],[0.3333333333333333,\"#9c179e\"],[0.4444444444444444,\"#bd3786\"],[0.5555555555555556,\"#d8576b\"],[0.6666666666666666,\"#ed7953\"],[0.7777777777777778,\"#fb9f3a\"],[0.8888888888888888,\"#fdca26\"],[1.0,\"#f0f921\"]]}],\"choropleth\":[{\"type\":\"choropleth\",\"colorbar\":{\"outlinewidth\":0,\"ticks\":\"\"}}],\"histogram2d\":[{\"type\":\"histogram2d\",\"colorbar\":{\"outlinewidth\":0,\"ticks\":\"\"},\"colorscale\":[[0.0,\"#0d0887\"],[0.1111111111111111,\"#46039f\"],[0.2222222222222222,\"#7201a8\"],[0.3333333333333333,\"#9c179e\"],[0.4444444444444444,\"#bd3786\"],[0.5555555555555556,\"#d8576b\"],[0.6666666666666666,\"#ed7953\"],[0.7777777777777778,\"#fb9f3a\"],[0.8888888888888888,\"#fdca26\"],[1.0,\"#f0f921\"]]}],\"heatmap\":[{\"type\":\"heatmap\",\"colorbar\":{\"outlinewidth\":0,\"ticks\":\"\"},\"colorscale\":[[0.0,\"#0d0887\"],[0.1111111111111111,\"#46039f\"],[0.2222222222222222,\"#7201a8\"],[0.3333333333333333,\"#9c179e\"],[0.4444444444444444,\"#bd3786\"],[0.5555555555555556,\"#d8576b\"],[0.6666666666666666,\"#ed7953\"],[0.7777777777777778,\"#fb9f3a\"],[0.8888888888888888,\"#fdca26\"],[1.0,\"#f0f921\"]]}],\"heatmapgl\":[{\"type\":\"heatmapgl\",\"colorbar\":{\"outlinewidth\":0,\"ticks\":\"\"},\"colorscale\":[[0.0,\"#0d0887\"],[0.1111111111111111,\"#46039f\"],[0.2222222222222222,\"#7201a8\"],[0.3333333333333333,\"#9c179e\"],[0.4444444444444444,\"#bd3786\"],[0.5555555555555556,\"#d8576b\"],[0.6666666666666666,\"#ed7953\"],[0.7777777777777778,\"#fb9f3a\"],[0.8888888888888888,\"#fdca26\"],[1.0,\"#f0f921\"]]}],\"contourcarpet\":[{\"type\":\"contourcarpet\",\"colorbar\":{\"outlinewidth\":0,\"ticks\":\"\"}}],\"contour\":[{\"type\":\"contour\",\"colorbar\":{\"outlinewidth\":0,\"ticks\":\"\"},\"colorscale\":[[0.0,\"#0d0887\"],[0.1111111111111111,\"#46039f\"],[0.2222222222222222,\"#7201a8\"],[0.3333333333333333,\"#9c179e\"],[0.4444444444444444,\"#bd3786\"],[0.5555555555555556,\"#d8576b\"],[0.6666666666666666,\"#ed7953\"],[0.7777777777777778,\"#fb9f3a\"],[0.8888888888888888,\"#fdca26\"],[1.0,\"#f0f921\"]]}],\"surface\":[{\"type\":\"surface\",\"colorbar\":{\"outlinewidth\":0,\"ticks\":\"\"},\"colorscale\":[[0.0,\"#0d0887\"],[0.1111111111111111,\"#46039f\"],[0.2222222222222222,\"#7201a8\"],[0.3333333333333333,\"#9c179e\"],[0.4444444444444444,\"#bd3786\"],[0.5555555555555556,\"#d8576b\"],[0.6666666666666666,\"#ed7953\"],[0.7777777777777778,\"#fb9f3a\"],[0.8888888888888888,\"#fdca26\"],[1.0,\"#f0f921\"]]}],\"mesh3d\":[{\"type\":\"mesh3d\",\"colorbar\":{\"outlinewidth\":0,\"ticks\":\"\"}}],\"scatter\":[{\"fillpattern\":{\"fillmode\":\"overlay\",\"size\":10,\"solidity\":0.2},\"type\":\"scatter\"}],\"parcoords\":[{\"type\":\"parcoords\",\"line\":{\"colorbar\":{\"outlinewidth\":0,\"ticks\":\"\"}}}],\"scatterpolargl\":[{\"type\":\"scatterpolargl\",\"marker\":{\"colorbar\":{\"outlinewidth\":0,\"ticks\":\"\"}}}],\"bar\":[{\"error_x\":{\"color\":\"#2a3f5f\"},\"error_y\":{\"color\":\"#2a3f5f\"},\"marker\":{\"line\":{\"color\":\"#E5ECF6\",\"width\":0.5},\"pattern\":{\"fillmode\":\"overlay\",\"size\":10,\"solidity\":0.2}},\"type\":\"bar\"}],\"scattergeo\":[{\"type\":\"scattergeo\",\"marker\":{\"colorbar\":{\"outlinewidth\":0,\"ticks\":\"\"}}}],\"scatterpolar\":[{\"type\":\"scatterpolar\",\"marker\":{\"colorbar\":{\"outlinewidth\":0,\"ticks\":\"\"}}}],\"histogram\":[{\"marker\":{\"pattern\":{\"fillmode\":\"overlay\",\"size\":10,\"solidity\":0.2}},\"type\":\"histogram\"}],\"scattergl\":[{\"type\":\"scattergl\",\"marker\":{\"colorbar\":{\"outlinewidth\":0,\"ticks\":\"\"}}}],\"scatter3d\":[{\"type\":\"scatter3d\",\"line\":{\"colorbar\":{\"outlinewidth\":0,\"ticks\":\"\"}},\"marker\":{\"colorbar\":{\"outlinewidth\":0,\"ticks\":\"\"}}}],\"scattermapbox\":[{\"type\":\"scattermapbox\",\"marker\":{\"colorbar\":{\"outlinewidth\":0,\"ticks\":\"\"}}}],\"scatterternary\":[{\"type\":\"scatterternary\",\"marker\":{\"colorbar\":{\"outlinewidth\":0,\"ticks\":\"\"}}}],\"scattercarpet\":[{\"type\":\"scattercarpet\",\"marker\":{\"colorbar\":{\"outlinewidth\":0,\"ticks\":\"\"}}}],\"carpet\":[{\"aaxis\":{\"endlinecolor\":\"#2a3f5f\",\"gridcolor\":\"white\",\"linecolor\":\"white\",\"minorgridcolor\":\"white\",\"startlinecolor\":\"#2a3f5f\"},\"baxis\":{\"endlinecolor\":\"#2a3f5f\",\"gridcolor\":\"white\",\"linecolor\":\"white\",\"minorgridcolor\":\"white\",\"startlinecolor\":\"#2a3f5f\"},\"type\":\"carpet\"}],\"table\":[{\"cells\":{\"fill\":{\"color\":\"#EBF0F8\"},\"line\":{\"color\":\"white\"}},\"header\":{\"fill\":{\"color\":\"#C8D4E3\"},\"line\":{\"color\":\"white\"}},\"type\":\"table\"}],\"barpolar\":[{\"marker\":{\"line\":{\"color\":\"#E5ECF6\",\"width\":0.5},\"pattern\":{\"fillmode\":\"overlay\",\"size\":10,\"solidity\":0.2}},\"type\":\"barpolar\"}],\"pie\":[{\"automargin\":true,\"type\":\"pie\"}]},\"layout\":{\"autotypenumbers\":\"strict\",\"colorway\":[\"#636efa\",\"#EF553B\",\"#00cc96\",\"#ab63fa\",\"#FFA15A\",\"#19d3f3\",\"#FF6692\",\"#B6E880\",\"#FF97FF\",\"#FECB52\"],\"font\":{\"color\":\"#2a3f5f\"},\"hovermode\":\"closest\",\"hoverlabel\":{\"align\":\"left\"},\"paper_bgcolor\":\"white\",\"plot_bgcolor\":\"#E5ECF6\",\"polar\":{\"bgcolor\":\"#E5ECF6\",\"angularaxis\":{\"gridcolor\":\"white\",\"linecolor\":\"white\",\"ticks\":\"\"},\"radialaxis\":{\"gridcolor\":\"white\",\"linecolor\":\"white\",\"ticks\":\"\"}},\"ternary\":{\"bgcolor\":\"#E5ECF6\",\"aaxis\":{\"gridcolor\":\"white\",\"linecolor\":\"white\",\"ticks\":\"\"},\"baxis\":{\"gridcolor\":\"white\",\"linecolor\":\"white\",\"ticks\":\"\"},\"caxis\":{\"gridcolor\":\"white\",\"linecolor\":\"white\",\"ticks\":\"\"}},\"coloraxis\":{\"colorbar\":{\"outlinewidth\":0,\"ticks\":\"\"}},\"colorscale\":{\"sequential\":[[0.0,\"#0d0887\"],[0.1111111111111111,\"#46039f\"],[0.2222222222222222,\"#7201a8\"],[0.3333333333333333,\"#9c179e\"],[0.4444444444444444,\"#bd3786\"],[0.5555555555555556,\"#d8576b\"],[0.6666666666666666,\"#ed7953\"],[0.7777777777777778,\"#fb9f3a\"],[0.8888888888888888,\"#fdca26\"],[1.0,\"#f0f921\"]],\"sequentialminus\":[[0.0,\"#0d0887\"],[0.1111111111111111,\"#46039f\"],[0.2222222222222222,\"#7201a8\"],[0.3333333333333333,\"#9c179e\"],[0.4444444444444444,\"#bd3786\"],[0.5555555555555556,\"#d8576b\"],[0.6666666666666666,\"#ed7953\"],[0.7777777777777778,\"#fb9f3a\"],[0.8888888888888888,\"#fdca26\"],[1.0,\"#f0f921\"]],\"diverging\":[[0,\"#8e0152\"],[0.1,\"#c51b7d\"],[0.2,\"#de77ae\"],[0.3,\"#f1b6da\"],[0.4,\"#fde0ef\"],[0.5,\"#f7f7f7\"],[0.6,\"#e6f5d0\"],[0.7,\"#b8e186\"],[0.8,\"#7fbc41\"],[0.9,\"#4d9221\"],[1,\"#276419\"]]},\"xaxis\":{\"gridcolor\":\"white\",\"linecolor\":\"white\",\"ticks\":\"\",\"title\":{\"standoff\":15},\"zerolinecolor\":\"white\",\"automargin\":true,\"zerolinewidth\":2},\"yaxis\":{\"gridcolor\":\"white\",\"linecolor\":\"white\",\"ticks\":\"\",\"title\":{\"standoff\":15},\"zerolinecolor\":\"white\",\"automargin\":true,\"zerolinewidth\":2},\"scene\":{\"xaxis\":{\"backgroundcolor\":\"#E5ECF6\",\"gridcolor\":\"white\",\"linecolor\":\"white\",\"showbackground\":true,\"ticks\":\"\",\"zerolinecolor\":\"white\",\"gridwidth\":2},\"yaxis\":{\"backgroundcolor\":\"#E5ECF6\",\"gridcolor\":\"white\",\"linecolor\":\"white\",\"showbackground\":true,\"ticks\":\"\",\"zerolinecolor\":\"white\",\"gridwidth\":2},\"zaxis\":{\"backgroundcolor\":\"#E5ECF6\",\"gridcolor\":\"white\",\"linecolor\":\"white\",\"showbackground\":true,\"ticks\":\"\",\"zerolinecolor\":\"white\",\"gridwidth\":2}},\"shapedefaults\":{\"line\":{\"color\":\"#2a3f5f\"}},\"annotationdefaults\":{\"arrowcolor\":\"#2a3f5f\",\"arrowhead\":0,\"arrowwidth\":1},\"geo\":{\"bgcolor\":\"white\",\"landcolor\":\"#E5ECF6\",\"subunitcolor\":\"white\",\"showland\":true,\"showlakes\":true,\"lakecolor\":\"white\"},\"title\":{\"x\":0.05},\"mapbox\":{\"style\":\"light\"}}},\"title\":{\"text\":\"Create Index Latency over Number of Rows for sift\"},\"xaxis\":{\"title\":{\"text\":\"Number of rows\"}},\"yaxis\":{\"title\":{\"text\":\"Latency (ms)\"}}},                        {\"responsive\": true}                    ).then(function(){\n",
       "                            \n",
       "var gd = document.getElementById('193f35c6-9284-4d33-87e0-2bf98a85770c');\n",
       "var x = new MutationObserver(function (mutations, observer) {{\n",
       "        var display = window.getComputedStyle(gd).display;\n",
       "        if (!display || display === 'none') {{\n",
       "            console.log([gd, 'removed!']);\n",
       "            Plotly.purge(gd);\n",
       "            observer.disconnect();\n",
       "        }}\n",
       "}});\n",
       "\n",
       "// Listen for the removal of the full notebook cells\n",
       "var notebookContainer = gd.closest('#notebook-container');\n",
       "if (notebookContainer) {{\n",
       "    x.observe(notebookContainer, {childList: true});\n",
       "}}\n",
       "\n",
       "// Listen for the clearing of the current output cell\n",
       "var outputEl = gd.closest('.output');\n",
       "if (outputEl) {{\n",
       "    x.observe(outputEl, {childList: true});\n",
       "}}\n",
       "\n",
       "                        })                };                });            </script>        </div>"
      ]
     },
     "metadata": {},
     "output_type": "display_data"
    }
   ],
   "source": [
    "from utils.constants import Dataset\n",
    "from scripts.create_experiment import plot_results\n",
    "plot_results(Dataset.SIFT)"
   ]
  }
 ],
 "metadata": {
  "kernelspec": {
   "display_name": "Python 3 (ipykernel)",
   "language": "python",
   "name": "python3"
  },
  "language_info": {
   "codemirror_mode": {
    "name": "ipython",
    "version": 3
   },
   "file_extension": ".py",
   "mimetype": "text/x-python",
   "name": "python",
   "nbconvert_exporter": "python",
   "pygments_lexer": "ipython3",
   "version": "3.11.2"
  }
 },
 "nbformat": 4,
 "nbformat_minor": 5
}
