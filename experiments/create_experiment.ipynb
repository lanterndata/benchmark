{
 "cells": [
  {
   "cell_type": "markdown",
   "id": "54e28d83-4e78-4c6d-805e-981851ce4430",
   "metadata": {},
   "source": [
    "# Generate data"
   ]
  },
  {
   "cell_type": "code",
   "execution_count": 1,
   "id": "50ba8dfd-4428-4bef-af6c-5e85602dc20b",
   "metadata": {
    "scrolled": true
   },
   "outputs": [
    {
     "name": "stdout",
     "output_type": "stream",
     "text": [
      "pgvector_ivfflat sift 10k\n",
      "pgvector_ivfflat sift 100k\n",
      "\n",
      "extension: pgvector_ivfflat, index params: {'lists': 100, 'probes': 16}, dataset: sift, N: 10k\n",
      "0 / 10: 632.32 ms\n",
      "1 / 10: 609.70 ms\n",
      "2 / 10: 548.02 ms\n",
      "3 / 10: 613.63 ms\n",
      "4 / 10: 580.04 ms\n",
      "5 / 10: 562.79 ms\n",
      "6 / 10: 567.17 ms\n",
      "7 / 10: 586.63 ms\n",
      "8 / 10: 598.50 ms\n",
      "9 / 10: 501.86 ms\n",
      "average latency: 580.06 ms\n",
      "stddev latency 37.60 ms\n",
      "\n",
      "extension: pgvector_ivfflat, index params: {'lists': 100, 'probes': 16}, dataset: sift, N: 100k\n",
      "0 / 10: 2672.03 ms\n",
      "1 / 10: 2709.03 ms\n",
      "2 / 10: 2605.41 ms\n",
      "3 / 10: 2577.88 ms\n",
      "4 / 10: 2509.49 ms\n",
      "5 / 10: 2598.70 ms\n",
      "6 / 10: 2541.55 ms\n",
      "7 / 10: 2522.13 ms\n",
      "8 / 10: 2461.28 ms\n",
      "9 / 10: 2602.33 ms\n",
      "average latency: 2579.98 ms\n",
      "stddev latency 74.92 ms\n",
      "\n"
     ]
    }
   ],
   "source": [
    "from utils.constants import Extension, Metric, DEFAULT_INDEX_PARAMS\n",
    "from scripts.run_experiment import generate_extension_results\n",
    "generate_extension_results(Extension.PGVECTOR_IVFFLAT, DEFAULT_INDEX_PARAMS[Extension.PGVECTOR_IVFFLAT], Metric.CREATE_LATENCY)"
   ]
  },
  {
   "cell_type": "code",
   "execution_count": 2,
   "id": "15df6c7e-00e8-4387-8082-ddb4973f9f77",
   "metadata": {},
   "outputs": [
    {
     "name": "stdout",
     "output_type": "stream",
     "text": [
      "pgvector_hnsw sift 10k\n",
      "pgvector_hnsw sift 100k\n",
      "\n",
      "extension: pgvector_hnsw, index params: {'m': 4, 'ef_construction': 128, 'ef': 10}, dataset: sift, N: 10k\n",
      "0 / 10: 3137.02 ms\n",
      "1 / 10: 3123.41 ms\n",
      "2 / 10: 3075.64 ms\n",
      "3 / 10: 3163.54 ms\n",
      "4 / 10: 3027.08 ms\n",
      "5 / 10: 3184.86 ms\n",
      "6 / 10: 3060.12 ms\n",
      "7 / 10: 3255.15 ms\n",
      "8 / 10: 3247.87 ms\n",
      "9 / 10: 3133.51 ms\n",
      "average latency: 3140.82 ms\n",
      "stddev latency 75.32 ms\n",
      "\n",
      "extension: pgvector_hnsw, index params: {'m': 4, 'ef_construction': 128, 'ef': 10}, dataset: sift, N: 100k\n",
      "0 / 10: 58878.07 ms\n",
      "1 / 10: 58657.75 ms\n",
      "2 / 10: 58081.74 ms\n",
      "3 / 10: 58415.85 ms\n",
      "4 / 10: 57390.87 ms\n",
      "5 / 10: 75757.60 ms\n",
      "6 / 10: 57971.18 ms\n",
      "7 / 10: 57792.17 ms\n",
      "8 / 10: 59050.10 ms\n",
      "9 / 10: 58132.37 ms\n",
      "average latency: 60012.77 ms\n",
      "stddev latency 5555.16 ms\n",
      "\n"
     ]
    }
   ],
   "source": [
    "from utils.constants import Extension, Metric, DEFAULT_INDEX_PARAMS\n",
    "from scripts.run_experiment import generate_extension_results\n",
    "generate_extension_results(Extension.PGVECTOR_HNSW, DEFAULT_INDEX_PARAMS[Extension.PGVECTOR_HNSW], Metric.CREATE_LATENCY)"
   ]
  },
  {
   "cell_type": "code",
   "execution_count": null,
   "id": "291d4c6e-4ab6-48be-a728-7df530539e2c",
   "metadata": {},
   "outputs": [
    {
     "name": "stdout",
     "output_type": "stream",
     "text": [
      "neon sift 10k\n",
      "neon sift 100k\n",
      "\n",
      "extension: neon, index params: {'m': 4, 'ef_construction': 128, 'ef': 10}, dataset: sift, N: 10k\n",
      "0 / 10: 3390.70 ms\n",
      "1 / 10: 3418.21 ms\n",
      "2 / 10: 3419.41 ms\n",
      "3 / 10: 3286.61 ms\n",
      "4 / 10: 3377.92 ms\n",
      "5 / 10: 3374.09 ms\n",
      "6 / 10: 3374.48 ms\n",
      "7 / 10: 3334.16 ms\n",
      "8 / 10: 3388.30 ms\n",
      "9 / 10: 3372.78 ms\n",
      "average latency: 3373.66 ms\n",
      "stddev latency 39.07 ms\n",
      "\n",
      "extension: neon, index params: {'m': 4, 'ef_construction': 128, 'ef': 10}, dataset: sift, N: 100k\n",
      "0 / 10: 63950.48 ms\n",
      "1 / 10: 63157.63 ms\n",
      "2 / 10: 62528.08 ms\n",
      "3 / 10: 61946.02 ms\n",
      "4 / 10: 63525.97 ms\n",
      "5 / 10: 64004.32 ms\n",
      "6 / 10: 63302.83 ms\n",
      "7 / 10: 64958.96 ms\n"
     ]
    }
   ],
   "source": [
    "from utils.constants import Extension, Metric, DEFAULT_INDEX_PARAMS\n",
    "from scripts.run_experiment import generate_extension_results\n",
    "generate_extension_results(Extension.NEON, DEFAULT_INDEX_PARAMS[Extension.NEON], Metric.CREATE_LATENCY)"
   ]
  },
  {
   "cell_type": "code",
   "execution_count": null,
   "id": "aecb4475-db6a-4e24-af41-cc40da2f37cc",
   "metadata": {
    "scrolled": true
   },
   "outputs": [],
   "source": [
    "from utils.constants import Extension, Metric, DEFAULT_INDEX_PARAMS\n",
    "from scripts.run_experiment import generate_extension_results\n",
    "generate_extension_results(Extension.LANTERN, DEFAULT_INDEX_PARAMS[Extension.LANTERN], Metric.CREATE_LATENCY)"
   ]
  },
  {
   "cell_type": "markdown",
   "id": "f474894f-41bd-42f8-b2cf-3e60b4ecd75b",
   "metadata": {},
   "source": [
    "# Print data"
   ]
  },
  {
   "cell_type": "code",
   "execution_count": null,
   "id": "6fd1773e-7b24-49e6-8165-aee61b1bf9ed",
   "metadata": {
    "scrolled": true
   },
   "outputs": [],
   "source": [
    "from utils.constants import Dataset\n",
    "from scripts.create_experiment import print_results\n",
    "print_results(Dataset.SIFT)"
   ]
  },
  {
   "cell_type": "markdown",
   "id": "4d109a7e-ee2c-45a3-a4b5-4fe3daba78ef",
   "metadata": {},
   "source": [
    "# Plot data"
   ]
  },
  {
   "cell_type": "code",
   "execution_count": null,
   "id": "88c7d489-a825-4a7e-9dc1-6d786d009088",
   "metadata": {},
   "outputs": [],
   "source": [
    "from utils.constants import Dataset\n",
    "from scripts.create_experiment import plot_results\n",
    "plot_results(Dataset.SIFT)"
   ]
  }
 ],
 "metadata": {
  "kernelspec": {
   "display_name": "Python 3 (ipykernel)",
   "language": "python",
   "name": "python3"
  },
  "language_info": {
   "codemirror_mode": {
    "name": "ipython",
    "version": 3
   },
   "file_extension": ".py",
   "mimetype": "text/x-python",
   "name": "python",
   "nbconvert_exporter": "python",
   "pygments_lexer": "ipython3",
   "version": "3.11.2"
  }
 },
 "nbformat": 4,
 "nbformat_minor": 5
}
