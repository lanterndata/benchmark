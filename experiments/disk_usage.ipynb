{
 "cells": [
  {
   "attachments": {},
   "cell_type": "markdown",
   "id": "c2f2b650-4d95-48bf-b4cd-29adf9157197",
   "metadata": {},
   "source": [
    "# Generate data"
   ]
  },
  {
   "cell_type": "code",
   "execution_count": null,
   "id": "08caf3a8-83ba-4088-876f-626d1c80bbc3",
   "metadata": {},
   "outputs": [
    {
     "name": "stdout",
     "output_type": "stream",
     "text": [
      "Missing parameter sets\n",
      "('pgvector', 'gist', '600k')\n",
      "('pgvector', 'gist', '800k')\n",
      "('pgvector', 'gist', '1m')\n",
      "('lantern', 'sift', '10k')\n",
      "('lantern', 'sift', '100k')\n",
      "('lantern', 'sift', '200k')\n",
      "('lantern', 'sift', '400k')\n",
      "('lantern', 'sift', '600k')\n",
      "('lantern', 'sift', '800k')\n",
      "('lantern', 'sift', '1m')\n",
      "('lantern', 'gist', '100k')\n",
      "('lantern', 'gist', '200k')\n",
      "('lantern', 'gist', '400k')\n",
      "('lantern', 'gist', '600k')\n",
      "('lantern', 'gist', '800k')\n",
      "('lantern', 'gist', '1m')\n",
      "\n"
     ]
    }
   ],
   "source": [
    "from run_experiment import generate_missing_results\n",
    "generate_missing_results('disk usage (bytes)')"
   ]
  },
  {
   "attachments": {},
   "cell_type": "markdown",
   "id": "da308620-dfb7-4e37-82e0-cc619fc12b48",
   "metadata": {},
   "source": [
    "# Plot data"
   ]
  },
  {
   "cell_type": "code",
   "execution_count": 1,
   "id": "2c59883c-d7da-4228-b9e7-ebe751c9ef55",
   "metadata": {},
   "outputs": [
    {
     "ename": "TypeError",
     "evalue": "plot_results() takes 1 positional argument but 2 were given",
     "output_type": "error",
     "traceback": [
      "\u001b[0;31m---------------------------------------------------------------------------\u001b[0m",
      "\u001b[0;31mTypeError\u001b[0m                                 Traceback (most recent call last)",
      "Cell \u001b[0;32mIn[1], line 2\u001b[0m\n\u001b[1;32m      1\u001b[0m \u001b[38;5;28;01mfrom\u001b[39;00m \u001b[38;5;21;01mdisk_usage_experiment\u001b[39;00m \u001b[38;5;28;01mimport\u001b[39;00m plot_results\n\u001b[0;32m----> 2\u001b[0m \u001b[43mplot_results\u001b[49m\u001b[43m(\u001b[49m\u001b[38;5;124;43m'\u001b[39;49m\u001b[38;5;124;43mpgvector\u001b[39;49m\u001b[38;5;124;43m'\u001b[39;49m\u001b[43m,\u001b[49m\u001b[43m \u001b[49m\u001b[38;5;124;43m'\u001b[39;49m\u001b[38;5;124;43msift\u001b[39;49m\u001b[38;5;124;43m'\u001b[39;49m\u001b[43m)\u001b[49m\n",
      "\u001b[0;31mTypeError\u001b[0m: plot_results() takes 1 positional argument but 2 were given"
     ]
    }
   ],
   "source": [
    "from disk_usage_experiment import plot_results\n",
    "plot_results('sift')"
   ]
  }
 ],
 "metadata": {
  "kernelspec": {
   "display_name": "Python 3 (ipykernel)",
   "language": "python",
   "name": "python3"
  },
  "language_info": {
   "codemirror_mode": {
    "name": "ipython",
    "version": 3
   },
   "file_extension": ".py",
   "mimetype": "text/x-python",
   "name": "python",
   "nbconvert_exporter": "python",
   "pygments_lexer": "ipython3",
   "version": "3.11.2"
  }
 },
 "nbformat": 4,
 "nbformat_minor": 5
}
