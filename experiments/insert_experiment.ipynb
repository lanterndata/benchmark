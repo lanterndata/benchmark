{
 "cells": [
  {
   "cell_type": "code",
   "execution_count": 1,
   "id": "fe149d8f-1e4a-4145-b608-5f8b8bc875d5",
   "metadata": {
    "scrolled": true
   },
   "outputs": [
    {
     "name": "stdout",
     "output_type": "stream",
     "text": [
      "extension: pgvector, index params: {'lists': 200, 'probes': 4}, dataset: sift\n",
      "N              TPS            latency (ms)   \n",
      "---------------------------------------------\n",
      "10000 - 10999   487.05         2.05           \n",
      "11000 - 11999   501.27         2.00           \n",
      "12000 - 12999   509.49         1.96           \n",
      "13000 - 13999   529.25         1.89           \n",
      "14000 - 14999   518.68         1.93           \n",
      "15000 - 15999   526.38         1.90           \n",
      "16000 - 16999   525.50         1.90           \n",
      "17000 - 17999   521.83         1.92           \n",
      "18000 - 18999   541.96         1.84           \n",
      "19000 - 19999   546.26         1.83           \n",
      "20000 - 20999   528.92         1.89           \n",
      "\n"
     ]
    }
   ],
   "source": [
    "from scripts.insert_experiment import generate_result\n",
    "from utils.constants import Extension, Dataset\n",
    "index_params = { 'lists': 200, 'probes': 4 }\n",
    "generate_result(Extension.PGVECTOR, Dataset.SIFT, index_params=index_params)"
   ]
  },
  {
   "cell_type": "code",
   "execution_count": 1,
   "id": "4a53a567-8ac1-4b8c-9a8d-c7cc140addac",
   "metadata": {},
   "outputs": [
    {
     "name": "stdout",
     "output_type": "stream",
     "text": [
      "extension: lantern, index params: {'M': 4, 'ef_construction': 16, 'ef': 10}, dataset: sift\n",
      "N              TPS            latency (ms)   \n",
      "---------------------------------------------\n",
      "10000 - 10999   369.40         2.71           \n",
      "11000 - 11999   401.40         2.49           \n",
      "12000 - 12999   413.20         2.42           \n",
      "13000 - 13999   448.01         2.23           \n",
      "14000 - 14999   498.05         2.01           \n",
      "15000 - 15999   509.19         1.96           \n",
      "16000 - 16999   514.54         1.94           \n",
      "17000 - 17999   534.36         1.87           \n",
      "18000 - 18999   535.64         1.87           \n",
      "19000 - 19999   536.02         1.87           \n",
      "20000 - 20999   548.80         1.82           \n",
      "\n"
     ]
    }
   ],
   "source": [
    "from scripts.insert_experiment import generate_result\n",
    "from utils.constants import Extension, Dataset\n",
    "index_params = { 'M': 4, 'ef_construction': 16, 'ef': 10 }\n",
    "generate_result(Extension.LANTERN, Dataset.SIFT, index_params=index_params)"
   ]
  },
  {
   "cell_type": "code",
   "execution_count": 2,
   "id": "1359ba16-9efb-47c0-9d08-7bb844f94500",
   "metadata": {},
   "outputs": [
    {
     "name": "stdout",
     "output_type": "stream",
     "text": [
      "extension: neon, index params: {'M': 4, 'ef_construction': 16, 'ef': 10}, dataset: sift\n",
      "N              TPS            latency (ms)   \n",
      "---------------------------------------------\n",
      "10000 - 10999   385.37         2.60           \n",
      "11000 - 11999   409.66         2.44           \n",
      "12000 - 12999   468.43         2.13           \n",
      "13000 - 13999   499.28         2.00           \n",
      "14000 - 14999   475.51         2.10           \n",
      "15000 - 15999   519.99         1.92           \n",
      "16000 - 16999   513.39         1.95           \n",
      "17000 - 17999   499.52         2.00           \n",
      "18000 - 18999   475.27         2.10           \n",
      "19000 - 19999   492.46         2.03           \n",
      "20000 - 20999   506.94         1.97           \n",
      "\n"
     ]
    }
   ],
   "source": [
    "from scripts.insert_experiment import generate_result\n",
    "from utils.constants import Extension, Dataset\n",
    "index_params = { 'M': 4, 'ef_construction': 16, 'ef': 10 }\n",
    "generate_result(Extension.NEON, Dataset.SIFT, index_params=index_params)"
   ]
  },
  {
   "cell_type": "code",
   "execution_count": 1,
   "id": "5255c541-4d54-4206-8428-a9729981b73c",
   "metadata": {
    "scrolled": true
   },
   "outputs": [
    {
     "name": "stdout",
     "output_type": "stream",
     "text": [
      "extension: pgvector, index params: {\"lists\": 200, \"probes\": 4}, dataset: sift\n",
      "N              TPS            latency (s)    \n",
      "---------------------------------------------\n",
      "10k            487.05         2.05           \n",
      "11k            501.27         2.00           \n",
      "12k            509.49         1.96           \n",
      "13k            529.25         1.89           \n",
      "14k            518.68         1.93           \n",
      "15k            526.38         1.90           \n",
      "16k            525.50         1.90           \n",
      "17k            521.83         1.92           \n",
      "18k            541.96         1.84           \n",
      "19k            546.26         1.83           \n",
      "20k            528.92         1.89           \n",
      "\n",
      "\n",
      "\n",
      "extension: lantern, index params: {\"M\": 4, \"ef_construction\": 16, \"ef\": 10}, dataset: sift\n",
      "N              TPS            latency (s)    \n",
      "---------------------------------------------\n",
      "10k            369.40         2.71           \n",
      "11k            401.40         2.49           \n",
      "12k            413.20         2.42           \n",
      "13k            448.01         2.23           \n",
      "14k            498.05         2.01           \n",
      "15k            509.19         1.96           \n",
      "16k            514.54         1.94           \n",
      "17k            534.36         1.87           \n",
      "18k            535.64         1.87           \n",
      "19k            536.02         1.87           \n",
      "20k            548.80         1.82           \n",
      "\n",
      "\n",
      "\n",
      "extension: neon, index params: {\"M\": 4, \"ef_construction\": 16, \"ef\": 10}, dataset: sift\n",
      "N              TPS            latency (s)    \n",
      "---------------------------------------------\n",
      "10k            385.37         2.60           \n",
      "11k            409.66         2.44           \n",
      "12k            468.43         2.13           \n",
      "13k            499.28         2.00           \n",
      "14k            475.51         2.10           \n",
      "15k            519.99         1.92           \n",
      "16k            513.39         1.95           \n",
      "17k            499.52         2.00           \n",
      "18k            475.27         2.10           \n",
      "19k            492.46         2.03           \n",
      "20k            506.94         1.97           \n",
      "\n",
      "\n",
      "\n"
     ]
    }
   ],
   "source": [
    "from utils.constants import Dataset\n",
    "from scripts.insert_experiment import print_results\n",
    "\n",
    "print_results(Dataset.SIFT)"
   ]
  },
  {
   "cell_type": "code",
   "execution_count": null,
   "id": "e7cab9ed-3c16-42d6-a088-f7fb0620b092",
   "metadata": {},
   "outputs": [],
   "source": [
    "from utils.constants import Dataset\n",
    "from scripts.insert_experiment import plot_results\n",
    "\n",
    "plot_results(Dataset.SIFT)"
   ]
  },
  {
   "cell_type": "code",
   "execution_count": null,
   "id": "c3cc787e-ff6a-4112-9f9e-cda6e7f533e7",
   "metadata": {},
   "outputs": [],
   "source": []
  }
 ],
 "metadata": {
  "kernelspec": {
   "display_name": "Python 3 (ipykernel)",
   "language": "python",
   "name": "python3"
  },
  "language_info": {
   "codemirror_mode": {
    "name": "ipython",
    "version": 3
   },
   "file_extension": ".py",
   "mimetype": "text/x-python",
   "name": "python",
   "nbconvert_exporter": "python",
   "pygments_lexer": "ipython3",
   "version": "3.11.2"
  }
 },
 "nbformat": 4,
 "nbformat_minor": 5
}
