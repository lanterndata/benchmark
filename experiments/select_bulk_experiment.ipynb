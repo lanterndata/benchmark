{
 "cells": [
  {
   "cell_type": "markdown",
   "id": "31b8d5d9-e0b1-4ada-9cf4-8be01410e8a0",
   "metadata": {},
   "source": [
    "# Generate data"
   ]
  },
  {
   "cell_type": "code",
   "execution_count": 1,
   "id": "6d8163fb-9f5f-4301-8541-528fa22f91ee",
   "metadata": {
    "scrolled": true
   },
   "outputs": [
    {
     "name": "stdout",
     "output_type": "stream",
     "text": [
      "dataset = sift, extension = pgvector, N = 10k, index_params = {'lists': 60, 'probes': 1}\n",
      "K          TPS        Latency (ms)    Recall\n",
      "------------------------------------------------\n",
      "5          52.66      151.93          0.57\n",
      "\n",
      "dataset = sift, extension = pgvector, N = 10k, index_params = {'lists': 60, 'probes': 2}\n",
      "K          TPS        Latency (ms)    Recall\n",
      "------------------------------------------------\n",
      "5          51.09      156.59          0.62\n",
      "\n",
      "dataset = sift, extension = pgvector, N = 10k, index_params = {'lists': 60, 'probes': 4}\n",
      "K          TPS        Latency (ms)    Recall\n",
      "------------------------------------------------\n",
      "5          52.36      152.80          0.60\n",
      "\n",
      "dataset = sift, extension = pgvector, N = 10k, index_params = {'lists': 60, 'probes': 8}\n",
      "K          TPS        Latency (ms)    Recall\n",
      "------------------------------------------------\n",
      "5          54.48      146.85          0.63\n",
      "\n",
      "dataset = sift, extension = pgvector, N = 10k, index_params = {'lists': 60, 'probes': 16}\n",
      "K          TPS        Latency (ms)    Recall\n",
      "------------------------------------------------\n",
      "5          54.84      145.87          0.60\n",
      "\n",
      "dataset = sift, extension = pgvector, N = 10k, index_params = {'lists': 60, 'probes': 32}\n",
      "K          TPS        Latency (ms)    Recall\n",
      "------------------------------------------------\n",
      "5          52.46      152.49          0.61\n",
      "\n",
      "dataset = sift, extension = pgvector, N = 10k, index_params = {'lists': 80, 'probes': 1}\n",
      "K          TPS        Latency (ms)    Recall\n",
      "------------------------------------------------\n",
      "5          61.36      130.38          0.63\n",
      "\n",
      "dataset = sift, extension = pgvector, N = 10k, index_params = {'lists': 80, 'probes': 2}\n",
      "K          TPS        Latency (ms)    Recall\n",
      "------------------------------------------------\n",
      "5          62.56      127.87          0.54\n",
      "\n",
      "dataset = sift, extension = pgvector, N = 10k, index_params = {'lists': 80, 'probes': 4}\n",
      "K          TPS        Latency (ms)    Recall\n",
      "------------------------------------------------\n",
      "5          59.77      133.84          0.62\n",
      "\n",
      "dataset = sift, extension = pgvector, N = 10k, index_params = {'lists': 80, 'probes': 8}\n",
      "K          TPS        Latency (ms)    Recall\n",
      "------------------------------------------------\n",
      "5          59.77      133.85          0.63\n",
      "\n",
      "dataset = sift, extension = pgvector, N = 10k, index_params = {'lists': 80, 'probes': 16}\n",
      "K          TPS        Latency (ms)    Recall\n",
      "------------------------------------------------\n",
      "5          60.95      131.25          0.60\n",
      "\n",
      "dataset = sift, extension = pgvector, N = 10k, index_params = {'lists': 80, 'probes': 32}\n",
      "K          TPS        Latency (ms)    Recall\n",
      "------------------------------------------------\n",
      "5          61.38      130.33          0.62\n",
      "\n",
      "dataset = sift, extension = pgvector, N = 10k, index_params = {'lists': 100, 'probes': 1}\n",
      "K          TPS        Latency (ms)    Recall\n",
      "------------------------------------------------\n",
      "5          74.50      107.38          0.59\n",
      "\n",
      "dataset = sift, extension = pgvector, N = 10k, index_params = {'lists': 100, 'probes': 2}\n",
      "K          TPS        Latency (ms)    Recall\n",
      "------------------------------------------------\n",
      "5          75.07      106.57          0.59\n",
      "\n",
      "dataset = sift, extension = pgvector, N = 10k, index_params = {'lists': 100, 'probes': 4}\n",
      "K          TPS        Latency (ms)    Recall\n",
      "------------------------------------------------\n",
      "5          74.26      107.73          0.60\n",
      "\n",
      "dataset = sift, extension = pgvector, N = 10k, index_params = {'lists': 100, 'probes': 8}\n",
      "K          TPS        Latency (ms)    Recall\n",
      "------------------------------------------------\n",
      "5          75.57      105.86          0.56\n",
      "\n",
      "dataset = sift, extension = pgvector, N = 10k, index_params = {'lists': 100, 'probes': 16}\n",
      "K          TPS        Latency (ms)    Recall\n",
      "------------------------------------------------\n",
      "5          65.41      122.31          0.58\n",
      "\n",
      "dataset = sift, extension = pgvector, N = 10k, index_params = {'lists': 100, 'probes': 32}\n",
      "K          TPS        Latency (ms)    Recall\n",
      "------------------------------------------------\n",
      "5          71.97      111.16          0.60\n",
      "\n",
      "dataset = sift, extension = pgvector, N = 10k, index_params = {'lists': 120, 'probes': 1}\n",
      "K          TPS        Latency (ms)    Recall\n",
      "------------------------------------------------\n",
      "5          79.30      100.89          0.55\n",
      "\n",
      "dataset = sift, extension = pgvector, N = 10k, index_params = {'lists': 120, 'probes': 2}\n",
      "K          TPS        Latency (ms)    Recall\n",
      "------------------------------------------------\n",
      "5          82.75      96.68           0.56\n",
      "\n",
      "dataset = sift, extension = pgvector, N = 10k, index_params = {'lists': 120, 'probes': 4}\n",
      "K          TPS        Latency (ms)    Recall\n",
      "------------------------------------------------\n",
      "5          78.93      101.36          0.60\n",
      "\n",
      "dataset = sift, extension = pgvector, N = 10k, index_params = {'lists': 120, 'probes': 8}\n",
      "K          TPS        Latency (ms)    Recall\n",
      "------------------------------------------------\n",
      "5          80.81      99.00           0.56\n",
      "\n",
      "dataset = sift, extension = pgvector, N = 10k, index_params = {'lists': 120, 'probes': 16}\n",
      "K          TPS        Latency (ms)    Recall\n",
      "------------------------------------------------\n",
      "5          83.09      96.28           0.59\n",
      "\n",
      "dataset = sift, extension = pgvector, N = 10k, index_params = {'lists': 120, 'probes': 32}\n",
      "K          TPS        Latency (ms)    Recall\n",
      "------------------------------------------------\n",
      "5          78.88      101.42          0.59\n",
      "\n",
      "dataset = sift, extension = pgvector, N = 10k, index_params = {'lists': 140, 'probes': 1}\n",
      "K          TPS        Latency (ms)    Recall\n",
      "------------------------------------------------\n",
      "5          84.76      94.38           0.57\n",
      "\n",
      "dataset = sift, extension = pgvector, N = 10k, index_params = {'lists': 140, 'probes': 2}\n",
      "K          TPS        Latency (ms)    Recall\n",
      "------------------------------------------------\n",
      "5          84.40      94.78           0.53\n",
      "\n",
      "dataset = sift, extension = pgvector, N = 10k, index_params = {'lists': 140, 'probes': 4}\n",
      "K          TPS        Latency (ms)    Recall\n",
      "------------------------------------------------\n",
      "5          88.62      90.27           0.58\n",
      "\n",
      "dataset = sift, extension = pgvector, N = 10k, index_params = {'lists': 140, 'probes': 8}\n",
      "K          TPS        Latency (ms)    Recall\n",
      "------------------------------------------------\n",
      "5          87.86      91.06           0.59\n",
      "\n",
      "dataset = sift, extension = pgvector, N = 10k, index_params = {'lists': 140, 'probes': 16}\n",
      "K          TPS        Latency (ms)    Recall\n",
      "------------------------------------------------\n",
      "5          91.15      87.77           0.54\n",
      "\n",
      "dataset = sift, extension = pgvector, N = 10k, index_params = {'lists': 140, 'probes': 32}\n",
      "K          TPS        Latency (ms)    Recall\n",
      "------------------------------------------------\n",
      "5          86.63      92.35           0.51\n",
      "\n"
     ]
    }
   ],
   "source": [
    "from select_bulk_experiment import run_hyperparameter_search\n",
    "run_hyperparameter_search('pgvector', 'sift', '10k')"
   ]
  },
  {
   "cell_type": "code",
   "execution_count": null,
   "id": "ae53bac3-febb-4ae0-9bef-90d4d44e911a",
   "metadata": {
    "scrolled": true
   },
   "outputs": [],
   "source": []
  },
  {
   "cell_type": "code",
   "execution_count": 1,
   "id": "8a20ce73-705d-4e51-86a3-50ae7d4392c6",
   "metadata": {
    "scrolled": true
   },
   "outputs": [
    {
     "name": "stdout",
     "output_type": "stream",
     "text": [
      "dataset = sift, extension = lantern, N = 10k, index_params = {'M': 2, 'ef_construction': 16, 'ef': 10}\n",
      "K          TPS        Latency (ms)    Recall\n",
      "------------------------------------------------\n",
      "5          105.50     75.83           0.62\n",
      "\n",
      "dataset = sift, extension = lantern, N = 10k, index_params = {'M': 4, 'ef_construction': 16, 'ef': 10}\n",
      "K          TPS        Latency (ms)    Recall\n",
      "------------------------------------------------\n",
      "5          76.92      104.00          0.97\n",
      "\n",
      "dataset = sift, extension = lantern, N = 10k, index_params = {'M': 6, 'ef_construction': 16, 'ef': 10}\n",
      "K          TPS        Latency (ms)    Recall\n",
      "------------------------------------------------\n",
      "5          63.10      126.78          0.99\n",
      "\n",
      "dataset = sift, extension = lantern, N = 10k, index_params = {'M': 8, 'ef_construction': 16, 'ef': 10}\n",
      "K          TPS        Latency (ms)    Recall\n",
      "------------------------------------------------\n",
      "5          54.79      146.01          1.00\n",
      "\n",
      "dataset = sift, extension = lantern, N = 10k, index_params = {'M': 12, 'ef_construction': 16, 'ef': 10}\n",
      "K          TPS        Latency (ms)    Recall\n",
      "------------------------------------------------\n",
      "5          46.76      171.10          1.00\n",
      "\n",
      "dataset = sift, extension = lantern, N = 10k, index_params = {'M': 16, 'ef_construction': 16, 'ef': 10}\n",
      "K          TPS        Latency (ms)    Recall\n",
      "------------------------------------------------\n",
      "5          42.74      187.18          1.00\n",
      "\n",
      "dataset = sift, extension = lantern, N = 10k, index_params = {'M': 24, 'ef_construction': 16, 'ef': 10}\n",
      "K          TPS        Latency (ms)    Recall\n",
      "------------------------------------------------\n",
      "5          38.71      206.67          1.00\n",
      "\n",
      "dataset = sift, extension = lantern, N = 10k, index_params = {'M': 32, 'ef_construction': 16, 'ef': 10}\n",
      "K          TPS        Latency (ms)    Recall\n",
      "------------------------------------------------\n",
      "5          39.19      204.16          1.00\n",
      "\n",
      "dataset = sift, extension = lantern, N = 10k, index_params = {'M': 48, 'ef_construction': 16, 'ef': 10}\n",
      "K          TPS        Latency (ms)    Recall\n",
      "------------------------------------------------\n",
      "5          38.73      206.54          1.00\n",
      "\n",
      "dataset = sift, extension = lantern, N = 10k, index_params = {'M': 64, 'ef_construction': 16, 'ef': 10}\n",
      "K          TPS        Latency (ms)    Recall\n",
      "------------------------------------------------\n",
      "5          38.87      205.83          1.00\n",
      "\n"
     ]
    }
   ],
   "source": [
    "from select_bulk_experiment import run_hyperparameter_search\n",
    "run_hyperparameter_search('lantern', 'sift', '10k')"
   ]
  },
  {
   "cell_type": "markdown",
   "id": "607277f8-7a8d-4a0b-9803-a51ebd185bac",
   "metadata": {},
   "source": [
    "# Plot data"
   ]
  },
  {
   "cell_type": "code",
   "execution_count": 3,
   "id": "3f016bb2-f754-48f9-8f7c-72408cbdc254",
   "metadata": {},
   "outputs": [
    {
     "data": {
      "application/vnd.plotly.v1+json": {
       "config": {
        "plotlyServerURL": "https://plot.ly"
       },
       "data": [
        {
         "hoverinfo": "x+y+text",
         "hovertext": [
          "{\"lists\": 80, \"probes\": 16}",
          "{\"lists\": 60, \"probes\": 4}",
          "{\"lists\": 100, \"probes\": 32}",
          "{\"lists\": 120, \"probes\": 4}",
          "{\"lists\": 140, \"probes\": 16}",
          "{\"lists\": 120, \"probes\": 8}",
          "{\"lists\": 100, \"probes\": 8}",
          "{\"lists\": 140, \"probes\": 8}",
          "{\"lists\": 120, \"probes\": 2}",
          "{\"lists\": 140, \"probes\": 32}",
          "{\"lists\": 120, \"probes\": 16}",
          "{\"lists\": 80, \"probes\": 8}",
          "{\"lists\": 60, \"probes\": 2}",
          "{\"lists\": 60, \"probes\": 16}",
          "{\"lists\": 120, \"probes\": 32}",
          "{\"lists\": 60, \"probes\": 1}",
          "{\"lists\": 60, \"probes\": 8}",
          "{\"lists\": 60, \"probes\": 32}",
          "{\"lists\": 100, \"probes\": 2}",
          "{\"lists\": 140, \"probes\": 2}",
          "{\"lists\": 80, \"probes\": 32}",
          "{\"lists\": 140, \"probes\": 4}",
          "{\"lists\": 120, \"probes\": 1}",
          "{\"lists\": 100, \"probes\": 1}",
          "{\"lists\": 100, \"probes\": 4}",
          "{\"lists\": 140, \"probes\": 1}",
          "{\"lists\": 80, \"probes\": 1}",
          "{\"lists\": 80, \"probes\": 4}",
          "{\"lists\": 100, \"probes\": 16}",
          "{\"lists\": 80, \"probes\": 2}"
         ],
         "marker": {
          "color": "blue",
          "opacity": 0.8,
          "size": 8
         },
         "mode": "markers",
         "name": "pgvector",
         "type": "scatter",
         "x": [
          0.6,
          0.602,
          0.6,
          0.602,
          0.536,
          0.5559999999999999,
          0.558,
          0.588,
          0.5559999999999999,
          0.508,
          0.5900000000000001,
          0.63,
          0.616,
          0.6,
          0.5900000000000001,
          0.5700000000000001,
          0.628,
          0.606,
          0.5940000000000001,
          0.532,
          0.616,
          0.576,
          0.554,
          0.5860000000000001,
          0.596,
          0.5740000000000001,
          0.63,
          0.622,
          0.584,
          0.542
         ],
         "y": [
          131.245,
          152.798,
          111.164,
          101.361,
          87.765,
          98.997,
          105.865,
          91.056,
          96.678,
          92.35,
          96.282,
          133.848,
          156.59,
          145.869,
          101.415,
          151.925,
          146.847,
          152.485,
          106.571,
          94.783,
          130.332,
          90.27,
          100.888,
          107.377,
          107.729,
          94.383,
          130.375,
          133.838,
          122.314,
          127.873
         ]
        },
        {
         "hoverinfo": "x+y+text",
         "hovertext": [
          "{\"M\": 12, \"ef_construction\": 16, \"ef\": 10}",
          "{\"M\": 16, \"ef_construction\": 16, \"ef\": 10}",
          "{\"M\": 24, \"ef_construction\": 16, \"ef\": 10}",
          "{\"M\": 2, \"ef_construction\": 16, \"ef\": 10}",
          "{\"M\": 32, \"ef_construction\": 16, \"ef\": 10}",
          "{\"M\": 3, \"ef_construction\": 16, \"ef\": 10}",
          "{\"M\": 48, \"ef_construction\": 16, \"ef\": 10}",
          "{\"M\": 4, \"ef_construction\": 16, \"ef\": 10}",
          "{\"M\": 64, \"ef_construction\": 16, \"ef\": 10}",
          "{\"M\": 6, \"ef_construction\": 16, \"ef\": 10}",
          "{\"M\": 8, \"ef_construction\": 16, \"ef\": 10}"
         ],
         "marker": {
          "color": "red",
          "opacity": 0.8,
          "size": 8
         },
         "mode": "markers",
         "name": "lantern",
         "type": "scatter",
         "x": [
          1,
          0.998,
          0.998,
          0.624,
          0.998,
          0.9119999999999999,
          0.998,
          0.968,
          0.998,
          0.992,
          0.9960000000000001
         ],
         "y": [
          171.102,
          187.176,
          206.667,
          75.828,
          204.156,
          null,
          206.536,
          104.003,
          205.831,
          126.776,
          146.008
         ]
        }
       ],
       "layout": {
        "autosize": true,
        "hovermode": "closest",
        "margin": {
         "b": 50,
         "l": 50,
         "r": 50,
         "t": 50
        },
        "template": {
         "data": {
          "bar": [
           {
            "error_x": {
             "color": "#2a3f5f"
            },
            "error_y": {
             "color": "#2a3f5f"
            },
            "marker": {
             "line": {
              "color": "#E5ECF6",
              "width": 0.5
             },
             "pattern": {
              "fillmode": "overlay",
              "size": 10,
              "solidity": 0.2
             }
            },
            "type": "bar"
           }
          ],
          "barpolar": [
           {
            "marker": {
             "line": {
              "color": "#E5ECF6",
              "width": 0.5
             },
             "pattern": {
              "fillmode": "overlay",
              "size": 10,
              "solidity": 0.2
             }
            },
            "type": "barpolar"
           }
          ],
          "carpet": [
           {
            "aaxis": {
             "endlinecolor": "#2a3f5f",
             "gridcolor": "white",
             "linecolor": "white",
             "minorgridcolor": "white",
             "startlinecolor": "#2a3f5f"
            },
            "baxis": {
             "endlinecolor": "#2a3f5f",
             "gridcolor": "white",
             "linecolor": "white",
             "minorgridcolor": "white",
             "startlinecolor": "#2a3f5f"
            },
            "type": "carpet"
           }
          ],
          "choropleth": [
           {
            "colorbar": {
             "outlinewidth": 0,
             "ticks": ""
            },
            "type": "choropleth"
           }
          ],
          "contour": [
           {
            "colorbar": {
             "outlinewidth": 0,
             "ticks": ""
            },
            "colorscale": [
             [
              0,
              "#0d0887"
             ],
             [
              0.1111111111111111,
              "#46039f"
             ],
             [
              0.2222222222222222,
              "#7201a8"
             ],
             [
              0.3333333333333333,
              "#9c179e"
             ],
             [
              0.4444444444444444,
              "#bd3786"
             ],
             [
              0.5555555555555556,
              "#d8576b"
             ],
             [
              0.6666666666666666,
              "#ed7953"
             ],
             [
              0.7777777777777778,
              "#fb9f3a"
             ],
             [
              0.8888888888888888,
              "#fdca26"
             ],
             [
              1,
              "#f0f921"
             ]
            ],
            "type": "contour"
           }
          ],
          "contourcarpet": [
           {
            "colorbar": {
             "outlinewidth": 0,
             "ticks": ""
            },
            "type": "contourcarpet"
           }
          ],
          "heatmap": [
           {
            "colorbar": {
             "outlinewidth": 0,
             "ticks": ""
            },
            "colorscale": [
             [
              0,
              "#0d0887"
             ],
             [
              0.1111111111111111,
              "#46039f"
             ],
             [
              0.2222222222222222,
              "#7201a8"
             ],
             [
              0.3333333333333333,
              "#9c179e"
             ],
             [
              0.4444444444444444,
              "#bd3786"
             ],
             [
              0.5555555555555556,
              "#d8576b"
             ],
             [
              0.6666666666666666,
              "#ed7953"
             ],
             [
              0.7777777777777778,
              "#fb9f3a"
             ],
             [
              0.8888888888888888,
              "#fdca26"
             ],
             [
              1,
              "#f0f921"
             ]
            ],
            "type": "heatmap"
           }
          ],
          "heatmapgl": [
           {
            "colorbar": {
             "outlinewidth": 0,
             "ticks": ""
            },
            "colorscale": [
             [
              0,
              "#0d0887"
             ],
             [
              0.1111111111111111,
              "#46039f"
             ],
             [
              0.2222222222222222,
              "#7201a8"
             ],
             [
              0.3333333333333333,
              "#9c179e"
             ],
             [
              0.4444444444444444,
              "#bd3786"
             ],
             [
              0.5555555555555556,
              "#d8576b"
             ],
             [
              0.6666666666666666,
              "#ed7953"
             ],
             [
              0.7777777777777778,
              "#fb9f3a"
             ],
             [
              0.8888888888888888,
              "#fdca26"
             ],
             [
              1,
              "#f0f921"
             ]
            ],
            "type": "heatmapgl"
           }
          ],
          "histogram": [
           {
            "marker": {
             "pattern": {
              "fillmode": "overlay",
              "size": 10,
              "solidity": 0.2
             }
            },
            "type": "histogram"
           }
          ],
          "histogram2d": [
           {
            "colorbar": {
             "outlinewidth": 0,
             "ticks": ""
            },
            "colorscale": [
             [
              0,
              "#0d0887"
             ],
             [
              0.1111111111111111,
              "#46039f"
             ],
             [
              0.2222222222222222,
              "#7201a8"
             ],
             [
              0.3333333333333333,
              "#9c179e"
             ],
             [
              0.4444444444444444,
              "#bd3786"
             ],
             [
              0.5555555555555556,
              "#d8576b"
             ],
             [
              0.6666666666666666,
              "#ed7953"
             ],
             [
              0.7777777777777778,
              "#fb9f3a"
             ],
             [
              0.8888888888888888,
              "#fdca26"
             ],
             [
              1,
              "#f0f921"
             ]
            ],
            "type": "histogram2d"
           }
          ],
          "histogram2dcontour": [
           {
            "colorbar": {
             "outlinewidth": 0,
             "ticks": ""
            },
            "colorscale": [
             [
              0,
              "#0d0887"
             ],
             [
              0.1111111111111111,
              "#46039f"
             ],
             [
              0.2222222222222222,
              "#7201a8"
             ],
             [
              0.3333333333333333,
              "#9c179e"
             ],
             [
              0.4444444444444444,
              "#bd3786"
             ],
             [
              0.5555555555555556,
              "#d8576b"
             ],
             [
              0.6666666666666666,
              "#ed7953"
             ],
             [
              0.7777777777777778,
              "#fb9f3a"
             ],
             [
              0.8888888888888888,
              "#fdca26"
             ],
             [
              1,
              "#f0f921"
             ]
            ],
            "type": "histogram2dcontour"
           }
          ],
          "mesh3d": [
           {
            "colorbar": {
             "outlinewidth": 0,
             "ticks": ""
            },
            "type": "mesh3d"
           }
          ],
          "parcoords": [
           {
            "line": {
             "colorbar": {
              "outlinewidth": 0,
              "ticks": ""
             }
            },
            "type": "parcoords"
           }
          ],
          "pie": [
           {
            "automargin": true,
            "type": "pie"
           }
          ],
          "scatter": [
           {
            "fillpattern": {
             "fillmode": "overlay",
             "size": 10,
             "solidity": 0.2
            },
            "type": "scatter"
           }
          ],
          "scatter3d": [
           {
            "line": {
             "colorbar": {
              "outlinewidth": 0,
              "ticks": ""
             }
            },
            "marker": {
             "colorbar": {
              "outlinewidth": 0,
              "ticks": ""
             }
            },
            "type": "scatter3d"
           }
          ],
          "scattercarpet": [
           {
            "marker": {
             "colorbar": {
              "outlinewidth": 0,
              "ticks": ""
             }
            },
            "type": "scattercarpet"
           }
          ],
          "scattergeo": [
           {
            "marker": {
             "colorbar": {
              "outlinewidth": 0,
              "ticks": ""
             }
            },
            "type": "scattergeo"
           }
          ],
          "scattergl": [
           {
            "marker": {
             "colorbar": {
              "outlinewidth": 0,
              "ticks": ""
             }
            },
            "type": "scattergl"
           }
          ],
          "scattermapbox": [
           {
            "marker": {
             "colorbar": {
              "outlinewidth": 0,
              "ticks": ""
             }
            },
            "type": "scattermapbox"
           }
          ],
          "scatterpolar": [
           {
            "marker": {
             "colorbar": {
              "outlinewidth": 0,
              "ticks": ""
             }
            },
            "type": "scatterpolar"
           }
          ],
          "scatterpolargl": [
           {
            "marker": {
             "colorbar": {
              "outlinewidth": 0,
              "ticks": ""
             }
            },
            "type": "scatterpolargl"
           }
          ],
          "scatterternary": [
           {
            "marker": {
             "colorbar": {
              "outlinewidth": 0,
              "ticks": ""
             }
            },
            "type": "scatterternary"
           }
          ],
          "surface": [
           {
            "colorbar": {
             "outlinewidth": 0,
             "ticks": ""
            },
            "colorscale": [
             [
              0,
              "#0d0887"
             ],
             [
              0.1111111111111111,
              "#46039f"
             ],
             [
              0.2222222222222222,
              "#7201a8"
             ],
             [
              0.3333333333333333,
              "#9c179e"
             ],
             [
              0.4444444444444444,
              "#bd3786"
             ],
             [
              0.5555555555555556,
              "#d8576b"
             ],
             [
              0.6666666666666666,
              "#ed7953"
             ],
             [
              0.7777777777777778,
              "#fb9f3a"
             ],
             [
              0.8888888888888888,
              "#fdca26"
             ],
             [
              1,
              "#f0f921"
             ]
            ],
            "type": "surface"
           }
          ],
          "table": [
           {
            "cells": {
             "fill": {
              "color": "#EBF0F8"
             },
             "line": {
              "color": "white"
             }
            },
            "header": {
             "fill": {
              "color": "#C8D4E3"
             },
             "line": {
              "color": "white"
             }
            },
            "type": "table"
           }
          ]
         },
         "layout": {
          "annotationdefaults": {
           "arrowcolor": "#2a3f5f",
           "arrowhead": 0,
           "arrowwidth": 1
          },
          "autotypenumbers": "strict",
          "coloraxis": {
           "colorbar": {
            "outlinewidth": 0,
            "ticks": ""
           }
          },
          "colorscale": {
           "diverging": [
            [
             0,
             "#8e0152"
            ],
            [
             0.1,
             "#c51b7d"
            ],
            [
             0.2,
             "#de77ae"
            ],
            [
             0.3,
             "#f1b6da"
            ],
            [
             0.4,
             "#fde0ef"
            ],
            [
             0.5,
             "#f7f7f7"
            ],
            [
             0.6,
             "#e6f5d0"
            ],
            [
             0.7,
             "#b8e186"
            ],
            [
             0.8,
             "#7fbc41"
            ],
            [
             0.9,
             "#4d9221"
            ],
            [
             1,
             "#276419"
            ]
           ],
           "sequential": [
            [
             0,
             "#0d0887"
            ],
            [
             0.1111111111111111,
             "#46039f"
            ],
            [
             0.2222222222222222,
             "#7201a8"
            ],
            [
             0.3333333333333333,
             "#9c179e"
            ],
            [
             0.4444444444444444,
             "#bd3786"
            ],
            [
             0.5555555555555556,
             "#d8576b"
            ],
            [
             0.6666666666666666,
             "#ed7953"
            ],
            [
             0.7777777777777778,
             "#fb9f3a"
            ],
            [
             0.8888888888888888,
             "#fdca26"
            ],
            [
             1,
             "#f0f921"
            ]
           ],
           "sequentialminus": [
            [
             0,
             "#0d0887"
            ],
            [
             0.1111111111111111,
             "#46039f"
            ],
            [
             0.2222222222222222,
             "#7201a8"
            ],
            [
             0.3333333333333333,
             "#9c179e"
            ],
            [
             0.4444444444444444,
             "#bd3786"
            ],
            [
             0.5555555555555556,
             "#d8576b"
            ],
            [
             0.6666666666666666,
             "#ed7953"
            ],
            [
             0.7777777777777778,
             "#fb9f3a"
            ],
            [
             0.8888888888888888,
             "#fdca26"
            ],
            [
             1,
             "#f0f921"
            ]
           ]
          },
          "colorway": [
           "#636efa",
           "#EF553B",
           "#00cc96",
           "#ab63fa",
           "#FFA15A",
           "#19d3f3",
           "#FF6692",
           "#B6E880",
           "#FF97FF",
           "#FECB52"
          ],
          "font": {
           "color": "#2a3f5f"
          },
          "geo": {
           "bgcolor": "white",
           "lakecolor": "white",
           "landcolor": "#E5ECF6",
           "showlakes": true,
           "showland": true,
           "subunitcolor": "white"
          },
          "hoverlabel": {
           "align": "left"
          },
          "hovermode": "closest",
          "mapbox": {
           "style": "light"
          },
          "paper_bgcolor": "white",
          "plot_bgcolor": "#E5ECF6",
          "polar": {
           "angularaxis": {
            "gridcolor": "white",
            "linecolor": "white",
            "ticks": ""
           },
           "bgcolor": "#E5ECF6",
           "radialaxis": {
            "gridcolor": "white",
            "linecolor": "white",
            "ticks": ""
           }
          },
          "scene": {
           "xaxis": {
            "backgroundcolor": "#E5ECF6",
            "gridcolor": "white",
            "gridwidth": 2,
            "linecolor": "white",
            "showbackground": true,
            "ticks": "",
            "zerolinecolor": "white"
           },
           "yaxis": {
            "backgroundcolor": "#E5ECF6",
            "gridcolor": "white",
            "gridwidth": 2,
            "linecolor": "white",
            "showbackground": true,
            "ticks": "",
            "zerolinecolor": "white"
           },
           "zaxis": {
            "backgroundcolor": "#E5ECF6",
            "gridcolor": "white",
            "gridwidth": 2,
            "linecolor": "white",
            "showbackground": true,
            "ticks": "",
            "zerolinecolor": "white"
           }
          },
          "shapedefaults": {
           "line": {
            "color": "#2a3f5f"
           }
          },
          "ternary": {
           "aaxis": {
            "gridcolor": "white",
            "linecolor": "white",
            "ticks": ""
           },
           "baxis": {
            "gridcolor": "white",
            "linecolor": "white",
            "ticks": ""
           },
           "bgcolor": "#E5ECF6",
           "caxis": {
            "gridcolor": "white",
            "linecolor": "white",
            "ticks": ""
           }
          },
          "title": {
           "x": 0.05
          },
          "xaxis": {
           "automargin": true,
           "gridcolor": "white",
           "linecolor": "white",
           "ticks": "",
           "title": {
            "standoff": 15
           },
           "zerolinecolor": "white",
           "zerolinewidth": 2
          },
          "yaxis": {
           "automargin": true,
           "gridcolor": "white",
           "linecolor": "white",
           "ticks": "",
           "title": {
            "standoff": 15
           },
           "zerolinecolor": "white",
           "zerolinewidth": 2
          }
         }
        },
        "title": {
         "text": "select bulk (latency ms) and recall for with sift 10k"
        },
        "xaxis": {
         "autorange": true,
         "range": [
          0.47874313863476425,
          1.0292568613652358
         ],
         "title": {
          "text": "recall"
         },
         "type": "linear"
        },
        "yaxis": {
         "autorange": true,
         "range": [
          65.28786453645365,
          217.20713546354636
         ],
         "title": {
          "text": "select bulk (latency ms)"
         },
         "type": "linear"
        }
       }
      },
      "text/html": [
       "<div>                            <div id=\"0ee0d2eb-a676-4504-97b2-f39d32b7898c\" class=\"plotly-graph-div\" style=\"height:525px; width:100%;\"></div>            <script type=\"text/javascript\">                require([\"plotly\"], function(Plotly) {                    window.PLOTLYENV=window.PLOTLYENV || {};                                    if (document.getElementById(\"0ee0d2eb-a676-4504-97b2-f39d32b7898c\")) {                    Plotly.newPlot(                        \"0ee0d2eb-a676-4504-97b2-f39d32b7898c\",                        [{\"hoverinfo\":\"x+y+text\",\"hovertext\":[\"{\\\"lists\\\": 80, \\\"probes\\\": 16}\",\"{\\\"lists\\\": 60, \\\"probes\\\": 4}\",\"{\\\"lists\\\": 100, \\\"probes\\\": 32}\",\"{\\\"lists\\\": 120, \\\"probes\\\": 4}\",\"{\\\"lists\\\": 140, \\\"probes\\\": 16}\",\"{\\\"lists\\\": 120, \\\"probes\\\": 8}\",\"{\\\"lists\\\": 100, \\\"probes\\\": 8}\",\"{\\\"lists\\\": 140, \\\"probes\\\": 8}\",\"{\\\"lists\\\": 120, \\\"probes\\\": 2}\",\"{\\\"lists\\\": 140, \\\"probes\\\": 32}\",\"{\\\"lists\\\": 120, \\\"probes\\\": 16}\",\"{\\\"lists\\\": 80, \\\"probes\\\": 8}\",\"{\\\"lists\\\": 60, \\\"probes\\\": 2}\",\"{\\\"lists\\\": 60, \\\"probes\\\": 16}\",\"{\\\"lists\\\": 120, \\\"probes\\\": 32}\",\"{\\\"lists\\\": 60, \\\"probes\\\": 1}\",\"{\\\"lists\\\": 60, \\\"probes\\\": 8}\",\"{\\\"lists\\\": 60, \\\"probes\\\": 32}\",\"{\\\"lists\\\": 100, \\\"probes\\\": 2}\",\"{\\\"lists\\\": 140, \\\"probes\\\": 2}\",\"{\\\"lists\\\": 80, \\\"probes\\\": 32}\",\"{\\\"lists\\\": 140, \\\"probes\\\": 4}\",\"{\\\"lists\\\": 120, \\\"probes\\\": 1}\",\"{\\\"lists\\\": 100, \\\"probes\\\": 1}\",\"{\\\"lists\\\": 100, \\\"probes\\\": 4}\",\"{\\\"lists\\\": 140, \\\"probes\\\": 1}\",\"{\\\"lists\\\": 80, \\\"probes\\\": 1}\",\"{\\\"lists\\\": 80, \\\"probes\\\": 4}\",\"{\\\"lists\\\": 100, \\\"probes\\\": 16}\",\"{\\\"lists\\\": 80, \\\"probes\\\": 2}\"],\"marker\":{\"color\":\"blue\",\"opacity\":0.8,\"size\":8},\"mode\":\"markers\",\"name\":\"pgvector\",\"x\":[0.6,0.602,0.6,0.602,0.536,0.5559999999999999,0.558,0.588,0.5559999999999999,0.508,0.5900000000000001,0.63,0.616,0.6,0.5900000000000001,0.5700000000000001,0.628,0.606,0.5940000000000001,0.532,0.616,0.576,0.554,0.5860000000000001,0.596,0.5740000000000001,0.63,0.622,0.584,0.542],\"y\":[131.245,152.798,111.164,101.361,87.765,98.997,105.865,91.056,96.678,92.35,96.282,133.848,156.59,145.869,101.415,151.925,146.847,152.485,106.571,94.783,130.332,90.27,100.888,107.377,107.729,94.383,130.375,133.838,122.314,127.873],\"type\":\"scatter\"},{\"hoverinfo\":\"x+y+text\",\"hovertext\":[\"{\\\"M\\\": 12, \\\"ef_construction\\\": 16, \\\"ef\\\": 10}\",\"{\\\"M\\\": 16, \\\"ef_construction\\\": 16, \\\"ef\\\": 10}\",\"{\\\"M\\\": 24, \\\"ef_construction\\\": 16, \\\"ef\\\": 10}\",\"{\\\"M\\\": 2, \\\"ef_construction\\\": 16, \\\"ef\\\": 10}\",\"{\\\"M\\\": 32, \\\"ef_construction\\\": 16, \\\"ef\\\": 10}\",\"{\\\"M\\\": 3, \\\"ef_construction\\\": 16, \\\"ef\\\": 10}\",\"{\\\"M\\\": 48, \\\"ef_construction\\\": 16, \\\"ef\\\": 10}\",\"{\\\"M\\\": 4, \\\"ef_construction\\\": 16, \\\"ef\\\": 10}\",\"{\\\"M\\\": 64, \\\"ef_construction\\\": 16, \\\"ef\\\": 10}\",\"{\\\"M\\\": 6, \\\"ef_construction\\\": 16, \\\"ef\\\": 10}\",\"{\\\"M\\\": 8, \\\"ef_construction\\\": 16, \\\"ef\\\": 10}\"],\"marker\":{\"color\":\"red\",\"opacity\":0.8,\"size\":8},\"mode\":\"markers\",\"name\":\"lantern\",\"x\":[1.0,0.998,0.998,0.624,0.998,0.9119999999999999,0.998,0.968,0.998,0.992,0.9960000000000001],\"y\":[171.102,187.176,206.667,75.828,204.156,null,206.536,104.003,205.831,126.776,146.008],\"type\":\"scatter\"}],                        {\"template\":{\"data\":{\"histogram2dcontour\":[{\"type\":\"histogram2dcontour\",\"colorbar\":{\"outlinewidth\":0,\"ticks\":\"\"},\"colorscale\":[[0.0,\"#0d0887\"],[0.1111111111111111,\"#46039f\"],[0.2222222222222222,\"#7201a8\"],[0.3333333333333333,\"#9c179e\"],[0.4444444444444444,\"#bd3786\"],[0.5555555555555556,\"#d8576b\"],[0.6666666666666666,\"#ed7953\"],[0.7777777777777778,\"#fb9f3a\"],[0.8888888888888888,\"#fdca26\"],[1.0,\"#f0f921\"]]}],\"choropleth\":[{\"type\":\"choropleth\",\"colorbar\":{\"outlinewidth\":0,\"ticks\":\"\"}}],\"histogram2d\":[{\"type\":\"histogram2d\",\"colorbar\":{\"outlinewidth\":0,\"ticks\":\"\"},\"colorscale\":[[0.0,\"#0d0887\"],[0.1111111111111111,\"#46039f\"],[0.2222222222222222,\"#7201a8\"],[0.3333333333333333,\"#9c179e\"],[0.4444444444444444,\"#bd3786\"],[0.5555555555555556,\"#d8576b\"],[0.6666666666666666,\"#ed7953\"],[0.7777777777777778,\"#fb9f3a\"],[0.8888888888888888,\"#fdca26\"],[1.0,\"#f0f921\"]]}],\"heatmap\":[{\"type\":\"heatmap\",\"colorbar\":{\"outlinewidth\":0,\"ticks\":\"\"},\"colorscale\":[[0.0,\"#0d0887\"],[0.1111111111111111,\"#46039f\"],[0.2222222222222222,\"#7201a8\"],[0.3333333333333333,\"#9c179e\"],[0.4444444444444444,\"#bd3786\"],[0.5555555555555556,\"#d8576b\"],[0.6666666666666666,\"#ed7953\"],[0.7777777777777778,\"#fb9f3a\"],[0.8888888888888888,\"#fdca26\"],[1.0,\"#f0f921\"]]}],\"heatmapgl\":[{\"type\":\"heatmapgl\",\"colorbar\":{\"outlinewidth\":0,\"ticks\":\"\"},\"colorscale\":[[0.0,\"#0d0887\"],[0.1111111111111111,\"#46039f\"],[0.2222222222222222,\"#7201a8\"],[0.3333333333333333,\"#9c179e\"],[0.4444444444444444,\"#bd3786\"],[0.5555555555555556,\"#d8576b\"],[0.6666666666666666,\"#ed7953\"],[0.7777777777777778,\"#fb9f3a\"],[0.8888888888888888,\"#fdca26\"],[1.0,\"#f0f921\"]]}],\"contourcarpet\":[{\"type\":\"contourcarpet\",\"colorbar\":{\"outlinewidth\":0,\"ticks\":\"\"}}],\"contour\":[{\"type\":\"contour\",\"colorbar\":{\"outlinewidth\":0,\"ticks\":\"\"},\"colorscale\":[[0.0,\"#0d0887\"],[0.1111111111111111,\"#46039f\"],[0.2222222222222222,\"#7201a8\"],[0.3333333333333333,\"#9c179e\"],[0.4444444444444444,\"#bd3786\"],[0.5555555555555556,\"#d8576b\"],[0.6666666666666666,\"#ed7953\"],[0.7777777777777778,\"#fb9f3a\"],[0.8888888888888888,\"#fdca26\"],[1.0,\"#f0f921\"]]}],\"surface\":[{\"type\":\"surface\",\"colorbar\":{\"outlinewidth\":0,\"ticks\":\"\"},\"colorscale\":[[0.0,\"#0d0887\"],[0.1111111111111111,\"#46039f\"],[0.2222222222222222,\"#7201a8\"],[0.3333333333333333,\"#9c179e\"],[0.4444444444444444,\"#bd3786\"],[0.5555555555555556,\"#d8576b\"],[0.6666666666666666,\"#ed7953\"],[0.7777777777777778,\"#fb9f3a\"],[0.8888888888888888,\"#fdca26\"],[1.0,\"#f0f921\"]]}],\"mesh3d\":[{\"type\":\"mesh3d\",\"colorbar\":{\"outlinewidth\":0,\"ticks\":\"\"}}],\"scatter\":[{\"fillpattern\":{\"fillmode\":\"overlay\",\"size\":10,\"solidity\":0.2},\"type\":\"scatter\"}],\"parcoords\":[{\"type\":\"parcoords\",\"line\":{\"colorbar\":{\"outlinewidth\":0,\"ticks\":\"\"}}}],\"scatterpolargl\":[{\"type\":\"scatterpolargl\",\"marker\":{\"colorbar\":{\"outlinewidth\":0,\"ticks\":\"\"}}}],\"bar\":[{\"error_x\":{\"color\":\"#2a3f5f\"},\"error_y\":{\"color\":\"#2a3f5f\"},\"marker\":{\"line\":{\"color\":\"#E5ECF6\",\"width\":0.5},\"pattern\":{\"fillmode\":\"overlay\",\"size\":10,\"solidity\":0.2}},\"type\":\"bar\"}],\"scattergeo\":[{\"type\":\"scattergeo\",\"marker\":{\"colorbar\":{\"outlinewidth\":0,\"ticks\":\"\"}}}],\"scatterpolar\":[{\"type\":\"scatterpolar\",\"marker\":{\"colorbar\":{\"outlinewidth\":0,\"ticks\":\"\"}}}],\"histogram\":[{\"marker\":{\"pattern\":{\"fillmode\":\"overlay\",\"size\":10,\"solidity\":0.2}},\"type\":\"histogram\"}],\"scattergl\":[{\"type\":\"scattergl\",\"marker\":{\"colorbar\":{\"outlinewidth\":0,\"ticks\":\"\"}}}],\"scatter3d\":[{\"type\":\"scatter3d\",\"line\":{\"colorbar\":{\"outlinewidth\":0,\"ticks\":\"\"}},\"marker\":{\"colorbar\":{\"outlinewidth\":0,\"ticks\":\"\"}}}],\"scattermapbox\":[{\"type\":\"scattermapbox\",\"marker\":{\"colorbar\":{\"outlinewidth\":0,\"ticks\":\"\"}}}],\"scatterternary\":[{\"type\":\"scatterternary\",\"marker\":{\"colorbar\":{\"outlinewidth\":0,\"ticks\":\"\"}}}],\"scattercarpet\":[{\"type\":\"scattercarpet\",\"marker\":{\"colorbar\":{\"outlinewidth\":0,\"ticks\":\"\"}}}],\"carpet\":[{\"aaxis\":{\"endlinecolor\":\"#2a3f5f\",\"gridcolor\":\"white\",\"linecolor\":\"white\",\"minorgridcolor\":\"white\",\"startlinecolor\":\"#2a3f5f\"},\"baxis\":{\"endlinecolor\":\"#2a3f5f\",\"gridcolor\":\"white\",\"linecolor\":\"white\",\"minorgridcolor\":\"white\",\"startlinecolor\":\"#2a3f5f\"},\"type\":\"carpet\"}],\"table\":[{\"cells\":{\"fill\":{\"color\":\"#EBF0F8\"},\"line\":{\"color\":\"white\"}},\"header\":{\"fill\":{\"color\":\"#C8D4E3\"},\"line\":{\"color\":\"white\"}},\"type\":\"table\"}],\"barpolar\":[{\"marker\":{\"line\":{\"color\":\"#E5ECF6\",\"width\":0.5},\"pattern\":{\"fillmode\":\"overlay\",\"size\":10,\"solidity\":0.2}},\"type\":\"barpolar\"}],\"pie\":[{\"automargin\":true,\"type\":\"pie\"}]},\"layout\":{\"autotypenumbers\":\"strict\",\"colorway\":[\"#636efa\",\"#EF553B\",\"#00cc96\",\"#ab63fa\",\"#FFA15A\",\"#19d3f3\",\"#FF6692\",\"#B6E880\",\"#FF97FF\",\"#FECB52\"],\"font\":{\"color\":\"#2a3f5f\"},\"hovermode\":\"closest\",\"hoverlabel\":{\"align\":\"left\"},\"paper_bgcolor\":\"white\",\"plot_bgcolor\":\"#E5ECF6\",\"polar\":{\"bgcolor\":\"#E5ECF6\",\"angularaxis\":{\"gridcolor\":\"white\",\"linecolor\":\"white\",\"ticks\":\"\"},\"radialaxis\":{\"gridcolor\":\"white\",\"linecolor\":\"white\",\"ticks\":\"\"}},\"ternary\":{\"bgcolor\":\"#E5ECF6\",\"aaxis\":{\"gridcolor\":\"white\",\"linecolor\":\"white\",\"ticks\":\"\"},\"baxis\":{\"gridcolor\":\"white\",\"linecolor\":\"white\",\"ticks\":\"\"},\"caxis\":{\"gridcolor\":\"white\",\"linecolor\":\"white\",\"ticks\":\"\"}},\"coloraxis\":{\"colorbar\":{\"outlinewidth\":0,\"ticks\":\"\"}},\"colorscale\":{\"sequential\":[[0.0,\"#0d0887\"],[0.1111111111111111,\"#46039f\"],[0.2222222222222222,\"#7201a8\"],[0.3333333333333333,\"#9c179e\"],[0.4444444444444444,\"#bd3786\"],[0.5555555555555556,\"#d8576b\"],[0.6666666666666666,\"#ed7953\"],[0.7777777777777778,\"#fb9f3a\"],[0.8888888888888888,\"#fdca26\"],[1.0,\"#f0f921\"]],\"sequentialminus\":[[0.0,\"#0d0887\"],[0.1111111111111111,\"#46039f\"],[0.2222222222222222,\"#7201a8\"],[0.3333333333333333,\"#9c179e\"],[0.4444444444444444,\"#bd3786\"],[0.5555555555555556,\"#d8576b\"],[0.6666666666666666,\"#ed7953\"],[0.7777777777777778,\"#fb9f3a\"],[0.8888888888888888,\"#fdca26\"],[1.0,\"#f0f921\"]],\"diverging\":[[0,\"#8e0152\"],[0.1,\"#c51b7d\"],[0.2,\"#de77ae\"],[0.3,\"#f1b6da\"],[0.4,\"#fde0ef\"],[0.5,\"#f7f7f7\"],[0.6,\"#e6f5d0\"],[0.7,\"#b8e186\"],[0.8,\"#7fbc41\"],[0.9,\"#4d9221\"],[1,\"#276419\"]]},\"xaxis\":{\"gridcolor\":\"white\",\"linecolor\":\"white\",\"ticks\":\"\",\"title\":{\"standoff\":15},\"zerolinecolor\":\"white\",\"automargin\":true,\"zerolinewidth\":2},\"yaxis\":{\"gridcolor\":\"white\",\"linecolor\":\"white\",\"ticks\":\"\",\"title\":{\"standoff\":15},\"zerolinecolor\":\"white\",\"automargin\":true,\"zerolinewidth\":2},\"scene\":{\"xaxis\":{\"backgroundcolor\":\"#E5ECF6\",\"gridcolor\":\"white\",\"linecolor\":\"white\",\"showbackground\":true,\"ticks\":\"\",\"zerolinecolor\":\"white\",\"gridwidth\":2},\"yaxis\":{\"backgroundcolor\":\"#E5ECF6\",\"gridcolor\":\"white\",\"linecolor\":\"white\",\"showbackground\":true,\"ticks\":\"\",\"zerolinecolor\":\"white\",\"gridwidth\":2},\"zaxis\":{\"backgroundcolor\":\"#E5ECF6\",\"gridcolor\":\"white\",\"linecolor\":\"white\",\"showbackground\":true,\"ticks\":\"\",\"zerolinecolor\":\"white\",\"gridwidth\":2}},\"shapedefaults\":{\"line\":{\"color\":\"#2a3f5f\"}},\"annotationdefaults\":{\"arrowcolor\":\"#2a3f5f\",\"arrowhead\":0,\"arrowwidth\":1},\"geo\":{\"bgcolor\":\"white\",\"landcolor\":\"#E5ECF6\",\"subunitcolor\":\"white\",\"showland\":true,\"showlakes\":true,\"lakecolor\":\"white\"},\"title\":{\"x\":0.05},\"mapbox\":{\"style\":\"light\"}}},\"margin\":{\"l\":50,\"r\":50,\"b\":50,\"t\":50},\"title\":{\"text\":\"select bulk (latency ms) and recall for with sift 10k\"},\"xaxis\":{\"title\":{\"text\":\"recall\"}},\"yaxis\":{\"title\":{\"text\":\"select bulk (latency ms)\"}},\"hovermode\":\"closest\"},                        {\"responsive\": true}                    ).then(function(){\n",
       "                            \n",
       "var gd = document.getElementById('0ee0d2eb-a676-4504-97b2-f39d32b7898c');\n",
       "var x = new MutationObserver(function (mutations, observer) {{\n",
       "        var display = window.getComputedStyle(gd).display;\n",
       "        if (!display || display === 'none') {{\n",
       "            console.log([gd, 'removed!']);\n",
       "            Plotly.purge(gd);\n",
       "            observer.disconnect();\n",
       "        }}\n",
       "}});\n",
       "\n",
       "// Listen for the removal of the full notebook cells\n",
       "var notebookContainer = gd.closest('#notebook-container');\n",
       "if (notebookContainer) {{\n",
       "    x.observe(notebookContainer, {childList: true});\n",
       "}}\n",
       "\n",
       "// Listen for the clearing of the current output cell\n",
       "var outputEl = gd.closest('.output');\n",
       "if (outputEl) {{\n",
       "    x.observe(outputEl, {childList: true});\n",
       "}}\n",
       "\n",
       "                        })                };                });            </script>        </div>"
      ]
     },
     "metadata": {},
     "output_type": "display_data"
    },
    {
     "data": {
      "application/vnd.plotly.v1+json": {
       "config": {
        "plotlyServerURL": "https://plot.ly"
       },
       "data": [
        {
         "hoverinfo": "x+y+text",
         "hovertext": [
          "{\"lists\": 80, \"probes\": 16}",
          "{\"lists\": 60, \"probes\": 4}",
          "{\"lists\": 100, \"probes\": 32}",
          "{\"lists\": 120, \"probes\": 4}",
          "{\"lists\": 140, \"probes\": 16}",
          "{\"lists\": 120, \"probes\": 8}",
          "{\"lists\": 100, \"probes\": 8}",
          "{\"lists\": 140, \"probes\": 8}",
          "{\"lists\": 120, \"probes\": 2}",
          "{\"lists\": 140, \"probes\": 32}",
          "{\"lists\": 120, \"probes\": 16}",
          "{\"lists\": 80, \"probes\": 8}",
          "{\"lists\": 60, \"probes\": 2}",
          "{\"lists\": 60, \"probes\": 16}",
          "{\"lists\": 120, \"probes\": 32}",
          "{\"lists\": 60, \"probes\": 1}",
          "{\"lists\": 60, \"probes\": 8}",
          "{\"lists\": 60, \"probes\": 32}",
          "{\"lists\": 100, \"probes\": 2}",
          "{\"lists\": 140, \"probes\": 2}",
          "{\"lists\": 80, \"probes\": 32}",
          "{\"lists\": 140, \"probes\": 4}",
          "{\"lists\": 120, \"probes\": 1}",
          "{\"lists\": 100, \"probes\": 1}",
          "{\"lists\": 100, \"probes\": 4}",
          "{\"lists\": 140, \"probes\": 1}",
          "{\"lists\": 80, \"probes\": 1}",
          "{\"lists\": 80, \"probes\": 4}",
          "{\"lists\": 100, \"probes\": 16}",
          "{\"lists\": 80, \"probes\": 2}"
         ],
         "marker": {
          "color": "blue",
          "opacity": 0.8,
          "size": 8
         },
         "mode": "markers",
         "name": "pgvector",
         "type": "scatter",
         "x": [
          0.6,
          0.602,
          0.6,
          0.602,
          0.536,
          0.5559999999999999,
          0.558,
          0.588,
          0.5559999999999999,
          0.508,
          0.5900000000000001,
          0.63,
          0.616,
          0.6,
          0.5900000000000001,
          0.5700000000000001,
          0.628,
          0.606,
          0.5940000000000001,
          0.532,
          0.616,
          0.576,
          0.554,
          0.5860000000000001,
          0.596,
          0.5740000000000001,
          0.63,
          0.622,
          0.584,
          0.542
         ],
         "y": [
          60.954796,
          52.356866,
          71.965874,
          78.925456,
          91.152371,
          80.810312,
          75.56794,
          87.857635,
          82.748748,
          86.626525,
          83.089431,
          59.769171,
          51.088961,
          54.84368,
          78.883535,
          52.657538,
          54.478322,
          52.464154,
          75.067373,
          84.403084,
          61.381765,
          88.622758,
          79.295591,
          74.503666,
          74.260505,
          84.761147,
          61.36152,
          59.773816,
          65.405182,
          62.561845
         ]
        },
        {
         "hoverinfo": "x+y+text",
         "hovertext": [
          "{\"M\": 12, \"ef_construction\": 16, \"ef\": 10}",
          "{\"M\": 16, \"ef_construction\": 16, \"ef\": 10}",
          "{\"M\": 24, \"ef_construction\": 16, \"ef\": 10}",
          "{\"M\": 2, \"ef_construction\": 16, \"ef\": 10}",
          "{\"M\": 32, \"ef_construction\": 16, \"ef\": 10}",
          "{\"M\": 3, \"ef_construction\": 16, \"ef\": 10}",
          "{\"M\": 48, \"ef_construction\": 16, \"ef\": 10}",
          "{\"M\": 4, \"ef_construction\": 16, \"ef\": 10}",
          "{\"M\": 64, \"ef_construction\": 16, \"ef\": 10}",
          "{\"M\": 6, \"ef_construction\": 16, \"ef\": 10}",
          "{\"M\": 8, \"ef_construction\": 16, \"ef\": 10}"
         ],
         "marker": {
          "color": "red",
          "opacity": 0.8,
          "size": 8
         },
         "mode": "markers",
         "name": "lantern",
         "type": "scatter",
         "x": [
          1,
          0.998,
          0.998,
          0.624,
          0.998,
          0.9119999999999999,
          0.998,
          0.968,
          0.998,
          0.992,
          0.9960000000000001
         ],
         "y": [
          46.755773,
          42.740568,
          38.709602,
          105.502389,
          39.185734,
          null,
          38.734105,
          76.92071,
          38.866863,
          63.103592,
          54.791543
         ]
        }
       ],
       "layout": {
        "autosize": true,
        "hovermode": "closest",
        "margin": {
         "b": 50,
         "l": 50,
         "r": 50,
         "t": 50
        },
        "template": {
         "data": {
          "bar": [
           {
            "error_x": {
             "color": "#2a3f5f"
            },
            "error_y": {
             "color": "#2a3f5f"
            },
            "marker": {
             "line": {
              "color": "#E5ECF6",
              "width": 0.5
             },
             "pattern": {
              "fillmode": "overlay",
              "size": 10,
              "solidity": 0.2
             }
            },
            "type": "bar"
           }
          ],
          "barpolar": [
           {
            "marker": {
             "line": {
              "color": "#E5ECF6",
              "width": 0.5
             },
             "pattern": {
              "fillmode": "overlay",
              "size": 10,
              "solidity": 0.2
             }
            },
            "type": "barpolar"
           }
          ],
          "carpet": [
           {
            "aaxis": {
             "endlinecolor": "#2a3f5f",
             "gridcolor": "white",
             "linecolor": "white",
             "minorgridcolor": "white",
             "startlinecolor": "#2a3f5f"
            },
            "baxis": {
             "endlinecolor": "#2a3f5f",
             "gridcolor": "white",
             "linecolor": "white",
             "minorgridcolor": "white",
             "startlinecolor": "#2a3f5f"
            },
            "type": "carpet"
           }
          ],
          "choropleth": [
           {
            "colorbar": {
             "outlinewidth": 0,
             "ticks": ""
            },
            "type": "choropleth"
           }
          ],
          "contour": [
           {
            "colorbar": {
             "outlinewidth": 0,
             "ticks": ""
            },
            "colorscale": [
             [
              0,
              "#0d0887"
             ],
             [
              0.1111111111111111,
              "#46039f"
             ],
             [
              0.2222222222222222,
              "#7201a8"
             ],
             [
              0.3333333333333333,
              "#9c179e"
             ],
             [
              0.4444444444444444,
              "#bd3786"
             ],
             [
              0.5555555555555556,
              "#d8576b"
             ],
             [
              0.6666666666666666,
              "#ed7953"
             ],
             [
              0.7777777777777778,
              "#fb9f3a"
             ],
             [
              0.8888888888888888,
              "#fdca26"
             ],
             [
              1,
              "#f0f921"
             ]
            ],
            "type": "contour"
           }
          ],
          "contourcarpet": [
           {
            "colorbar": {
             "outlinewidth": 0,
             "ticks": ""
            },
            "type": "contourcarpet"
           }
          ],
          "heatmap": [
           {
            "colorbar": {
             "outlinewidth": 0,
             "ticks": ""
            },
            "colorscale": [
             [
              0,
              "#0d0887"
             ],
             [
              0.1111111111111111,
              "#46039f"
             ],
             [
              0.2222222222222222,
              "#7201a8"
             ],
             [
              0.3333333333333333,
              "#9c179e"
             ],
             [
              0.4444444444444444,
              "#bd3786"
             ],
             [
              0.5555555555555556,
              "#d8576b"
             ],
             [
              0.6666666666666666,
              "#ed7953"
             ],
             [
              0.7777777777777778,
              "#fb9f3a"
             ],
             [
              0.8888888888888888,
              "#fdca26"
             ],
             [
              1,
              "#f0f921"
             ]
            ],
            "type": "heatmap"
           }
          ],
          "heatmapgl": [
           {
            "colorbar": {
             "outlinewidth": 0,
             "ticks": ""
            },
            "colorscale": [
             [
              0,
              "#0d0887"
             ],
             [
              0.1111111111111111,
              "#46039f"
             ],
             [
              0.2222222222222222,
              "#7201a8"
             ],
             [
              0.3333333333333333,
              "#9c179e"
             ],
             [
              0.4444444444444444,
              "#bd3786"
             ],
             [
              0.5555555555555556,
              "#d8576b"
             ],
             [
              0.6666666666666666,
              "#ed7953"
             ],
             [
              0.7777777777777778,
              "#fb9f3a"
             ],
             [
              0.8888888888888888,
              "#fdca26"
             ],
             [
              1,
              "#f0f921"
             ]
            ],
            "type": "heatmapgl"
           }
          ],
          "histogram": [
           {
            "marker": {
             "pattern": {
              "fillmode": "overlay",
              "size": 10,
              "solidity": 0.2
             }
            },
            "type": "histogram"
           }
          ],
          "histogram2d": [
           {
            "colorbar": {
             "outlinewidth": 0,
             "ticks": ""
            },
            "colorscale": [
             [
              0,
              "#0d0887"
             ],
             [
              0.1111111111111111,
              "#46039f"
             ],
             [
              0.2222222222222222,
              "#7201a8"
             ],
             [
              0.3333333333333333,
              "#9c179e"
             ],
             [
              0.4444444444444444,
              "#bd3786"
             ],
             [
              0.5555555555555556,
              "#d8576b"
             ],
             [
              0.6666666666666666,
              "#ed7953"
             ],
             [
              0.7777777777777778,
              "#fb9f3a"
             ],
             [
              0.8888888888888888,
              "#fdca26"
             ],
             [
              1,
              "#f0f921"
             ]
            ],
            "type": "histogram2d"
           }
          ],
          "histogram2dcontour": [
           {
            "colorbar": {
             "outlinewidth": 0,
             "ticks": ""
            },
            "colorscale": [
             [
              0,
              "#0d0887"
             ],
             [
              0.1111111111111111,
              "#46039f"
             ],
             [
              0.2222222222222222,
              "#7201a8"
             ],
             [
              0.3333333333333333,
              "#9c179e"
             ],
             [
              0.4444444444444444,
              "#bd3786"
             ],
             [
              0.5555555555555556,
              "#d8576b"
             ],
             [
              0.6666666666666666,
              "#ed7953"
             ],
             [
              0.7777777777777778,
              "#fb9f3a"
             ],
             [
              0.8888888888888888,
              "#fdca26"
             ],
             [
              1,
              "#f0f921"
             ]
            ],
            "type": "histogram2dcontour"
           }
          ],
          "mesh3d": [
           {
            "colorbar": {
             "outlinewidth": 0,
             "ticks": ""
            },
            "type": "mesh3d"
           }
          ],
          "parcoords": [
           {
            "line": {
             "colorbar": {
              "outlinewidth": 0,
              "ticks": ""
             }
            },
            "type": "parcoords"
           }
          ],
          "pie": [
           {
            "automargin": true,
            "type": "pie"
           }
          ],
          "scatter": [
           {
            "fillpattern": {
             "fillmode": "overlay",
             "size": 10,
             "solidity": 0.2
            },
            "type": "scatter"
           }
          ],
          "scatter3d": [
           {
            "line": {
             "colorbar": {
              "outlinewidth": 0,
              "ticks": ""
             }
            },
            "marker": {
             "colorbar": {
              "outlinewidth": 0,
              "ticks": ""
             }
            },
            "type": "scatter3d"
           }
          ],
          "scattercarpet": [
           {
            "marker": {
             "colorbar": {
              "outlinewidth": 0,
              "ticks": ""
             }
            },
            "type": "scattercarpet"
           }
          ],
          "scattergeo": [
           {
            "marker": {
             "colorbar": {
              "outlinewidth": 0,
              "ticks": ""
             }
            },
            "type": "scattergeo"
           }
          ],
          "scattergl": [
           {
            "marker": {
             "colorbar": {
              "outlinewidth": 0,
              "ticks": ""
             }
            },
            "type": "scattergl"
           }
          ],
          "scattermapbox": [
           {
            "marker": {
             "colorbar": {
              "outlinewidth": 0,
              "ticks": ""
             }
            },
            "type": "scattermapbox"
           }
          ],
          "scatterpolar": [
           {
            "marker": {
             "colorbar": {
              "outlinewidth": 0,
              "ticks": ""
             }
            },
            "type": "scatterpolar"
           }
          ],
          "scatterpolargl": [
           {
            "marker": {
             "colorbar": {
              "outlinewidth": 0,
              "ticks": ""
             }
            },
            "type": "scatterpolargl"
           }
          ],
          "scatterternary": [
           {
            "marker": {
             "colorbar": {
              "outlinewidth": 0,
              "ticks": ""
             }
            },
            "type": "scatterternary"
           }
          ],
          "surface": [
           {
            "colorbar": {
             "outlinewidth": 0,
             "ticks": ""
            },
            "colorscale": [
             [
              0,
              "#0d0887"
             ],
             [
              0.1111111111111111,
              "#46039f"
             ],
             [
              0.2222222222222222,
              "#7201a8"
             ],
             [
              0.3333333333333333,
              "#9c179e"
             ],
             [
              0.4444444444444444,
              "#bd3786"
             ],
             [
              0.5555555555555556,
              "#d8576b"
             ],
             [
              0.6666666666666666,
              "#ed7953"
             ],
             [
              0.7777777777777778,
              "#fb9f3a"
             ],
             [
              0.8888888888888888,
              "#fdca26"
             ],
             [
              1,
              "#f0f921"
             ]
            ],
            "type": "surface"
           }
          ],
          "table": [
           {
            "cells": {
             "fill": {
              "color": "#EBF0F8"
             },
             "line": {
              "color": "white"
             }
            },
            "header": {
             "fill": {
              "color": "#C8D4E3"
             },
             "line": {
              "color": "white"
             }
            },
            "type": "table"
           }
          ]
         },
         "layout": {
          "annotationdefaults": {
           "arrowcolor": "#2a3f5f",
           "arrowhead": 0,
           "arrowwidth": 1
          },
          "autotypenumbers": "strict",
          "coloraxis": {
           "colorbar": {
            "outlinewidth": 0,
            "ticks": ""
           }
          },
          "colorscale": {
           "diverging": [
            [
             0,
             "#8e0152"
            ],
            [
             0.1,
             "#c51b7d"
            ],
            [
             0.2,
             "#de77ae"
            ],
            [
             0.3,
             "#f1b6da"
            ],
            [
             0.4,
             "#fde0ef"
            ],
            [
             0.5,
             "#f7f7f7"
            ],
            [
             0.6,
             "#e6f5d0"
            ],
            [
             0.7,
             "#b8e186"
            ],
            [
             0.8,
             "#7fbc41"
            ],
            [
             0.9,
             "#4d9221"
            ],
            [
             1,
             "#276419"
            ]
           ],
           "sequential": [
            [
             0,
             "#0d0887"
            ],
            [
             0.1111111111111111,
             "#46039f"
            ],
            [
             0.2222222222222222,
             "#7201a8"
            ],
            [
             0.3333333333333333,
             "#9c179e"
            ],
            [
             0.4444444444444444,
             "#bd3786"
            ],
            [
             0.5555555555555556,
             "#d8576b"
            ],
            [
             0.6666666666666666,
             "#ed7953"
            ],
            [
             0.7777777777777778,
             "#fb9f3a"
            ],
            [
             0.8888888888888888,
             "#fdca26"
            ],
            [
             1,
             "#f0f921"
            ]
           ],
           "sequentialminus": [
            [
             0,
             "#0d0887"
            ],
            [
             0.1111111111111111,
             "#46039f"
            ],
            [
             0.2222222222222222,
             "#7201a8"
            ],
            [
             0.3333333333333333,
             "#9c179e"
            ],
            [
             0.4444444444444444,
             "#bd3786"
            ],
            [
             0.5555555555555556,
             "#d8576b"
            ],
            [
             0.6666666666666666,
             "#ed7953"
            ],
            [
             0.7777777777777778,
             "#fb9f3a"
            ],
            [
             0.8888888888888888,
             "#fdca26"
            ],
            [
             1,
             "#f0f921"
            ]
           ]
          },
          "colorway": [
           "#636efa",
           "#EF553B",
           "#00cc96",
           "#ab63fa",
           "#FFA15A",
           "#19d3f3",
           "#FF6692",
           "#B6E880",
           "#FF97FF",
           "#FECB52"
          ],
          "font": {
           "color": "#2a3f5f"
          },
          "geo": {
           "bgcolor": "white",
           "lakecolor": "white",
           "landcolor": "#E5ECF6",
           "showlakes": true,
           "showland": true,
           "subunitcolor": "white"
          },
          "hoverlabel": {
           "align": "left"
          },
          "hovermode": "closest",
          "mapbox": {
           "style": "light"
          },
          "paper_bgcolor": "white",
          "plot_bgcolor": "#E5ECF6",
          "polar": {
           "angularaxis": {
            "gridcolor": "white",
            "linecolor": "white",
            "ticks": ""
           },
           "bgcolor": "#E5ECF6",
           "radialaxis": {
            "gridcolor": "white",
            "linecolor": "white",
            "ticks": ""
           }
          },
          "scene": {
           "xaxis": {
            "backgroundcolor": "#E5ECF6",
            "gridcolor": "white",
            "gridwidth": 2,
            "linecolor": "white",
            "showbackground": true,
            "ticks": "",
            "zerolinecolor": "white"
           },
           "yaxis": {
            "backgroundcolor": "#E5ECF6",
            "gridcolor": "white",
            "gridwidth": 2,
            "linecolor": "white",
            "showbackground": true,
            "ticks": "",
            "zerolinecolor": "white"
           },
           "zaxis": {
            "backgroundcolor": "#E5ECF6",
            "gridcolor": "white",
            "gridwidth": 2,
            "linecolor": "white",
            "showbackground": true,
            "ticks": "",
            "zerolinecolor": "white"
           }
          },
          "shapedefaults": {
           "line": {
            "color": "#2a3f5f"
           }
          },
          "ternary": {
           "aaxis": {
            "gridcolor": "white",
            "linecolor": "white",
            "ticks": ""
           },
           "baxis": {
            "gridcolor": "white",
            "linecolor": "white",
            "ticks": ""
           },
           "bgcolor": "#E5ECF6",
           "caxis": {
            "gridcolor": "white",
            "linecolor": "white",
            "ticks": ""
           }
          },
          "title": {
           "x": 0.05
          },
          "xaxis": {
           "automargin": true,
           "gridcolor": "white",
           "linecolor": "white",
           "ticks": "",
           "title": {
            "standoff": 15
           },
           "zerolinecolor": "white",
           "zerolinewidth": 2
          },
          "yaxis": {
           "automargin": true,
           "gridcolor": "white",
           "linecolor": "white",
           "ticks": "",
           "title": {
            "standoff": 15
           },
           "zerolinecolor": "white",
           "zerolinewidth": 2
          }
         }
        },
        "title": {
         "text": "select bulk (tps) and recall for with sift 10k"
        },
        "xaxis": {
         "autorange": true,
         "range": [
          0.47874313863476425,
          1.0292568613652358
         ],
         "title": {
          "text": "recall"
         },
         "type": "linear"
        },
        "yaxis": {
         "autorange": true,
         "range": [
          33.32890493744374,
          110.88308606255625
         ],
         "title": {
          "text": "select bulk (tps)"
         },
         "type": "linear"
        }
       }
      },
      "text/html": [
       "<div>                            <div id=\"fca5ba81-1d9c-4fdf-9ab9-5eb3f30160f6\" class=\"plotly-graph-div\" style=\"height:525px; width:100%;\"></div>            <script type=\"text/javascript\">                require([\"plotly\"], function(Plotly) {                    window.PLOTLYENV=window.PLOTLYENV || {};                                    if (document.getElementById(\"fca5ba81-1d9c-4fdf-9ab9-5eb3f30160f6\")) {                    Plotly.newPlot(                        \"fca5ba81-1d9c-4fdf-9ab9-5eb3f30160f6\",                        [{\"hoverinfo\":\"x+y+text\",\"hovertext\":[\"{\\\"lists\\\": 80, \\\"probes\\\": 16}\",\"{\\\"lists\\\": 60, \\\"probes\\\": 4}\",\"{\\\"lists\\\": 100, \\\"probes\\\": 32}\",\"{\\\"lists\\\": 120, \\\"probes\\\": 4}\",\"{\\\"lists\\\": 140, \\\"probes\\\": 16}\",\"{\\\"lists\\\": 120, \\\"probes\\\": 8}\",\"{\\\"lists\\\": 100, \\\"probes\\\": 8}\",\"{\\\"lists\\\": 140, \\\"probes\\\": 8}\",\"{\\\"lists\\\": 120, \\\"probes\\\": 2}\",\"{\\\"lists\\\": 140, \\\"probes\\\": 32}\",\"{\\\"lists\\\": 120, \\\"probes\\\": 16}\",\"{\\\"lists\\\": 80, \\\"probes\\\": 8}\",\"{\\\"lists\\\": 60, \\\"probes\\\": 2}\",\"{\\\"lists\\\": 60, \\\"probes\\\": 16}\",\"{\\\"lists\\\": 120, \\\"probes\\\": 32}\",\"{\\\"lists\\\": 60, \\\"probes\\\": 1}\",\"{\\\"lists\\\": 60, \\\"probes\\\": 8}\",\"{\\\"lists\\\": 60, \\\"probes\\\": 32}\",\"{\\\"lists\\\": 100, \\\"probes\\\": 2}\",\"{\\\"lists\\\": 140, \\\"probes\\\": 2}\",\"{\\\"lists\\\": 80, \\\"probes\\\": 32}\",\"{\\\"lists\\\": 140, \\\"probes\\\": 4}\",\"{\\\"lists\\\": 120, \\\"probes\\\": 1}\",\"{\\\"lists\\\": 100, \\\"probes\\\": 1}\",\"{\\\"lists\\\": 100, \\\"probes\\\": 4}\",\"{\\\"lists\\\": 140, \\\"probes\\\": 1}\",\"{\\\"lists\\\": 80, \\\"probes\\\": 1}\",\"{\\\"lists\\\": 80, \\\"probes\\\": 4}\",\"{\\\"lists\\\": 100, \\\"probes\\\": 16}\",\"{\\\"lists\\\": 80, \\\"probes\\\": 2}\"],\"marker\":{\"color\":\"blue\",\"opacity\":0.8,\"size\":8},\"mode\":\"markers\",\"name\":\"pgvector\",\"x\":[0.6,0.602,0.6,0.602,0.536,0.5559999999999999,0.558,0.588,0.5559999999999999,0.508,0.5900000000000001,0.63,0.616,0.6,0.5900000000000001,0.5700000000000001,0.628,0.606,0.5940000000000001,0.532,0.616,0.576,0.554,0.5860000000000001,0.596,0.5740000000000001,0.63,0.622,0.584,0.542],\"y\":[60.954796,52.356866,71.965874,78.925456,91.152371,80.810312,75.56794,87.857635,82.748748,86.626525,83.089431,59.769171,51.088961,54.84368,78.883535,52.657538,54.478322,52.464154,75.067373,84.403084,61.381765,88.622758,79.295591,74.503666,74.260505,84.761147,61.36152,59.773816,65.405182,62.561845],\"type\":\"scatter\"},{\"hoverinfo\":\"x+y+text\",\"hovertext\":[\"{\\\"M\\\": 12, \\\"ef_construction\\\": 16, \\\"ef\\\": 10}\",\"{\\\"M\\\": 16, \\\"ef_construction\\\": 16, \\\"ef\\\": 10}\",\"{\\\"M\\\": 24, \\\"ef_construction\\\": 16, \\\"ef\\\": 10}\",\"{\\\"M\\\": 2, \\\"ef_construction\\\": 16, \\\"ef\\\": 10}\",\"{\\\"M\\\": 32, \\\"ef_construction\\\": 16, \\\"ef\\\": 10}\",\"{\\\"M\\\": 3, \\\"ef_construction\\\": 16, \\\"ef\\\": 10}\",\"{\\\"M\\\": 48, \\\"ef_construction\\\": 16, \\\"ef\\\": 10}\",\"{\\\"M\\\": 4, \\\"ef_construction\\\": 16, \\\"ef\\\": 10}\",\"{\\\"M\\\": 64, \\\"ef_construction\\\": 16, \\\"ef\\\": 10}\",\"{\\\"M\\\": 6, \\\"ef_construction\\\": 16, \\\"ef\\\": 10}\",\"{\\\"M\\\": 8, \\\"ef_construction\\\": 16, \\\"ef\\\": 10}\"],\"marker\":{\"color\":\"red\",\"opacity\":0.8,\"size\":8},\"mode\":\"markers\",\"name\":\"lantern\",\"x\":[1.0,0.998,0.998,0.624,0.998,0.9119999999999999,0.998,0.968,0.998,0.992,0.9960000000000001],\"y\":[46.755773,42.740568,38.709602,105.502389,39.185734,null,38.734105,76.92071,38.866863,63.103592,54.791543],\"type\":\"scatter\"}],                        {\"template\":{\"data\":{\"histogram2dcontour\":[{\"type\":\"histogram2dcontour\",\"colorbar\":{\"outlinewidth\":0,\"ticks\":\"\"},\"colorscale\":[[0.0,\"#0d0887\"],[0.1111111111111111,\"#46039f\"],[0.2222222222222222,\"#7201a8\"],[0.3333333333333333,\"#9c179e\"],[0.4444444444444444,\"#bd3786\"],[0.5555555555555556,\"#d8576b\"],[0.6666666666666666,\"#ed7953\"],[0.7777777777777778,\"#fb9f3a\"],[0.8888888888888888,\"#fdca26\"],[1.0,\"#f0f921\"]]}],\"choropleth\":[{\"type\":\"choropleth\",\"colorbar\":{\"outlinewidth\":0,\"ticks\":\"\"}}],\"histogram2d\":[{\"type\":\"histogram2d\",\"colorbar\":{\"outlinewidth\":0,\"ticks\":\"\"},\"colorscale\":[[0.0,\"#0d0887\"],[0.1111111111111111,\"#46039f\"],[0.2222222222222222,\"#7201a8\"],[0.3333333333333333,\"#9c179e\"],[0.4444444444444444,\"#bd3786\"],[0.5555555555555556,\"#d8576b\"],[0.6666666666666666,\"#ed7953\"],[0.7777777777777778,\"#fb9f3a\"],[0.8888888888888888,\"#fdca26\"],[1.0,\"#f0f921\"]]}],\"heatmap\":[{\"type\":\"heatmap\",\"colorbar\":{\"outlinewidth\":0,\"ticks\":\"\"},\"colorscale\":[[0.0,\"#0d0887\"],[0.1111111111111111,\"#46039f\"],[0.2222222222222222,\"#7201a8\"],[0.3333333333333333,\"#9c179e\"],[0.4444444444444444,\"#bd3786\"],[0.5555555555555556,\"#d8576b\"],[0.6666666666666666,\"#ed7953\"],[0.7777777777777778,\"#fb9f3a\"],[0.8888888888888888,\"#fdca26\"],[1.0,\"#f0f921\"]]}],\"heatmapgl\":[{\"type\":\"heatmapgl\",\"colorbar\":{\"outlinewidth\":0,\"ticks\":\"\"},\"colorscale\":[[0.0,\"#0d0887\"],[0.1111111111111111,\"#46039f\"],[0.2222222222222222,\"#7201a8\"],[0.3333333333333333,\"#9c179e\"],[0.4444444444444444,\"#bd3786\"],[0.5555555555555556,\"#d8576b\"],[0.6666666666666666,\"#ed7953\"],[0.7777777777777778,\"#fb9f3a\"],[0.8888888888888888,\"#fdca26\"],[1.0,\"#f0f921\"]]}],\"contourcarpet\":[{\"type\":\"contourcarpet\",\"colorbar\":{\"outlinewidth\":0,\"ticks\":\"\"}}],\"contour\":[{\"type\":\"contour\",\"colorbar\":{\"outlinewidth\":0,\"ticks\":\"\"},\"colorscale\":[[0.0,\"#0d0887\"],[0.1111111111111111,\"#46039f\"],[0.2222222222222222,\"#7201a8\"],[0.3333333333333333,\"#9c179e\"],[0.4444444444444444,\"#bd3786\"],[0.5555555555555556,\"#d8576b\"],[0.6666666666666666,\"#ed7953\"],[0.7777777777777778,\"#fb9f3a\"],[0.8888888888888888,\"#fdca26\"],[1.0,\"#f0f921\"]]}],\"surface\":[{\"type\":\"surface\",\"colorbar\":{\"outlinewidth\":0,\"ticks\":\"\"},\"colorscale\":[[0.0,\"#0d0887\"],[0.1111111111111111,\"#46039f\"],[0.2222222222222222,\"#7201a8\"],[0.3333333333333333,\"#9c179e\"],[0.4444444444444444,\"#bd3786\"],[0.5555555555555556,\"#d8576b\"],[0.6666666666666666,\"#ed7953\"],[0.7777777777777778,\"#fb9f3a\"],[0.8888888888888888,\"#fdca26\"],[1.0,\"#f0f921\"]]}],\"mesh3d\":[{\"type\":\"mesh3d\",\"colorbar\":{\"outlinewidth\":0,\"ticks\":\"\"}}],\"scatter\":[{\"fillpattern\":{\"fillmode\":\"overlay\",\"size\":10,\"solidity\":0.2},\"type\":\"scatter\"}],\"parcoords\":[{\"type\":\"parcoords\",\"line\":{\"colorbar\":{\"outlinewidth\":0,\"ticks\":\"\"}}}],\"scatterpolargl\":[{\"type\":\"scatterpolargl\",\"marker\":{\"colorbar\":{\"outlinewidth\":0,\"ticks\":\"\"}}}],\"bar\":[{\"error_x\":{\"color\":\"#2a3f5f\"},\"error_y\":{\"color\":\"#2a3f5f\"},\"marker\":{\"line\":{\"color\":\"#E5ECF6\",\"width\":0.5},\"pattern\":{\"fillmode\":\"overlay\",\"size\":10,\"solidity\":0.2}},\"type\":\"bar\"}],\"scattergeo\":[{\"type\":\"scattergeo\",\"marker\":{\"colorbar\":{\"outlinewidth\":0,\"ticks\":\"\"}}}],\"scatterpolar\":[{\"type\":\"scatterpolar\",\"marker\":{\"colorbar\":{\"outlinewidth\":0,\"ticks\":\"\"}}}],\"histogram\":[{\"marker\":{\"pattern\":{\"fillmode\":\"overlay\",\"size\":10,\"solidity\":0.2}},\"type\":\"histogram\"}],\"scattergl\":[{\"type\":\"scattergl\",\"marker\":{\"colorbar\":{\"outlinewidth\":0,\"ticks\":\"\"}}}],\"scatter3d\":[{\"type\":\"scatter3d\",\"line\":{\"colorbar\":{\"outlinewidth\":0,\"ticks\":\"\"}},\"marker\":{\"colorbar\":{\"outlinewidth\":0,\"ticks\":\"\"}}}],\"scattermapbox\":[{\"type\":\"scattermapbox\",\"marker\":{\"colorbar\":{\"outlinewidth\":0,\"ticks\":\"\"}}}],\"scatterternary\":[{\"type\":\"scatterternary\",\"marker\":{\"colorbar\":{\"outlinewidth\":0,\"ticks\":\"\"}}}],\"scattercarpet\":[{\"type\":\"scattercarpet\",\"marker\":{\"colorbar\":{\"outlinewidth\":0,\"ticks\":\"\"}}}],\"carpet\":[{\"aaxis\":{\"endlinecolor\":\"#2a3f5f\",\"gridcolor\":\"white\",\"linecolor\":\"white\",\"minorgridcolor\":\"white\",\"startlinecolor\":\"#2a3f5f\"},\"baxis\":{\"endlinecolor\":\"#2a3f5f\",\"gridcolor\":\"white\",\"linecolor\":\"white\",\"minorgridcolor\":\"white\",\"startlinecolor\":\"#2a3f5f\"},\"type\":\"carpet\"}],\"table\":[{\"cells\":{\"fill\":{\"color\":\"#EBF0F8\"},\"line\":{\"color\":\"white\"}},\"header\":{\"fill\":{\"color\":\"#C8D4E3\"},\"line\":{\"color\":\"white\"}},\"type\":\"table\"}],\"barpolar\":[{\"marker\":{\"line\":{\"color\":\"#E5ECF6\",\"width\":0.5},\"pattern\":{\"fillmode\":\"overlay\",\"size\":10,\"solidity\":0.2}},\"type\":\"barpolar\"}],\"pie\":[{\"automargin\":true,\"type\":\"pie\"}]},\"layout\":{\"autotypenumbers\":\"strict\",\"colorway\":[\"#636efa\",\"#EF553B\",\"#00cc96\",\"#ab63fa\",\"#FFA15A\",\"#19d3f3\",\"#FF6692\",\"#B6E880\",\"#FF97FF\",\"#FECB52\"],\"font\":{\"color\":\"#2a3f5f\"},\"hovermode\":\"closest\",\"hoverlabel\":{\"align\":\"left\"},\"paper_bgcolor\":\"white\",\"plot_bgcolor\":\"#E5ECF6\",\"polar\":{\"bgcolor\":\"#E5ECF6\",\"angularaxis\":{\"gridcolor\":\"white\",\"linecolor\":\"white\",\"ticks\":\"\"},\"radialaxis\":{\"gridcolor\":\"white\",\"linecolor\":\"white\",\"ticks\":\"\"}},\"ternary\":{\"bgcolor\":\"#E5ECF6\",\"aaxis\":{\"gridcolor\":\"white\",\"linecolor\":\"white\",\"ticks\":\"\"},\"baxis\":{\"gridcolor\":\"white\",\"linecolor\":\"white\",\"ticks\":\"\"},\"caxis\":{\"gridcolor\":\"white\",\"linecolor\":\"white\",\"ticks\":\"\"}},\"coloraxis\":{\"colorbar\":{\"outlinewidth\":0,\"ticks\":\"\"}},\"colorscale\":{\"sequential\":[[0.0,\"#0d0887\"],[0.1111111111111111,\"#46039f\"],[0.2222222222222222,\"#7201a8\"],[0.3333333333333333,\"#9c179e\"],[0.4444444444444444,\"#bd3786\"],[0.5555555555555556,\"#d8576b\"],[0.6666666666666666,\"#ed7953\"],[0.7777777777777778,\"#fb9f3a\"],[0.8888888888888888,\"#fdca26\"],[1.0,\"#f0f921\"]],\"sequentialminus\":[[0.0,\"#0d0887\"],[0.1111111111111111,\"#46039f\"],[0.2222222222222222,\"#7201a8\"],[0.3333333333333333,\"#9c179e\"],[0.4444444444444444,\"#bd3786\"],[0.5555555555555556,\"#d8576b\"],[0.6666666666666666,\"#ed7953\"],[0.7777777777777778,\"#fb9f3a\"],[0.8888888888888888,\"#fdca26\"],[1.0,\"#f0f921\"]],\"diverging\":[[0,\"#8e0152\"],[0.1,\"#c51b7d\"],[0.2,\"#de77ae\"],[0.3,\"#f1b6da\"],[0.4,\"#fde0ef\"],[0.5,\"#f7f7f7\"],[0.6,\"#e6f5d0\"],[0.7,\"#b8e186\"],[0.8,\"#7fbc41\"],[0.9,\"#4d9221\"],[1,\"#276419\"]]},\"xaxis\":{\"gridcolor\":\"white\",\"linecolor\":\"white\",\"ticks\":\"\",\"title\":{\"standoff\":15},\"zerolinecolor\":\"white\",\"automargin\":true,\"zerolinewidth\":2},\"yaxis\":{\"gridcolor\":\"white\",\"linecolor\":\"white\",\"ticks\":\"\",\"title\":{\"standoff\":15},\"zerolinecolor\":\"white\",\"automargin\":true,\"zerolinewidth\":2},\"scene\":{\"xaxis\":{\"backgroundcolor\":\"#E5ECF6\",\"gridcolor\":\"white\",\"linecolor\":\"white\",\"showbackground\":true,\"ticks\":\"\",\"zerolinecolor\":\"white\",\"gridwidth\":2},\"yaxis\":{\"backgroundcolor\":\"#E5ECF6\",\"gridcolor\":\"white\",\"linecolor\":\"white\",\"showbackground\":true,\"ticks\":\"\",\"zerolinecolor\":\"white\",\"gridwidth\":2},\"zaxis\":{\"backgroundcolor\":\"#E5ECF6\",\"gridcolor\":\"white\",\"linecolor\":\"white\",\"showbackground\":true,\"ticks\":\"\",\"zerolinecolor\":\"white\",\"gridwidth\":2}},\"shapedefaults\":{\"line\":{\"color\":\"#2a3f5f\"}},\"annotationdefaults\":{\"arrowcolor\":\"#2a3f5f\",\"arrowhead\":0,\"arrowwidth\":1},\"geo\":{\"bgcolor\":\"white\",\"landcolor\":\"#E5ECF6\",\"subunitcolor\":\"white\",\"showland\":true,\"showlakes\":true,\"lakecolor\":\"white\"},\"title\":{\"x\":0.05},\"mapbox\":{\"style\":\"light\"}}},\"margin\":{\"l\":50,\"r\":50,\"b\":50,\"t\":50},\"title\":{\"text\":\"select bulk (tps) and recall for with sift 10k\"},\"xaxis\":{\"title\":{\"text\":\"recall\"}},\"yaxis\":{\"title\":{\"text\":\"select bulk (tps)\"}},\"hovermode\":\"closest\"},                        {\"responsive\": true}                    ).then(function(){\n",
       "                            \n",
       "var gd = document.getElementById('fca5ba81-1d9c-4fdf-9ab9-5eb3f30160f6');\n",
       "var x = new MutationObserver(function (mutations, observer) {{\n",
       "        var display = window.getComputedStyle(gd).display;\n",
       "        if (!display || display === 'none') {{\n",
       "            console.log([gd, 'removed!']);\n",
       "            Plotly.purge(gd);\n",
       "            observer.disconnect();\n",
       "        }}\n",
       "}});\n",
       "\n",
       "// Listen for the removal of the full notebook cells\n",
       "var notebookContainer = gd.closest('#notebook-container');\n",
       "if (notebookContainer) {{\n",
       "    x.observe(notebookContainer, {childList: true});\n",
       "}}\n",
       "\n",
       "// Listen for the clearing of the current output cell\n",
       "var outputEl = gd.closest('.output');\n",
       "if (outputEl) {{\n",
       "    x.observe(outputEl, {childList: true});\n",
       "}}\n",
       "\n",
       "                        })                };                });            </script>        </div>"
      ]
     },
     "metadata": {},
     "output_type": "display_data"
    }
   ],
   "source": [
    "from select_bulk_experiment import plot_hyperparameter_search\n",
    "plot_hyperparameter_search(['pgvector', 'lantern'], 'sift', '10k', yaxis='select bulk (latency ms)')\n",
    "plot_hyperparameter_search(['pgvector', 'lantern'], 'sift', '10k', yaxis='select bulk (tps)')"
   ]
  },
  {
   "cell_type": "code",
   "execution_count": null,
   "id": "02ce2b7f-7d04-4161-a42b-0bf7b7033fe7",
   "metadata": {},
   "outputs": [],
   "source": []
  }
 ],
 "metadata": {
  "kernelspec": {
   "display_name": "Python 3 (ipykernel)",
   "language": "python",
   "name": "python3"
  },
  "language_info": {
   "codemirror_mode": {
    "name": "ipython",
    "version": 3
   },
   "file_extension": ".py",
   "mimetype": "text/x-python",
   "name": "python",
   "nbconvert_exporter": "python",
   "pygments_lexer": "ipython3",
   "version": "3.11.2"
  }
 },
 "nbformat": 4,
 "nbformat_minor": 5
}
