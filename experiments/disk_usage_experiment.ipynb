{
 "cells": [
  {
   "attachments": {},
   "cell_type": "markdown",
   "id": "c2f2b650-4d95-48bf-b4cd-29adf9157197",
   "metadata": {},
   "source": [
    "# Generate data"
   ]
  },
  {
   "cell_type": "code",
   "execution_count": null,
   "id": "08caf3a8-83ba-4088-876f-626d1c80bbc3",
   "metadata": {},
   "outputs": [
    {
     "name": "stdout",
     "output_type": "stream",
     "text": [
      "('pgvector', 'sift', '10k')\n",
      "('pgvector', 'sift', '100k')\n",
      "('pgvector', 'sift', '200k')\n",
      "('pgvector', 'sift', '400k')\n",
      "('pgvector', 'sift', '600k')\n",
      "('pgvector', 'sift', '800k')\n",
      "('pgvector', 'sift', '1m')\n",
      "('pgvector', 'gist', '100k')\n",
      "('pgvector', 'gist', '200k')\n",
      "('pgvector', 'gist', '400k')\n",
      "('pgvector', 'gist', '600k')\n",
      "('pgvector', 'gist', '800k')\n",
      "('pgvector', 'gist', '1m')\n",
      "\n",
      "dataset=sift, extension=pgvector, N=10k | disk usage  3448 kB\n",
      "dataset=sift, extension=pgvector, N=100k | disk usage  30 MB\n",
      "dataset=sift, extension=pgvector, N=200k | disk usage  60 MB\n",
      "dataset=sift, extension=pgvector, N=400k | disk usage  119 MB\n",
      "dataset=sift, extension=pgvector, N=600k | disk usage  177 MB\n",
      "dataset=sift, extension=pgvector, N=800k | disk usage  236 MB\n",
      "dataset=sift, extension=pgvector, N=1m | disk usage  294 MB\n",
      "dataset=gist, extension=pgvector, N=100k | disk usage  384 MB\n",
      "dataset=gist, extension=pgvector, N=200k | disk usage  769 MB\n",
      "dataset=gist, extension=pgvector, N=400k | disk usage  1539 MB\n",
      "dataset=gist, extension=pgvector, N=600k | disk usage  2306 MB\n"
     ]
    }
   ],
   "source": [
    "from run_experiment import generate_extension_results\n",
    "generate_extension_results('pgvector', { 'lists': 100 }, 'disk usage (bytes)')"
   ]
  },
  {
   "attachments": {},
   "cell_type": "markdown",
   "id": "da308620-dfb7-4e37-82e0-cc619fc12b48",
   "metadata": {},
   "source": [
    "# Plot data"
   ]
  },
  {
   "cell_type": "code",
   "execution_count": null,
   "id": "2c59883c-d7da-4228-b9e7-ebe751c9ef55",
   "metadata": {},
   "outputs": [],
   "source": [
    "from disk_usage_experiment import plot_results\n",
    "plot_results('sift')\n",
    "plot_results('gist')"
   ]
  }
 ],
 "metadata": {
  "kernelspec": {
   "display_name": "Python 3 (ipykernel)",
   "language": "python",
   "name": "python3"
  },
  "language_info": {
   "codemirror_mode": {
    "name": "ipython",
    "version": 3
   },
   "file_extension": ".py",
   "mimetype": "text/x-python",
   "name": "python",
   "nbconvert_exporter": "python",
   "pygments_lexer": "ipython3",
   "version": "3.11.2"
  }
 },
 "nbformat": 4,
 "nbformat_minor": 5
}
