{
 "cells": [
  {
   "cell_type": "code",
   "execution_count": 1,
   "id": "0f8bf1c1-2716-4202-9b7b-17a31401824d",
   "metadata": {
    "scrolled": true
   },
   "outputs": [
    {
     "name": "stdout",
     "output_type": "stream",
     "text": [
      "('none', 'sift')\n",
      "('none', 'gist')\n",
      "\n",
      "extension: none, dataset: sift, latency for bulk insert 1000 - 2000: 0.026711463928222656\n",
      "extension: none, dataset: sift, latency for bulk insert 2000 - 3000: 0.023940324783325195\n",
      "extension: none, dataset: sift, latency for bulk insert 3000 - 4000: 0.02348947525024414\n",
      "extension: none, dataset: sift, latency for bulk insert 4000 - 5000: 0.02367568016052246\n",
      "extension: none, dataset: sift, latency for bulk insert 5000 - 6000: 0.025422334671020508\n",
      "extension: none, dataset: sift, latency for bulk insert 6000 - 7000: 0.022922754287719727\n",
      "extension: none, dataset: sift, latency for bulk insert 7000 - 8000: 0.02181696891784668\n",
      "extension: none, dataset: sift, latency for bulk insert 8000 - 9000: 0.024544954299926758\n",
      "extension: none, dataset: sift, latency for bulk insert 9000 - 10000: 0.024450302124023438\n",
      "extension: none, dataset: sift, latency for bulk insert 10000 - 11000: 0.023330211639404297\n",
      "extension: none, dataset: sift, latency for bulk insert 11000 - 12000: 0.021312236785888672\n",
      "extension: none, dataset: sift, latency for bulk insert 12000 - 13000: 0.022001981735229492\n",
      "extension: none, dataset: sift, latency for bulk insert 13000 - 14000: 0.02302098274230957\n",
      "extension: none, dataset: sift, latency for bulk insert 14000 - 15000: 0.021040678024291992\n",
      "extension: none, dataset: sift, latency for bulk insert 15000 - 16000: 0.025185823440551758\n",
      "extension: none, dataset: sift, latency for bulk insert 16000 - 17000: 0.022962093353271484\n",
      "extension: none, dataset: sift, latency for bulk insert 17000 - 18000: 0.025930166244506836\n",
      "extension: none, dataset: sift, latency for bulk insert 18000 - 19000: 0.028075456619262695\n",
      "extension: none, dataset: sift, latency for bulk insert 19000 - 20000: 0.028502464294433594\n",
      "extension: none, dataset: sift, latency for bulk insert 20000 - 21000: 0.026275157928466797\n",
      "extension: none, dataset: sift, latency for bulk insert 21000 - 22000: 0.03087925910949707\n",
      "extension: none, dataset: sift, latency for bulk insert 22000 - 23000: 0.025559663772583008\n",
      "extension: none, dataset: sift, latency for bulk insert 23000 - 24000: 0.025669336318969727\n",
      "extension: none, dataset: sift, latency for bulk insert 24000 - 25000: 0.024874210357666016\n",
      "extension: none, dataset: sift, latency for bulk insert 25000 - 26000: 0.025315284729003906\n",
      "extension: none, dataset: sift, latency for bulk insert 26000 - 27000: 0.0267946720123291\n",
      "extension: none, dataset: sift, latency for bulk insert 27000 - 28000: 0.026527881622314453\n",
      "extension: none, dataset: sift, latency for bulk insert 28000 - 29000: 0.026113033294677734\n",
      "extension: none, dataset: sift, latency for bulk insert 29000 - 30000: 0.02239251136779785\n",
      "extension: none, dataset: sift, latency for bulk insert 30000 - 31000: 0.02446603775024414\n",
      "extension: none, dataset: sift, latency for bulk insert 31000 - 32000: 0.024187564849853516\n",
      "extension: none, dataset: sift, latency for bulk insert 32000 - 33000: 0.024341821670532227\n",
      "extension: none, dataset: sift, latency for bulk insert 33000 - 34000: 0.020433902740478516\n",
      "extension: none, dataset: sift, latency for bulk insert 34000 - 35000: 0.02266383171081543\n",
      "extension: none, dataset: sift, latency for bulk insert 35000 - 36000: 0.02074718475341797\n",
      "extension: none, dataset: sift, latency for bulk insert 36000 - 37000: 0.02060985565185547\n",
      "extension: none, dataset: sift, latency for bulk insert 37000 - 38000: 0.01944112777709961\n",
      "extension: none, dataset: sift, latency for bulk insert 38000 - 39000: 0.02012920379638672\n",
      "extension: none, dataset: sift, latency for bulk insert 39000 - 40000: 0.01968693733215332\n",
      "extension: none, dataset: gist, latency for bulk insert 1000 - 2000: 0.12877893447875977\n",
      "extension: none, dataset: gist, latency for bulk insert 2000 - 3000: 0.1259758472442627\n",
      "extension: none, dataset: gist, latency for bulk insert 3000 - 4000: 0.13576722145080566\n",
      "extension: none, dataset: gist, latency for bulk insert 4000 - 5000: 0.13521838188171387\n",
      "extension: none, dataset: gist, latency for bulk insert 5000 - 6000: 0.11387944221496582\n",
      "extension: none, dataset: gist, latency for bulk insert 6000 - 7000: 0.14167094230651855\n",
      "extension: none, dataset: gist, latency for bulk insert 7000 - 8000: 0.13812899589538574\n",
      "extension: none, dataset: gist, latency for bulk insert 8000 - 9000: 0.1430511474609375\n",
      "extension: none, dataset: gist, latency for bulk insert 9000 - 10000: 0.13673615455627441\n",
      "extension: none, dataset: gist, latency for bulk insert 10000 - 11000: 0.14307260513305664\n",
      "extension: none, dataset: gist, latency for bulk insert 11000 - 12000: 0.12302422523498535\n",
      "extension: none, dataset: gist, latency for bulk insert 12000 - 13000: 0.1287524700164795\n",
      "extension: none, dataset: gist, latency for bulk insert 13000 - 14000: 0.13077855110168457\n",
      "extension: none, dataset: gist, latency for bulk insert 14000 - 15000: 0.11439752578735352\n",
      "extension: none, dataset: gist, latency for bulk insert 15000 - 16000: 0.12464404106140137\n",
      "extension: none, dataset: gist, latency for bulk insert 16000 - 17000: 0.12376904487609863\n",
      "extension: none, dataset: gist, latency for bulk insert 17000 - 18000: 0.1414651870727539\n",
      "extension: none, dataset: gist, latency for bulk insert 18000 - 19000: 0.14151644706726074\n",
      "extension: none, dataset: gist, latency for bulk insert 19000 - 20000: 0.14406418800354004\n",
      "extension: none, dataset: gist, latency for bulk insert 20000 - 21000: 0.1403489112854004\n",
      "extension: none, dataset: gist, latency for bulk insert 21000 - 22000: 0.12592148780822754\n",
      "extension: none, dataset: gist, latency for bulk insert 22000 - 23000: 0.13519668579101562\n",
      "extension: none, dataset: gist, latency for bulk insert 23000 - 24000: 0.12645173072814941\n",
      "extension: none, dataset: gist, latency for bulk insert 24000 - 25000: 0.1129763126373291\n",
      "extension: none, dataset: gist, latency for bulk insert 25000 - 26000: 0.10295295715332031\n",
      "extension: none, dataset: gist, latency for bulk insert 26000 - 27000: 0.11329364776611328\n",
      "extension: none, dataset: gist, latency for bulk insert 27000 - 28000: 0.10457563400268555\n",
      "extension: none, dataset: gist, latency for bulk insert 28000 - 29000: 0.11586785316467285\n",
      "extension: none, dataset: gist, latency for bulk insert 29000 - 30000: 0.11856698989868164\n",
      "extension: none, dataset: gist, latency for bulk insert 30000 - 31000: 0.12192773818969727\n",
      "extension: none, dataset: gist, latency for bulk insert 31000 - 32000: 0.11477446556091309\n",
      "extension: none, dataset: gist, latency for bulk insert 32000 - 33000: 0.12150120735168457\n",
      "extension: none, dataset: gist, latency for bulk insert 33000 - 34000: 0.11640691757202148\n",
      "extension: none, dataset: gist, latency for bulk insert 34000 - 35000: 0.11458992958068848\n",
      "extension: none, dataset: gist, latency for bulk insert 35000 - 36000: 0.1139824390411377\n",
      "extension: none, dataset: gist, latency for bulk insert 36000 - 37000: 0.11713528633117676\n",
      "extension: none, dataset: gist, latency for bulk insert 37000 - 38000: 0.12312078475952148\n",
      "extension: none, dataset: gist, latency for bulk insert 38000 - 39000: 0.12286615371704102\n",
      "extension: none, dataset: gist, latency for bulk insert 39000 - 40000: 0.10986185073852539\n"
     ]
    }
   ],
   "source": [
    "from insert_bulk_experiment import generate_result\n",
    "generate_result('pgvector', 'sift', index_params={'lists': 10})"
   ]
  },
  {
   "cell_type": "code",
   "execution_count": null,
   "id": "06da600d-cc8c-4cc8-a1a5-64c9266d7b03",
   "metadata": {},
   "outputs": [],
   "source": [
    "from insert_bulk_experiment import print_results\n",
    "\n",
    "print_results('sift')"
   ]
  },
  {
   "cell_type": "code",
   "execution_count": null,
   "id": "646275b1-c361-444b-9544-50a630c95533",
   "metadata": {},
   "outputs": [],
   "source": [
    "from insert_bulk_experiment import plot_results\n",
    "\n",
    "plot_results('sift')"
   ]
  }
 ],
 "metadata": {
  "kernelspec": {
   "display_name": "Python 3 (ipykernel)",
   "language": "python",
   "name": "python3"
  },
  "language_info": {
   "codemirror_mode": {
    "name": "ipython",
    "version": 3
   },
   "file_extension": ".py",
   "mimetype": "text/x-python",
   "name": "python",
   "nbconvert_exporter": "python",
   "pygments_lexer": "ipython3",
   "version": "3.11.2"
  }
 },
 "nbformat": 4,
 "nbformat_minor": 5
}
