{
 "cells": [
  {
   "cell_type": "code",
   "execution_count": null,
   "id": "0f8bf1c1-2716-4202-9b7b-17a31401824d",
   "metadata": {},
   "outputs": [],
   "source": [
    "from run_experiment import generate_extension_results\n",
    "generate_extension_results('none', 'insert bulk (latency ms)')"
   ]
  },
  {
   "cell_type": "code",
   "execution_count": null,
   "id": "02e20ff4-f62c-46a3-9d43-118cdef27884",
   "metadata": {},
   "outputs": [],
   "source": [
    "from run_experiment import generate_extension_results\n",
    "generate_extension_results('pgvector', 'insert bulk (latency ms)')"
   ]
  },
  {
   "cell_type": "code",
   "execution_count": null,
   "id": "e1941d02-4a1b-4c17-bb5a-17f41d412efe",
   "metadata": {},
   "outputs": [],
   "source": [
    "from run_experiment import generate_extension_results\n",
    "generate_extension_results('lantern', 'insert bulk (latency ms)')"
   ]
  },
  {
   "cell_type": "code",
   "execution_count": null,
   "id": "06da600d-cc8c-4cc8-a1a5-64c9266d7b03",
   "metadata": {},
   "outputs": [],
   "source": [
    "from insert_bulk_experiment import print_results\n",
    "\n",
    "print_results('sift')\n",
    "print_results('gist')"
   ]
  },
  {
   "cell_type": "code",
   "execution_count": null,
   "id": "646275b1-c361-444b-9544-50a630c95533",
   "metadata": {},
   "outputs": [],
   "source": [
    "from insert_bulk_experiment import plot_results\n",
    "\n",
    "plot_results('sift')\n",
    "plot_results('gist')"
   ]
  }
 ],
 "metadata": {
  "kernelspec": {
   "display_name": "Python 3 (ipykernel)",
   "language": "python",
   "name": "python3"
  },
  "language_info": {
   "codemirror_mode": {
    "name": "ipython",
    "version": 3
   },
   "file_extension": ".py",
   "mimetype": "text/x-python",
   "name": "python",
   "nbconvert_exporter": "python",
   "pygments_lexer": "ipython3",
   "version": "3.11.2"
  }
 },
 "nbformat": 4,
 "nbformat_minor": 5
}
