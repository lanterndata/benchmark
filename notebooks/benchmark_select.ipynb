{
 "cells": [
  {
   "attachments": {},
   "cell_type": "markdown",
   "id": "d0e4cabf-0428-4b82-a9af-1425eeb11e8f",
   "metadata": {},
   "source": [
    "# Generate data"
   ]
  },
  {
   "cell_type": "code",
   "execution_count": 1,
   "id": "5f2c507b-3b5b-45a0-9a4b-ec9dd2b46f65",
   "metadata": {
    "scrolled": true
   },
   "outputs": [
    {
     "name": "stdout",
     "output_type": "stream",
     "text": [
      "('', '/bin/sh: 1: ldb-create_index: not found\\n')\n"
     ]
    },
    {
     "name": "stderr",
     "output_type": "stream",
     "text": [
      "ERROR:root:Error executing SQL: Invalid index file path \n",
      "\n",
      "ERROR:root:SQL query: \n",
      "        CREATE INDEX sift_base10k_index\n",
      "        ON sift_base10k\n",
      "        USING hnsw (v)\n",
      "        WITH (_experimental_index_path='/tmp/external-index.usearch');\n",
      "    \n"
     ]
    },
    {
     "ename": "InvalidParameterValue",
     "evalue": "Invalid index file path \n",
     "output_type": "error",
     "traceback": [
      "\u001b[0;31m---------------------------------------------------------------------------\u001b[0m",
      "\u001b[0;31mInvalidParameterValue\u001b[0m                     Traceback (most recent call last)",
      "Cell \u001b[0;32mIn[1], line 8\u001b[0m\n\u001b[1;32m      6\u001b[0m     \u001b[38;5;28;01mcontinue\u001b[39;00m\n\u001b[1;32m      7\u001b[0m \u001b[38;5;28;01mfor\u001b[39;00m index_params \u001b[38;5;129;01min\u001b[39;00m index_params_list[\u001b[38;5;241m1\u001b[39m:]:\n\u001b[0;32m----> 8\u001b[0m     \u001b[43mgenerate_result\u001b[49m\u001b[43m(\u001b[49m\u001b[43mextension\u001b[49m\u001b[43m,\u001b[49m\u001b[43m \u001b[49m\u001b[43mDataset\u001b[49m\u001b[38;5;241;43m.\u001b[39;49m\u001b[43mSIFT\u001b[49m\u001b[43m,\u001b[49m\u001b[43m \u001b[49m\u001b[43mN\u001b[49m\u001b[43m,\u001b[49m\u001b[43m \u001b[49m\u001b[43m[\u001b[49m\u001b[38;5;241;43m5\u001b[39;49m\u001b[43m]\u001b[49m\u001b[43m,\u001b[49m\u001b[43m \u001b[49m\u001b[43mindex_params\u001b[49m\u001b[38;5;241;43m=\u001b[39;49m\u001b[43mindex_params\u001b[49m\u001b[43m)\u001b[49m\n",
      "File \u001b[0;32m/workspaces/benchmark/core/benchmark_select.py:216\u001b[0m, in \u001b[0;36mgenerate_result\u001b[0;34m(extension, dataset, N, K_values, index_params, bulk, skip_index)\u001b[0m\n\u001b[1;32m    214\u001b[0m \u001b[38;5;28;01mif\u001b[39;00m \u001b[38;5;129;01mnot\u001b[39;00m skip_index:\n\u001b[1;32m    215\u001b[0m     delete_index(extension, dataset, N)\n\u001b[0;32m--> 216\u001b[0m     \u001b[43mcreate_index\u001b[49m\u001b[43m(\u001b[49m\u001b[43mextension\u001b[49m\u001b[43m,\u001b[49m\u001b[43m \u001b[49m\u001b[43mdataset\u001b[49m\u001b[43m,\u001b[49m\u001b[43m \u001b[49m\u001b[43mN\u001b[49m\u001b[43m,\u001b[49m\u001b[43m \u001b[49m\u001b[43mindex_params\u001b[49m\u001b[38;5;241;43m=\u001b[39;49m\u001b[43mindex_params\u001b[49m\u001b[43m)\u001b[49m\n\u001b[1;32m    218\u001b[0m \u001b[38;5;28mprint\u001b[39m(get_title(extension, index_params, dataset, N))\n\u001b[1;32m    219\u001b[0m print_labels(\u001b[38;5;124m'\u001b[39m\u001b[38;5;124mK\u001b[39m\u001b[38;5;124m'\u001b[39m, \u001b[38;5;124m'\u001b[39m\u001b[38;5;124mRecall\u001b[39m\u001b[38;5;124m'\u001b[39m, \u001b[38;5;124m'\u001b[39m\u001b[38;5;124mTPS\u001b[39m\u001b[38;5;124m'\u001b[39m, \u001b[38;5;124m'\u001b[39m\u001b[38;5;124mAvg Latency (ms)\u001b[39m\u001b[38;5;124m'\u001b[39m,\n\u001b[1;32m    220\u001b[0m              \u001b[38;5;124m'\u001b[39m\u001b[38;5;124mStddev Latency (ms)\u001b[39m\u001b[38;5;124m'\u001b[39m, \u001b[38;5;124m'\u001b[39m\u001b[38;5;124mBuffer Shared Hit\u001b[39m\u001b[38;5;124m'\u001b[39m, \u001b[38;5;124m'\u001b[39m\u001b[38;5;124mBuffer Read\u001b[39m\u001b[38;5;124m'\u001b[39m)\n",
      "File \u001b[0;32m/workspaces/benchmark/core/utils/create_index.py:96\u001b[0m, in \u001b[0;36mcreate_index\u001b[0;34m(extension, dataset, N, index_params)\u001b[0m\n\u001b[1;32m     94\u001b[0m \u001b[38;5;28;01mdef\u001b[39;00m \u001b[38;5;21mcreate_index\u001b[39m(extension, dataset, N, index_params\u001b[38;5;241m=\u001b[39m{}):\n\u001b[1;32m     95\u001b[0m     \u001b[38;5;28;01mif\u001b[39;00m \u001b[38;5;124m'\u001b[39m\u001b[38;5;124mexternal\u001b[39m\u001b[38;5;124m'\u001b[39m \u001b[38;5;129;01min\u001b[39;00m index_params:\n\u001b[0;32m---> 96\u001b[0m         \u001b[43mcreate_external_index\u001b[49m\u001b[43m(\u001b[49m\u001b[43mextension\u001b[49m\u001b[43m,\u001b[49m\u001b[43m \u001b[49m\u001b[43mdataset\u001b[49m\u001b[43m,\u001b[49m\u001b[43m \u001b[49m\u001b[43mN\u001b[49m\u001b[43m,\u001b[49m\u001b[43m \u001b[49m\u001b[43mindex_params\u001b[49m\u001b[43m)\u001b[49m\n\u001b[1;32m     97\u001b[0m         \u001b[38;5;28;01mreturn\u001b[39;00m\n\u001b[1;32m     98\u001b[0m     sql \u001b[38;5;241m=\u001b[39m get_create_index_query(extension, dataset, N, index_params)\n",
      "File \u001b[0;32m/workspaces/benchmark/core/utils/create_external_index.py:52\u001b[0m, in \u001b[0;36mcreate_external_index\u001b[0;34m(extension, dataset, N, index_params)\u001b[0m\n\u001b[1;32m     45\u001b[0m sql \u001b[38;5;241m=\u001b[39m \u001b[38;5;124mf\u001b[39m\u001b[38;5;124m\"\"\"\u001b[39m\n\u001b[1;32m     46\u001b[0m \u001b[38;5;124m    CREATE INDEX \u001b[39m\u001b[38;5;132;01m{\u001b[39;00mindex\u001b[38;5;132;01m}\u001b[39;00m\n\u001b[1;32m     47\u001b[0m \u001b[38;5;124m    ON \u001b[39m\u001b[38;5;132;01m{\u001b[39;00mtable\u001b[38;5;132;01m}\u001b[39;00m\n\u001b[1;32m     48\u001b[0m \u001b[38;5;124m    USING hnsw (v)\u001b[39m\n\u001b[1;32m     49\u001b[0m \u001b[38;5;124m    WITH (_experimental_index_path=\u001b[39m\u001b[38;5;124m'\u001b[39m\u001b[38;5;132;01m{\u001b[39;00mfile\u001b[38;5;132;01m}\u001b[39;00m\u001b[38;5;124m'\u001b[39m\u001b[38;5;124m);\u001b[39m\n\u001b[1;32m     50\u001b[0m \u001b[38;5;124m\u001b[39m\u001b[38;5;124m\"\"\"\u001b[39m\n\u001b[1;32m     51\u001b[0m \u001b[38;5;28;01mwith\u001b[39;00m DatabaseConnection(extension) \u001b[38;5;28;01mas\u001b[39;00m conn:\n\u001b[0;32m---> 52\u001b[0m     \u001b[43mconn\u001b[49m\u001b[38;5;241;43m.\u001b[39;49m\u001b[43mexecute\u001b[49m\u001b[43m(\u001b[49m\u001b[43msql\u001b[49m\u001b[43m)\u001b[49m\n\u001b[1;32m     53\u001b[0m \u001b[38;5;28;01mreturn\u001b[39;00m\n",
      "File \u001b[0;32m/workspaces/benchmark/core/utils/database.py:63\u001b[0m, in \u001b[0;36mDatabaseConnection.execute\u001b[0;34m(self, sql, data)\u001b[0m\n\u001b[1;32m     59\u001b[0m \u001b[38;5;28;01mdef\u001b[39;00m \u001b[38;5;21mexecute\u001b[39m(\u001b[38;5;28mself\u001b[39m, sql, data\u001b[38;5;241m=\u001b[39m\u001b[38;5;28;01mNone\u001b[39;00m):\n\u001b[1;32m     60\u001b[0m \u001b[38;5;250m    \u001b[39m\u001b[38;5;124;03m\"\"\"\u001b[39;00m\n\u001b[1;32m     61\u001b[0m \u001b[38;5;124;03m    Execute a query (INSERT, UPDATE, DELETE) and commit changes.\u001b[39;00m\n\u001b[1;32m     62\u001b[0m \u001b[38;5;124;03m    \"\"\"\u001b[39;00m\n\u001b[0;32m---> 63\u001b[0m     \u001b[38;5;28;43mself\u001b[39;49m\u001b[38;5;241;43m.\u001b[39;49m\u001b[43m_execute\u001b[49m\u001b[43m(\u001b[49m\u001b[43msql\u001b[49m\u001b[43m,\u001b[49m\u001b[43m \u001b[49m\u001b[43mdata\u001b[49m\u001b[43m)\u001b[49m\n\u001b[1;32m     64\u001b[0m     \u001b[38;5;28mself\u001b[39m\u001b[38;5;241m.\u001b[39mconn\u001b[38;5;241m.\u001b[39mcommit()\n",
      "File \u001b[0;32m/workspaces/benchmark/core/utils/database.py:72\u001b[0m, in \u001b[0;36mDatabaseConnection._execute\u001b[0;34m(self, sql, data)\u001b[0m\n\u001b[1;32m     70\u001b[0m \u001b[38;5;28;01mtry\u001b[39;00m:\n\u001b[1;32m     71\u001b[0m     \u001b[38;5;28;01mif\u001b[39;00m data \u001b[38;5;129;01mis\u001b[39;00m \u001b[38;5;28;01mNone\u001b[39;00m:\n\u001b[0;32m---> 72\u001b[0m         \u001b[38;5;28;43mself\u001b[39;49m\u001b[38;5;241;43m.\u001b[39;49m\u001b[43mcur\u001b[49m\u001b[38;5;241;43m.\u001b[39;49m\u001b[43mexecute\u001b[49m\u001b[43m(\u001b[49m\u001b[43msql\u001b[49m\u001b[43m)\u001b[49m\n\u001b[1;32m     73\u001b[0m     \u001b[38;5;28;01melse\u001b[39;00m:\n\u001b[1;32m     74\u001b[0m         \u001b[38;5;28mself\u001b[39m\u001b[38;5;241m.\u001b[39mcur\u001b[38;5;241m.\u001b[39mexecute(sql, data)\n",
      "\u001b[0;31mInvalidParameterValue\u001b[0m: Invalid index file path \n"
     ]
    }
   ],
   "source": [
    "from core.utils.constants import Dataset, Extension, SUGGESTED_INDEX_PARAMS\n",
    "from core.benchmark_select import generate_result\n",
    "for N in ['10k', '100k', '200k']:\n",
    "    for extension, index_params_list in SUGGESTED_INDEX_PARAMS.items():\n",
    "        if extension != Extension.LANTERN:\n",
    "            continue\n",
    "        for index_params in index_params_list[1:]:\n",
    "            generate_result(extension, Dataset.SIFT, N, [5], index_params=index_params)"
   ]
  },
  {
   "cell_type": "markdown",
   "id": "8e863bb2-5a7c-4390-9d09-8afb9d69c43e",
   "metadata": {},
   "source": [
    "# Plot data"
   ]
  },
  {
   "cell_type": "code",
   "execution_count": null,
   "id": "17a3bd1b-09b6-4691-a41e-091f3c9fbe14",
   "metadata": {},
   "outputs": [],
   "source": [
    "from core.utils.constants import ExperimentParam, Dataset, Metric, DEFAULT_INDEX_PARAMS\n",
    "from notebooks.plot_select_benchmarks import generate_plot\n",
    "generate_plot(DEFAULT_INDEX_PARAMS, Dataset.SIFT, ExperimentParam.N, '10k', ExperimentParam.K, Metric.SELECT_LATENCY, Metric.SELECT_LATENCY_STDDEV)"
   ]
  },
  {
   "cell_type": "code",
   "execution_count": null,
   "id": "4d46565e-b587-48e7-9588-9bd301758d5f",
   "metadata": {},
   "outputs": [],
   "source": [
    "from core.utils.constants import ExperimentParam, Dataset, Metric, DEFAULT_INDEX_PARAMS\n",
    "from notebooks.plot_select_benchmarks import generate_plot\n",
    "generate_plot(DEFAULT_INDEX_PARAMS, Dataset.SIFT, ExperimentParam.N, '10k', ExperimentParam.K, Metric.SELECT_TPS)"
   ]
  },
  {
   "cell_type": "code",
   "execution_count": null,
   "id": "89a2b276-2aad-4776-992d-b9704a96ee4b",
   "metadata": {},
   "outputs": [],
   "source": [
    "from core.utils.constants import ExperimentParam, Dataset, Metric, DEFAULT_INDEX_PARAMS\n",
    "from notebooks.plot_select_benchmarks import generate_plot\n",
    "generate_plot(DEFAULT_INDEX_PARAMS, Dataset.SIFT, ExperimentParam.K, 5, ExperimentParam.N, Metric.SELECT_LATENCY, Metric.SELECT_LATENCY_STDDEV)"
   ]
  }
 ],
 "metadata": {
  "kernelspec": {
   "display_name": "Python 3 (ipykernel)",
   "language": "python",
   "name": "python3"
  },
  "language_info": {
   "codemirror_mode": {
    "name": "ipython",
    "version": 3
   },
   "file_extension": ".py",
   "mimetype": "text/x-python",
   "name": "python",
   "nbconvert_exporter": "python",
   "pygments_lexer": "ipython3",
   "version": "3.11.2"
  }
 },
 "nbformat": 4,
 "nbformat_minor": 5
}
