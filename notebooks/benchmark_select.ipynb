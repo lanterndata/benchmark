{
 "cells": [
  {
   "attachments": {},
   "cell_type": "markdown",
   "id": "d0e4cabf-0428-4b82-a9af-1425eeb11e8f",
   "metadata": {},
   "source": [
    "# Generate data"
   ]
  },
  {
   "cell_type": "code",
   "execution_count": 1,
   "id": "25e00645-8bb9-4e8e-bac8-b85a5e817a32",
   "metadata": {
    "scrolled": true
   },
   "outputs": [
    {
     "name": "stdout",
     "output_type": "stream",
     "text": [
      "extension: pgvector_ivfflat, index params: {'lists': 100, 'probes': 16}, dataset: sift, N: 10k\n",
      "K                  Recall             TPS                Avg Latency (ms)   Stddev Latency (ms)Buffer Shared Hit  Buffer Read        \n",
      "-------------------------------------------------------------------------------------------------------------------------------------\n",
      "1                  0.59               3650.08            1.54               3.76               21.89              0.00               \n",
      "3                  0.55               3476.65            1.58               3.23               25.89              0.00               \n",
      "5                  0.56               4410.63            1.22               2.03               29.89              0.00               \n",
      "10                 0.53               4202.71            1.19               2.75               39.89              0.00               \n",
      "20                 0.49               3910.83            1.41               2.73               59.78              0.00               \n",
      "40                 0.44               3559.67            1.68               2.55               99.78              0.00               \n",
      "80                 0.38               3530.03            1.63               2.53               176.67             0.00               \n",
      "\n",
      "extension: pgvector_hnsw, index params: {'m': 4, 'ef_construction': 128, 'ef': 10}, dataset: sift, N: 10k\n",
      "K                  Recall             TPS                Avg Latency (ms)   Stddev Latency (ms)Buffer Shared Hit  Buffer Read        \n",
      "-------------------------------------------------------------------------------------------------------------------------------------\n",
      "1                  0.99               2796.29            2.06               3.00               308.33             0.00               \n",
      "3                  0.98               2956.32            1.88               3.31               312.33             0.00               \n",
      "5                  0.98               2785.45            1.97               3.05               316.33             0.00               \n",
      "10                 0.97               2538.07            2.33               3.00               326.33             0.00               \n",
      "20                 0.95               2471.68            2.23               3.46               346.33             0.00               \n",
      "40                 0.90               2296.43            2.39               3.32               386.22             0.00               \n",
      "80                 0.50               2490.97            2.40               3.42               386.22             0.00               \n",
      "\n",
      "extension: lantern, index params: {'m': 4, 'ef_construction': 128, 'ef': 10}, dataset: sift, N: 10k\n",
      "K                  Recall             TPS                Avg Latency (ms)   Stddev Latency (ms)Buffer Shared Hit  Buffer Read        \n",
      "-------------------------------------------------------------------------------------------------------------------------------------\n",
      "1                  0.97               2724.18            2.25               4.07               727.11             0.00               \n",
      "3                  0.98               3738.08            1.59               2.97               729.11             0.00               \n",
      "5                  0.97               3307.06            1.66               3.73               731.11             0.00               \n",
      "10                 0.97               3494.57            1.63               3.13               736.00             0.00               \n",
      "20                 0.95               2490.97            2.38               4.73               1170.89            0.00               \n",
      "40                 0.92               3215.35            1.68               3.03               1635.67            0.00               \n",
      "80                 0.89               3769.20            1.65               2.98               2280.89            0.00               \n",
      "\n",
      "extension: neon, index params: {'m': 4, 'ef_construction': 128, 'ef': 10}, dataset: sift, N: 10k\n",
      "K                  Recall             TPS                Avg Latency (ms)   Stddev Latency (ms)Buffer Shared Hit  Buffer Read        \n",
      "-------------------------------------------------------------------------------------------------------------------------------------\n",
      "1                  0.74               4527.11            1.36               3.91               177.44             0.00               \n",
      "3                  0.69               5844.82            0.98               1.86               179.33             0.00               \n",
      "5                  0.67               5257.62            0.95               2.11               181.33             0.00               \n",
      "10                 0.65               4447.41            1.26               2.54               186.33             0.00               \n",
      "20                 0.40               5363.85            0.84               2.49               186.33             0.00               \n",
      "40                 0.22               3601.01            1.42               3.51               186.33             0.00               \n",
      "80                 0.11               5450.83            0.91               1.89               186.33             0.00               \n",
      "\n",
      "extension: none, index params: {}, dataset: sift, N: 10k\n",
      "K                  Recall             TPS                Avg Latency (ms)   Stddev Latency (ms)Buffer Shared Hit  Buffer Read        \n",
      "-------------------------------------------------------------------------------------------------------------------------------------\n",
      "1                  0.00               462.42             15.47              14.66              720.00             0.00               \n",
      "3                  0.00               549.90             13.43              5.65               720.00             0.00               \n",
      "5                  0.00               551.88             12.45              6.66               720.00             0.00               \n",
      "10                 0.00               533.77             12.79              6.95               720.00             0.00               \n",
      "20                 0.00               521.95             12.88              6.67               720.00             0.00               \n",
      "40                 0.00               507.68             13.97              7.37               720.00             0.00               \n",
      "80                 0.01               456.51             15.90              7.06               720.00             0.00               \n",
      "\n"
     ]
    }
   ],
   "source": [
    "from core.utils.constants import SUGGESTED_K_VALUES, Dataset, Extension, DEFAULT_INDEX_PARAMS\n",
    "from core.benchmark_select import generate_result\n",
    "for extension, index_params in DEFAULT_INDEX_PARAMS.items():\n",
    "    generate_result(extension, Dataset.SIFT, '10k', SUGGESTED_K_VALUES, index_params=index_params)"
   ]
  },
  {
   "cell_type": "code",
   "execution_count": 2,
   "id": "5f2c507b-3b5b-45a0-9a4b-ec9dd2b46f65",
   "metadata": {
    "scrolled": true
   },
   "outputs": [
    {
     "name": "stdout",
     "output_type": "stream",
     "text": [
      "extension: pgvector_ivfflat, index params: {'lists': 100, 'probes': 16}, dataset: sift, N: 100k\n",
      "K                  Recall             TPS                Avg Latency (ms)   Stddev Latency (ms)Buffer Shared Hit  Buffer Read        \n",
      "-------------------------------------------------------------------------------------------------------------------------------------\n",
      "5                  0.60               695.53             10.24              7.10               83.11              0.00               \n",
      "\n",
      "extension: pgvector_hnsw, index params: {'m': 4, 'ef_construction': 128, 'ef': 10}, dataset: sift, N: 100k\n",
      "K                  Recall             TPS                Avg Latency (ms)   Stddev Latency (ms)Buffer Shared Hit  Buffer Read        \n",
      "-------------------------------------------------------------------------------------------------------------------------------------\n",
      "5                  0.89               1960.18            2.84               4.49               383.22             0.00               \n",
      "\n",
      "extension: lantern, index params: {'m': 4, 'ef_construction': 128, 'ef': 10}, dataset: sift, N: 100k\n",
      "K                  Recall             TPS                Avg Latency (ms)   Stddev Latency (ms)Buffer Shared Hit  Buffer Read        \n",
      "-------------------------------------------------------------------------------------------------------------------------------------\n",
      "5                  0.88               2068.11            2.87               4.74               849.67             0.00               \n",
      "\n",
      "extension: neon, index params: {'m': 4, 'ef_construction': 128, 'ef': 10}, dataset: sift, N: 100k\n",
      "K                  Recall             TPS                Avg Latency (ms)   Stddev Latency (ms)Buffer Shared Hit  Buffer Read        \n",
      "-------------------------------------------------------------------------------------------------------------------------------------\n",
      "5                  0.46               3439.18            1.59               3.29               179.56             0.00               \n",
      "\n",
      "extension: none, index params: {}, dataset: sift, N: 100k\n",
      "K                  Recall             TPS                Avg Latency (ms)   Stddev Latency (ms)Buffer Shared Hit  Buffer Read        \n",
      "-------------------------------------------------------------------------------------------------------------------------------------\n",
      "5                  0.00               37.58              200.44             99.84              7159.00            0.00               \n",
      "\n",
      "extension: pgvector_ivfflat, index params: {'lists': 100, 'probes': 16}, dataset: sift, N: 200k\n",
      "K                  Recall             TPS                Avg Latency (ms)   Stddev Latency (ms)Buffer Shared Hit  Buffer Read        \n",
      "-------------------------------------------------------------------------------------------------------------------------------------\n",
      "5                  0.57               385.66             19.25              7.43               115.33             0.00               \n",
      "\n",
      "extension: pgvector_hnsw, index params: {'m': 4, 'ef_construction': 128, 'ef': 10}, dataset: sift, N: 200k\n",
      "K                  Recall             TPS                Avg Latency (ms)   Stddev Latency (ms)Buffer Shared Hit  Buffer Read        \n",
      "-------------------------------------------------------------------------------------------------------------------------------------\n",
      "5                  0.87               1958.42            3.51               6.67               361.44             6.44               \n",
      "\n",
      "extension: lantern, index params: {'m': 4, 'ef_construction': 128, 'ef': 10}, dataset: sift, N: 200k\n",
      "K                  Recall             TPS                Avg Latency (ms)   Stddev Latency (ms)Buffer Shared Hit  Buffer Read        \n",
      "-------------------------------------------------------------------------------------------------------------------------------------\n",
      "5                  0.86               2681.26            2.51               4.84               952.33             0.00               \n",
      "\n",
      "extension: neon, index params: {'m': 4, 'ef_construction': 128, 'ef': 10}, dataset: sift, N: 200k\n",
      "K                  Recall             TPS                Avg Latency (ms)   Stddev Latency (ms)Buffer Shared Hit  Buffer Read        \n",
      "-------------------------------------------------------------------------------------------------------------------------------------\n",
      "5                  0.39               2454.04            2.80               7.76               148.33             0.00               \n",
      "\n",
      "extension: none, index params: {}, dataset: sift, N: 200k\n",
      "K                  Recall             TPS                Avg Latency (ms)   Stddev Latency (ms)Buffer Shared Hit  Buffer Read        \n",
      "-------------------------------------------------------------------------------------------------------------------------------------\n",
      "5                  0.00               18.92              375.41             217.29             9713.00            4589.00            \n",
      "\n",
      "extension: pgvector_ivfflat, index params: {'lists': 100, 'probes': 16}, dataset: sift, N: 400k\n",
      "K                  Recall             TPS                Avg Latency (ms)   Stddev Latency (ms)Buffer Shared Hit  Buffer Read        \n",
      "-------------------------------------------------------------------------------------------------------------------------------------\n",
      "5                  0.00               5540.68            0.98               3.00               17.00              0.00               \n",
      "\n",
      "extension: pgvector_hnsw, index params: {'m': 4, 'ef_construction': 128, 'ef': 10}, dataset: sift, N: 400k\n",
      "K                  Recall             TPS                Avg Latency (ms)   Stddev Latency (ms)Buffer Shared Hit  Buffer Read        \n",
      "-------------------------------------------------------------------------------------------------------------------------------------\n",
      "5                  0.00               5714.29            0.94               2.17               7.00               0.00               \n",
      "\n",
      "extension: lantern, index params: {'m': 4, 'ef_construction': 128, 'ef': 10}, dataset: sift, N: 400k\n",
      "K                  Recall             TPS                Avg Latency (ms)   Stddev Latency (ms)Buffer Shared Hit  Buffer Read        \n",
      "-------------------------------------------------------------------------------------------------------------------------------------\n",
      "5                  0.79               1705.47            3.34               5.28               799.22             127.33             \n",
      "\n",
      "extension: neon, index params: {'m': 4, 'ef_construction': 128, 'ef': 10}, dataset: sift, N: 400k\n",
      "K                  Recall             TPS                Avg Latency (ms)   Stddev Latency (ms)Buffer Shared Hit  Buffer Read        \n",
      "-------------------------------------------------------------------------------------------------------------------------------------\n",
      "5                  0.40               2868.00            2.15               4.83               229.11             0.00               \n",
      "\n",
      "extension: none, index params: {}, dataset: sift, N: 400k\n",
      "K                  Recall             TPS                Avg Latency (ms)   Stddev Latency (ms)Buffer Shared Hit  Buffer Read        \n",
      "-------------------------------------------------------------------------------------------------------------------------------------\n",
      "5                  0.00               9.51               740.99             427.73             10005.00           18583.00           \n",
      "\n"
     ]
    }
   ],
   "source": [
    "from core.utils.constants import SUGGESTED_K_VALUES, Dataset, Extension, DEFAULT_INDEX_PARAMS\n",
    "from core.benchmark_select import generate_result\n",
    "for N in ['100k', '200k', '400k']:\n",
    "    for extension, index_params in DEFAULT_INDEX_PARAMS.items():\n",
    "        generate_result(extension, Dataset.SIFT, N, [5], index_params=index_params)"
   ]
  },
  {
   "cell_type": "markdown",
   "id": "8e863bb2-5a7c-4390-9d09-8afb9d69c43e",
   "metadata": {},
   "source": [
    "# Plot data"
   ]
  },
  {
   "cell_type": "code",
   "execution_count": 7,
   "id": "17a3bd1b-09b6-4691-a41e-091f3c9fbe14",
   "metadata": {},
   "outputs": [
    {
     "data": {
      "application/vnd.plotly.v1+json": {
       "config": {
        "plotlyServerURL": "https://plot.ly"
       },
       "data": [
        {
         "legendgroup": "PGVECTOR_IVFFLAT",
         "legendgrouptitle": {
          "text": "PGVECTOR_IVFFLAT"
         },
         "marker": {
          "color": "rgb(255,204,153)"
         },
         "mode": "lines+markers",
         "name": "PGVECTOR_IVFFLAT - {'lists': 100, 'probes': 16}",
         "type": "scatter",
         "x": [
          1,
          3,
          5,
          10,
          20,
          40,
          80
         ],
         "y": [
          1.538,
          1.582,
          1.217,
          1.19,
          1.411,
          1.684,
          1.627
         ]
        },
        {
         "fill": "toself",
         "fillcolor": "rgba(255,204,153,0.3)",
         "legendgroup": "PGVECTOR_IVFFLAT",
         "line": {
          "color": "rgba(255,255,255,0)"
         },
         "showlegend": false,
         "type": "scatter",
         "x": [
          1,
          3,
          5,
          10,
          20,
          40,
          80,
          80,
          40,
          20,
          10,
          5,
          3,
          1
         ],
         "y": [
          5.298,
          4.815,
          3.246,
          3.945,
          4.141,
          4.232,
          4.153,
          -0.8989999999999998,
          -0.8640000000000001,
          -1.319,
          -1.565,
          -0.8119999999999998,
          -1.651,
          -2.2219999999999995
         ]
        },
        {
         "legendgroup": "PGVECTOR_HNSW",
         "legendgrouptitle": {
          "text": "PGVECTOR_HNSW"
         },
         "marker": {
          "color": "rgb(153,153,255)"
         },
         "mode": "lines+markers",
         "name": "PGVECTOR_HNSW - {'m': 4, 'ef_construction': 128, 'ef': 10}",
         "type": "scatter",
         "x": [
          1,
          3,
          5,
          10,
          20,
          40,
          80
         ],
         "y": [
          2.057,
          1.883,
          1.971,
          2.325,
          2.231,
          2.388,
          2.398
         ]
        },
        {
         "fill": "toself",
         "fillcolor": "rgba(153,153,255,0.3)",
         "legendgroup": "PGVECTOR_HNSW",
         "line": {
          "color": "rgba(255,255,255,0)"
         },
         "showlegend": false,
         "type": "scatter",
         "x": [
          1,
          3,
          5,
          10,
          20,
          40,
          80,
          80,
          40,
          20,
          10,
          5,
          3,
          1
         ],
         "y": [
          5.061,
          5.197,
          5.019,
          5.323,
          5.691,
          5.7059999999999995,
          5.816000000000001,
          -1.02,
          -0.9300000000000002,
          -1.229,
          -0.673,
          -1.077,
          -1.431,
          -0.9470000000000001
         ]
        },
        {
         "legendgroup": "LANTERN",
         "legendgrouptitle": {
          "text": "LANTERN"
         },
         "marker": {
          "color": "rgb(153,255,153)"
         },
         "mode": "lines+markers",
         "name": "LANTERN - {'m': 4, 'ef_construction': 128, 'ef': 10}",
         "type": "scatter",
         "x": [
          1,
          3,
          5,
          10,
          20,
          40,
          80
         ],
         "y": [
          2.254,
          1.588,
          1.657,
          1.627,
          2.381,
          1.681,
          1.645
         ]
        },
        {
         "fill": "toself",
         "fillcolor": "rgba(153,255,153,0.3)",
         "legendgroup": "LANTERN",
         "line": {
          "color": "rgba(255,255,255,0)"
         },
         "showlegend": false,
         "type": "scatter",
         "x": [
          1,
          3,
          5,
          10,
          20,
          40,
          80,
          80,
          40,
          20,
          10,
          5,
          3,
          1
         ],
         "y": [
          6.327,
          4.556,
          5.389,
          4.762,
          7.1129999999999995,
          4.708,
          4.628,
          -1.338,
          -1.346,
          -2.3510000000000004,
          -1.5079999999999998,
          -2.075,
          -1.38,
          -1.8190000000000004
         ]
        },
        {
         "legendgroup": "NEON",
         "legendgrouptitle": {
          "text": "NEON"
         },
         "marker": {
          "color": "rgb(204,153,255)"
         },
         "mode": "lines+markers",
         "name": "NEON - {'m': 4, 'ef_construction': 128, 'ef': 10}",
         "type": "scatter",
         "x": [
          1,
          3,
          5,
          10,
          20,
          40,
          80
         ],
         "y": [
          1.365,
          0.977,
          0.951,
          1.256,
          0.843,
          1.417,
          0.906
         ]
        },
        {
         "fill": "toself",
         "fillcolor": "rgba(204,153,255,0.3)",
         "legendgroup": "NEON",
         "line": {
          "color": "rgba(255,255,255,0)"
         },
         "showlegend": false,
         "type": "scatter",
         "x": [
          1,
          3,
          5,
          10,
          20,
          40,
          80,
          80,
          40,
          20,
          10,
          5,
          3,
          1
         ],
         "y": [
          5.274,
          2.834,
          3.057,
          3.7910000000000004,
          3.334,
          4.924,
          2.8,
          -0.9879999999999999,
          -2.09,
          -1.6480000000000001,
          -1.2790000000000001,
          -1.1549999999999998,
          -0.88,
          -2.5439999999999996
         ]
        },
        {
         "legendgroup": "NONE",
         "legendgrouptitle": {
          "text": "NONE"
         },
         "marker": {
          "color": "rgb(255,153,153)"
         },
         "mode": "lines+markers",
         "name": "NONE - {}",
         "type": "scatter",
         "x": [
          1,
          3,
          5,
          10,
          20,
          40,
          80
         ],
         "y": [
          31.37,
          14.809,
          14.605,
          15.266,
          14.463,
          16.552,
          17.058
         ]
        },
        {
         "fill": "toself",
         "fillcolor": "rgba(255,153,153,0.3)",
         "legendgroup": "NONE",
         "line": {
          "color": "rgba(255,255,255,0)"
         },
         "showlegend": false,
         "type": "scatter",
         "x": [
          1,
          3,
          5,
          10,
          20,
          40,
          80,
          80,
          40,
          20,
          10,
          5,
          3,
          1
         ],
         "y": [
          77.086,
          23.6,
          22.358,
          22.197,
          25.218,
          22.25,
          25,
          9.116,
          10.854,
          3.7079999999999984,
          8.335,
          6.852,
          6.017999999999999,
          -14.346
         ]
        }
       ],
       "layout": {
        "autosize": true,
        "template": {
         "data": {
          "bar": [
           {
            "error_x": {
             "color": "#2a3f5f"
            },
            "error_y": {
             "color": "#2a3f5f"
            },
            "marker": {
             "line": {
              "color": "#E5ECF6",
              "width": 0.5
             },
             "pattern": {
              "fillmode": "overlay",
              "size": 10,
              "solidity": 0.2
             }
            },
            "type": "bar"
           }
          ],
          "barpolar": [
           {
            "marker": {
             "line": {
              "color": "#E5ECF6",
              "width": 0.5
             },
             "pattern": {
              "fillmode": "overlay",
              "size": 10,
              "solidity": 0.2
             }
            },
            "type": "barpolar"
           }
          ],
          "carpet": [
           {
            "aaxis": {
             "endlinecolor": "#2a3f5f",
             "gridcolor": "white",
             "linecolor": "white",
             "minorgridcolor": "white",
             "startlinecolor": "#2a3f5f"
            },
            "baxis": {
             "endlinecolor": "#2a3f5f",
             "gridcolor": "white",
             "linecolor": "white",
             "minorgridcolor": "white",
             "startlinecolor": "#2a3f5f"
            },
            "type": "carpet"
           }
          ],
          "choropleth": [
           {
            "colorbar": {
             "outlinewidth": 0,
             "ticks": ""
            },
            "type": "choropleth"
           }
          ],
          "contour": [
           {
            "colorbar": {
             "outlinewidth": 0,
             "ticks": ""
            },
            "colorscale": [
             [
              0,
              "#0d0887"
             ],
             [
              0.1111111111111111,
              "#46039f"
             ],
             [
              0.2222222222222222,
              "#7201a8"
             ],
             [
              0.3333333333333333,
              "#9c179e"
             ],
             [
              0.4444444444444444,
              "#bd3786"
             ],
             [
              0.5555555555555556,
              "#d8576b"
             ],
             [
              0.6666666666666666,
              "#ed7953"
             ],
             [
              0.7777777777777778,
              "#fb9f3a"
             ],
             [
              0.8888888888888888,
              "#fdca26"
             ],
             [
              1,
              "#f0f921"
             ]
            ],
            "type": "contour"
           }
          ],
          "contourcarpet": [
           {
            "colorbar": {
             "outlinewidth": 0,
             "ticks": ""
            },
            "type": "contourcarpet"
           }
          ],
          "heatmap": [
           {
            "colorbar": {
             "outlinewidth": 0,
             "ticks": ""
            },
            "colorscale": [
             [
              0,
              "#0d0887"
             ],
             [
              0.1111111111111111,
              "#46039f"
             ],
             [
              0.2222222222222222,
              "#7201a8"
             ],
             [
              0.3333333333333333,
              "#9c179e"
             ],
             [
              0.4444444444444444,
              "#bd3786"
             ],
             [
              0.5555555555555556,
              "#d8576b"
             ],
             [
              0.6666666666666666,
              "#ed7953"
             ],
             [
              0.7777777777777778,
              "#fb9f3a"
             ],
             [
              0.8888888888888888,
              "#fdca26"
             ],
             [
              1,
              "#f0f921"
             ]
            ],
            "type": "heatmap"
           }
          ],
          "heatmapgl": [
           {
            "colorbar": {
             "outlinewidth": 0,
             "ticks": ""
            },
            "colorscale": [
             [
              0,
              "#0d0887"
             ],
             [
              0.1111111111111111,
              "#46039f"
             ],
             [
              0.2222222222222222,
              "#7201a8"
             ],
             [
              0.3333333333333333,
              "#9c179e"
             ],
             [
              0.4444444444444444,
              "#bd3786"
             ],
             [
              0.5555555555555556,
              "#d8576b"
             ],
             [
              0.6666666666666666,
              "#ed7953"
             ],
             [
              0.7777777777777778,
              "#fb9f3a"
             ],
             [
              0.8888888888888888,
              "#fdca26"
             ],
             [
              1,
              "#f0f921"
             ]
            ],
            "type": "heatmapgl"
           }
          ],
          "histogram": [
           {
            "marker": {
             "pattern": {
              "fillmode": "overlay",
              "size": 10,
              "solidity": 0.2
             }
            },
            "type": "histogram"
           }
          ],
          "histogram2d": [
           {
            "colorbar": {
             "outlinewidth": 0,
             "ticks": ""
            },
            "colorscale": [
             [
              0,
              "#0d0887"
             ],
             [
              0.1111111111111111,
              "#46039f"
             ],
             [
              0.2222222222222222,
              "#7201a8"
             ],
             [
              0.3333333333333333,
              "#9c179e"
             ],
             [
              0.4444444444444444,
              "#bd3786"
             ],
             [
              0.5555555555555556,
              "#d8576b"
             ],
             [
              0.6666666666666666,
              "#ed7953"
             ],
             [
              0.7777777777777778,
              "#fb9f3a"
             ],
             [
              0.8888888888888888,
              "#fdca26"
             ],
             [
              1,
              "#f0f921"
             ]
            ],
            "type": "histogram2d"
           }
          ],
          "histogram2dcontour": [
           {
            "colorbar": {
             "outlinewidth": 0,
             "ticks": ""
            },
            "colorscale": [
             [
              0,
              "#0d0887"
             ],
             [
              0.1111111111111111,
              "#46039f"
             ],
             [
              0.2222222222222222,
              "#7201a8"
             ],
             [
              0.3333333333333333,
              "#9c179e"
             ],
             [
              0.4444444444444444,
              "#bd3786"
             ],
             [
              0.5555555555555556,
              "#d8576b"
             ],
             [
              0.6666666666666666,
              "#ed7953"
             ],
             [
              0.7777777777777778,
              "#fb9f3a"
             ],
             [
              0.8888888888888888,
              "#fdca26"
             ],
             [
              1,
              "#f0f921"
             ]
            ],
            "type": "histogram2dcontour"
           }
          ],
          "mesh3d": [
           {
            "colorbar": {
             "outlinewidth": 0,
             "ticks": ""
            },
            "type": "mesh3d"
           }
          ],
          "parcoords": [
           {
            "line": {
             "colorbar": {
              "outlinewidth": 0,
              "ticks": ""
             }
            },
            "type": "parcoords"
           }
          ],
          "pie": [
           {
            "automargin": true,
            "type": "pie"
           }
          ],
          "scatter": [
           {
            "fillpattern": {
             "fillmode": "overlay",
             "size": 10,
             "solidity": 0.2
            },
            "type": "scatter"
           }
          ],
          "scatter3d": [
           {
            "line": {
             "colorbar": {
              "outlinewidth": 0,
              "ticks": ""
             }
            },
            "marker": {
             "colorbar": {
              "outlinewidth": 0,
              "ticks": ""
             }
            },
            "type": "scatter3d"
           }
          ],
          "scattercarpet": [
           {
            "marker": {
             "colorbar": {
              "outlinewidth": 0,
              "ticks": ""
             }
            },
            "type": "scattercarpet"
           }
          ],
          "scattergeo": [
           {
            "marker": {
             "colorbar": {
              "outlinewidth": 0,
              "ticks": ""
             }
            },
            "type": "scattergeo"
           }
          ],
          "scattergl": [
           {
            "marker": {
             "colorbar": {
              "outlinewidth": 0,
              "ticks": ""
             }
            },
            "type": "scattergl"
           }
          ],
          "scattermapbox": [
           {
            "marker": {
             "colorbar": {
              "outlinewidth": 0,
              "ticks": ""
             }
            },
            "type": "scattermapbox"
           }
          ],
          "scatterpolar": [
           {
            "marker": {
             "colorbar": {
              "outlinewidth": 0,
              "ticks": ""
             }
            },
            "type": "scatterpolar"
           }
          ],
          "scatterpolargl": [
           {
            "marker": {
             "colorbar": {
              "outlinewidth": 0,
              "ticks": ""
             }
            },
            "type": "scatterpolargl"
           }
          ],
          "scatterternary": [
           {
            "marker": {
             "colorbar": {
              "outlinewidth": 0,
              "ticks": ""
             }
            },
            "type": "scatterternary"
           }
          ],
          "surface": [
           {
            "colorbar": {
             "outlinewidth": 0,
             "ticks": ""
            },
            "colorscale": [
             [
              0,
              "#0d0887"
             ],
             [
              0.1111111111111111,
              "#46039f"
             ],
             [
              0.2222222222222222,
              "#7201a8"
             ],
             [
              0.3333333333333333,
              "#9c179e"
             ],
             [
              0.4444444444444444,
              "#bd3786"
             ],
             [
              0.5555555555555556,
              "#d8576b"
             ],
             [
              0.6666666666666666,
              "#ed7953"
             ],
             [
              0.7777777777777778,
              "#fb9f3a"
             ],
             [
              0.8888888888888888,
              "#fdca26"
             ],
             [
              1,
              "#f0f921"
             ]
            ],
            "type": "surface"
           }
          ],
          "table": [
           {
            "cells": {
             "fill": {
              "color": "#EBF0F8"
             },
             "line": {
              "color": "white"
             }
            },
            "header": {
             "fill": {
              "color": "#C8D4E3"
             },
             "line": {
              "color": "white"
             }
            },
            "type": "table"
           }
          ]
         },
         "layout": {
          "annotationdefaults": {
           "arrowcolor": "#2a3f5f",
           "arrowhead": 0,
           "arrowwidth": 1
          },
          "autotypenumbers": "strict",
          "coloraxis": {
           "colorbar": {
            "outlinewidth": 0,
            "ticks": ""
           }
          },
          "colorscale": {
           "diverging": [
            [
             0,
             "#8e0152"
            ],
            [
             0.1,
             "#c51b7d"
            ],
            [
             0.2,
             "#de77ae"
            ],
            [
             0.3,
             "#f1b6da"
            ],
            [
             0.4,
             "#fde0ef"
            ],
            [
             0.5,
             "#f7f7f7"
            ],
            [
             0.6,
             "#e6f5d0"
            ],
            [
             0.7,
             "#b8e186"
            ],
            [
             0.8,
             "#7fbc41"
            ],
            [
             0.9,
             "#4d9221"
            ],
            [
             1,
             "#276419"
            ]
           ],
           "sequential": [
            [
             0,
             "#0d0887"
            ],
            [
             0.1111111111111111,
             "#46039f"
            ],
            [
             0.2222222222222222,
             "#7201a8"
            ],
            [
             0.3333333333333333,
             "#9c179e"
            ],
            [
             0.4444444444444444,
             "#bd3786"
            ],
            [
             0.5555555555555556,
             "#d8576b"
            ],
            [
             0.6666666666666666,
             "#ed7953"
            ],
            [
             0.7777777777777778,
             "#fb9f3a"
            ],
            [
             0.8888888888888888,
             "#fdca26"
            ],
            [
             1,
             "#f0f921"
            ]
           ],
           "sequentialminus": [
            [
             0,
             "#0d0887"
            ],
            [
             0.1111111111111111,
             "#46039f"
            ],
            [
             0.2222222222222222,
             "#7201a8"
            ],
            [
             0.3333333333333333,
             "#9c179e"
            ],
            [
             0.4444444444444444,
             "#bd3786"
            ],
            [
             0.5555555555555556,
             "#d8576b"
            ],
            [
             0.6666666666666666,
             "#ed7953"
            ],
            [
             0.7777777777777778,
             "#fb9f3a"
            ],
            [
             0.8888888888888888,
             "#fdca26"
            ],
            [
             1,
             "#f0f921"
            ]
           ]
          },
          "colorway": [
           "#636efa",
           "#EF553B",
           "#00cc96",
           "#ab63fa",
           "#FFA15A",
           "#19d3f3",
           "#FF6692",
           "#B6E880",
           "#FF97FF",
           "#FECB52"
          ],
          "font": {
           "color": "#2a3f5f"
          },
          "geo": {
           "bgcolor": "white",
           "lakecolor": "white",
           "landcolor": "#E5ECF6",
           "showlakes": true,
           "showland": true,
           "subunitcolor": "white"
          },
          "hoverlabel": {
           "align": "left"
          },
          "hovermode": "closest",
          "mapbox": {
           "style": "light"
          },
          "paper_bgcolor": "white",
          "plot_bgcolor": "#E5ECF6",
          "polar": {
           "angularaxis": {
            "gridcolor": "white",
            "linecolor": "white",
            "ticks": ""
           },
           "bgcolor": "#E5ECF6",
           "radialaxis": {
            "gridcolor": "white",
            "linecolor": "white",
            "ticks": ""
           }
          },
          "scene": {
           "xaxis": {
            "backgroundcolor": "#E5ECF6",
            "gridcolor": "white",
            "gridwidth": 2,
            "linecolor": "white",
            "showbackground": true,
            "ticks": "",
            "zerolinecolor": "white"
           },
           "yaxis": {
            "backgroundcolor": "#E5ECF6",
            "gridcolor": "white",
            "gridwidth": 2,
            "linecolor": "white",
            "showbackground": true,
            "ticks": "",
            "zerolinecolor": "white"
           },
           "zaxis": {
            "backgroundcolor": "#E5ECF6",
            "gridcolor": "white",
            "gridwidth": 2,
            "linecolor": "white",
            "showbackground": true,
            "ticks": "",
            "zerolinecolor": "white"
           }
          },
          "shapedefaults": {
           "line": {
            "color": "#2a3f5f"
           }
          },
          "ternary": {
           "aaxis": {
            "gridcolor": "white",
            "linecolor": "white",
            "ticks": ""
           },
           "baxis": {
            "gridcolor": "white",
            "linecolor": "white",
            "ticks": ""
           },
           "bgcolor": "#E5ECF6",
           "caxis": {
            "gridcolor": "white",
            "linecolor": "white",
            "ticks": ""
           }
          },
          "title": {
           "x": 0.05
          },
          "xaxis": {
           "automargin": true,
           "gridcolor": "white",
           "linecolor": "white",
           "ticks": "",
           "title": {
            "standoff": 15
           },
           "zerolinecolor": "white",
           "zerolinewidth": 2
          },
          "yaxis": {
           "automargin": true,
           "gridcolor": "white",
           "linecolor": "white",
           "ticks": "",
           "title": {
            "standoff": 15
           },
           "zerolinecolor": "white",
           "zerolinewidth": 2
          }
         }
        },
        "title": {
         "text": "select (latency ms) vs. k (sift, N=10k)"
        },
        "xaxis": {
         "autorange": true,
         "range": [
          -4.066604900144122,
          85.06660490014413
         ],
         "title": {
          "text": "k"
         },
         "type": "linear"
        },
        "yaxis": {
         "autorange": true,
         "range": [
          -21.89135922330097,
          84.63135922330096
         ],
         "title": {
          "text": "select (latency ms)"
         },
         "type": "linear"
        }
       }
      },
      "image/png": "[encoded data removed]",
      "text/html": [
       "<div>                            <div id=\"00fbc4b0-afee-44ca-b8be-7fcf2101c50f\" class=\"plotly-graph-div\" style=\"height:525px; width:100%;\"></div>            <script type=\"text/javascript\">                require([\"plotly\"], function(Plotly) {                    window.PLOTLYENV=window.PLOTLYENV || {};                                    if (document.getElementById(\"00fbc4b0-afee-44ca-b8be-7fcf2101c50f\")) {                    Plotly.newPlot(                        \"00fbc4b0-afee-44ca-b8be-7fcf2101c50f\",                        [{\"legendgroup\":\"PGVECTOR_IVFFLAT\",\"legendgrouptitle\":{\"text\":\"PGVECTOR_IVFFLAT\"},\"marker\":{\"color\":\"rgb(255,204,153)\"},\"mode\":\"lines+markers\",\"name\":\"PGVECTOR_IVFFLAT - {'lists': 100, 'probes': 16}\",\"x\":[1,3,5,10,20,40,80],\"y\":[1.538,1.582,1.217,1.19,1.411,1.684,1.627],\"type\":\"scatter\"},{\"fill\":\"toself\",\"fillcolor\":\"rgba(255,204,153,0.3)\",\"legendgroup\":\"PGVECTOR_IVFFLAT\",\"line\":{\"color\":\"rgba(255,255,255,0)\"},\"showlegend\":false,\"x\":[1,3,5,10,20,40,80,80,40,20,10,5,3,1],\"y\":[5.298,4.815,3.246,3.945,4.141,4.232,4.153,-0.8989999999999998,-0.8640000000000001,-1.319,-1.565,-0.8119999999999998,-1.651,-2.2219999999999995],\"type\":\"scatter\"},{\"legendgroup\":\"PGVECTOR_HNSW\",\"legendgrouptitle\":{\"text\":\"PGVECTOR_HNSW\"},\"marker\":{\"color\":\"rgb(153,153,255)\"},\"mode\":\"lines+markers\",\"name\":\"PGVECTOR_HNSW - {'m': 4, 'ef_construction': 128, 'ef': 10}\",\"x\":[1,3,5,10,20,40,80],\"y\":[2.057,1.883,1.971,2.325,2.231,2.388,2.398],\"type\":\"scatter\"},{\"fill\":\"toself\",\"fillcolor\":\"rgba(153,153,255,0.3)\",\"legendgroup\":\"PGVECTOR_HNSW\",\"line\":{\"color\":\"rgba(255,255,255,0)\"},\"showlegend\":false,\"x\":[1,3,5,10,20,40,80,80,40,20,10,5,3,1],\"y\":[5.061,5.197,5.019,5.323,5.691,5.7059999999999995,5.816000000000001,-1.02,-0.9300000000000002,-1.229,-0.673,-1.077,-1.431,-0.9470000000000001],\"type\":\"scatter\"},{\"legendgroup\":\"LANTERN\",\"legendgrouptitle\":{\"text\":\"LANTERN\"},\"marker\":{\"color\":\"rgb(153,255,153)\"},\"mode\":\"lines+markers\",\"name\":\"LANTERN - {'m': 4, 'ef_construction': 128, 'ef': 10}\",\"x\":[1,3,5,10,20,40,80],\"y\":[2.254,1.588,1.657,1.627,2.381,1.681,1.645],\"type\":\"scatter\"},{\"fill\":\"toself\",\"fillcolor\":\"rgba(153,255,153,0.3)\",\"legendgroup\":\"LANTERN\",\"line\":{\"color\":\"rgba(255,255,255,0)\"},\"showlegend\":false,\"x\":[1,3,5,10,20,40,80,80,40,20,10,5,3,1],\"y\":[6.327,4.556,5.389,4.762,7.1129999999999995,4.708,4.628,-1.338,-1.346,-2.3510000000000004,-1.5079999999999998,-2.075,-1.38,-1.8190000000000004],\"type\":\"scatter\"},{\"legendgroup\":\"NEON\",\"legendgrouptitle\":{\"text\":\"NEON\"},\"marker\":{\"color\":\"rgb(204,153,255)\"},\"mode\":\"lines+markers\",\"name\":\"NEON - {'m': 4, 'ef_construction': 128, 'ef': 10}\",\"x\":[1,3,5,10,20,40,80],\"y\":[1.365,0.977,0.951,1.256,0.843,1.417,0.906],\"type\":\"scatter\"},{\"fill\":\"toself\",\"fillcolor\":\"rgba(204,153,255,0.3)\",\"legendgroup\":\"NEON\",\"line\":{\"color\":\"rgba(255,255,255,0)\"},\"showlegend\":false,\"x\":[1,3,5,10,20,40,80,80,40,20,10,5,3,1],\"y\":[5.274,2.834,3.057,3.7910000000000004,3.334,4.924,2.8,-0.9879999999999999,-2.09,-1.6480000000000001,-1.2790000000000001,-1.1549999999999998,-0.88,-2.5439999999999996],\"type\":\"scatter\"},{\"legendgroup\":\"NONE\",\"legendgrouptitle\":{\"text\":\"NONE\"},\"marker\":{\"color\":\"rgb(255,153,153)\"},\"mode\":\"lines+markers\",\"name\":\"NONE - {}\",\"x\":[1,3,5,10,20,40,80],\"y\":[31.37,14.809,14.605,15.266,14.463,16.552,17.058],\"type\":\"scatter\"},{\"fill\":\"toself\",\"fillcolor\":\"rgba(255,153,153,0.3)\",\"legendgroup\":\"NONE\",\"line\":{\"color\":\"rgba(255,255,255,0)\"},\"showlegend\":false,\"x\":[1,3,5,10,20,40,80,80,40,20,10,5,3,1],\"y\":[77.086,23.6,22.358,22.197,25.218,22.25,25.0,9.116,10.854,3.7079999999999984,8.335,6.852,6.017999999999999,-14.346],\"type\":\"scatter\"}],                        {\"template\":{\"data\":{\"histogram2dcontour\":[{\"type\":\"histogram2dcontour\",\"colorbar\":{\"outlinewidth\":0,\"ticks\":\"\"},\"colorscale\":[[0.0,\"#0d0887\"],[0.1111111111111111,\"#46039f\"],[0.2222222222222222,\"#7201a8\"],[0.3333333333333333,\"#9c179e\"],[0.4444444444444444,\"#bd3786\"],[0.5555555555555556,\"#d8576b\"],[0.6666666666666666,\"#ed7953\"],[0.7777777777777778,\"#fb9f3a\"],[0.8888888888888888,\"#fdca26\"],[1.0,\"#f0f921\"]]}],\"choropleth\":[{\"type\":\"choropleth\",\"colorbar\":{\"outlinewidth\":0,\"ticks\":\"\"}}],\"histogram2d\":[{\"type\":\"histogram2d\",\"colorbar\":{\"outlinewidth\":0,\"ticks\":\"\"},\"colorscale\":[[0.0,\"#0d0887\"],[0.1111111111111111,\"#46039f\"],[0.2222222222222222,\"#7201a8\"],[0.3333333333333333,\"#9c179e\"],[0.4444444444444444,\"#bd3786\"],[0.5555555555555556,\"#d8576b\"],[0.6666666666666666,\"#ed7953\"],[0.7777777777777778,\"#fb9f3a\"],[0.8888888888888888,\"#fdca26\"],[1.0,\"#f0f921\"]]}],\"heatmap\":[{\"type\":\"heatmap\",\"colorbar\":{\"outlinewidth\":0,\"ticks\":\"\"},\"colorscale\":[[0.0,\"#0d0887\"],[0.1111111111111111,\"#46039f\"],[0.2222222222222222,\"#7201a8\"],[0.3333333333333333,\"#9c179e\"],[0.4444444444444444,\"#bd3786\"],[0.5555555555555556,\"#d8576b\"],[0.6666666666666666,\"#ed7953\"],[0.7777777777777778,\"#fb9f3a\"],[0.8888888888888888,\"#fdca26\"],[1.0,\"#f0f921\"]]}],\"heatmapgl\":[{\"type\":\"heatmapgl\",\"colorbar\":{\"outlinewidth\":0,\"ticks\":\"\"},\"colorscale\":[[0.0,\"#0d0887\"],[0.1111111111111111,\"#46039f\"],[0.2222222222222222,\"#7201a8\"],[0.3333333333333333,\"#9c179e\"],[0.4444444444444444,\"#bd3786\"],[0.5555555555555556,\"#d8576b\"],[0.6666666666666666,\"#ed7953\"],[0.7777777777777778,\"#fb9f3a\"],[0.8888888888888888,\"#fdca26\"],[1.0,\"#f0f921\"]]}],\"contourcarpet\":[{\"type\":\"contourcarpet\",\"colorbar\":{\"outlinewidth\":0,\"ticks\":\"\"}}],\"contour\":[{\"type\":\"contour\",\"colorbar\":{\"outlinewidth\":0,\"ticks\":\"\"},\"colorscale\":[[0.0,\"#0d0887\"],[0.1111111111111111,\"#46039f\"],[0.2222222222222222,\"#7201a8\"],[0.3333333333333333,\"#9c179e\"],[0.4444444444444444,\"#bd3786\"],[0.5555555555555556,\"#d8576b\"],[0.6666666666666666,\"#ed7953\"],[0.7777777777777778,\"#fb9f3a\"],[0.8888888888888888,\"#fdca26\"],[1.0,\"#f0f921\"]]}],\"surface\":[{\"type\":\"surface\",\"colorbar\":{\"outlinewidth\":0,\"ticks\":\"\"},\"colorscale\":[[0.0,\"#0d0887\"],[0.1111111111111111,\"#46039f\"],[0.2222222222222222,\"#7201a8\"],[0.3333333333333333,\"#9c179e\"],[0.4444444444444444,\"#bd3786\"],[0.5555555555555556,\"#d8576b\"],[0.6666666666666666,\"#ed7953\"],[0.7777777777777778,\"#fb9f3a\"],[0.8888888888888888,\"#fdca26\"],[1.0,\"#f0f921\"]]}],\"mesh3d\":[{\"type\":\"mesh3d\",\"colorbar\":{\"outlinewidth\":0,\"ticks\":\"\"}}],\"scatter\":[{\"fillpattern\":{\"fillmode\":\"overlay\",\"size\":10,\"solidity\":0.2},\"type\":\"scatter\"}],\"parcoords\":[{\"type\":\"parcoords\",\"line\":{\"colorbar\":{\"outlinewidth\":0,\"ticks\":\"\"}}}],\"scatterpolargl\":[{\"type\":\"scatterpolargl\",\"marker\":{\"colorbar\":{\"outlinewidth\":0,\"ticks\":\"\"}}}],\"bar\":[{\"error_x\":{\"color\":\"#2a3f5f\"},\"error_y\":{\"color\":\"#2a3f5f\"},\"marker\":{\"line\":{\"color\":\"#E5ECF6\",\"width\":0.5},\"pattern\":{\"fillmode\":\"overlay\",\"size\":10,\"solidity\":0.2}},\"type\":\"bar\"}],\"scattergeo\":[{\"type\":\"scattergeo\",\"marker\":{\"colorbar\":{\"outlinewidth\":0,\"ticks\":\"\"}}}],\"scatterpolar\":[{\"type\":\"scatterpolar\",\"marker\":{\"colorbar\":{\"outlinewidth\":0,\"ticks\":\"\"}}}],\"histogram\":[{\"marker\":{\"pattern\":{\"fillmode\":\"overlay\",\"size\":10,\"solidity\":0.2}},\"type\":\"histogram\"}],\"scattergl\":[{\"type\":\"scattergl\",\"marker\":{\"colorbar\":{\"outlinewidth\":0,\"ticks\":\"\"}}}],\"scatter3d\":[{\"type\":\"scatter3d\",\"line\":{\"colorbar\":{\"outlinewidth\":0,\"ticks\":\"\"}},\"marker\":{\"colorbar\":{\"outlinewidth\":0,\"ticks\":\"\"}}}],\"scattermapbox\":[{\"type\":\"scattermapbox\",\"marker\":{\"colorbar\":{\"outlinewidth\":0,\"ticks\":\"\"}}}],\"scatterternary\":[{\"type\":\"scatterternary\",\"marker\":{\"colorbar\":{\"outlinewidth\":0,\"ticks\":\"\"}}}],\"scattercarpet\":[{\"type\":\"scattercarpet\",\"marker\":{\"colorbar\":{\"outlinewidth\":0,\"ticks\":\"\"}}}],\"carpet\":[{\"aaxis\":{\"endlinecolor\":\"#2a3f5f\",\"gridcolor\":\"white\",\"linecolor\":\"white\",\"minorgridcolor\":\"white\",\"startlinecolor\":\"#2a3f5f\"},\"baxis\":{\"endlinecolor\":\"#2a3f5f\",\"gridcolor\":\"white\",\"linecolor\":\"white\",\"minorgridcolor\":\"white\",\"startlinecolor\":\"#2a3f5f\"},\"type\":\"carpet\"}],\"table\":[{\"cells\":{\"fill\":{\"color\":\"#EBF0F8\"},\"line\":{\"color\":\"white\"}},\"header\":{\"fill\":{\"color\":\"#C8D4E3\"},\"line\":{\"color\":\"white\"}},\"type\":\"table\"}],\"barpolar\":[{\"marker\":{\"line\":{\"color\":\"#E5ECF6\",\"width\":0.5},\"pattern\":{\"fillmode\":\"overlay\",\"size\":10,\"solidity\":0.2}},\"type\":\"barpolar\"}],\"pie\":[{\"automargin\":true,\"type\":\"pie\"}]},\"layout\":{\"autotypenumbers\":\"strict\",\"colorway\":[\"#636efa\",\"#EF553B\",\"#00cc96\",\"#ab63fa\",\"#FFA15A\",\"#19d3f3\",\"#FF6692\",\"#B6E880\",\"#FF97FF\",\"#FECB52\"],\"font\":{\"color\":\"#2a3f5f\"},\"hovermode\":\"closest\",\"hoverlabel\":{\"align\":\"left\"},\"paper_bgcolor\":\"white\",\"plot_bgcolor\":\"#E5ECF6\",\"polar\":{\"bgcolor\":\"#E5ECF6\",\"angularaxis\":{\"gridcolor\":\"white\",\"linecolor\":\"white\",\"ticks\":\"\"},\"radialaxis\":{\"gridcolor\":\"white\",\"linecolor\":\"white\",\"ticks\":\"\"}},\"ternary\":{\"bgcolor\":\"#E5ECF6\",\"aaxis\":{\"gridcolor\":\"white\",\"linecolor\":\"white\",\"ticks\":\"\"},\"baxis\":{\"gridcolor\":\"white\",\"linecolor\":\"white\",\"ticks\":\"\"},\"caxis\":{\"gridcolor\":\"white\",\"linecolor\":\"white\",\"ticks\":\"\"}},\"coloraxis\":{\"colorbar\":{\"outlinewidth\":0,\"ticks\":\"\"}},\"colorscale\":{\"sequential\":[[0.0,\"#0d0887\"],[0.1111111111111111,\"#46039f\"],[0.2222222222222222,\"#7201a8\"],[0.3333333333333333,\"#9c179e\"],[0.4444444444444444,\"#bd3786\"],[0.5555555555555556,\"#d8576b\"],[0.6666666666666666,\"#ed7953\"],[0.7777777777777778,\"#fb9f3a\"],[0.8888888888888888,\"#fdca26\"],[1.0,\"#f0f921\"]],\"sequentialminus\":[[0.0,\"#0d0887\"],[0.1111111111111111,\"#46039f\"],[0.2222222222222222,\"#7201a8\"],[0.3333333333333333,\"#9c179e\"],[0.4444444444444444,\"#bd3786\"],[0.5555555555555556,\"#d8576b\"],[0.6666666666666666,\"#ed7953\"],[0.7777777777777778,\"#fb9f3a\"],[0.8888888888888888,\"#fdca26\"],[1.0,\"#f0f921\"]],\"diverging\":[[0,\"#8e0152\"],[0.1,\"#c51b7d\"],[0.2,\"#de77ae\"],[0.3,\"#f1b6da\"],[0.4,\"#fde0ef\"],[0.5,\"#f7f7f7\"],[0.6,\"#e6f5d0\"],[0.7,\"#b8e186\"],[0.8,\"#7fbc41\"],[0.9,\"#4d9221\"],[1,\"#276419\"]]},\"xaxis\":{\"gridcolor\":\"white\",\"linecolor\":\"white\",\"ticks\":\"\",\"title\":{\"standoff\":15},\"zerolinecolor\":\"white\",\"automargin\":true,\"zerolinewidth\":2},\"yaxis\":{\"gridcolor\":\"white\",\"linecolor\":\"white\",\"ticks\":\"\",\"title\":{\"standoff\":15},\"zerolinecolor\":\"white\",\"automargin\":true,\"zerolinewidth\":2},\"scene\":{\"xaxis\":{\"backgroundcolor\":\"#E5ECF6\",\"gridcolor\":\"white\",\"linecolor\":\"white\",\"showbackground\":true,\"ticks\":\"\",\"zerolinecolor\":\"white\",\"gridwidth\":2},\"yaxis\":{\"backgroundcolor\":\"#E5ECF6\",\"gridcolor\":\"white\",\"linecolor\":\"white\",\"showbackground\":true,\"ticks\":\"\",\"zerolinecolor\":\"white\",\"gridwidth\":2},\"zaxis\":{\"backgroundcolor\":\"#E5ECF6\",\"gridcolor\":\"white\",\"linecolor\":\"white\",\"showbackground\":true,\"ticks\":\"\",\"zerolinecolor\":\"white\",\"gridwidth\":2}},\"shapedefaults\":{\"line\":{\"color\":\"#2a3f5f\"}},\"annotationdefaults\":{\"arrowcolor\":\"#2a3f5f\",\"arrowhead\":0,\"arrowwidth\":1},\"geo\":{\"bgcolor\":\"white\",\"landcolor\":\"#E5ECF6\",\"subunitcolor\":\"white\",\"showland\":true,\"showlakes\":true,\"lakecolor\":\"white\"},\"title\":{\"x\":0.05},\"mapbox\":{\"style\":\"light\"}}},\"title\":{\"text\":\"select (latency ms) vs. k (sift, N=10k)\"},\"xaxis\":{\"title\":{\"text\":\"k\"}},\"yaxis\":{\"title\":{\"text\":\"select (latency ms)\"}}},                        {\"responsive\": true}                    ).then(function(){\n",
       "                            \n",
       "var gd = document.getElementById('00fbc4b0-afee-44ca-b8be-7fcf2101c50f');\n",
       "var x = new MutationObserver(function (mutations, observer) {{\n",
       "        var display = window.getComputedStyle(gd).display;\n",
       "        if (!display || display === 'none') {{\n",
       "            console.log([gd, 'removed!']);\n",
       "            Plotly.purge(gd);\n",
       "            observer.disconnect();\n",
       "        }}\n",
       "}});\n",
       "\n",
       "// Listen for the removal of the full notebook cells\n",
       "var notebookContainer = gd.closest('#notebook-container');\n",
       "if (notebookContainer) {{\n",
       "    x.observe(notebookContainer, {childList: true});\n",
       "}}\n",
       "\n",
       "// Listen for the clearing of the current output cell\n",
       "var outputEl = gd.closest('.output');\n",
       "if (outputEl) {{\n",
       "    x.observe(outputEl, {childList: true});\n",
       "}}\n",
       "\n",
       "                        })                };                });            </script>        </div>"
      ]
     },
     "metadata": {},
     "output_type": "display_data"
    }
   ],
   "source": [
    "from core.utils.constants import Extension, ExperimentParam, Dataset, Metric, DEFAULT_INDEX_PARAMS\n",
    "from core.benchmark_select import generate_plot\n",
    "generate_plot(DEFAULT_INDEX_PARAMS, Dataset.SIFT, ExperimentParam.N, '10k', ExperimentParam.K, Metric.SELECT_LATENCY, Metric.SELECT_LATENCY_STDDEV)"
   ]
  },
  {
   "cell_type": "code",
   "execution_count": 8,
   "id": "4d46565e-b587-48e7-9588-9bd301758d5f",
   "metadata": {},
   "outputs": [
    {
     "data": {
      "application/vnd.plotly.v1+json": {
       "config": {
        "plotlyServerURL": "https://plot.ly"
       },
       "data": [
        {
         "legendgroup": "PGVECTOR_IVFFLAT",
         "legendgrouptitle": {
          "text": "PGVECTOR_IVFFLAT"
         },
         "marker": {
          "color": "rgb(255,204,153)"
         },
         "mode": "lines+markers",
         "name": "PGVECTOR_IVFFLAT - {'lists': 100, 'probes': 16}",
         "type": "scatter",
         "x": [
          1,
          3,
          5,
          10,
          20,
          40,
          80
         ],
         "y": [
          3650.079085,
          3476.648511,
          4410.629617,
          4202.710748,
          3910.833007,
          3559.668951,
          3530.034712
         ]
        },
        {
         "legendgroup": "PGVECTOR_HNSW",
         "legendgrouptitle": {
          "text": "PGVECTOR_HNSW"
         },
         "marker": {
          "color": "rgb(153,153,255)"
         },
         "mode": "lines+markers",
         "name": "PGVECTOR_HNSW - {'m': 4, 'ef_construction': 128, 'ef': 10}",
         "type": "scatter",
         "x": [
          1,
          3,
          5,
          10,
          20,
          40,
          80
         ],
         "y": [
          2796.290255,
          2956.320367,
          2785.450663,
          2538.071066,
          2471.678682,
          2296.430964,
          2490.970233
         ]
        },
        {
         "legendgroup": "LANTERN",
         "legendgrouptitle": {
          "text": "LANTERN"
         },
         "marker": {
          "color": "rgb(153,255,153)"
         },
         "mode": "lines+markers",
         "name": "LANTERN - {'m': 4, 'ef_construction': 128, 'ef': 10}",
         "type": "scatter",
         "x": [
          1,
          3,
          5,
          10,
          20,
          40,
          80
         ],
         "y": [
          2724.177072,
          3738.084855,
          3307.060574,
          3494.568858,
          2490.970233,
          3215.347927,
          3769.199359
         ]
        },
        {
         "legendgroup": "NEON",
         "legendgrouptitle": {
          "text": "NEON"
         },
         "marker": {
          "color": "rgb(204,153,255)"
         },
         "mode": "lines+markers",
         "name": "NEON - {'m': 4, 'ef_construction': 128, 'ef': 10}",
         "type": "scatter",
         "x": [
          1,
          3,
          5,
          10,
          20,
          40,
          80
         ],
         "y": [
          4527.106047,
          5844.820028,
          5257.623554,
          4447.409384,
          5363.847667,
          3601.008282,
          5450.82898
         ]
        },
        {
         "legendgroup": "NONE",
         "legendgrouptitle": {
          "text": "NONE"
         },
         "marker": {
          "color": "rgb(255,153,153)"
         },
         "mode": "lines+markers",
         "name": "NONE - {}",
         "type": "scatter",
         "x": [
          1,
          3,
          5,
          10,
          20,
          40,
          80
         ],
         "y": [
          238.424491,
          451.640584,
          456.197442,
          461.526036,
          433.579269,
          466.5648,
          424.307142
         ]
        }
       ],
       "layout": {
        "autosize": true,
        "template": {
         "data": {
          "bar": [
           {
            "error_x": {
             "color": "#2a3f5f"
            },
            "error_y": {
             "color": "#2a3f5f"
            },
            "marker": {
             "line": {
              "color": "#E5ECF6",
              "width": 0.5
             },
             "pattern": {
              "fillmode": "overlay",
              "size": 10,
              "solidity": 0.2
             }
            },
            "type": "bar"
           }
          ],
          "barpolar": [
           {
            "marker": {
             "line": {
              "color": "#E5ECF6",
              "width": 0.5
             },
             "pattern": {
              "fillmode": "overlay",
              "size": 10,
              "solidity": 0.2
             }
            },
            "type": "barpolar"
           }
          ],
          "carpet": [
           {
            "aaxis": {
             "endlinecolor": "#2a3f5f",
             "gridcolor": "white",
             "linecolor": "white",
             "minorgridcolor": "white",
             "startlinecolor": "#2a3f5f"
            },
            "baxis": {
             "endlinecolor": "#2a3f5f",
             "gridcolor": "white",
             "linecolor": "white",
             "minorgridcolor": "white",
             "startlinecolor": "#2a3f5f"
            },
            "type": "carpet"
           }
          ],
          "choropleth": [
           {
            "colorbar": {
             "outlinewidth": 0,
             "ticks": ""
            },
            "type": "choropleth"
           }
          ],
          "contour": [
           {
            "colorbar": {
             "outlinewidth": 0,
             "ticks": ""
            },
            "colorscale": [
             [
              0,
              "#0d0887"
             ],
             [
              0.1111111111111111,
              "#46039f"
             ],
             [
              0.2222222222222222,
              "#7201a8"
             ],
             [
              0.3333333333333333,
              "#9c179e"
             ],
             [
              0.4444444444444444,
              "#bd3786"
             ],
             [
              0.5555555555555556,
              "#d8576b"
             ],
             [
              0.6666666666666666,
              "#ed7953"
             ],
             [
              0.7777777777777778,
              "#fb9f3a"
             ],
             [
              0.8888888888888888,
              "#fdca26"
             ],
             [
              1,
              "#f0f921"
             ]
            ],
            "type": "contour"
           }
          ],
          "contourcarpet": [
           {
            "colorbar": {
             "outlinewidth": 0,
             "ticks": ""
            },
            "type": "contourcarpet"
           }
          ],
          "heatmap": [
           {
            "colorbar": {
             "outlinewidth": 0,
             "ticks": ""
            },
            "colorscale": [
             [
              0,
              "#0d0887"
             ],
             [
              0.1111111111111111,
              "#46039f"
             ],
             [
              0.2222222222222222,
              "#7201a8"
             ],
             [
              0.3333333333333333,
              "#9c179e"
             ],
             [
              0.4444444444444444,
              "#bd3786"
             ],
             [
              0.5555555555555556,
              "#d8576b"
             ],
             [
              0.6666666666666666,
              "#ed7953"
             ],
             [
              0.7777777777777778,
              "#fb9f3a"
             ],
             [
              0.8888888888888888,
              "#fdca26"
             ],
             [
              1,
              "#f0f921"
             ]
            ],
            "type": "heatmap"
           }
          ],
          "heatmapgl": [
           {
            "colorbar": {
             "outlinewidth": 0,
             "ticks": ""
            },
            "colorscale": [
             [
              0,
              "#0d0887"
             ],
             [
              0.1111111111111111,
              "#46039f"
             ],
             [
              0.2222222222222222,
              "#7201a8"
             ],
             [
              0.3333333333333333,
              "#9c179e"
             ],
             [
              0.4444444444444444,
              "#bd3786"
             ],
             [
              0.5555555555555556,
              "#d8576b"
             ],
             [
              0.6666666666666666,
              "#ed7953"
             ],
             [
              0.7777777777777778,
              "#fb9f3a"
             ],
             [
              0.8888888888888888,
              "#fdca26"
             ],
             [
              1,
              "#f0f921"
             ]
            ],
            "type": "heatmapgl"
           }
          ],
          "histogram": [
           {
            "marker": {
             "pattern": {
              "fillmode": "overlay",
              "size": 10,
              "solidity": 0.2
             }
            },
            "type": "histogram"
           }
          ],
          "histogram2d": [
           {
            "colorbar": {
             "outlinewidth": 0,
             "ticks": ""
            },
            "colorscale": [
             [
              0,
              "#0d0887"
             ],
             [
              0.1111111111111111,
              "#46039f"
             ],
             [
              0.2222222222222222,
              "#7201a8"
             ],
             [
              0.3333333333333333,
              "#9c179e"
             ],
             [
              0.4444444444444444,
              "#bd3786"
             ],
             [
              0.5555555555555556,
              "#d8576b"
             ],
             [
              0.6666666666666666,
              "#ed7953"
             ],
             [
              0.7777777777777778,
              "#fb9f3a"
             ],
             [
              0.8888888888888888,
              "#fdca26"
             ],
             [
              1,
              "#f0f921"
             ]
            ],
            "type": "histogram2d"
           }
          ],
          "histogram2dcontour": [
           {
            "colorbar": {
             "outlinewidth": 0,
             "ticks": ""
            },
            "colorscale": [
             [
              0,
              "#0d0887"
             ],
             [
              0.1111111111111111,
              "#46039f"
             ],
             [
              0.2222222222222222,
              "#7201a8"
             ],
             [
              0.3333333333333333,
              "#9c179e"
             ],
             [
              0.4444444444444444,
              "#bd3786"
             ],
             [
              0.5555555555555556,
              "#d8576b"
             ],
             [
              0.6666666666666666,
              "#ed7953"
             ],
             [
              0.7777777777777778,
              "#fb9f3a"
             ],
             [
              0.8888888888888888,
              "#fdca26"
             ],
             [
              1,
              "#f0f921"
             ]
            ],
            "type": "histogram2dcontour"
           }
          ],
          "mesh3d": [
           {
            "colorbar": {
             "outlinewidth": 0,
             "ticks": ""
            },
            "type": "mesh3d"
           }
          ],
          "parcoords": [
           {
            "line": {
             "colorbar": {
              "outlinewidth": 0,
              "ticks": ""
             }
            },
            "type": "parcoords"
           }
          ],
          "pie": [
           {
            "automargin": true,
            "type": "pie"
           }
          ],
          "scatter": [
           {
            "fillpattern": {
             "fillmode": "overlay",
             "size": 10,
             "solidity": 0.2
            },
            "type": "scatter"
           }
          ],
          "scatter3d": [
           {
            "line": {
             "colorbar": {
              "outlinewidth": 0,
              "ticks": ""
             }
            },
            "marker": {
             "colorbar": {
              "outlinewidth": 0,
              "ticks": ""
             }
            },
            "type": "scatter3d"
           }
          ],
          "scattercarpet": [
           {
            "marker": {
             "colorbar": {
              "outlinewidth": 0,
              "ticks": ""
             }
            },
            "type": "scattercarpet"
           }
          ],
          "scattergeo": [
           {
            "marker": {
             "colorbar": {
              "outlinewidth": 0,
              "ticks": ""
             }
            },
            "type": "scattergeo"
           }
          ],
          "scattergl": [
           {
            "marker": {
             "colorbar": {
              "outlinewidth": 0,
              "ticks": ""
             }
            },
            "type": "scattergl"
           }
          ],
          "scattermapbox": [
           {
            "marker": {
             "colorbar": {
              "outlinewidth": 0,
              "ticks": ""
             }
            },
            "type": "scattermapbox"
           }
          ],
          "scatterpolar": [
           {
            "marker": {
             "colorbar": {
              "outlinewidth": 0,
              "ticks": ""
             }
            },
            "type": "scatterpolar"
           }
          ],
          "scatterpolargl": [
           {
            "marker": {
             "colorbar": {
              "outlinewidth": 0,
              "ticks": ""
             }
            },
            "type": "scatterpolargl"
           }
          ],
          "scatterternary": [
           {
            "marker": {
             "colorbar": {
              "outlinewidth": 0,
              "ticks": ""
             }
            },
            "type": "scatterternary"
           }
          ],
          "surface": [
           {
            "colorbar": {
             "outlinewidth": 0,
             "ticks": ""
            },
            "colorscale": [
             [
              0,
              "#0d0887"
             ],
             [
              0.1111111111111111,
              "#46039f"
             ],
             [
              0.2222222222222222,
              "#7201a8"
             ],
             [
              0.3333333333333333,
              "#9c179e"
             ],
             [
              0.4444444444444444,
              "#bd3786"
             ],
             [
              0.5555555555555556,
              "#d8576b"
             ],
             [
              0.6666666666666666,
              "#ed7953"
             ],
             [
              0.7777777777777778,
              "#fb9f3a"
             ],
             [
              0.8888888888888888,
              "#fdca26"
             ],
             [
              1,
              "#f0f921"
             ]
            ],
            "type": "surface"
           }
          ],
          "table": [
           {
            "cells": {
             "fill": {
              "color": "#EBF0F8"
             },
             "line": {
              "color": "white"
             }
            },
            "header": {
             "fill": {
              "color": "#C8D4E3"
             },
             "line": {
              "color": "white"
             }
            },
            "type": "table"
           }
          ]
         },
         "layout": {
          "annotationdefaults": {
           "arrowcolor": "#2a3f5f",
           "arrowhead": 0,
           "arrowwidth": 1
          },
          "autotypenumbers": "strict",
          "coloraxis": {
           "colorbar": {
            "outlinewidth": 0,
            "ticks": ""
           }
          },
          "colorscale": {
           "diverging": [
            [
             0,
             "#8e0152"
            ],
            [
             0.1,
             "#c51b7d"
            ],
            [
             0.2,
             "#de77ae"
            ],
            [
             0.3,
             "#f1b6da"
            ],
            [
             0.4,
             "#fde0ef"
            ],
            [
             0.5,
             "#f7f7f7"
            ],
            [
             0.6,
             "#e6f5d0"
            ],
            [
             0.7,
             "#b8e186"
            ],
            [
             0.8,
             "#7fbc41"
            ],
            [
             0.9,
             "#4d9221"
            ],
            [
             1,
             "#276419"
            ]
           ],
           "sequential": [
            [
             0,
             "#0d0887"
            ],
            [
             0.1111111111111111,
             "#46039f"
            ],
            [
             0.2222222222222222,
             "#7201a8"
            ],
            [
             0.3333333333333333,
             "#9c179e"
            ],
            [
             0.4444444444444444,
             "#bd3786"
            ],
            [
             0.5555555555555556,
             "#d8576b"
            ],
            [
             0.6666666666666666,
             "#ed7953"
            ],
            [
             0.7777777777777778,
             "#fb9f3a"
            ],
            [
             0.8888888888888888,
             "#fdca26"
            ],
            [
             1,
             "#f0f921"
            ]
           ],
           "sequentialminus": [
            [
             0,
             "#0d0887"
            ],
            [
             0.1111111111111111,
             "#46039f"
            ],
            [
             0.2222222222222222,
             "#7201a8"
            ],
            [
             0.3333333333333333,
             "#9c179e"
            ],
            [
             0.4444444444444444,
             "#bd3786"
            ],
            [
             0.5555555555555556,
             "#d8576b"
            ],
            [
             0.6666666666666666,
             "#ed7953"
            ],
            [
             0.7777777777777778,
             "#fb9f3a"
            ],
            [
             0.8888888888888888,
             "#fdca26"
            ],
            [
             1,
             "#f0f921"
            ]
           ]
          },
          "colorway": [
           "#636efa",
           "#EF553B",
           "#00cc96",
           "#ab63fa",
           "#FFA15A",
           "#19d3f3",
           "#FF6692",
           "#B6E880",
           "#FF97FF",
           "#FECB52"
          ],
          "font": {
           "color": "#2a3f5f"
          },
          "geo": {
           "bgcolor": "white",
           "lakecolor": "white",
           "landcolor": "#E5ECF6",
           "showlakes": true,
           "showland": true,
           "subunitcolor": "white"
          },
          "hoverlabel": {
           "align": "left"
          },
          "hovermode": "closest",
          "mapbox": {
           "style": "light"
          },
          "paper_bgcolor": "white",
          "plot_bgcolor": "#E5ECF6",
          "polar": {
           "angularaxis": {
            "gridcolor": "white",
            "linecolor": "white",
            "ticks": ""
           },
           "bgcolor": "#E5ECF6",
           "radialaxis": {
            "gridcolor": "white",
            "linecolor": "white",
            "ticks": ""
           }
          },
          "scene": {
           "xaxis": {
            "backgroundcolor": "#E5ECF6",
            "gridcolor": "white",
            "gridwidth": 2,
            "linecolor": "white",
            "showbackground": true,
            "ticks": "",
            "zerolinecolor": "white"
           },
           "yaxis": {
            "backgroundcolor": "#E5ECF6",
            "gridcolor": "white",
            "gridwidth": 2,
            "linecolor": "white",
            "showbackground": true,
            "ticks": "",
            "zerolinecolor": "white"
           },
           "zaxis": {
            "backgroundcolor": "#E5ECF6",
            "gridcolor": "white",
            "gridwidth": 2,
            "linecolor": "white",
            "showbackground": true,
            "ticks": "",
            "zerolinecolor": "white"
           }
          },
          "shapedefaults": {
           "line": {
            "color": "#2a3f5f"
           }
          },
          "ternary": {
           "aaxis": {
            "gridcolor": "white",
            "linecolor": "white",
            "ticks": ""
           },
           "baxis": {
            "gridcolor": "white",
            "linecolor": "white",
            "ticks": ""
           },
           "bgcolor": "#E5ECF6",
           "caxis": {
            "gridcolor": "white",
            "linecolor": "white",
            "ticks": ""
           }
          },
          "title": {
           "x": 0.05
          },
          "xaxis": {
           "automargin": true,
           "gridcolor": "white",
           "linecolor": "white",
           "ticks": "",
           "title": {
            "standoff": 15
           },
           "zerolinecolor": "white",
           "zerolinewidth": 2
          },
          "yaxis": {
           "automargin": true,
           "gridcolor": "white",
           "linecolor": "white",
           "ticks": "",
           "title": {
            "standoff": 15
           },
           "zerolinecolor": "white",
           "zerolinewidth": 2
          }
         }
        },
        "title": {
         "text": "select (tps) vs. k (sift, N=10k)"
        },
        "xaxis": {
         "autorange": true,
         "range": [
          -4.066604900144122,
          85.06660490014413
         ],
         "title": {
          "text": "k"
         },
         "type": "linear"
        },
        "yaxis": {
         "autorange": true,
         "range": [
          -224.23921836407771,
          6307.483737364078
         ],
         "title": {
          "text": "select (tps)"
         },
         "type": "linear"
        }
       }
      },
      "image/png": "[encoded data removed]",
      "text/html": [
       "<div>                            <div id=\"fa92fd8d-ba96-416e-ab53-763b8617dafd\" class=\"plotly-graph-div\" style=\"height:525px; width:100%;\"></div>            <script type=\"text/javascript\">                require([\"plotly\"], function(Plotly) {                    window.PLOTLYENV=window.PLOTLYENV || {};                                    if (document.getElementById(\"fa92fd8d-ba96-416e-ab53-763b8617dafd\")) {                    Plotly.newPlot(                        \"fa92fd8d-ba96-416e-ab53-763b8617dafd\",                        [{\"legendgroup\":\"PGVECTOR_IVFFLAT\",\"legendgrouptitle\":{\"text\":\"PGVECTOR_IVFFLAT\"},\"marker\":{\"color\":\"rgb(255,204,153)\"},\"mode\":\"lines+markers\",\"name\":\"PGVECTOR_IVFFLAT - {'lists': 100, 'probes': 16}\",\"x\":[1,3,5,10,20,40,80],\"y\":[3650.079085,3476.648511,4410.629617,4202.710748,3910.833007,3559.668951,3530.034712],\"type\":\"scatter\"},{\"legendgroup\":\"PGVECTOR_HNSW\",\"legendgrouptitle\":{\"text\":\"PGVECTOR_HNSW\"},\"marker\":{\"color\":\"rgb(153,153,255)\"},\"mode\":\"lines+markers\",\"name\":\"PGVECTOR_HNSW - {'m': 4, 'ef_construction': 128, 'ef': 10}\",\"x\":[1,3,5,10,20,40,80],\"y\":[2796.290255,2956.320367,2785.450663,2538.071066,2471.678682,2296.430964,2490.970233],\"type\":\"scatter\"},{\"legendgroup\":\"LANTERN\",\"legendgrouptitle\":{\"text\":\"LANTERN\"},\"marker\":{\"color\":\"rgb(153,255,153)\"},\"mode\":\"lines+markers\",\"name\":\"LANTERN - {'m': 4, 'ef_construction': 128, 'ef': 10}\",\"x\":[1,3,5,10,20,40,80],\"y\":[2724.177072,3738.084855,3307.060574,3494.568858,2490.970233,3215.347927,3769.199359],\"type\":\"scatter\"},{\"legendgroup\":\"NEON\",\"legendgrouptitle\":{\"text\":\"NEON\"},\"marker\":{\"color\":\"rgb(204,153,255)\"},\"mode\":\"lines+markers\",\"name\":\"NEON - {'m': 4, 'ef_construction': 128, 'ef': 10}\",\"x\":[1,3,5,10,20,40,80],\"y\":[4527.106047,5844.820028,5257.623554,4447.409384,5363.847667,3601.008282,5450.82898],\"type\":\"scatter\"},{\"legendgroup\":\"NONE\",\"legendgrouptitle\":{\"text\":\"NONE\"},\"marker\":{\"color\":\"rgb(255,153,153)\"},\"mode\":\"lines+markers\",\"name\":\"NONE - {}\",\"x\":[1,3,5,10,20,40,80],\"y\":[238.424491,451.640584,456.197442,461.526036,433.579269,466.5648,424.307142],\"type\":\"scatter\"}],                        {\"template\":{\"data\":{\"histogram2dcontour\":[{\"type\":\"histogram2dcontour\",\"colorbar\":{\"outlinewidth\":0,\"ticks\":\"\"},\"colorscale\":[[0.0,\"#0d0887\"],[0.1111111111111111,\"#46039f\"],[0.2222222222222222,\"#7201a8\"],[0.3333333333333333,\"#9c179e\"],[0.4444444444444444,\"#bd3786\"],[0.5555555555555556,\"#d8576b\"],[0.6666666666666666,\"#ed7953\"],[0.7777777777777778,\"#fb9f3a\"],[0.8888888888888888,\"#fdca26\"],[1.0,\"#f0f921\"]]}],\"choropleth\":[{\"type\":\"choropleth\",\"colorbar\":{\"outlinewidth\":0,\"ticks\":\"\"}}],\"histogram2d\":[{\"type\":\"histogram2d\",\"colorbar\":{\"outlinewidth\":0,\"ticks\":\"\"},\"colorscale\":[[0.0,\"#0d0887\"],[0.1111111111111111,\"#46039f\"],[0.2222222222222222,\"#7201a8\"],[0.3333333333333333,\"#9c179e\"],[0.4444444444444444,\"#bd3786\"],[0.5555555555555556,\"#d8576b\"],[0.6666666666666666,\"#ed7953\"],[0.7777777777777778,\"#fb9f3a\"],[0.8888888888888888,\"#fdca26\"],[1.0,\"#f0f921\"]]}],\"heatmap\":[{\"type\":\"heatmap\",\"colorbar\":{\"outlinewidth\":0,\"ticks\":\"\"},\"colorscale\":[[0.0,\"#0d0887\"],[0.1111111111111111,\"#46039f\"],[0.2222222222222222,\"#7201a8\"],[0.3333333333333333,\"#9c179e\"],[0.4444444444444444,\"#bd3786\"],[0.5555555555555556,\"#d8576b\"],[0.6666666666666666,\"#ed7953\"],[0.7777777777777778,\"#fb9f3a\"],[0.8888888888888888,\"#fdca26\"],[1.0,\"#f0f921\"]]}],\"heatmapgl\":[{\"type\":\"heatmapgl\",\"colorbar\":{\"outlinewidth\":0,\"ticks\":\"\"},\"colorscale\":[[0.0,\"#0d0887\"],[0.1111111111111111,\"#46039f\"],[0.2222222222222222,\"#7201a8\"],[0.3333333333333333,\"#9c179e\"],[0.4444444444444444,\"#bd3786\"],[0.5555555555555556,\"#d8576b\"],[0.6666666666666666,\"#ed7953\"],[0.7777777777777778,\"#fb9f3a\"],[0.8888888888888888,\"#fdca26\"],[1.0,\"#f0f921\"]]}],\"contourcarpet\":[{\"type\":\"contourcarpet\",\"colorbar\":{\"outlinewidth\":0,\"ticks\":\"\"}}],\"contour\":[{\"type\":\"contour\",\"colorbar\":{\"outlinewidth\":0,\"ticks\":\"\"},\"colorscale\":[[0.0,\"#0d0887\"],[0.1111111111111111,\"#46039f\"],[0.2222222222222222,\"#7201a8\"],[0.3333333333333333,\"#9c179e\"],[0.4444444444444444,\"#bd3786\"],[0.5555555555555556,\"#d8576b\"],[0.6666666666666666,\"#ed7953\"],[0.7777777777777778,\"#fb9f3a\"],[0.8888888888888888,\"#fdca26\"],[1.0,\"#f0f921\"]]}],\"surface\":[{\"type\":\"surface\",\"colorbar\":{\"outlinewidth\":0,\"ticks\":\"\"},\"colorscale\":[[0.0,\"#0d0887\"],[0.1111111111111111,\"#46039f\"],[0.2222222222222222,\"#7201a8\"],[0.3333333333333333,\"#9c179e\"],[0.4444444444444444,\"#bd3786\"],[0.5555555555555556,\"#d8576b\"],[0.6666666666666666,\"#ed7953\"],[0.7777777777777778,\"#fb9f3a\"],[0.8888888888888888,\"#fdca26\"],[1.0,\"#f0f921\"]]}],\"mesh3d\":[{\"type\":\"mesh3d\",\"colorbar\":{\"outlinewidth\":0,\"ticks\":\"\"}}],\"scatter\":[{\"fillpattern\":{\"fillmode\":\"overlay\",\"size\":10,\"solidity\":0.2},\"type\":\"scatter\"}],\"parcoords\":[{\"type\":\"parcoords\",\"line\":{\"colorbar\":{\"outlinewidth\":0,\"ticks\":\"\"}}}],\"scatterpolargl\":[{\"type\":\"scatterpolargl\",\"marker\":{\"colorbar\":{\"outlinewidth\":0,\"ticks\":\"\"}}}],\"bar\":[{\"error_x\":{\"color\":\"#2a3f5f\"},\"error_y\":{\"color\":\"#2a3f5f\"},\"marker\":{\"line\":{\"color\":\"#E5ECF6\",\"width\":0.5},\"pattern\":{\"fillmode\":\"overlay\",\"size\":10,\"solidity\":0.2}},\"type\":\"bar\"}],\"scattergeo\":[{\"type\":\"scattergeo\",\"marker\":{\"colorbar\":{\"outlinewidth\":0,\"ticks\":\"\"}}}],\"scatterpolar\":[{\"type\":\"scatterpolar\",\"marker\":{\"colorbar\":{\"outlinewidth\":0,\"ticks\":\"\"}}}],\"histogram\":[{\"marker\":{\"pattern\":{\"fillmode\":\"overlay\",\"size\":10,\"solidity\":0.2}},\"type\":\"histogram\"}],\"scattergl\":[{\"type\":\"scattergl\",\"marker\":{\"colorbar\":{\"outlinewidth\":0,\"ticks\":\"\"}}}],\"scatter3d\":[{\"type\":\"scatter3d\",\"line\":{\"colorbar\":{\"outlinewidth\":0,\"ticks\":\"\"}},\"marker\":{\"colorbar\":{\"outlinewidth\":0,\"ticks\":\"\"}}}],\"scattermapbox\":[{\"type\":\"scattermapbox\",\"marker\":{\"colorbar\":{\"outlinewidth\":0,\"ticks\":\"\"}}}],\"scatterternary\":[{\"type\":\"scatterternary\",\"marker\":{\"colorbar\":{\"outlinewidth\":0,\"ticks\":\"\"}}}],\"scattercarpet\":[{\"type\":\"scattercarpet\",\"marker\":{\"colorbar\":{\"outlinewidth\":0,\"ticks\":\"\"}}}],\"carpet\":[{\"aaxis\":{\"endlinecolor\":\"#2a3f5f\",\"gridcolor\":\"white\",\"linecolor\":\"white\",\"minorgridcolor\":\"white\",\"startlinecolor\":\"#2a3f5f\"},\"baxis\":{\"endlinecolor\":\"#2a3f5f\",\"gridcolor\":\"white\",\"linecolor\":\"white\",\"minorgridcolor\":\"white\",\"startlinecolor\":\"#2a3f5f\"},\"type\":\"carpet\"}],\"table\":[{\"cells\":{\"fill\":{\"color\":\"#EBF0F8\"},\"line\":{\"color\":\"white\"}},\"header\":{\"fill\":{\"color\":\"#C8D4E3\"},\"line\":{\"color\":\"white\"}},\"type\":\"table\"}],\"barpolar\":[{\"marker\":{\"line\":{\"color\":\"#E5ECF6\",\"width\":0.5},\"pattern\":{\"fillmode\":\"overlay\",\"size\":10,\"solidity\":0.2}},\"type\":\"barpolar\"}],\"pie\":[{\"automargin\":true,\"type\":\"pie\"}]},\"layout\":{\"autotypenumbers\":\"strict\",\"colorway\":[\"#636efa\",\"#EF553B\",\"#00cc96\",\"#ab63fa\",\"#FFA15A\",\"#19d3f3\",\"#FF6692\",\"#B6E880\",\"#FF97FF\",\"#FECB52\"],\"font\":{\"color\":\"#2a3f5f\"},\"hovermode\":\"closest\",\"hoverlabel\":{\"align\":\"left\"},\"paper_bgcolor\":\"white\",\"plot_bgcolor\":\"#E5ECF6\",\"polar\":{\"bgcolor\":\"#E5ECF6\",\"angularaxis\":{\"gridcolor\":\"white\",\"linecolor\":\"white\",\"ticks\":\"\"},\"radialaxis\":{\"gridcolor\":\"white\",\"linecolor\":\"white\",\"ticks\":\"\"}},\"ternary\":{\"bgcolor\":\"#E5ECF6\",\"aaxis\":{\"gridcolor\":\"white\",\"linecolor\":\"white\",\"ticks\":\"\"},\"baxis\":{\"gridcolor\":\"white\",\"linecolor\":\"white\",\"ticks\":\"\"},\"caxis\":{\"gridcolor\":\"white\",\"linecolor\":\"white\",\"ticks\":\"\"}},\"coloraxis\":{\"colorbar\":{\"outlinewidth\":0,\"ticks\":\"\"}},\"colorscale\":{\"sequential\":[[0.0,\"#0d0887\"],[0.1111111111111111,\"#46039f\"],[0.2222222222222222,\"#7201a8\"],[0.3333333333333333,\"#9c179e\"],[0.4444444444444444,\"#bd3786\"],[0.5555555555555556,\"#d8576b\"],[0.6666666666666666,\"#ed7953\"],[0.7777777777777778,\"#fb9f3a\"],[0.8888888888888888,\"#fdca26\"],[1.0,\"#f0f921\"]],\"sequentialminus\":[[0.0,\"#0d0887\"],[0.1111111111111111,\"#46039f\"],[0.2222222222222222,\"#7201a8\"],[0.3333333333333333,\"#9c179e\"],[0.4444444444444444,\"#bd3786\"],[0.5555555555555556,\"#d8576b\"],[0.6666666666666666,\"#ed7953\"],[0.7777777777777778,\"#fb9f3a\"],[0.8888888888888888,\"#fdca26\"],[1.0,\"#f0f921\"]],\"diverging\":[[0,\"#8e0152\"],[0.1,\"#c51b7d\"],[0.2,\"#de77ae\"],[0.3,\"#f1b6da\"],[0.4,\"#fde0ef\"],[0.5,\"#f7f7f7\"],[0.6,\"#e6f5d0\"],[0.7,\"#b8e186\"],[0.8,\"#7fbc41\"],[0.9,\"#4d9221\"],[1,\"#276419\"]]},\"xaxis\":{\"gridcolor\":\"white\",\"linecolor\":\"white\",\"ticks\":\"\",\"title\":{\"standoff\":15},\"zerolinecolor\":\"white\",\"automargin\":true,\"zerolinewidth\":2},\"yaxis\":{\"gridcolor\":\"white\",\"linecolor\":\"white\",\"ticks\":\"\",\"title\":{\"standoff\":15},\"zerolinecolor\":\"white\",\"automargin\":true,\"zerolinewidth\":2},\"scene\":{\"xaxis\":{\"backgroundcolor\":\"#E5ECF6\",\"gridcolor\":\"white\",\"linecolor\":\"white\",\"showbackground\":true,\"ticks\":\"\",\"zerolinecolor\":\"white\",\"gridwidth\":2},\"yaxis\":{\"backgroundcolor\":\"#E5ECF6\",\"gridcolor\":\"white\",\"linecolor\":\"white\",\"showbackground\":true,\"ticks\":\"\",\"zerolinecolor\":\"white\",\"gridwidth\":2},\"zaxis\":{\"backgroundcolor\":\"#E5ECF6\",\"gridcolor\":\"white\",\"linecolor\":\"white\",\"showbackground\":true,\"ticks\":\"\",\"zerolinecolor\":\"white\",\"gridwidth\":2}},\"shapedefaults\":{\"line\":{\"color\":\"#2a3f5f\"}},\"annotationdefaults\":{\"arrowcolor\":\"#2a3f5f\",\"arrowhead\":0,\"arrowwidth\":1},\"geo\":{\"bgcolor\":\"white\",\"landcolor\":\"#E5ECF6\",\"subunitcolor\":\"white\",\"showland\":true,\"showlakes\":true,\"lakecolor\":\"white\"},\"title\":{\"x\":0.05},\"mapbox\":{\"style\":\"light\"}}},\"title\":{\"text\":\"select (tps) vs. k (sift, N=10k)\"},\"xaxis\":{\"title\":{\"text\":\"k\"}},\"yaxis\":{\"title\":{\"text\":\"select (tps)\"}}},                        {\"responsive\": true}                    ).then(function(){\n",
       "                            \n",
       "var gd = document.getElementById('fa92fd8d-ba96-416e-ab53-763b8617dafd');\n",
       "var x = new MutationObserver(function (mutations, observer) {{\n",
       "        var display = window.getComputedStyle(gd).display;\n",
       "        if (!display || display === 'none') {{\n",
       "            console.log([gd, 'removed!']);\n",
       "            Plotly.purge(gd);\n",
       "            observer.disconnect();\n",
       "        }}\n",
       "}});\n",
       "\n",
       "// Listen for the removal of the full notebook cells\n",
       "var notebookContainer = gd.closest('#notebook-container');\n",
       "if (notebookContainer) {{\n",
       "    x.observe(notebookContainer, {childList: true});\n",
       "}}\n",
       "\n",
       "// Listen for the clearing of the current output cell\n",
       "var outputEl = gd.closest('.output');\n",
       "if (outputEl) {{\n",
       "    x.observe(outputEl, {childList: true});\n",
       "}}\n",
       "\n",
       "                        })                };                });            </script>        </div>"
      ]
     },
     "metadata": {},
     "output_type": "display_data"
    }
   ],
   "source": [
    "from core.utils.constants import Extension, ExperimentParam, Dataset, Metric, DEFAULT_INDEX_PARAMS\n",
    "from core.benchmark_select import generate_plot\n",
    "generate_plot(DEFAULT_INDEX_PARAMS, Dataset.SIFT, ExperimentParam.N, '10k', ExperimentParam.K, Metric.SELECT_TPS)"
   ]
  },
  {
   "cell_type": "code",
   "execution_count": 9,
   "id": "89a2b276-2aad-4776-992d-b9704a96ee4b",
   "metadata": {},
   "outputs": [
    {
     "data": {
      "application/vnd.plotly.v1+json": {
       "config": {
        "plotlyServerURL": "https://plot.ly"
       },
       "data": [
        {
         "legendgroup": "PGVECTOR_IVFFLAT",
         "legendgrouptitle": {
          "text": "PGVECTOR_IVFFLAT"
         },
         "marker": {
          "color": "rgb(255,204,153)"
         },
         "mode": "lines+markers",
         "name": "PGVECTOR_IVFFLAT - {'lists': 100, 'probes': 16}",
         "type": "scatter",
         "x": [
          10000,
          100000,
          200000,
          400000
         ],
         "y": [
          1.217,
          10.245,
          19.248,
          0.98
         ]
        },
        {
         "fill": "toself",
         "fillcolor": "rgba(255,204,153,0.3)",
         "legendgroup": "PGVECTOR_IVFFLAT",
         "line": {
          "color": "rgba(255,255,255,0)"
         },
         "showlegend": false,
         "type": "scatter",
         "x": [
          10000,
          100000,
          200000,
          400000,
          400000,
          200000,
          100000,
          10000
         ],
         "y": [
          3.246,
          17.343,
          26.68,
          3.983,
          -2.023,
          11.816,
          3.1469999999999994,
          -0.8119999999999998
         ]
        },
        {
         "legendgroup": "PGVECTOR_HNSW",
         "legendgrouptitle": {
          "text": "PGVECTOR_HNSW"
         },
         "marker": {
          "color": "rgb(153,153,255)"
         },
         "mode": "lines+markers",
         "name": "PGVECTOR_HNSW - {'m': 4, 'ef_construction': 128, 'ef': 10}",
         "type": "scatter",
         "x": [
          10000,
          100000,
          200000,
          400000
         ],
         "y": [
          1.971,
          2.84,
          3.512,
          0.937
         ]
        },
        {
         "fill": "toself",
         "fillcolor": "rgba(153,153,255,0.3)",
         "legendgroup": "PGVECTOR_HNSW",
         "line": {
          "color": "rgba(255,255,255,0)"
         },
         "showlegend": false,
         "type": "scatter",
         "x": [
          10000,
          100000,
          200000,
          400000,
          400000,
          200000,
          100000,
          10000
         ],
         "y": [
          5.019,
          7.333,
          10.181,
          3.104,
          -1.2299999999999998,
          -3.1569999999999996,
          -1.6530000000000005,
          -1.077
         ]
        },
        {
         "legendgroup": "LANTERN",
         "legendgrouptitle": {
          "text": "LANTERN"
         },
         "marker": {
          "color": "rgb(153,255,153)"
         },
         "mode": "lines+markers",
         "name": "LANTERN - {'m': 4, 'ef_construction': 128, 'ef': 10}",
         "type": "scatter",
         "x": [
          10000,
          100000,
          200000,
          400000
         ],
         "y": [
          1.657,
          2.865,
          2.513,
          3.343
         ]
        },
        {
         "fill": "toself",
         "fillcolor": "rgba(153,255,153,0.3)",
         "legendgroup": "LANTERN",
         "line": {
          "color": "rgba(255,255,255,0)"
         },
         "showlegend": false,
         "type": "scatter",
         "x": [
          10000,
          100000,
          200000,
          400000,
          400000,
          200000,
          100000,
          10000
         ],
         "y": [
          5.389,
          7.605,
          7.354,
          8.620999999999999,
          -1.9349999999999996,
          -2.3280000000000003,
          -1.875,
          -2.075
         ]
        },
        {
         "legendgroup": "NEON",
         "legendgrouptitle": {
          "text": "NEON"
         },
         "marker": {
          "color": "rgb(204,153,255)"
         },
         "mode": "lines+markers",
         "name": "NEON - {'m': 4, 'ef_construction': 128, 'ef': 10}",
         "type": "scatter",
         "x": [
          10000,
          100000,
          200000,
          400000
         ],
         "y": [
          0.951,
          1.595,
          2.796,
          2.152
         ]
        },
        {
         "fill": "toself",
         "fillcolor": "rgba(204,153,255,0.3)",
         "legendgroup": "NEON",
         "line": {
          "color": "rgba(255,255,255,0)"
         },
         "showlegend": false,
         "type": "scatter",
         "x": [
          10000,
          100000,
          200000,
          400000,
          400000,
          200000,
          100000,
          10000
         ],
         "y": [
          3.057,
          4.885,
          10.554,
          6.986,
          -2.6819999999999995,
          -4.962,
          -1.695,
          -1.1549999999999998
         ]
        },
        {
         "legendgroup": "NONE",
         "legendgrouptitle": {
          "text": "NONE"
         },
         "marker": {
          "color": "rgb(255,153,153)"
         },
         "mode": "lines+markers",
         "name": "NONE - {}",
         "type": "scatter",
         "x": [
          10000,
          100000,
          200000,
          400000
         ],
         "y": [
          14.605,
          330.031,
          621.828,
          1367.045
         ]
        },
        {
         "fill": "toself",
         "fillcolor": "rgba(255,153,153,0.3)",
         "legendgroup": "NONE",
         "line": {
          "color": "rgba(255,255,255,0)"
         },
         "showlegend": false,
         "type": "scatter",
         "x": [
          10000,
          100000,
          200000,
          400000,
          400000,
          200000,
          100000,
          10000
         ],
         "y": [
          22.358,
          494.212,
          931.49,
          2133.389,
          600.701,
          312.166,
          165.85,
          6.852
         ]
        }
       ],
       "layout": {
        "autosize": true,
        "template": {
         "data": {
          "bar": [
           {
            "error_x": {
             "color": "#2a3f5f"
            },
            "error_y": {
             "color": "#2a3f5f"
            },
            "marker": {
             "line": {
              "color": "#E5ECF6",
              "width": 0.5
             },
             "pattern": {
              "fillmode": "overlay",
              "size": 10,
              "solidity": 0.2
             }
            },
            "type": "bar"
           }
          ],
          "barpolar": [
           {
            "marker": {
             "line": {
              "color": "#E5ECF6",
              "width": 0.5
             },
             "pattern": {
              "fillmode": "overlay",
              "size": 10,
              "solidity": 0.2
             }
            },
            "type": "barpolar"
           }
          ],
          "carpet": [
           {
            "aaxis": {
             "endlinecolor": "#2a3f5f",
             "gridcolor": "white",
             "linecolor": "white",
             "minorgridcolor": "white",
             "startlinecolor": "#2a3f5f"
            },
            "baxis": {
             "endlinecolor": "#2a3f5f",
             "gridcolor": "white",
             "linecolor": "white",
             "minorgridcolor": "white",
             "startlinecolor": "#2a3f5f"
            },
            "type": "carpet"
           }
          ],
          "choropleth": [
           {
            "colorbar": {
             "outlinewidth": 0,
             "ticks": ""
            },
            "type": "choropleth"
           }
          ],
          "contour": [
           {
            "colorbar": {
             "outlinewidth": 0,
             "ticks": ""
            },
            "colorscale": [
             [
              0,
              "#0d0887"
             ],
             [
              0.1111111111111111,
              "#46039f"
             ],
             [
              0.2222222222222222,
              "#7201a8"
             ],
             [
              0.3333333333333333,
              "#9c179e"
             ],
             [
              0.4444444444444444,
              "#bd3786"
             ],
             [
              0.5555555555555556,
              "#d8576b"
             ],
             [
              0.6666666666666666,
              "#ed7953"
             ],
             [
              0.7777777777777778,
              "#fb9f3a"
             ],
             [
              0.8888888888888888,
              "#fdca26"
             ],
             [
              1,
              "#f0f921"
             ]
            ],
            "type": "contour"
           }
          ],
          "contourcarpet": [
           {
            "colorbar": {
             "outlinewidth": 0,
             "ticks": ""
            },
            "type": "contourcarpet"
           }
          ],
          "heatmap": [
           {
            "colorbar": {
             "outlinewidth": 0,
             "ticks": ""
            },
            "colorscale": [
             [
              0,
              "#0d0887"
             ],
             [
              0.1111111111111111,
              "#46039f"
             ],
             [
              0.2222222222222222,
              "#7201a8"
             ],
             [
              0.3333333333333333,
              "#9c179e"
             ],
             [
              0.4444444444444444,
              "#bd3786"
             ],
             [
              0.5555555555555556,
              "#d8576b"
             ],
             [
              0.6666666666666666,
              "#ed7953"
             ],
             [
              0.7777777777777778,
              "#fb9f3a"
             ],
             [
              0.8888888888888888,
              "#fdca26"
             ],
             [
              1,
              "#f0f921"
             ]
            ],
            "type": "heatmap"
           }
          ],
          "heatmapgl": [
           {
            "colorbar": {
             "outlinewidth": 0,
             "ticks": ""
            },
            "colorscale": [
             [
              0,
              "#0d0887"
             ],
             [
              0.1111111111111111,
              "#46039f"
             ],
             [
              0.2222222222222222,
              "#7201a8"
             ],
             [
              0.3333333333333333,
              "#9c179e"
             ],
             [
              0.4444444444444444,
              "#bd3786"
             ],
             [
              0.5555555555555556,
              "#d8576b"
             ],
             [
              0.6666666666666666,
              "#ed7953"
             ],
             [
              0.7777777777777778,
              "#fb9f3a"
             ],
             [
              0.8888888888888888,
              "#fdca26"
             ],
             [
              1,
              "#f0f921"
             ]
            ],
            "type": "heatmapgl"
           }
          ],
          "histogram": [
           {
            "marker": {
             "pattern": {
              "fillmode": "overlay",
              "size": 10,
              "solidity": 0.2
             }
            },
            "type": "histogram"
           }
          ],
          "histogram2d": [
           {
            "colorbar": {
             "outlinewidth": 0,
             "ticks": ""
            },
            "colorscale": [
             [
              0,
              "#0d0887"
             ],
             [
              0.1111111111111111,
              "#46039f"
             ],
             [
              0.2222222222222222,
              "#7201a8"
             ],
             [
              0.3333333333333333,
              "#9c179e"
             ],
             [
              0.4444444444444444,
              "#bd3786"
             ],
             [
              0.5555555555555556,
              "#d8576b"
             ],
             [
              0.6666666666666666,
              "#ed7953"
             ],
             [
              0.7777777777777778,
              "#fb9f3a"
             ],
             [
              0.8888888888888888,
              "#fdca26"
             ],
             [
              1,
              "#f0f921"
             ]
            ],
            "type": "histogram2d"
           }
          ],
          "histogram2dcontour": [
           {
            "colorbar": {
             "outlinewidth": 0,
             "ticks": ""
            },
            "colorscale": [
             [
              0,
              "#0d0887"
             ],
             [
              0.1111111111111111,
              "#46039f"
             ],
             [
              0.2222222222222222,
              "#7201a8"
             ],
             [
              0.3333333333333333,
              "#9c179e"
             ],
             [
              0.4444444444444444,
              "#bd3786"
             ],
             [
              0.5555555555555556,
              "#d8576b"
             ],
             [
              0.6666666666666666,
              "#ed7953"
             ],
             [
              0.7777777777777778,
              "#fb9f3a"
             ],
             [
              0.8888888888888888,
              "#fdca26"
             ],
             [
              1,
              "#f0f921"
             ]
            ],
            "type": "histogram2dcontour"
           }
          ],
          "mesh3d": [
           {
            "colorbar": {
             "outlinewidth": 0,
             "ticks": ""
            },
            "type": "mesh3d"
           }
          ],
          "parcoords": [
           {
            "line": {
             "colorbar": {
              "outlinewidth": 0,
              "ticks": ""
             }
            },
            "type": "parcoords"
           }
          ],
          "pie": [
           {
            "automargin": true,
            "type": "pie"
           }
          ],
          "scatter": [
           {
            "fillpattern": {
             "fillmode": "overlay",
             "size": 10,
             "solidity": 0.2
            },
            "type": "scatter"
           }
          ],
          "scatter3d": [
           {
            "line": {
             "colorbar": {
              "outlinewidth": 0,
              "ticks": ""
             }
            },
            "marker": {
             "colorbar": {
              "outlinewidth": 0,
              "ticks": ""
             }
            },
            "type": "scatter3d"
           }
          ],
          "scattercarpet": [
           {
            "marker": {
             "colorbar": {
              "outlinewidth": 0,
              "ticks": ""
             }
            },
            "type": "scattercarpet"
           }
          ],
          "scattergeo": [
           {
            "marker": {
             "colorbar": {
              "outlinewidth": 0,
              "ticks": ""
             }
            },
            "type": "scattergeo"
           }
          ],
          "scattergl": [
           {
            "marker": {
             "colorbar": {
              "outlinewidth": 0,
              "ticks": ""
             }
            },
            "type": "scattergl"
           }
          ],
          "scattermapbox": [
           {
            "marker": {
             "colorbar": {
              "outlinewidth": 0,
              "ticks": ""
             }
            },
            "type": "scattermapbox"
           }
          ],
          "scatterpolar": [
           {
            "marker": {
             "colorbar": {
              "outlinewidth": 0,
              "ticks": ""
             }
            },
            "type": "scatterpolar"
           }
          ],
          "scatterpolargl": [
           {
            "marker": {
             "colorbar": {
              "outlinewidth": 0,
              "ticks": ""
             }
            },
            "type": "scatterpolargl"
           }
          ],
          "scatterternary": [
           {
            "marker": {
             "colorbar": {
              "outlinewidth": 0,
              "ticks": ""
             }
            },
            "type": "scatterternary"
           }
          ],
          "surface": [
           {
            "colorbar": {
             "outlinewidth": 0,
             "ticks": ""
            },
            "colorscale": [
             [
              0,
              "#0d0887"
             ],
             [
              0.1111111111111111,
              "#46039f"
             ],
             [
              0.2222222222222222,
              "#7201a8"
             ],
             [
              0.3333333333333333,
              "#9c179e"
             ],
             [
              0.4444444444444444,
              "#bd3786"
             ],
             [
              0.5555555555555556,
              "#d8576b"
             ],
             [
              0.6666666666666666,
              "#ed7953"
             ],
             [
              0.7777777777777778,
              "#fb9f3a"
             ],
             [
              0.8888888888888888,
              "#fdca26"
             ],
             [
              1,
              "#f0f921"
             ]
            ],
            "type": "surface"
           }
          ],
          "table": [
           {
            "cells": {
             "fill": {
              "color": "#EBF0F8"
             },
             "line": {
              "color": "white"
             }
            },
            "header": {
             "fill": {
              "color": "#C8D4E3"
             },
             "line": {
              "color": "white"
             }
            },
            "type": "table"
           }
          ]
         },
         "layout": {
          "annotationdefaults": {
           "arrowcolor": "#2a3f5f",
           "arrowhead": 0,
           "arrowwidth": 1
          },
          "autotypenumbers": "strict",
          "coloraxis": {
           "colorbar": {
            "outlinewidth": 0,
            "ticks": ""
           }
          },
          "colorscale": {
           "diverging": [
            [
             0,
             "#8e0152"
            ],
            [
             0.1,
             "#c51b7d"
            ],
            [
             0.2,
             "#de77ae"
            ],
            [
             0.3,
             "#f1b6da"
            ],
            [
             0.4,
             "#fde0ef"
            ],
            [
             0.5,
             "#f7f7f7"
            ],
            [
             0.6,
             "#e6f5d0"
            ],
            [
             0.7,
             "#b8e186"
            ],
            [
             0.8,
             "#7fbc41"
            ],
            [
             0.9,
             "#4d9221"
            ],
            [
             1,
             "#276419"
            ]
           ],
           "sequential": [
            [
             0,
             "#0d0887"
            ],
            [
             0.1111111111111111,
             "#46039f"
            ],
            [
             0.2222222222222222,
             "#7201a8"
            ],
            [
             0.3333333333333333,
             "#9c179e"
            ],
            [
             0.4444444444444444,
             "#bd3786"
            ],
            [
             0.5555555555555556,
             "#d8576b"
            ],
            [
             0.6666666666666666,
             "#ed7953"
            ],
            [
             0.7777777777777778,
             "#fb9f3a"
            ],
            [
             0.8888888888888888,
             "#fdca26"
            ],
            [
             1,
             "#f0f921"
            ]
           ],
           "sequentialminus": [
            [
             0,
             "#0d0887"
            ],
            [
             0.1111111111111111,
             "#46039f"
            ],
            [
             0.2222222222222222,
             "#7201a8"
            ],
            [
             0.3333333333333333,
             "#9c179e"
            ],
            [
             0.4444444444444444,
             "#bd3786"
            ],
            [
             0.5555555555555556,
             "#d8576b"
            ],
            [
             0.6666666666666666,
             "#ed7953"
            ],
            [
             0.7777777777777778,
             "#fb9f3a"
            ],
            [
             0.8888888888888888,
             "#fdca26"
            ],
            [
             1,
             "#f0f921"
            ]
           ]
          },
          "colorway": [
           "#636efa",
           "#EF553B",
           "#00cc96",
           "#ab63fa",
           "#FFA15A",
           "#19d3f3",
           "#FF6692",
           "#B6E880",
           "#FF97FF",
           "#FECB52"
          ],
          "font": {
           "color": "#2a3f5f"
          },
          "geo": {
           "bgcolor": "white",
           "lakecolor": "white",
           "landcolor": "#E5ECF6",
           "showlakes": true,
           "showland": true,
           "subunitcolor": "white"
          },
          "hoverlabel": {
           "align": "left"
          },
          "hovermode": "closest",
          "mapbox": {
           "style": "light"
          },
          "paper_bgcolor": "white",
          "plot_bgcolor": "#E5ECF6",
          "polar": {
           "angularaxis": {
            "gridcolor": "white",
            "linecolor": "white",
            "ticks": ""
           },
           "bgcolor": "#E5ECF6",
           "radialaxis": {
            "gridcolor": "white",
            "linecolor": "white",
            "ticks": ""
           }
          },
          "scene": {
           "xaxis": {
            "backgroundcolor": "#E5ECF6",
            "gridcolor": "white",
            "gridwidth": 2,
            "linecolor": "white",
            "showbackground": true,
            "ticks": "",
            "zerolinecolor": "white"
           },
           "yaxis": {
            "backgroundcolor": "#E5ECF6",
            "gridcolor": "white",
            "gridwidth": 2,
            "linecolor": "white",
            "showbackground": true,
            "ticks": "",
            "zerolinecolor": "white"
           },
           "zaxis": {
            "backgroundcolor": "#E5ECF6",
            "gridcolor": "white",
            "gridwidth": 2,
            "linecolor": "white",
            "showbackground": true,
            "ticks": "",
            "zerolinecolor": "white"
           }
          },
          "shapedefaults": {
           "line": {
            "color": "#2a3f5f"
           }
          },
          "ternary": {
           "aaxis": {
            "gridcolor": "white",
            "linecolor": "white",
            "ticks": ""
           },
           "baxis": {
            "gridcolor": "white",
            "linecolor": "white",
            "ticks": ""
           },
           "bgcolor": "#E5ECF6",
           "caxis": {
            "gridcolor": "white",
            "linecolor": "white",
            "ticks": ""
           }
          },
          "title": {
           "x": 0.05
          },
          "xaxis": {
           "automargin": true,
           "gridcolor": "white",
           "linecolor": "white",
           "ticks": "",
           "title": {
            "standoff": 15
           },
           "zerolinecolor": "white",
           "zerolinewidth": 2
          },
          "yaxis": {
           "automargin": true,
           "gridcolor": "white",
           "linecolor": "white",
           "ticks": "",
           "title": {
            "standoff": 15
           },
           "zerolinecolor": "white",
           "zerolinewidth": 2
          }
         }
        },
        "title": {
         "text": "select (latency ms) vs. n (sift, K=5)"
        },
        "xaxis": {
         "autorange": true,
         "range": [
          -15012.353304508957,
          425012.35330450896
         ],
         "title": {
          "text": "n"
         },
         "type": "linear"
        },
        "yaxis": {
         "autorange": true,
         "range": [
          -181.42785922330097,
          2309.854859223301
         ],
         "title": {
          "text": "select (latency ms)"
         },
         "type": "linear"
        }
       }
      },
      "image/png": "[encoded data removed]",
      "text/html": [
       "<div>                            <div id=\"ed3fb286-53eb-4b51-ab79-a34d8b3cd701\" class=\"plotly-graph-div\" style=\"height:525px; width:100%;\"></div>            <script type=\"text/javascript\">                require([\"plotly\"], function(Plotly) {                    window.PLOTLYENV=window.PLOTLYENV || {};                                    if (document.getElementById(\"ed3fb286-53eb-4b51-ab79-a34d8b3cd701\")) {                    Plotly.newPlot(                        \"ed3fb286-53eb-4b51-ab79-a34d8b3cd701\",                        [{\"legendgroup\":\"PGVECTOR_IVFFLAT\",\"legendgrouptitle\":{\"text\":\"PGVECTOR_IVFFLAT\"},\"marker\":{\"color\":\"rgb(255,204,153)\"},\"mode\":\"lines+markers\",\"name\":\"PGVECTOR_IVFFLAT - {'lists': 100, 'probes': 16}\",\"x\":[10000,100000,200000,400000],\"y\":[1.217,10.245,19.248,0.98],\"type\":\"scatter\"},{\"fill\":\"toself\",\"fillcolor\":\"rgba(255,204,153,0.3)\",\"legendgroup\":\"PGVECTOR_IVFFLAT\",\"line\":{\"color\":\"rgba(255,255,255,0)\"},\"showlegend\":false,\"x\":[10000,100000,200000,400000,400000,200000,100000,10000],\"y\":[3.246,17.343,26.68,3.983,-2.023,11.816,3.1469999999999994,-0.8119999999999998],\"type\":\"scatter\"},{\"legendgroup\":\"PGVECTOR_HNSW\",\"legendgrouptitle\":{\"text\":\"PGVECTOR_HNSW\"},\"marker\":{\"color\":\"rgb(153,153,255)\"},\"mode\":\"lines+markers\",\"name\":\"PGVECTOR_HNSW - {'m': 4, 'ef_construction': 128, 'ef': 10}\",\"x\":[10000,100000,200000,400000],\"y\":[1.971,2.84,3.512,0.937],\"type\":\"scatter\"},{\"fill\":\"toself\",\"fillcolor\":\"rgba(153,153,255,0.3)\",\"legendgroup\":\"PGVECTOR_HNSW\",\"line\":{\"color\":\"rgba(255,255,255,0)\"},\"showlegend\":false,\"x\":[10000,100000,200000,400000,400000,200000,100000,10000],\"y\":[5.019,7.333,10.181,3.104,-1.2299999999999998,-3.1569999999999996,-1.6530000000000005,-1.077],\"type\":\"scatter\"},{\"legendgroup\":\"LANTERN\",\"legendgrouptitle\":{\"text\":\"LANTERN\"},\"marker\":{\"color\":\"rgb(153,255,153)\"},\"mode\":\"lines+markers\",\"name\":\"LANTERN - {'m': 4, 'ef_construction': 128, 'ef': 10}\",\"x\":[10000,100000,200000,400000],\"y\":[1.657,2.865,2.513,3.343],\"type\":\"scatter\"},{\"fill\":\"toself\",\"fillcolor\":\"rgba(153,255,153,0.3)\",\"legendgroup\":\"LANTERN\",\"line\":{\"color\":\"rgba(255,255,255,0)\"},\"showlegend\":false,\"x\":[10000,100000,200000,400000,400000,200000,100000,10000],\"y\":[5.389,7.605,7.354,8.620999999999999,-1.9349999999999996,-2.3280000000000003,-1.875,-2.075],\"type\":\"scatter\"},{\"legendgroup\":\"NEON\",\"legendgrouptitle\":{\"text\":\"NEON\"},\"marker\":{\"color\":\"rgb(204,153,255)\"},\"mode\":\"lines+markers\",\"name\":\"NEON - {'m': 4, 'ef_construction': 128, 'ef': 10}\",\"x\":[10000,100000,200000,400000],\"y\":[0.951,1.595,2.796,2.152],\"type\":\"scatter\"},{\"fill\":\"toself\",\"fillcolor\":\"rgba(204,153,255,0.3)\",\"legendgroup\":\"NEON\",\"line\":{\"color\":\"rgba(255,255,255,0)\"},\"showlegend\":false,\"x\":[10000,100000,200000,400000,400000,200000,100000,10000],\"y\":[3.057,4.885,10.554,6.986,-2.6819999999999995,-4.962,-1.695,-1.1549999999999998],\"type\":\"scatter\"},{\"legendgroup\":\"NONE\",\"legendgrouptitle\":{\"text\":\"NONE\"},\"marker\":{\"color\":\"rgb(255,153,153)\"},\"mode\":\"lines+markers\",\"name\":\"NONE - {}\",\"x\":[10000,100000,200000,400000],\"y\":[14.605,330.031,621.828,1367.045],\"type\":\"scatter\"},{\"fill\":\"toself\",\"fillcolor\":\"rgba(255,153,153,0.3)\",\"legendgroup\":\"NONE\",\"line\":{\"color\":\"rgba(255,255,255,0)\"},\"showlegend\":false,\"x\":[10000,100000,200000,400000,400000,200000,100000,10000],\"y\":[22.358,494.212,931.49,2133.389,600.701,312.166,165.85,6.852],\"type\":\"scatter\"}],                        {\"template\":{\"data\":{\"histogram2dcontour\":[{\"type\":\"histogram2dcontour\",\"colorbar\":{\"outlinewidth\":0,\"ticks\":\"\"},\"colorscale\":[[0.0,\"#0d0887\"],[0.1111111111111111,\"#46039f\"],[0.2222222222222222,\"#7201a8\"],[0.3333333333333333,\"#9c179e\"],[0.4444444444444444,\"#bd3786\"],[0.5555555555555556,\"#d8576b\"],[0.6666666666666666,\"#ed7953\"],[0.7777777777777778,\"#fb9f3a\"],[0.8888888888888888,\"#fdca26\"],[1.0,\"#f0f921\"]]}],\"choropleth\":[{\"type\":\"choropleth\",\"colorbar\":{\"outlinewidth\":0,\"ticks\":\"\"}}],\"histogram2d\":[{\"type\":\"histogram2d\",\"colorbar\":{\"outlinewidth\":0,\"ticks\":\"\"},\"colorscale\":[[0.0,\"#0d0887\"],[0.1111111111111111,\"#46039f\"],[0.2222222222222222,\"#7201a8\"],[0.3333333333333333,\"#9c179e\"],[0.4444444444444444,\"#bd3786\"],[0.5555555555555556,\"#d8576b\"],[0.6666666666666666,\"#ed7953\"],[0.7777777777777778,\"#fb9f3a\"],[0.8888888888888888,\"#fdca26\"],[1.0,\"#f0f921\"]]}],\"heatmap\":[{\"type\":\"heatmap\",\"colorbar\":{\"outlinewidth\":0,\"ticks\":\"\"},\"colorscale\":[[0.0,\"#0d0887\"],[0.1111111111111111,\"#46039f\"],[0.2222222222222222,\"#7201a8\"],[0.3333333333333333,\"#9c179e\"],[0.4444444444444444,\"#bd3786\"],[0.5555555555555556,\"#d8576b\"],[0.6666666666666666,\"#ed7953\"],[0.7777777777777778,\"#fb9f3a\"],[0.8888888888888888,\"#fdca26\"],[1.0,\"#f0f921\"]]}],\"heatmapgl\":[{\"type\":\"heatmapgl\",\"colorbar\":{\"outlinewidth\":0,\"ticks\":\"\"},\"colorscale\":[[0.0,\"#0d0887\"],[0.1111111111111111,\"#46039f\"],[0.2222222222222222,\"#7201a8\"],[0.3333333333333333,\"#9c179e\"],[0.4444444444444444,\"#bd3786\"],[0.5555555555555556,\"#d8576b\"],[0.6666666666666666,\"#ed7953\"],[0.7777777777777778,\"#fb9f3a\"],[0.8888888888888888,\"#fdca26\"],[1.0,\"#f0f921\"]]}],\"contourcarpet\":[{\"type\":\"contourcarpet\",\"colorbar\":{\"outlinewidth\":0,\"ticks\":\"\"}}],\"contour\":[{\"type\":\"contour\",\"colorbar\":{\"outlinewidth\":0,\"ticks\":\"\"},\"colorscale\":[[0.0,\"#0d0887\"],[0.1111111111111111,\"#46039f\"],[0.2222222222222222,\"#7201a8\"],[0.3333333333333333,\"#9c179e\"],[0.4444444444444444,\"#bd3786\"],[0.5555555555555556,\"#d8576b\"],[0.6666666666666666,\"#ed7953\"],[0.7777777777777778,\"#fb9f3a\"],[0.8888888888888888,\"#fdca26\"],[1.0,\"#f0f921\"]]}],\"surface\":[{\"type\":\"surface\",\"colorbar\":{\"outlinewidth\":0,\"ticks\":\"\"},\"colorscale\":[[0.0,\"#0d0887\"],[0.1111111111111111,\"#46039f\"],[0.2222222222222222,\"#7201a8\"],[0.3333333333333333,\"#9c179e\"],[0.4444444444444444,\"#bd3786\"],[0.5555555555555556,\"#d8576b\"],[0.6666666666666666,\"#ed7953\"],[0.7777777777777778,\"#fb9f3a\"],[0.8888888888888888,\"#fdca26\"],[1.0,\"#f0f921\"]]}],\"mesh3d\":[{\"type\":\"mesh3d\",\"colorbar\":{\"outlinewidth\":0,\"ticks\":\"\"}}],\"scatter\":[{\"fillpattern\":{\"fillmode\":\"overlay\",\"size\":10,\"solidity\":0.2},\"type\":\"scatter\"}],\"parcoords\":[{\"type\":\"parcoords\",\"line\":{\"colorbar\":{\"outlinewidth\":0,\"ticks\":\"\"}}}],\"scatterpolargl\":[{\"type\":\"scatterpolargl\",\"marker\":{\"colorbar\":{\"outlinewidth\":0,\"ticks\":\"\"}}}],\"bar\":[{\"error_x\":{\"color\":\"#2a3f5f\"},\"error_y\":{\"color\":\"#2a3f5f\"},\"marker\":{\"line\":{\"color\":\"#E5ECF6\",\"width\":0.5},\"pattern\":{\"fillmode\":\"overlay\",\"size\":10,\"solidity\":0.2}},\"type\":\"bar\"}],\"scattergeo\":[{\"type\":\"scattergeo\",\"marker\":{\"colorbar\":{\"outlinewidth\":0,\"ticks\":\"\"}}}],\"scatterpolar\":[{\"type\":\"scatterpolar\",\"marker\":{\"colorbar\":{\"outlinewidth\":0,\"ticks\":\"\"}}}],\"histogram\":[{\"marker\":{\"pattern\":{\"fillmode\":\"overlay\",\"size\":10,\"solidity\":0.2}},\"type\":\"histogram\"}],\"scattergl\":[{\"type\":\"scattergl\",\"marker\":{\"colorbar\":{\"outlinewidth\":0,\"ticks\":\"\"}}}],\"scatter3d\":[{\"type\":\"scatter3d\",\"line\":{\"colorbar\":{\"outlinewidth\":0,\"ticks\":\"\"}},\"marker\":{\"colorbar\":{\"outlinewidth\":0,\"ticks\":\"\"}}}],\"scattermapbox\":[{\"type\":\"scattermapbox\",\"marker\":{\"colorbar\":{\"outlinewidth\":0,\"ticks\":\"\"}}}],\"scatterternary\":[{\"type\":\"scatterternary\",\"marker\":{\"colorbar\":{\"outlinewidth\":0,\"ticks\":\"\"}}}],\"scattercarpet\":[{\"type\":\"scattercarpet\",\"marker\":{\"colorbar\":{\"outlinewidth\":0,\"ticks\":\"\"}}}],\"carpet\":[{\"aaxis\":{\"endlinecolor\":\"#2a3f5f\",\"gridcolor\":\"white\",\"linecolor\":\"white\",\"minorgridcolor\":\"white\",\"startlinecolor\":\"#2a3f5f\"},\"baxis\":{\"endlinecolor\":\"#2a3f5f\",\"gridcolor\":\"white\",\"linecolor\":\"white\",\"minorgridcolor\":\"white\",\"startlinecolor\":\"#2a3f5f\"},\"type\":\"carpet\"}],\"table\":[{\"cells\":{\"fill\":{\"color\":\"#EBF0F8\"},\"line\":{\"color\":\"white\"}},\"header\":{\"fill\":{\"color\":\"#C8D4E3\"},\"line\":{\"color\":\"white\"}},\"type\":\"table\"}],\"barpolar\":[{\"marker\":{\"line\":{\"color\":\"#E5ECF6\",\"width\":0.5},\"pattern\":{\"fillmode\":\"overlay\",\"size\":10,\"solidity\":0.2}},\"type\":\"barpolar\"}],\"pie\":[{\"automargin\":true,\"type\":\"pie\"}]},\"layout\":{\"autotypenumbers\":\"strict\",\"colorway\":[\"#636efa\",\"#EF553B\",\"#00cc96\",\"#ab63fa\",\"#FFA15A\",\"#19d3f3\",\"#FF6692\",\"#B6E880\",\"#FF97FF\",\"#FECB52\"],\"font\":{\"color\":\"#2a3f5f\"},\"hovermode\":\"closest\",\"hoverlabel\":{\"align\":\"left\"},\"paper_bgcolor\":\"white\",\"plot_bgcolor\":\"#E5ECF6\",\"polar\":{\"bgcolor\":\"#E5ECF6\",\"angularaxis\":{\"gridcolor\":\"white\",\"linecolor\":\"white\",\"ticks\":\"\"},\"radialaxis\":{\"gridcolor\":\"white\",\"linecolor\":\"white\",\"ticks\":\"\"}},\"ternary\":{\"bgcolor\":\"#E5ECF6\",\"aaxis\":{\"gridcolor\":\"white\",\"linecolor\":\"white\",\"ticks\":\"\"},\"baxis\":{\"gridcolor\":\"white\",\"linecolor\":\"white\",\"ticks\":\"\"},\"caxis\":{\"gridcolor\":\"white\",\"linecolor\":\"white\",\"ticks\":\"\"}},\"coloraxis\":{\"colorbar\":{\"outlinewidth\":0,\"ticks\":\"\"}},\"colorscale\":{\"sequential\":[[0.0,\"#0d0887\"],[0.1111111111111111,\"#46039f\"],[0.2222222222222222,\"#7201a8\"],[0.3333333333333333,\"#9c179e\"],[0.4444444444444444,\"#bd3786\"],[0.5555555555555556,\"#d8576b\"],[0.6666666666666666,\"#ed7953\"],[0.7777777777777778,\"#fb9f3a\"],[0.8888888888888888,\"#fdca26\"],[1.0,\"#f0f921\"]],\"sequentialminus\":[[0.0,\"#0d0887\"],[0.1111111111111111,\"#46039f\"],[0.2222222222222222,\"#7201a8\"],[0.3333333333333333,\"#9c179e\"],[0.4444444444444444,\"#bd3786\"],[0.5555555555555556,\"#d8576b\"],[0.6666666666666666,\"#ed7953\"],[0.7777777777777778,\"#fb9f3a\"],[0.8888888888888888,\"#fdca26\"],[1.0,\"#f0f921\"]],\"diverging\":[[0,\"#8e0152\"],[0.1,\"#c51b7d\"],[0.2,\"#de77ae\"],[0.3,\"#f1b6da\"],[0.4,\"#fde0ef\"],[0.5,\"#f7f7f7\"],[0.6,\"#e6f5d0\"],[0.7,\"#b8e186\"],[0.8,\"#7fbc41\"],[0.9,\"#4d9221\"],[1,\"#276419\"]]},\"xaxis\":{\"gridcolor\":\"white\",\"linecolor\":\"white\",\"ticks\":\"\",\"title\":{\"standoff\":15},\"zerolinecolor\":\"white\",\"automargin\":true,\"zerolinewidth\":2},\"yaxis\":{\"gridcolor\":\"white\",\"linecolor\":\"white\",\"ticks\":\"\",\"title\":{\"standoff\":15},\"zerolinecolor\":\"white\",\"automargin\":true,\"zerolinewidth\":2},\"scene\":{\"xaxis\":{\"backgroundcolor\":\"#E5ECF6\",\"gridcolor\":\"white\",\"linecolor\":\"white\",\"showbackground\":true,\"ticks\":\"\",\"zerolinecolor\":\"white\",\"gridwidth\":2},\"yaxis\":{\"backgroundcolor\":\"#E5ECF6\",\"gridcolor\":\"white\",\"linecolor\":\"white\",\"showbackground\":true,\"ticks\":\"\",\"zerolinecolor\":\"white\",\"gridwidth\":2},\"zaxis\":{\"backgroundcolor\":\"#E5ECF6\",\"gridcolor\":\"white\",\"linecolor\":\"white\",\"showbackground\":true,\"ticks\":\"\",\"zerolinecolor\":\"white\",\"gridwidth\":2}},\"shapedefaults\":{\"line\":{\"color\":\"#2a3f5f\"}},\"annotationdefaults\":{\"arrowcolor\":\"#2a3f5f\",\"arrowhead\":0,\"arrowwidth\":1},\"geo\":{\"bgcolor\":\"white\",\"landcolor\":\"#E5ECF6\",\"subunitcolor\":\"white\",\"showland\":true,\"showlakes\":true,\"lakecolor\":\"white\"},\"title\":{\"x\":0.05},\"mapbox\":{\"style\":\"light\"}}},\"title\":{\"text\":\"select (latency ms) vs. n (sift, K=5)\"},\"xaxis\":{\"title\":{\"text\":\"n\"}},\"yaxis\":{\"title\":{\"text\":\"select (latency ms)\"}}},                        {\"responsive\": true}                    ).then(function(){\n",
       "                            \n",
       "var gd = document.getElementById('ed3fb286-53eb-4b51-ab79-a34d8b3cd701');\n",
       "var x = new MutationObserver(function (mutations, observer) {{\n",
       "        var display = window.getComputedStyle(gd).display;\n",
       "        if (!display || display === 'none') {{\n",
       "            console.log([gd, 'removed!']);\n",
       "            Plotly.purge(gd);\n",
       "            observer.disconnect();\n",
       "        }}\n",
       "}});\n",
       "\n",
       "// Listen for the removal of the full notebook cells\n",
       "var notebookContainer = gd.closest('#notebook-container');\n",
       "if (notebookContainer) {{\n",
       "    x.observe(notebookContainer, {childList: true});\n",
       "}}\n",
       "\n",
       "// Listen for the clearing of the current output cell\n",
       "var outputEl = gd.closest('.output');\n",
       "if (outputEl) {{\n",
       "    x.observe(outputEl, {childList: true});\n",
       "}}\n",
       "\n",
       "                        })                };                });            </script>        </div>"
      ]
     },
     "metadata": {},
     "output_type": "display_data"
    }
   ],
   "source": [
    "from core.utils.constants import Extension, ExperimentParam, Dataset, Metric, DEFAULT_INDEX_PARAMS\n",
    "from core.benchmark_select import generate_plot\n",
    "generate_plot(DEFAULT_INDEX_PARAMS, Dataset.SIFT, ExperimentParam.K, 5, ExperimentParam.N, Metric.SELECT_LATENCY, Metric.SELECT_LATENCY_STDDEV)"
   ]
  }
 ],
 "metadata": {
  "kernelspec": {
   "display_name": "Python 3 (ipykernel)",
   "language": "python",
   "name": "python3"
  },
  "language_info": {
   "codemirror_mode": {
    "name": "ipython",
    "version": 3
   },
   "file_extension": ".py",
   "mimetype": "text/x-python",
   "name": "python",
   "nbconvert_exporter": "python",
   "pygments_lexer": "ipython3",
   "version": "3.11.2"
  }
 },
 "nbformat": 4,
 "nbformat_minor": 5
}
