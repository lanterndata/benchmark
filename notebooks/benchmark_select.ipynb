{
 "cells": [
  {
   "attachments": {},
   "cell_type": "markdown",
   "id": "d0e4cabf-0428-4b82-a9af-1425eeb11e8f",
   "metadata": {},
   "source": [
    "# Generate data"
   ]
  },
  {
   "cell_type": "code",
   "execution_count": 1,
   "id": "5f2c507b-3b5b-45a0-9a4b-ec9dd2b46f65",
   "metadata": {
    "scrolled": true
   },
   "outputs": [
    {
     "name": "stdout",
     "output_type": "stream",
     "text": [
      "extension: pgvector_ivfflat, index params: {'lists': 100, 'probes': 16}, dataset: sift, N: 10k\n",
      "K                  Recall             TPS                Avg Latency (ms)   Stddev Latency (ms)Buffer Shared Hit  Buffer Read        \n",
      "-------------------------------------------------------------------------------------------------------------------------------------\n",
      "5                  0.58               3407.35            1.82               1.87               30.78              0.00               \n",
      "\n",
      "extension: pgvector_hnsw, index params: {'m': 4, 'ef_construction': 128, 'ef': 10}, dataset: sift, N: 10k\n",
      "K                  Recall             TPS                Avg Latency (ms)   Stddev Latency (ms)Buffer Shared Hit  Buffer Read        \n",
      "-------------------------------------------------------------------------------------------------------------------------------------\n",
      "5                  0.96               3254.33            1.81               2.81               310.67             0.00               \n",
      "\n",
      "extension: lantern, index params: {'m': 4, 'ef_construction': 128, 'ef': 10}, dataset: sift, N: 10k\n",
      "K                  Recall             TPS                Avg Latency (ms)   Stddev Latency (ms)Buffer Shared Hit  Buffer Read        \n",
      "-------------------------------------------------------------------------------------------------------------------------------------\n",
      "5                  0.74               5060.94            1.11               2.44               181.00             0.00               \n",
      "\n",
      "extension: neon, index params: {'m': 4, 'ef_construction': 128, 'ef': 10}, dataset: sift, N: 10k\n",
      "K                  Recall             TPS                Avg Latency (ms)   Stddev Latency (ms)Buffer Shared Hit  Buffer Read        \n",
      "-------------------------------------------------------------------------------------------------------------------------------------\n",
      "5                  0.67               5683.70            0.97               2.27               181.33             0.00               \n",
      "\n",
      "extension: none, index params: {}, dataset: sift, N: 10k\n",
      "K                  Recall             TPS                Avg Latency (ms)   Stddev Latency (ms)Buffer Shared Hit  Buffer Read        \n",
      "-------------------------------------------------------------------------------------------------------------------------------------\n",
      "5                  1.00               372.69             20.09              14.73              2148.00            0.00               \n",
      "\n",
      "extension: pgvector_ivfflat, index params: {'lists': 100, 'probes': 16}, dataset: sift, N: 100k\n",
      "K                  Recall             TPS                Avg Latency (ms)   Stddev Latency (ms)Buffer Shared Hit  Buffer Read        \n",
      "-------------------------------------------------------------------------------------------------------------------------------------\n",
      "5                  0.58               958.67             6.57               4.58               82.44              0.00               \n",
      "\n",
      "extension: pgvector_hnsw, index params: {'m': 4, 'ef_construction': 128, 'ef': 10}, dataset: sift, N: 100k\n",
      "K                  Recall             TPS                Avg Latency (ms)   Stddev Latency (ms)Buffer Shared Hit  Buffer Read        \n",
      "-------------------------------------------------------------------------------------------------------------------------------------\n",
      "5                  0.88               1947.61            2.97               3.76               365.56             0.00               \n",
      "\n",
      "extension: lantern, index params: {'m': 4, 'ef_construction': 128, 'ef': 10}, dataset: sift, N: 100k\n",
      "K                  Recall             TPS                Avg Latency (ms)   Stddev Latency (ms)Buffer Shared Hit  Buffer Read        \n",
      "-------------------------------------------------------------------------------------------------------------------------------------\n",
      "5                  0.52               2753.87            1.80               4.12               260.44             0.00               \n",
      "\n"
     ]
    },
    {
     "name": "stderr",
     "output_type": "stream",
     "text": [
      "ERROR:root:Error executing SQL: server closed the connection unexpectedly\n",
      "\tThis probably means the server terminated abnormally\n",
      "\tbefore or while processing the request.\n",
      "\n",
      "ERROR:root:SQL query: \n",
      "        SET maintenance_work_mem = '2GB';\n",
      "        CREATE INDEX sift_base100k_index ON sift_base100k USING\n",
      "        hnsw (v) WITH (\n",
      "            dims=128,\n",
      "            m=4,\n",
      "            efconstruction=128,\n",
      "            efsearch=10\n",
      "        );\n",
      "        SET enable_seqscan = off;\n",
      "    \n"
     ]
    },
    {
     "ename": "OperationalError",
     "evalue": "server closed the connection unexpectedly\n\tThis probably means the server terminated abnormally\n\tbefore or while processing the request.\n",
     "output_type": "error",
     "traceback": [
      "\u001b[0;31m---------------------------------------------------------------------------\u001b[0m",
      "\u001b[0;31mOperationalError\u001b[0m                          Traceback (most recent call last)",
      "Cell \u001b[0;32mIn[1], line 5\u001b[0m\n\u001b[1;32m      3\u001b[0m \u001b[38;5;28;01mfor\u001b[39;00m N \u001b[38;5;129;01min\u001b[39;00m [\u001b[38;5;124m'\u001b[39m\u001b[38;5;124m10k\u001b[39m\u001b[38;5;124m'\u001b[39m, \u001b[38;5;124m'\u001b[39m\u001b[38;5;124m100k\u001b[39m\u001b[38;5;124m'\u001b[39m, \u001b[38;5;124m'\u001b[39m\u001b[38;5;124m200k\u001b[39m\u001b[38;5;124m'\u001b[39m]:\n\u001b[1;32m      4\u001b[0m     \u001b[38;5;28;01mfor\u001b[39;00m extension, index_params \u001b[38;5;129;01min\u001b[39;00m DEFAULT_INDEX_PARAMS\u001b[38;5;241m.\u001b[39mitems():\n\u001b[0;32m----> 5\u001b[0m         \u001b[43mgenerate_result\u001b[49m\u001b[43m(\u001b[49m\u001b[43mextension\u001b[49m\u001b[43m,\u001b[49m\u001b[43m \u001b[49m\u001b[43mDataset\u001b[49m\u001b[38;5;241;43m.\u001b[39;49m\u001b[43mSIFT\u001b[49m\u001b[43m,\u001b[49m\u001b[43m \u001b[49m\u001b[43mN\u001b[49m\u001b[43m,\u001b[49m\u001b[43m \u001b[49m\u001b[43m[\u001b[49m\u001b[38;5;241;43m5\u001b[39;49m\u001b[43m]\u001b[49m\u001b[43m,\u001b[49m\u001b[43m \u001b[49m\u001b[43mindex_params\u001b[49m\u001b[38;5;241;43m=\u001b[39;49m\u001b[43mindex_params\u001b[49m\u001b[43m)\u001b[49m\n",
      "File \u001b[0;32m/workspaces/benchmark/core/benchmark_select.py:215\u001b[0m, in \u001b[0;36mgenerate_result\u001b[0;34m(extension, dataset, N, K_values, index_params, bulk)\u001b[0m\n\u001b[1;32m    213\u001b[0m \u001b[38;5;28;01mdef\u001b[39;00m \u001b[38;5;21mgenerate_result\u001b[39m(extension, dataset, N, K_values, index_params\u001b[38;5;241m=\u001b[39m{}, bulk\u001b[38;5;241m=\u001b[39m\u001b[38;5;28;01mFalse\u001b[39;00m):\n\u001b[1;32m    214\u001b[0m     delete_index(extension, dataset, N)\n\u001b[0;32m--> 215\u001b[0m     \u001b[43mcreate_index\u001b[49m\u001b[43m(\u001b[49m\u001b[43mextension\u001b[49m\u001b[43m,\u001b[49m\u001b[43m \u001b[49m\u001b[43mdataset\u001b[49m\u001b[43m,\u001b[49m\u001b[43m \u001b[49m\u001b[43mN\u001b[49m\u001b[43m,\u001b[49m\u001b[43m \u001b[49m\u001b[43mindex_params\u001b[49m\u001b[38;5;241;43m=\u001b[39;49m\u001b[43mindex_params\u001b[49m\u001b[43m)\u001b[49m\n\u001b[1;32m    217\u001b[0m     \u001b[38;5;28mprint\u001b[39m(get_title(extension, index_params, dataset, N))\n\u001b[1;32m    218\u001b[0m     print_labels(\u001b[38;5;124m'\u001b[39m\u001b[38;5;124mK\u001b[39m\u001b[38;5;124m'\u001b[39m, \u001b[38;5;124m'\u001b[39m\u001b[38;5;124mRecall\u001b[39m\u001b[38;5;124m'\u001b[39m, \u001b[38;5;124m'\u001b[39m\u001b[38;5;124mTPS\u001b[39m\u001b[38;5;124m'\u001b[39m, \u001b[38;5;124m'\u001b[39m\u001b[38;5;124mAvg Latency (ms)\u001b[39m\u001b[38;5;124m'\u001b[39m,\n\u001b[1;32m    219\u001b[0m                  \u001b[38;5;124m'\u001b[39m\u001b[38;5;124mStddev Latency (ms)\u001b[39m\u001b[38;5;124m'\u001b[39m, \u001b[38;5;124m'\u001b[39m\u001b[38;5;124mBuffer Shared Hit\u001b[39m\u001b[38;5;124m'\u001b[39m, \u001b[38;5;124m'\u001b[39m\u001b[38;5;124mBuffer Read\u001b[39m\u001b[38;5;124m'\u001b[39m)\n",
      "File \u001b[0;32m/workspaces/benchmark/core/utils/create_index.py:101\u001b[0m, in \u001b[0;36mcreate_index\u001b[0;34m(extension, dataset, N, index_params)\u001b[0m\n\u001b[1;32m     99\u001b[0m \u001b[38;5;28;01mif\u001b[39;00m sql \u001b[38;5;129;01mis\u001b[39;00m \u001b[38;5;129;01mnot\u001b[39;00m \u001b[38;5;28;01mNone\u001b[39;00m:\n\u001b[1;32m    100\u001b[0m     \u001b[38;5;28;01mwith\u001b[39;00m DatabaseConnection(extension) \u001b[38;5;28;01mas\u001b[39;00m conn:\n\u001b[0;32m--> 101\u001b[0m         \u001b[43mconn\u001b[49m\u001b[38;5;241;43m.\u001b[39;49m\u001b[43mexecute\u001b[49m\u001b[43m(\u001b[49m\u001b[43msql\u001b[49m\u001b[43m)\u001b[49m\n",
      "File \u001b[0;32m/workspaces/benchmark/core/utils/database.py:63\u001b[0m, in \u001b[0;36mDatabaseConnection.execute\u001b[0;34m(self, sql, data)\u001b[0m\n\u001b[1;32m     59\u001b[0m \u001b[38;5;28;01mdef\u001b[39;00m \u001b[38;5;21mexecute\u001b[39m(\u001b[38;5;28mself\u001b[39m, sql, data\u001b[38;5;241m=\u001b[39m\u001b[38;5;28;01mNone\u001b[39;00m):\n\u001b[1;32m     60\u001b[0m \u001b[38;5;250m    \u001b[39m\u001b[38;5;124;03m\"\"\"\u001b[39;00m\n\u001b[1;32m     61\u001b[0m \u001b[38;5;124;03m    Execute a query (INSERT, UPDATE, DELETE) and commit changes.\u001b[39;00m\n\u001b[1;32m     62\u001b[0m \u001b[38;5;124;03m    \"\"\"\u001b[39;00m\n\u001b[0;32m---> 63\u001b[0m     \u001b[38;5;28;43mself\u001b[39;49m\u001b[38;5;241;43m.\u001b[39;49m\u001b[43m_execute\u001b[49m\u001b[43m(\u001b[49m\u001b[43msql\u001b[49m\u001b[43m,\u001b[49m\u001b[43m \u001b[49m\u001b[43mdata\u001b[49m\u001b[43m)\u001b[49m\n\u001b[1;32m     64\u001b[0m     \u001b[38;5;28mself\u001b[39m\u001b[38;5;241m.\u001b[39mconn\u001b[38;5;241m.\u001b[39mcommit()\n",
      "File \u001b[0;32m/workspaces/benchmark/core/utils/database.py:72\u001b[0m, in \u001b[0;36mDatabaseConnection._execute\u001b[0;34m(self, sql, data)\u001b[0m\n\u001b[1;32m     70\u001b[0m \u001b[38;5;28;01mtry\u001b[39;00m:\n\u001b[1;32m     71\u001b[0m     \u001b[38;5;28;01mif\u001b[39;00m data \u001b[38;5;129;01mis\u001b[39;00m \u001b[38;5;28;01mNone\u001b[39;00m:\n\u001b[0;32m---> 72\u001b[0m         \u001b[38;5;28;43mself\u001b[39;49m\u001b[38;5;241;43m.\u001b[39;49m\u001b[43mcur\u001b[49m\u001b[38;5;241;43m.\u001b[39;49m\u001b[43mexecute\u001b[49m\u001b[43m(\u001b[49m\u001b[43msql\u001b[49m\u001b[43m)\u001b[49m\n\u001b[1;32m     73\u001b[0m     \u001b[38;5;28;01melse\u001b[39;00m:\n\u001b[1;32m     74\u001b[0m         \u001b[38;5;28mself\u001b[39m\u001b[38;5;241m.\u001b[39mcur\u001b[38;5;241m.\u001b[39mexecute(sql, data)\n",
      "\u001b[0;31mOperationalError\u001b[0m: server closed the connection unexpectedly\n\tThis probably means the server terminated abnormally\n\tbefore or while processing the request.\n"
     ]
    }
   ],
   "source": [
    "from core.utils.constants import Dataset, DEFAULT_INDEX_PARAMS\n",
    "from core.benchmark_select import generate_result\n",
    "for N in ['10k', '100k', '200k']:\n",
    "    for extension, index_params in DEFAULT_INDEX_PARAMS.items():\n",
    "        generate_result(extension, Dataset.SIFT, N, [5], index_params=index_params)"
   ]
  },
  {
   "cell_type": "markdown",
   "id": "8e863bb2-5a7c-4390-9d09-8afb9d69c43e",
   "metadata": {},
   "source": [
    "# Plot data"
   ]
  },
  {
   "cell_type": "code",
   "execution_count": null,
   "id": "17a3bd1b-09b6-4691-a41e-091f3c9fbe14",
   "metadata": {},
   "outputs": [],
   "source": [
    "from core.utils.constants import ExperimentParam, Dataset, Metric, DEFAULT_INDEX_PARAMS\n",
    "from notebooks.plot_select_benchmarks import generate_plot\n",
    "generate_plot(DEFAULT_INDEX_PARAMS, Dataset.SIFT, ExperimentParam.N, '10k', ExperimentParam.K, Metric.SELECT_LATENCY, Metric.SELECT_LATENCY_STDDEV)"
   ]
  },
  {
   "cell_type": "code",
   "execution_count": null,
   "id": "4d46565e-b587-48e7-9588-9bd301758d5f",
   "metadata": {},
   "outputs": [],
   "source": [
    "from core.utils.constants import ExperimentParam, Dataset, Metric, DEFAULT_INDEX_PARAMS\n",
    "from notebooks.plot_select_benchmarks import generate_plot\n",
    "generate_plot(DEFAULT_INDEX_PARAMS, Dataset.SIFT, ExperimentParam.N, '10k', ExperimentParam.K, Metric.SELECT_TPS)"
   ]
  },
  {
   "cell_type": "code",
   "execution_count": null,
   "id": "89a2b276-2aad-4776-992d-b9704a96ee4b",
   "metadata": {},
   "outputs": [],
   "source": [
    "from core.utils.constants import ExperimentParam, Dataset, Metric, DEFAULT_INDEX_PARAMS\n",
    "from notebooks.plot_select_benchmarks import generate_plot\n",
    "generate_plot(DEFAULT_INDEX_PARAMS, Dataset.SIFT, ExperimentParam.K, 5, ExperimentParam.N, Metric.SELECT_LATENCY, Metric.SELECT_LATENCY_STDDEV)"
   ]
  }
 ],
 "metadata": {
  "kernelspec": {
   "display_name": "Python 3 (ipykernel)",
   "language": "python",
   "name": "python3"
  },
  "language_info": {
   "codemirror_mode": {
    "name": "ipython",
    "version": 3
   },
   "file_extension": ".py",
   "mimetype": "text/x-python",
   "name": "python",
   "nbconvert_exporter": "python",
   "pygments_lexer": "ipython3",
   "version": "3.11.2"
  }
 },
 "nbformat": 4,
 "nbformat_minor": 5
}
