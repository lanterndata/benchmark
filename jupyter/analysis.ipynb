{
 "cells": [
  {
   "cell_type": "code",
   "execution_count": 3,
   "id": "d97bea16-bf9a-4b8d-ac8a-eb6ae9b5e246",
   "metadata": {},
   "outputs": [
    {
     "name": "stdout",
     "output_type": "stream",
     "text": [
      "The file exists\n"
     ]
    }
   ],
   "source": [
    "# Download data\n",
    "\n",
    "import os\n",
    "import urllib.request\n",
    "import gzip\n",
    "import shutil\n",
    "\n",
    "url = 'https://storage.googleapis.com/gresearch/wit/wit_v1.train.all-1percent_sample.tsv.gz'\n",
    "filename = 'data/wit/data.tsv'\n",
    "\n",
    "if os.path.exists(filename):\n",
    "    print(\"The file exists\")\n",
    "\n",
    "else:\n",
    "    # Download the data from the URL\n",
    "    with urllib.request.urlopen(url) as response:\n",
    "      with open(filename + '.gz', 'wb') as f:\n",
    "        f.write(response.read())\n",
    "    \n",
    "    # Extract the data from the compressed file\n",
    "    with gzip.open(filename + '.gz', 'rb') as f_in:\n",
    "      with open(filename, 'wb') as f_out:\n",
    "        shutil.copyfileobj(f_in, f_out)\n",
    "\n",
    "    print(\"The file was downloaded\")"
   ]
  },
  {
   "cell_type": "code",
   "execution_count": 8,
   "id": "dbc3aa6a-73e9-43fe-90ac-9efac1e748a3",
   "metadata": {
    "scrolled": true
   },
   "outputs": [
    {
     "name": "stdout",
     "output_type": "stream",
     "text": [
      "Create table\n",
      "No need to copy data\n",
      "Completed\n"
     ]
    }
   ],
   "source": [
    "# Create Postgres table with initial data\n",
    "\n",
    "import os\n",
    "import psycopg2\n",
    "\n",
    "# Get the DB connection string from the environment variable\n",
    "db_connection_string = os.environ.get('DATABASE_URL')\n",
    "\n",
    "# Check if the variable exists\n",
    "if db_connection_string is not None:\n",
    "    conn = psycopg2.connect(db_connection_string)\n",
    "    cursor = conn.cursor()\n",
    "\n",
    "    with open('data/wit/create_table.sql', 'r') as sql_file:\n",
    "        sql_script = sql_file.read()\n",
    "    cursor.execute(sql_script)\n",
    "    print(\"Create table\")\n",
    "\n",
    "    count_query = f\"SELECT COUNT(*) FROM tsv_data\"\n",
    "    cursor.execute(count_query)\n",
    "    row_count = cursor.fetchone()[0]\n",
    "\n",
    "    if row_count == 0:\n",
    "        with open('data/wit/copy_data.sql', 'r') as sql_file:\n",
    "            sql_script = sql_file.read()\n",
    "        cursor.execute(sql_script)\n",
    "        print(\"Copied data\")\n",
    "    else:\n",
    "        print(\"No need to copy data\")\n",
    "\n",
    "    conn.commit()\n",
    "\n",
    "    cursor.close()\n",
    "    conn.close()\n",
    "\n",
    "    print(\"Completed\")\n",
    "else:\n",
    "    print(\"DB_CONNECTION_STRING environment variable is not set.\")"
   ]
  }
 ],
 "metadata": {
  "kernelspec": {
   "display_name": "Python 3 (ipykernel)",
   "language": "python",
   "name": "python3"
  },
  "language_info": {
   "codemirror_mode": {
    "name": "ipython",
    "version": 3
   },
   "file_extension": ".py",
   "mimetype": "text/x-python",
   "name": "python",
   "nbconvert_exporter": "python",
   "pygments_lexer": "ipython3",
   "version": "3.9.17"
  }
 },
 "nbformat": 4,
 "nbformat_minor": 5
}
