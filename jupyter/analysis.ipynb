{
 "cells": [
  {
   "cell_type": "code",
   "execution_count": 27,
   "id": "4b33ec29-eebd-42c7-a3a2-55ed8f3fb247",
   "metadata": {},
   "outputs": [],
   "source": [
    "# Utility functions\n",
    "\n",
    "import os\n",
    "import time\n",
    "from pgvector.psycopg2 import register_vector\n",
    "import psycopg2\n",
    "import plotly.graph_objects as go\n",
    "\n",
    "def create_test_table(n, column):\n",
    "    with psycopg2.connect(db_connection_string) as conn:\n",
    "        with conn.cursor() as cursor:\n",
    "            cursor.execute(\"DROP TABLE IF EXISTS test_table\")\n",
    "            cursor.execute(f'''\n",
    "                CREATE TABLE test_table AS\n",
    "                SELECT * FROM tsv_data\n",
    "                WHERE {column}1 IS NOT NULL\n",
    "                ORDER BY RANDOM()\n",
    "                LIMIT {n}\n",
    "            ''')\n",
    "            cursor.execute('CREATE INDEX ON test_table USING ivfflat (image_url_ai2 vector_l2_ops) WITH (lists = 100)')\n",
    "            cursor.execute('CREATE INDEX ON test_table USING ivfflat (context_page_description_ai2 vector_l2_ops) WITH (lists = 100)')\n",
    "            cursor.execute('CREATE INDEX ON test_table (original_width)')\n",
    "\n",
    "def drop_test_table():\n",
    "    with psycopg2.connect(db_connection_string) as conn:\n",
    "        with conn.cursor() as cursor:\n",
    "            cursor.execute(\"DROP TABLE IF EXISTS test_table\")\n",
    "\n",
    "def get_table_count(column):\n",
    "    with psycopg2.connect(db_connection_string) as conn:\n",
    "        with conn.cursor() as cursor:\n",
    "            cursor.execute(f\"SELECT COUNT(*) FROM tsv_data WHERE {column}1 IS NOT NULL\")\n",
    "            count = cursor.fetchone()[0]\n",
    "            return count\n",
    "\n",
    "def generate_plots(title, variable, results, dimensions):\n",
    "    # Create traces for each query type\n",
    "    data = []\n",
    "    for query_type, query_results in results.items():\n",
    "        sizes, throughputs = zip(*query_results)  # Unpack the table sizes and throughput values\n",
    "        trace = go.Scatter(\n",
    "            x=sizes,\n",
    "            y=throughputs,\n",
    "            mode='lines+markers',\n",
    "            name=query_type\n",
    "        )\n",
    "        data.append(trace)\n",
    "    \n",
    "    # Create layout\n",
    "    layout = go.Layout(\n",
    "        title=title,\n",
    "        xaxis=dict(title=variable),\n",
    "        yaxis=dict(title='Throughput (ops / s)'),\n",
    "        showlegend=True\n",
    "    )\n",
    "    \n",
    "    # Create figure\n",
    "    fig = go.Figure(data=data, layout=layout)\n",
    "    \n",
    "    # Display the figure\n",
    "    fig.show()\n",
    "\n",
    "def print_throughput_results(variable, results, dimensions):\n",
    "    print_double_line = lambda: print(\"=\" * 40)\n",
    "    print_line = lambda: print(\"-\" * 40)\n",
    "    for label, data in results.items():\n",
    "\n",
    "        print(\"\")\n",
    "        print_double_line()\n",
    "        print(f\"{label} ({dimensions})\")\n",
    "        print_line()\n",
    "\n",
    "        print(f\"{variable:<15}{'Throughput (ops/s)':<20}\")\n",
    "        print_line()\n",
    "\n",
    "        for sublabel, throughput in data:\n",
    "            print(f\"{sublabel:<15}{throughput:<20.3f}\")\n",
    "\n",
    "        print_double_line()\n",
    "        print(\"\")\n",
    "\n",
    "WARMUP_ITERATIONS = 10\n",
    "NUM_ITERATIONS = 100\n",
    "\n",
    "def measure_throughput(query, generate_args):\n",
    "    db_connection_string = os.environ.get('DATABASE_URL')\n",
    "    with psycopg2.connect(db_connection_string) as conn:\n",
    "        register_vector(conn)\n",
    "        with conn.cursor() as cursor:\n",
    "            # Create table\n",
    "\n",
    "            # Helper for executing query\n",
    "            def execute_query():\n",
    "                if generate_args is not None:\n",
    "                    vector = generate_args()\n",
    "                    cursor.execute(query, (vector,))\n",
    "                else:\n",
    "                    cursor.execute(query)\n",
    "            \n",
    "            # Warm-up\n",
    "            for _ in range(WARMUP_ITERATIONS):\n",
    "                execute_query()\n",
    "\n",
    "            # Measured\n",
    "            start_time = time.time()\n",
    "            for _ in range(NUM_ITERATIONS):\n",
    "                execute_query()\n",
    "            end_time = time.time()\n",
    "\n",
    "    elapsed_time = end_time - start_time\n",
    "    throughput = num_iterations / elapsed_time\n",
    "    return throughput"
   ]
  },
  {
   "cell_type": "code",
   "execution_count": 21,
   "id": "da5ce55d-b7a2-4955-8734-3f98e3c08f6b",
   "metadata": {
    "scrolled": true
   },
   "outputs": [
    {
     "data": {
      "application/vnd.plotly.v1+json": {
       "config": {
        "plotlyServerURL": "https://plot.ly"
       },
       "data": [
        {
         "mode": "lines+markers",
         "name": "select 1",
         "type": "scatter",
         "visible": "legendonly",
         "x": [
          1000,
          2000,
          3000,
          4000,
          5000,
          6000,
          7000,
          8000,
          9000,
          10000,
          11000,
          12000,
          13000
         ],
         "y": [
          22929.71790946862,
          21121.48252593413,
          17273.305329050327,
          16013.072194861223,
          13575.996115876356,
          36685.94419662381,
          38272.68911397025,
          22284.050579109553,
          27639.56507413509,
          36333.19473319473,
          23477.772180240696,
          16614.394929689046,
          41177.14510111918
         ]
        },
        {
         "mode": "lines+markers",
         "name": "select id",
         "type": "scatter",
         "x": [
          1000,
          2000,
          3000,
          4000,
          5000,
          6000,
          7000,
          8000,
          9000,
          10000,
          11000,
          12000,
          13000
         ],
         "y": [
          6396.778965669752,
          4588.150870744727,
          3281.3374744764246,
          2794.321157087561,
          2522.23725592779,
          1180.1942086321826,
          1928.2117293343692,
          1513.5881058063585,
          1049.0349527918465,
          1099.9145097422181,
          722.6512521429003,
          882.1255286796206,
          604.0384402133135
         ]
        },
        {
         "mode": "lines+markers",
         "name": "select int",
         "type": "scatter",
         "visible": true,
         "x": [
          1000,
          2000,
          3000,
          4000,
          5000,
          6000,
          7000,
          8000,
          9000,
          10000,
          11000,
          12000,
          13000
         ],
         "y": [
          4646.604480092172,
          3007.4887783052013,
          1916.2923299036897,
          1573.5229127197015,
          1060.0510526448809,
          674.8526984106553,
          596.773615241239,
          613.6895225303128,
          346.02842771425765,
          407.9359876752738,
          206.77649248874988,
          302.6597345244495,
          273.054222789326
         ]
        },
        {
         "mode": "lines+markers",
         "name": "select int (indexed)",
         "type": "scatter",
         "visible": "legendonly",
         "x": [
          1000,
          2000,
          3000,
          4000,
          5000,
          6000,
          7000,
          8000,
          9000,
          10000,
          11000,
          12000,
          13000
         ],
         "y": [
          4537.571266295235,
          2813.9681858131003,
          1931.8263048324397,
          1242.9150973309193,
          25935.592381894632,
          27116.00724075511,
          22857.24250681199,
          27872.833599149388,
          25758.791377510286,
          18185.50121401318,
          21205.84458263815,
          22060.19039604481,
          27661.439029215853
         ]
        },
        {
         "mode": "lines+markers",
         "name": "select vector",
         "type": "scatter",
         "x": [
          1000,
          2000,
          3000,
          4000,
          5000,
          6000,
          7000,
          8000,
          9000,
          10000,
          11000,
          12000,
          13000
         ],
         "y": [
          356.79685320158154,
          176.90409068440135,
          116.83392428518225,
          86.36835844265703,
          68.65224332035407,
          48.68840460683828,
          47.71544995968826,
          46.244311253918326,
          39.94972071987722,
          33.29550748828689,
          32.674306426322524,
          30.282862881929727,
          28.16201830089654
         ]
        },
        {
         "mode": "lines+markers",
         "name": "select vector (indexed)",
         "type": "scatter",
         "x": [
          1000,
          2000,
          3000,
          4000,
          5000,
          6000,
          7000,
          8000,
          9000,
          10000,
          11000,
          12000,
          13000
         ],
         "y": [
          707.2536300188351,
          676.9887321988595,
          744.0574624760735,
          612.2436944491885,
          621.1961528322063,
          691.6272013719412,
          596.4859087929075,
          474.3244419967227,
          695.2027196136054,
          655.7749826061805,
          549.5040541655912,
          594.3676621674283,
          627.1359428710697
         ]
        }
       ],
       "layout": {
        "autosize": true,
        "showlegend": true,
        "template": {
         "data": {
          "bar": [
           {
            "error_x": {
             "color": "#2a3f5f"
            },
            "error_y": {
             "color": "#2a3f5f"
            },
            "marker": {
             "line": {
              "color": "#E5ECF6",
              "width": 0.5
             },
             "pattern": {
              "fillmode": "overlay",
              "size": 10,
              "solidity": 0.2
             }
            },
            "type": "bar"
           }
          ],
          "barpolar": [
           {
            "marker": {
             "line": {
              "color": "#E5ECF6",
              "width": 0.5
             },
             "pattern": {
              "fillmode": "overlay",
              "size": 10,
              "solidity": 0.2
             }
            },
            "type": "barpolar"
           }
          ],
          "carpet": [
           {
            "aaxis": {
             "endlinecolor": "#2a3f5f",
             "gridcolor": "white",
             "linecolor": "white",
             "minorgridcolor": "white",
             "startlinecolor": "#2a3f5f"
            },
            "baxis": {
             "endlinecolor": "#2a3f5f",
             "gridcolor": "white",
             "linecolor": "white",
             "minorgridcolor": "white",
             "startlinecolor": "#2a3f5f"
            },
            "type": "carpet"
           }
          ],
          "choropleth": [
           {
            "colorbar": {
             "outlinewidth": 0,
             "ticks": ""
            },
            "type": "choropleth"
           }
          ],
          "contour": [
           {
            "colorbar": {
             "outlinewidth": 0,
             "ticks": ""
            },
            "colorscale": [
             [
              0,
              "#0d0887"
             ],
             [
              0.1111111111111111,
              "#46039f"
             ],
             [
              0.2222222222222222,
              "#7201a8"
             ],
             [
              0.3333333333333333,
              "#9c179e"
             ],
             [
              0.4444444444444444,
              "#bd3786"
             ],
             [
              0.5555555555555556,
              "#d8576b"
             ],
             [
              0.6666666666666666,
              "#ed7953"
             ],
             [
              0.7777777777777778,
              "#fb9f3a"
             ],
             [
              0.8888888888888888,
              "#fdca26"
             ],
             [
              1,
              "#f0f921"
             ]
            ],
            "type": "contour"
           }
          ],
          "contourcarpet": [
           {
            "colorbar": {
             "outlinewidth": 0,
             "ticks": ""
            },
            "type": "contourcarpet"
           }
          ],
          "heatmap": [
           {
            "colorbar": {
             "outlinewidth": 0,
             "ticks": ""
            },
            "colorscale": [
             [
              0,
              "#0d0887"
             ],
             [
              0.1111111111111111,
              "#46039f"
             ],
             [
              0.2222222222222222,
              "#7201a8"
             ],
             [
              0.3333333333333333,
              "#9c179e"
             ],
             [
              0.4444444444444444,
              "#bd3786"
             ],
             [
              0.5555555555555556,
              "#d8576b"
             ],
             [
              0.6666666666666666,
              "#ed7953"
             ],
             [
              0.7777777777777778,
              "#fb9f3a"
             ],
             [
              0.8888888888888888,
              "#fdca26"
             ],
             [
              1,
              "#f0f921"
             ]
            ],
            "type": "heatmap"
           }
          ],
          "heatmapgl": [
           {
            "colorbar": {
             "outlinewidth": 0,
             "ticks": ""
            },
            "colorscale": [
             [
              0,
              "#0d0887"
             ],
             [
              0.1111111111111111,
              "#46039f"
             ],
             [
              0.2222222222222222,
              "#7201a8"
             ],
             [
              0.3333333333333333,
              "#9c179e"
             ],
             [
              0.4444444444444444,
              "#bd3786"
             ],
             [
              0.5555555555555556,
              "#d8576b"
             ],
             [
              0.6666666666666666,
              "#ed7953"
             ],
             [
              0.7777777777777778,
              "#fb9f3a"
             ],
             [
              0.8888888888888888,
              "#fdca26"
             ],
             [
              1,
              "#f0f921"
             ]
            ],
            "type": "heatmapgl"
           }
          ],
          "histogram": [
           {
            "marker": {
             "pattern": {
              "fillmode": "overlay",
              "size": 10,
              "solidity": 0.2
             }
            },
            "type": "histogram"
           }
          ],
          "histogram2d": [
           {
            "colorbar": {
             "outlinewidth": 0,
             "ticks": ""
            },
            "colorscale": [
             [
              0,
              "#0d0887"
             ],
             [
              0.1111111111111111,
              "#46039f"
             ],
             [
              0.2222222222222222,
              "#7201a8"
             ],
             [
              0.3333333333333333,
              "#9c179e"
             ],
             [
              0.4444444444444444,
              "#bd3786"
             ],
             [
              0.5555555555555556,
              "#d8576b"
             ],
             [
              0.6666666666666666,
              "#ed7953"
             ],
             [
              0.7777777777777778,
              "#fb9f3a"
             ],
             [
              0.8888888888888888,
              "#fdca26"
             ],
             [
              1,
              "#f0f921"
             ]
            ],
            "type": "histogram2d"
           }
          ],
          "histogram2dcontour": [
           {
            "colorbar": {
             "outlinewidth": 0,
             "ticks": ""
            },
            "colorscale": [
             [
              0,
              "#0d0887"
             ],
             [
              0.1111111111111111,
              "#46039f"
             ],
             [
              0.2222222222222222,
              "#7201a8"
             ],
             [
              0.3333333333333333,
              "#9c179e"
             ],
             [
              0.4444444444444444,
              "#bd3786"
             ],
             [
              0.5555555555555556,
              "#d8576b"
             ],
             [
              0.6666666666666666,
              "#ed7953"
             ],
             [
              0.7777777777777778,
              "#fb9f3a"
             ],
             [
              0.8888888888888888,
              "#fdca26"
             ],
             [
              1,
              "#f0f921"
             ]
            ],
            "type": "histogram2dcontour"
           }
          ],
          "mesh3d": [
           {
            "colorbar": {
             "outlinewidth": 0,
             "ticks": ""
            },
            "type": "mesh3d"
           }
          ],
          "parcoords": [
           {
            "line": {
             "colorbar": {
              "outlinewidth": 0,
              "ticks": ""
             }
            },
            "type": "parcoords"
           }
          ],
          "pie": [
           {
            "automargin": true,
            "type": "pie"
           }
          ],
          "scatter": [
           {
            "fillpattern": {
             "fillmode": "overlay",
             "size": 10,
             "solidity": 0.2
            },
            "type": "scatter"
           }
          ],
          "scatter3d": [
           {
            "line": {
             "colorbar": {
              "outlinewidth": 0,
              "ticks": ""
             }
            },
            "marker": {
             "colorbar": {
              "outlinewidth": 0,
              "ticks": ""
             }
            },
            "type": "scatter3d"
           }
          ],
          "scattercarpet": [
           {
            "marker": {
             "colorbar": {
              "outlinewidth": 0,
              "ticks": ""
             }
            },
            "type": "scattercarpet"
           }
          ],
          "scattergeo": [
           {
            "marker": {
             "colorbar": {
              "outlinewidth": 0,
              "ticks": ""
             }
            },
            "type": "scattergeo"
           }
          ],
          "scattergl": [
           {
            "marker": {
             "colorbar": {
              "outlinewidth": 0,
              "ticks": ""
             }
            },
            "type": "scattergl"
           }
          ],
          "scattermapbox": [
           {
            "marker": {
             "colorbar": {
              "outlinewidth": 0,
              "ticks": ""
             }
            },
            "type": "scattermapbox"
           }
          ],
          "scatterpolar": [
           {
            "marker": {
             "colorbar": {
              "outlinewidth": 0,
              "ticks": ""
             }
            },
            "type": "scatterpolar"
           }
          ],
          "scatterpolargl": [
           {
            "marker": {
             "colorbar": {
              "outlinewidth": 0,
              "ticks": ""
             }
            },
            "type": "scatterpolargl"
           }
          ],
          "scatterternary": [
           {
            "marker": {
             "colorbar": {
              "outlinewidth": 0,
              "ticks": ""
             }
            },
            "type": "scatterternary"
           }
          ],
          "surface": [
           {
            "colorbar": {
             "outlinewidth": 0,
             "ticks": ""
            },
            "colorscale": [
             [
              0,
              "#0d0887"
             ],
             [
              0.1111111111111111,
              "#46039f"
             ],
             [
              0.2222222222222222,
              "#7201a8"
             ],
             [
              0.3333333333333333,
              "#9c179e"
             ],
             [
              0.4444444444444444,
              "#bd3786"
             ],
             [
              0.5555555555555556,
              "#d8576b"
             ],
             [
              0.6666666666666666,
              "#ed7953"
             ],
             [
              0.7777777777777778,
              "#fb9f3a"
             ],
             [
              0.8888888888888888,
              "#fdca26"
             ],
             [
              1,
              "#f0f921"
             ]
            ],
            "type": "surface"
           }
          ],
          "table": [
           {
            "cells": {
             "fill": {
              "color": "#EBF0F8"
             },
             "line": {
              "color": "white"
             }
            },
            "header": {
             "fill": {
              "color": "#C8D4E3"
             },
             "line": {
              "color": "white"
             }
            },
            "type": "table"
           }
          ]
         },
         "layout": {
          "annotationdefaults": {
           "arrowcolor": "#2a3f5f",
           "arrowhead": 0,
           "arrowwidth": 1
          },
          "autotypenumbers": "strict",
          "coloraxis": {
           "colorbar": {
            "outlinewidth": 0,
            "ticks": ""
           }
          },
          "colorscale": {
           "diverging": [
            [
             0,
             "#8e0152"
            ],
            [
             0.1,
             "#c51b7d"
            ],
            [
             0.2,
             "#de77ae"
            ],
            [
             0.3,
             "#f1b6da"
            ],
            [
             0.4,
             "#fde0ef"
            ],
            [
             0.5,
             "#f7f7f7"
            ],
            [
             0.6,
             "#e6f5d0"
            ],
            [
             0.7,
             "#b8e186"
            ],
            [
             0.8,
             "#7fbc41"
            ],
            [
             0.9,
             "#4d9221"
            ],
            [
             1,
             "#276419"
            ]
           ],
           "sequential": [
            [
             0,
             "#0d0887"
            ],
            [
             0.1111111111111111,
             "#46039f"
            ],
            [
             0.2222222222222222,
             "#7201a8"
            ],
            [
             0.3333333333333333,
             "#9c179e"
            ],
            [
             0.4444444444444444,
             "#bd3786"
            ],
            [
             0.5555555555555556,
             "#d8576b"
            ],
            [
             0.6666666666666666,
             "#ed7953"
            ],
            [
             0.7777777777777778,
             "#fb9f3a"
            ],
            [
             0.8888888888888888,
             "#fdca26"
            ],
            [
             1,
             "#f0f921"
            ]
           ],
           "sequentialminus": [
            [
             0,
             "#0d0887"
            ],
            [
             0.1111111111111111,
             "#46039f"
            ],
            [
             0.2222222222222222,
             "#7201a8"
            ],
            [
             0.3333333333333333,
             "#9c179e"
            ],
            [
             0.4444444444444444,
             "#bd3786"
            ],
            [
             0.5555555555555556,
             "#d8576b"
            ],
            [
             0.6666666666666666,
             "#ed7953"
            ],
            [
             0.7777777777777778,
             "#fb9f3a"
            ],
            [
             0.8888888888888888,
             "#fdca26"
            ],
            [
             1,
             "#f0f921"
            ]
           ]
          },
          "colorway": [
           "#636efa",
           "#EF553B",
           "#00cc96",
           "#ab63fa",
           "#FFA15A",
           "#19d3f3",
           "#FF6692",
           "#B6E880",
           "#FF97FF",
           "#FECB52"
          ],
          "font": {
           "color": "#2a3f5f"
          },
          "geo": {
           "bgcolor": "white",
           "lakecolor": "white",
           "landcolor": "#E5ECF6",
           "showlakes": true,
           "showland": true,
           "subunitcolor": "white"
          },
          "hoverlabel": {
           "align": "left"
          },
          "hovermode": "closest",
          "mapbox": {
           "style": "light"
          },
          "paper_bgcolor": "white",
          "plot_bgcolor": "#E5ECF6",
          "polar": {
           "angularaxis": {
            "gridcolor": "white",
            "linecolor": "white",
            "ticks": ""
           },
           "bgcolor": "#E5ECF6",
           "radialaxis": {
            "gridcolor": "white",
            "linecolor": "white",
            "ticks": ""
           }
          },
          "scene": {
           "xaxis": {
            "backgroundcolor": "#E5ECF6",
            "gridcolor": "white",
            "gridwidth": 2,
            "linecolor": "white",
            "showbackground": true,
            "ticks": "",
            "zerolinecolor": "white"
           },
           "yaxis": {
            "backgroundcolor": "#E5ECF6",
            "gridcolor": "white",
            "gridwidth": 2,
            "linecolor": "white",
            "showbackground": true,
            "ticks": "",
            "zerolinecolor": "white"
           },
           "zaxis": {
            "backgroundcolor": "#E5ECF6",
            "gridcolor": "white",
            "gridwidth": 2,
            "linecolor": "white",
            "showbackground": true,
            "ticks": "",
            "zerolinecolor": "white"
           }
          },
          "shapedefaults": {
           "line": {
            "color": "#2a3f5f"
           }
          },
          "ternary": {
           "aaxis": {
            "gridcolor": "white",
            "linecolor": "white",
            "ticks": ""
           },
           "baxis": {
            "gridcolor": "white",
            "linecolor": "white",
            "ticks": ""
           },
           "bgcolor": "#E5ECF6",
           "caxis": {
            "gridcolor": "white",
            "linecolor": "white",
            "ticks": ""
           }
          },
          "title": {
           "x": 0.05
          },
          "xaxis": {
           "automargin": true,
           "gridcolor": "white",
           "linecolor": "white",
           "ticks": "",
           "title": {
            "standoff": 15
           },
           "zerolinecolor": "white",
           "zerolinewidth": 2
          },
          "yaxis": {
           "automargin": true,
           "gridcolor": "white",
           "linecolor": "white",
           "ticks": "",
           "title": {
            "standoff": 15
           },
           "zerolinecolor": "white",
           "zerolinewidth": 2
          }
         }
        },
        "title": {
         "text": "Throughput vs. Table Size for Each Query Type (512)"
        },
        "xaxis": {
         "autorange": true,
         "range": [
          277.2543741588155,
          13722.745625841184
         ],
         "title": {
          "text": "Table Size"
         },
         "type": "linear"
        },
        "yaxis": {
         "autorange": true,
         "range": [
          -497.4034579382809,
          6922.34444190893
         ],
         "title": {
          "text": "Throughput (ops / s)"
         },
         "type": "linear"
        }
       }
      },
      "text/html": [
       "<div>                            <div id=\"d8d89d35-dc5a-4abe-9a7f-25ad840b4b30\" class=\"plotly-graph-div\" style=\"height:525px; width:100%;\"></div>            <script type=\"text/javascript\">                require([\"plotly\"], function(Plotly) {                    window.PLOTLYENV=window.PLOTLYENV || {};                                    if (document.getElementById(\"d8d89d35-dc5a-4abe-9a7f-25ad840b4b30\")) {                    Plotly.newPlot(                        \"d8d89d35-dc5a-4abe-9a7f-25ad840b4b30\",                        [{\"mode\":\"lines+markers\",\"name\":\"select 1\",\"x\":[1000,2000,3000,4000,5000,6000,7000,8000,9000,10000,11000,12000,13000],\"y\":[22929.71790946862,21121.48252593413,17273.305329050327,16013.072194861223,13575.996115876356,36685.94419662381,38272.68911397025,22284.050579109553,27639.56507413509,36333.19473319473,23477.772180240696,16614.394929689046,41177.14510111918],\"type\":\"scatter\"},{\"mode\":\"lines+markers\",\"name\":\"select id\",\"x\":[1000,2000,3000,4000,5000,6000,7000,8000,9000,10000,11000,12000,13000],\"y\":[6396.778965669752,4588.150870744727,3281.3374744764246,2794.321157087561,2522.23725592779,1180.1942086321826,1928.2117293343692,1513.5881058063585,1049.0349527918465,1099.9145097422181,722.6512521429003,882.1255286796206,604.0384402133135],\"type\":\"scatter\"},{\"mode\":\"lines+markers\",\"name\":\"select int\",\"x\":[1000,2000,3000,4000,5000,6000,7000,8000,9000,10000,11000,12000,13000],\"y\":[4646.604480092172,3007.4887783052013,1916.2923299036897,1573.5229127197015,1060.0510526448809,674.8526984106553,596.773615241239,613.6895225303128,346.02842771425765,407.9359876752738,206.77649248874988,302.6597345244495,273.054222789326],\"type\":\"scatter\"},{\"mode\":\"lines+markers\",\"name\":\"select int (indexed)\",\"x\":[1000,2000,3000,4000,5000,6000,7000,8000,9000,10000,11000,12000,13000],\"y\":[4537.571266295235,2813.9681858131003,1931.8263048324397,1242.9150973309193,25935.592381894632,27116.00724075511,22857.24250681199,27872.833599149388,25758.791377510286,18185.50121401318,21205.84458263815,22060.19039604481,27661.439029215853],\"type\":\"scatter\"},{\"mode\":\"lines+markers\",\"name\":\"select vector\",\"x\":[1000,2000,3000,4000,5000,6000,7000,8000,9000,10000,11000,12000,13000],\"y\":[356.79685320158154,176.90409068440135,116.83392428518225,86.36835844265703,68.65224332035407,48.68840460683828,47.71544995968826,46.244311253918326,39.94972071987722,33.29550748828689,32.674306426322524,30.282862881929727,28.16201830089654],\"type\":\"scatter\"},{\"mode\":\"lines+markers\",\"name\":\"select vector (indexed)\",\"x\":[1000,2000,3000,4000,5000,6000,7000,8000,9000,10000,11000,12000,13000],\"y\":[707.2536300188351,676.9887321988595,744.0574624760735,612.2436944491885,621.1961528322063,691.6272013719412,596.4859087929075,474.3244419967227,695.2027196136054,655.7749826061805,549.5040541655912,594.3676621674283,627.1359428710697],\"type\":\"scatter\"}],                        {\"showlegend\":true,\"title\":{\"text\":\"Throughput vs. Table Size for Each Query Type (512)\"},\"xaxis\":{\"title\":{\"text\":\"Table Size\"}},\"yaxis\":{\"title\":{\"text\":\"Throughput (ops \\u002f s)\"}},\"template\":{\"data\":{\"histogram2dcontour\":[{\"type\":\"histogram2dcontour\",\"colorbar\":{\"outlinewidth\":0,\"ticks\":\"\"},\"colorscale\":[[0.0,\"#0d0887\"],[0.1111111111111111,\"#46039f\"],[0.2222222222222222,\"#7201a8\"],[0.3333333333333333,\"#9c179e\"],[0.4444444444444444,\"#bd3786\"],[0.5555555555555556,\"#d8576b\"],[0.6666666666666666,\"#ed7953\"],[0.7777777777777778,\"#fb9f3a\"],[0.8888888888888888,\"#fdca26\"],[1.0,\"#f0f921\"]]}],\"choropleth\":[{\"type\":\"choropleth\",\"colorbar\":{\"outlinewidth\":0,\"ticks\":\"\"}}],\"histogram2d\":[{\"type\":\"histogram2d\",\"colorbar\":{\"outlinewidth\":0,\"ticks\":\"\"},\"colorscale\":[[0.0,\"#0d0887\"],[0.1111111111111111,\"#46039f\"],[0.2222222222222222,\"#7201a8\"],[0.3333333333333333,\"#9c179e\"],[0.4444444444444444,\"#bd3786\"],[0.5555555555555556,\"#d8576b\"],[0.6666666666666666,\"#ed7953\"],[0.7777777777777778,\"#fb9f3a\"],[0.8888888888888888,\"#fdca26\"],[1.0,\"#f0f921\"]]}],\"heatmap\":[{\"type\":\"heatmap\",\"colorbar\":{\"outlinewidth\":0,\"ticks\":\"\"},\"colorscale\":[[0.0,\"#0d0887\"],[0.1111111111111111,\"#46039f\"],[0.2222222222222222,\"#7201a8\"],[0.3333333333333333,\"#9c179e\"],[0.4444444444444444,\"#bd3786\"],[0.5555555555555556,\"#d8576b\"],[0.6666666666666666,\"#ed7953\"],[0.7777777777777778,\"#fb9f3a\"],[0.8888888888888888,\"#fdca26\"],[1.0,\"#f0f921\"]]}],\"heatmapgl\":[{\"type\":\"heatmapgl\",\"colorbar\":{\"outlinewidth\":0,\"ticks\":\"\"},\"colorscale\":[[0.0,\"#0d0887\"],[0.1111111111111111,\"#46039f\"],[0.2222222222222222,\"#7201a8\"],[0.3333333333333333,\"#9c179e\"],[0.4444444444444444,\"#bd3786\"],[0.5555555555555556,\"#d8576b\"],[0.6666666666666666,\"#ed7953\"],[0.7777777777777778,\"#fb9f3a\"],[0.8888888888888888,\"#fdca26\"],[1.0,\"#f0f921\"]]}],\"contourcarpet\":[{\"type\":\"contourcarpet\",\"colorbar\":{\"outlinewidth\":0,\"ticks\":\"\"}}],\"contour\":[{\"type\":\"contour\",\"colorbar\":{\"outlinewidth\":0,\"ticks\":\"\"},\"colorscale\":[[0.0,\"#0d0887\"],[0.1111111111111111,\"#46039f\"],[0.2222222222222222,\"#7201a8\"],[0.3333333333333333,\"#9c179e\"],[0.4444444444444444,\"#bd3786\"],[0.5555555555555556,\"#d8576b\"],[0.6666666666666666,\"#ed7953\"],[0.7777777777777778,\"#fb9f3a\"],[0.8888888888888888,\"#fdca26\"],[1.0,\"#f0f921\"]]}],\"surface\":[{\"type\":\"surface\",\"colorbar\":{\"outlinewidth\":0,\"ticks\":\"\"},\"colorscale\":[[0.0,\"#0d0887\"],[0.1111111111111111,\"#46039f\"],[0.2222222222222222,\"#7201a8\"],[0.3333333333333333,\"#9c179e\"],[0.4444444444444444,\"#bd3786\"],[0.5555555555555556,\"#d8576b\"],[0.6666666666666666,\"#ed7953\"],[0.7777777777777778,\"#fb9f3a\"],[0.8888888888888888,\"#fdca26\"],[1.0,\"#f0f921\"]]}],\"mesh3d\":[{\"type\":\"mesh3d\",\"colorbar\":{\"outlinewidth\":0,\"ticks\":\"\"}}],\"scatter\":[{\"fillpattern\":{\"fillmode\":\"overlay\",\"size\":10,\"solidity\":0.2},\"type\":\"scatter\"}],\"parcoords\":[{\"type\":\"parcoords\",\"line\":{\"colorbar\":{\"outlinewidth\":0,\"ticks\":\"\"}}}],\"scatterpolargl\":[{\"type\":\"scatterpolargl\",\"marker\":{\"colorbar\":{\"outlinewidth\":0,\"ticks\":\"\"}}}],\"bar\":[{\"error_x\":{\"color\":\"#2a3f5f\"},\"error_y\":{\"color\":\"#2a3f5f\"},\"marker\":{\"line\":{\"color\":\"#E5ECF6\",\"width\":0.5},\"pattern\":{\"fillmode\":\"overlay\",\"size\":10,\"solidity\":0.2}},\"type\":\"bar\"}],\"scattergeo\":[{\"type\":\"scattergeo\",\"marker\":{\"colorbar\":{\"outlinewidth\":0,\"ticks\":\"\"}}}],\"scatterpolar\":[{\"type\":\"scatterpolar\",\"marker\":{\"colorbar\":{\"outlinewidth\":0,\"ticks\":\"\"}}}],\"histogram\":[{\"marker\":{\"pattern\":{\"fillmode\":\"overlay\",\"size\":10,\"solidity\":0.2}},\"type\":\"histogram\"}],\"scattergl\":[{\"type\":\"scattergl\",\"marker\":{\"colorbar\":{\"outlinewidth\":0,\"ticks\":\"\"}}}],\"scatter3d\":[{\"type\":\"scatter3d\",\"line\":{\"colorbar\":{\"outlinewidth\":0,\"ticks\":\"\"}},\"marker\":{\"colorbar\":{\"outlinewidth\":0,\"ticks\":\"\"}}}],\"scattermapbox\":[{\"type\":\"scattermapbox\",\"marker\":{\"colorbar\":{\"outlinewidth\":0,\"ticks\":\"\"}}}],\"scatterternary\":[{\"type\":\"scatterternary\",\"marker\":{\"colorbar\":{\"outlinewidth\":0,\"ticks\":\"\"}}}],\"scattercarpet\":[{\"type\":\"scattercarpet\",\"marker\":{\"colorbar\":{\"outlinewidth\":0,\"ticks\":\"\"}}}],\"carpet\":[{\"aaxis\":{\"endlinecolor\":\"#2a3f5f\",\"gridcolor\":\"white\",\"linecolor\":\"white\",\"minorgridcolor\":\"white\",\"startlinecolor\":\"#2a3f5f\"},\"baxis\":{\"endlinecolor\":\"#2a3f5f\",\"gridcolor\":\"white\",\"linecolor\":\"white\",\"minorgridcolor\":\"white\",\"startlinecolor\":\"#2a3f5f\"},\"type\":\"carpet\"}],\"table\":[{\"cells\":{\"fill\":{\"color\":\"#EBF0F8\"},\"line\":{\"color\":\"white\"}},\"header\":{\"fill\":{\"color\":\"#C8D4E3\"},\"line\":{\"color\":\"white\"}},\"type\":\"table\"}],\"barpolar\":[{\"marker\":{\"line\":{\"color\":\"#E5ECF6\",\"width\":0.5},\"pattern\":{\"fillmode\":\"overlay\",\"size\":10,\"solidity\":0.2}},\"type\":\"barpolar\"}],\"pie\":[{\"automargin\":true,\"type\":\"pie\"}]},\"layout\":{\"autotypenumbers\":\"strict\",\"colorway\":[\"#636efa\",\"#EF553B\",\"#00cc96\",\"#ab63fa\",\"#FFA15A\",\"#19d3f3\",\"#FF6692\",\"#B6E880\",\"#FF97FF\",\"#FECB52\"],\"font\":{\"color\":\"#2a3f5f\"},\"hovermode\":\"closest\",\"hoverlabel\":{\"align\":\"left\"},\"paper_bgcolor\":\"white\",\"plot_bgcolor\":\"#E5ECF6\",\"polar\":{\"bgcolor\":\"#E5ECF6\",\"angularaxis\":{\"gridcolor\":\"white\",\"linecolor\":\"white\",\"ticks\":\"\"},\"radialaxis\":{\"gridcolor\":\"white\",\"linecolor\":\"white\",\"ticks\":\"\"}},\"ternary\":{\"bgcolor\":\"#E5ECF6\",\"aaxis\":{\"gridcolor\":\"white\",\"linecolor\":\"white\",\"ticks\":\"\"},\"baxis\":{\"gridcolor\":\"white\",\"linecolor\":\"white\",\"ticks\":\"\"},\"caxis\":{\"gridcolor\":\"white\",\"linecolor\":\"white\",\"ticks\":\"\"}},\"coloraxis\":{\"colorbar\":{\"outlinewidth\":0,\"ticks\":\"\"}},\"colorscale\":{\"sequential\":[[0.0,\"#0d0887\"],[0.1111111111111111,\"#46039f\"],[0.2222222222222222,\"#7201a8\"],[0.3333333333333333,\"#9c179e\"],[0.4444444444444444,\"#bd3786\"],[0.5555555555555556,\"#d8576b\"],[0.6666666666666666,\"#ed7953\"],[0.7777777777777778,\"#fb9f3a\"],[0.8888888888888888,\"#fdca26\"],[1.0,\"#f0f921\"]],\"sequentialminus\":[[0.0,\"#0d0887\"],[0.1111111111111111,\"#46039f\"],[0.2222222222222222,\"#7201a8\"],[0.3333333333333333,\"#9c179e\"],[0.4444444444444444,\"#bd3786\"],[0.5555555555555556,\"#d8576b\"],[0.6666666666666666,\"#ed7953\"],[0.7777777777777778,\"#fb9f3a\"],[0.8888888888888888,\"#fdca26\"],[1.0,\"#f0f921\"]],\"diverging\":[[0,\"#8e0152\"],[0.1,\"#c51b7d\"],[0.2,\"#de77ae\"],[0.3,\"#f1b6da\"],[0.4,\"#fde0ef\"],[0.5,\"#f7f7f7\"],[0.6,\"#e6f5d0\"],[0.7,\"#b8e186\"],[0.8,\"#7fbc41\"],[0.9,\"#4d9221\"],[1,\"#276419\"]]},\"xaxis\":{\"gridcolor\":\"white\",\"linecolor\":\"white\",\"ticks\":\"\",\"title\":{\"standoff\":15},\"zerolinecolor\":\"white\",\"automargin\":true,\"zerolinewidth\":2},\"yaxis\":{\"gridcolor\":\"white\",\"linecolor\":\"white\",\"ticks\":\"\",\"title\":{\"standoff\":15},\"zerolinecolor\":\"white\",\"automargin\":true,\"zerolinewidth\":2},\"scene\":{\"xaxis\":{\"backgroundcolor\":\"#E5ECF6\",\"gridcolor\":\"white\",\"linecolor\":\"white\",\"showbackground\":true,\"ticks\":\"\",\"zerolinecolor\":\"white\",\"gridwidth\":2},\"yaxis\":{\"backgroundcolor\":\"#E5ECF6\",\"gridcolor\":\"white\",\"linecolor\":\"white\",\"showbackground\":true,\"ticks\":\"\",\"zerolinecolor\":\"white\",\"gridwidth\":2},\"zaxis\":{\"backgroundcolor\":\"#E5ECF6\",\"gridcolor\":\"white\",\"linecolor\":\"white\",\"showbackground\":true,\"ticks\":\"\",\"zerolinecolor\":\"white\",\"gridwidth\":2}},\"shapedefaults\":{\"line\":{\"color\":\"#2a3f5f\"}},\"annotationdefaults\":{\"arrowcolor\":\"#2a3f5f\",\"arrowhead\":0,\"arrowwidth\":1},\"geo\":{\"bgcolor\":\"white\",\"landcolor\":\"#E5ECF6\",\"subunitcolor\":\"white\",\"showland\":true,\"showlakes\":true,\"lakecolor\":\"white\"},\"title\":{\"x\":0.05},\"mapbox\":{\"style\":\"light\"}}}},                        {\"responsive\": true}                    ).then(function(){\n",
       "                            \n",
       "var gd = document.getElementById('d8d89d35-dc5a-4abe-9a7f-25ad840b4b30');\n",
       "var x = new MutationObserver(function (mutations, observer) {{\n",
       "        var display = window.getComputedStyle(gd).display;\n",
       "        if (!display || display === 'none') {{\n",
       "            console.log([gd, 'removed!']);\n",
       "            Plotly.purge(gd);\n",
       "            observer.disconnect();\n",
       "        }}\n",
       "}});\n",
       "\n",
       "// Listen for the removal of the full notebook cells\n",
       "var notebookContainer = gd.closest('#notebook-container');\n",
       "if (notebookContainer) {{\n",
       "    x.observe(notebookContainer, {childList: true});\n",
       "}}\n",
       "\n",
       "// Listen for the clearing of the current output cell\n",
       "var outputEl = gd.closest('.output');\n",
       "if (outputEl) {{\n",
       "    x.observe(outputEl, {childList: true});\n",
       "}}\n",
       "\n",
       "                        })                };                });            </script>        </div>"
      ]
     },
     "metadata": {},
     "output_type": "display_data"
    },
    {
     "name": "stdout",
     "output_type": "stream",
     "text": [
      "\n",
      "========================================\n",
      "select 1 (512)\n",
      "----------------------------------------\n",
      "Table Size     Throughput (ops/s)  \n",
      "----------------------------------------\n",
      "1000           22929.718           \n",
      "2000           21121.483           \n",
      "3000           17273.305           \n",
      "4000           16013.072           \n",
      "5000           13575.996           \n",
      "6000           36685.944           \n",
      "7000           38272.689           \n",
      "8000           22284.051           \n",
      "9000           27639.565           \n",
      "10000          36333.195           \n",
      "11000          23477.772           \n",
      "12000          16614.395           \n",
      "13000          41177.145           \n",
      "========================================\n",
      "\n",
      "\n",
      "========================================\n",
      "select id (512)\n",
      "----------------------------------------\n",
      "Table Size     Throughput (ops/s)  \n",
      "----------------------------------------\n",
      "1000           6396.779            \n",
      "2000           4588.151            \n",
      "3000           3281.337            \n",
      "4000           2794.321            \n",
      "5000           2522.237            \n",
      "6000           1180.194            \n",
      "7000           1928.212            \n",
      "8000           1513.588            \n",
      "9000           1049.035            \n",
      "10000          1099.915            \n",
      "11000          722.651             \n",
      "12000          882.126             \n",
      "13000          604.038             \n",
      "========================================\n",
      "\n",
      "\n",
      "========================================\n",
      "select int (512)\n",
      "----------------------------------------\n",
      "Table Size     Throughput (ops/s)  \n",
      "----------------------------------------\n",
      "1000           4646.604            \n",
      "2000           3007.489            \n",
      "3000           1916.292            \n",
      "4000           1573.523            \n",
      "5000           1060.051            \n",
      "6000           674.853             \n",
      "7000           596.774             \n",
      "8000           613.690             \n",
      "9000           346.028             \n",
      "10000          407.936             \n",
      "11000          206.776             \n",
      "12000          302.660             \n",
      "13000          273.054             \n",
      "========================================\n",
      "\n",
      "\n",
      "========================================\n",
      "select int (indexed) (512)\n",
      "----------------------------------------\n",
      "Table Size     Throughput (ops/s)  \n",
      "----------------------------------------\n",
      "1000           4537.571            \n",
      "2000           2813.968            \n",
      "3000           1931.826            \n",
      "4000           1242.915            \n",
      "5000           25935.592           \n",
      "6000           27116.007           \n",
      "7000           22857.243           \n",
      "8000           27872.834           \n",
      "9000           25758.791           \n",
      "10000          18185.501           \n",
      "11000          21205.845           \n",
      "12000          22060.190           \n",
      "13000          27661.439           \n",
      "========================================\n",
      "\n",
      "\n",
      "========================================\n",
      "select vector (512)\n",
      "----------------------------------------\n",
      "Table Size     Throughput (ops/s)  \n",
      "----------------------------------------\n",
      "1000           356.797             \n",
      "2000           176.904             \n",
      "3000           116.834             \n",
      "4000           86.368              \n",
      "5000           68.652              \n",
      "6000           48.688              \n",
      "7000           47.715              \n",
      "8000           46.244              \n",
      "9000           39.950              \n",
      "10000          33.296              \n",
      "11000          32.674              \n",
      "12000          30.283              \n",
      "13000          28.162              \n",
      "========================================\n",
      "\n",
      "\n",
      "========================================\n",
      "select vector (indexed) (512)\n",
      "----------------------------------------\n",
      "Table Size     Throughput (ops/s)  \n",
      "----------------------------------------\n",
      "1000           707.254             \n",
      "2000           676.989             \n",
      "3000           744.057             \n",
      "4000           612.244             \n",
      "5000           621.196             \n",
      "6000           691.627             \n",
      "7000           596.486             \n",
      "8000           474.324             \n",
      "9000           695.203             \n",
      "10000          655.775             \n",
      "11000          549.504             \n",
      "12000          594.368             \n",
      "13000          627.136             \n",
      "========================================\n",
      "\n"
     ]
    },
    {
     "data": {
      "application/vnd.plotly.v1+json": {
       "config": {
        "plotlyServerURL": "https://plot.ly"
       },
       "data": [
        {
         "mode": "lines+markers",
         "name": "select 1",
         "type": "scatter",
         "visible": "legendonly",
         "x": [
          1000,
          2000,
          3000,
          4000,
          5000,
          6000,
          7000,
          8000,
          9000,
          10000,
          11000,
          12000,
          13000,
          14000,
          15000,
          16000,
          17000,
          18000,
          19000,
          20000,
          21000,
          22000,
          23000,
          24000,
          25000,
          26000,
          27000,
          28000,
          29000,
          30000,
          31000,
          32000,
          33000,
          34000,
          35000
         ],
         "y": [
          27156.387180317255,
          34920.522854050454,
          41659.75367500993,
          21191.915925626516,
          41302.84588872477,
          30073.162687316268,
          37933.472008682285,
          40411.446189420945,
          37052.1554770318,
          21371.160705186998,
          28064.931415189025,
          22132.362408316185,
          18358.226462992952,
          35845.68840270062,
          39934.34256878987,
          16991.99481445471,
          27947.121535181235,
          9095.708368572854,
          35705.32050736358,
          6663.442688061005,
          38434.014478145335,
          39565.173096877654,
          27114.254315081776,
          40233.13189448441,
          19915.97340930674,
          18081.234642410658,
          28635.925445483717,
          37180.249977838845,
          29082.679240049925,
          11250.513666478904,
          20463.014099624335,
          17005.77359714564,
          25618.76374297581,
          36801.825041677635,
          37022.72045193751
         ]
        },
        {
         "mode": "lines+markers",
         "name": "select id",
         "type": "scatter",
         "x": [
          1000,
          2000,
          3000,
          4000,
          5000,
          6000,
          7000,
          8000,
          9000,
          10000,
          11000,
          12000,
          13000,
          14000,
          15000,
          16000,
          17000,
          18000,
          19000,
          20000,
          21000,
          22000,
          23000,
          24000,
          25000,
          26000,
          27000,
          28000,
          29000,
          30000,
          31000,
          32000,
          33000,
          34000,
          35000
         ],
         "y": [
          5527.621608086559,
          3383.158030586565,
          3139.778120461725,
          2840.5146959230665,
          1668.7636765840966,
          2169.4713266747012,
          1392.4896002443486,
          1058.2564004228682,
          1172.5365657288544,
          1057.7279914459864,
          727.4932268594482,
          722.4209855491828,
          623.6892545565123,
          757.4418596251711,
          645.007627577383,
          570.0533044114089,
          566.0077216534216,
          517.1060434391841,
          419.8006641858119,
          381.7306782190833,
          333.0787379501975,
          388.31509940016423,
          351.20379480266104,
          165.90696750848264,
          121.45032566829033,
          94.77622884382511,
          75.10711030490131,
          108.49172002266936,
          89.15283735866558,
          72.6409550640706,
          74.39604597888717,
          53.90608964855751,
          66.95896163341204,
          53.46740432909262,
          56.528371776084626
         ]
        },
        {
         "mode": "lines+markers",
         "name": "select int",
         "type": "scatter",
         "x": [
          1000,
          2000,
          3000,
          4000,
          5000,
          6000,
          7000,
          8000,
          9000,
          10000,
          11000,
          12000,
          13000,
          14000,
          15000,
          16000,
          17000,
          18000,
          19000,
          20000,
          21000,
          22000,
          23000,
          24000,
          25000,
          26000,
          27000,
          28000,
          29000,
          30000,
          31000,
          32000,
          33000,
          34000,
          35000
         ],
         "y": [
          3568.193148272606,
          3807.430941984913,
          1062.0991777810978,
          1369.6894093520082,
          975.244898006636,
          991.169916368715,
          645.5894078062325,
          290.3898585542486,
          513.156983579922,
          430.7828196461346,
          374.87366582712013,
          335.61466483374915,
          277.7567043516036,
          272.61851448627743,
          260.04091906704525,
          216.91145441155786,
          197.0409358813067,
          193.301932879225,
          152.04405405473986,
          149.5371245175335,
          152.023388302804,
          152.64098160616604,
          144.7659545093708,
          141.2741574267467,
          127.5039222701957,
          106.2143287280072,
          102.65038574315426,
          101.87606948153599,
          85.3923672004694,
          87.75375662002219,
          85.30790688403623,
          77.43674518954012,
          77.98969993248448,
          74.22631225847006,
          70.85679147077158
         ]
        },
        {
         "mode": "lines+markers",
         "name": "select int (indexed)",
         "type": "scatter",
         "visible": "legendonly",
         "x": [
          1000,
          2000,
          3000,
          4000,
          5000,
          6000,
          7000,
          8000,
          9000,
          10000,
          11000,
          12000,
          13000,
          14000,
          15000,
          16000,
          17000,
          18000,
          19000,
          20000,
          21000,
          22000,
          23000,
          24000,
          25000,
          26000,
          27000,
          28000,
          29000,
          30000,
          31000,
          32000,
          33000,
          34000,
          35000
         ],
         "y": [
          3202.3699179232676,
          3719.475728499725,
          2350.0002801418636,
          856.7689853313968,
          26469.165720055535,
          27051.299580780393,
          18048.55630620939,
          13435.9611750008,
          26615.292848530997,
          26252.1374475809,
          11112.799724452216,
          10691.027732463295,
          27324.456026058633,
          21061.02937484308,
          25961.277543946522,
          25720.880603421843,
          12057.448398781118,
          8936.029145450284,
          27527.098510205422,
          13139.22686548462,
          26359.376571141278,
          27719.93919767365,
          26265.288997432526,
          18877.105180251136,
          26425.8064516129,
          15653.89266253639,
          25793.641227476786,
          27608.636124275934,
          18911.150187113937,
          26303.17320958234,
          28142.13633923779,
          22777.799500380144,
          26285.041047816005,
          9209.749242457512,
          26384.24860036485
         ]
        },
        {
         "mode": "lines+markers",
         "name": "select vector",
         "type": "scatter",
         "x": [
          1000,
          2000,
          3000,
          4000,
          5000,
          6000,
          7000,
          8000,
          9000,
          10000,
          11000,
          12000,
          13000,
          14000,
          15000,
          16000,
          17000,
          18000,
          19000,
          20000,
          21000,
          22000,
          23000,
          24000,
          25000,
          26000,
          27000,
          28000,
          29000,
          30000,
          31000,
          32000,
          33000,
          34000,
          35000
         ],
         "y": [
          312.30507477578436,
          143.35256638547358,
          90.39736612288496,
          69.70612538481839,
          55.59910252532068,
          49.10891460070579,
          41.10049223924319,
          34.25820795838738,
          33.89958948422692,
          31.78460661973687,
          25.431360464012897,
          26.061800016590357,
          26.654770120859247,
          14.311546612218944,
          9.698900563390358,
          9.016303192386957,
          8.529548901317547,
          8.181778210449032,
          7.9318270862966,
          7.379279064669397,
          6.768093466373155,
          6.448138676896029,
          5.605056019503433,
          5.871042012589547,
          5.996795907124571,
          4.836633554502759,
          4.289411315546868,
          4.135787813531179,
          4.133556224338071,
          3.7127376131438736,
          4.005688161537676,
          4.107089221113593,
          4.457182708068902,
          4.143994334066584,
          4.405912532966185
         ]
        },
        {
         "mode": "lines+markers",
         "name": "select vector (indexed)",
         "type": "scatter",
         "x": [
          1000,
          2000,
          3000,
          4000,
          5000,
          6000,
          7000,
          8000,
          9000,
          10000,
          11000,
          12000,
          13000,
          14000,
          15000,
          16000,
          17000,
          18000,
          19000,
          20000,
          21000,
          22000,
          23000,
          24000,
          25000,
          26000,
          27000,
          28000,
          29000,
          30000,
          31000,
          32000,
          33000,
          34000,
          35000
         ],
         "y": [
          699.3094111487917,
          650.2403730627141,
          563.6255400348041,
          560.6301485949841,
          627.6135952140825,
          571.2310539770135,
          570.9542303226325,
          516.8944707145172,
          582.5486949854999,
          571.1190480405119,
          509.9414351488802,
          479.4339568723602,
          474.99750853891663,
          511.1906563948436,
          459.2466229643896,
          553.6647600893931,
          504.3188641744331,
          356.6742747128274,
          449.578216009141,
          337.4730459522262,
          354.82704069978934,
          339.7933681095361,
          390.12099943355634,
          446.12282060227534,
          371.18062991707893,
          357.6880732380193,
          419.9704820399033,
          377.786604769638,
          344.6389277362463,
          365.5058586499398,
          344.1271258196425,
          355.5655023037177,
          323.05700379799384,
          286.1836013807324,
          366.21209250507064
         ]
        }
       ],
       "layout": {
        "autosize": true,
        "showlegend": true,
        "template": {
         "data": {
          "bar": [
           {
            "error_x": {
             "color": "#2a3f5f"
            },
            "error_y": {
             "color": "#2a3f5f"
            },
            "marker": {
             "line": {
              "color": "#E5ECF6",
              "width": 0.5
             },
             "pattern": {
              "fillmode": "overlay",
              "size": 10,
              "solidity": 0.2
             }
            },
            "type": "bar"
           }
          ],
          "barpolar": [
           {
            "marker": {
             "line": {
              "color": "#E5ECF6",
              "width": 0.5
             },
             "pattern": {
              "fillmode": "overlay",
              "size": 10,
              "solidity": 0.2
             }
            },
            "type": "barpolar"
           }
          ],
          "carpet": [
           {
            "aaxis": {
             "endlinecolor": "#2a3f5f",
             "gridcolor": "white",
             "linecolor": "white",
             "minorgridcolor": "white",
             "startlinecolor": "#2a3f5f"
            },
            "baxis": {
             "endlinecolor": "#2a3f5f",
             "gridcolor": "white",
             "linecolor": "white",
             "minorgridcolor": "white",
             "startlinecolor": "#2a3f5f"
            },
            "type": "carpet"
           }
          ],
          "choropleth": [
           {
            "colorbar": {
             "outlinewidth": 0,
             "ticks": ""
            },
            "type": "choropleth"
           }
          ],
          "contour": [
           {
            "colorbar": {
             "outlinewidth": 0,
             "ticks": ""
            },
            "colorscale": [
             [
              0,
              "#0d0887"
             ],
             [
              0.1111111111111111,
              "#46039f"
             ],
             [
              0.2222222222222222,
              "#7201a8"
             ],
             [
              0.3333333333333333,
              "#9c179e"
             ],
             [
              0.4444444444444444,
              "#bd3786"
             ],
             [
              0.5555555555555556,
              "#d8576b"
             ],
             [
              0.6666666666666666,
              "#ed7953"
             ],
             [
              0.7777777777777778,
              "#fb9f3a"
             ],
             [
              0.8888888888888888,
              "#fdca26"
             ],
             [
              1,
              "#f0f921"
             ]
            ],
            "type": "contour"
           }
          ],
          "contourcarpet": [
           {
            "colorbar": {
             "outlinewidth": 0,
             "ticks": ""
            },
            "type": "contourcarpet"
           }
          ],
          "heatmap": [
           {
            "colorbar": {
             "outlinewidth": 0,
             "ticks": ""
            },
            "colorscale": [
             [
              0,
              "#0d0887"
             ],
             [
              0.1111111111111111,
              "#46039f"
             ],
             [
              0.2222222222222222,
              "#7201a8"
             ],
             [
              0.3333333333333333,
              "#9c179e"
             ],
             [
              0.4444444444444444,
              "#bd3786"
             ],
             [
              0.5555555555555556,
              "#d8576b"
             ],
             [
              0.6666666666666666,
              "#ed7953"
             ],
             [
              0.7777777777777778,
              "#fb9f3a"
             ],
             [
              0.8888888888888888,
              "#fdca26"
             ],
             [
              1,
              "#f0f921"
             ]
            ],
            "type": "heatmap"
           }
          ],
          "heatmapgl": [
           {
            "colorbar": {
             "outlinewidth": 0,
             "ticks": ""
            },
            "colorscale": [
             [
              0,
              "#0d0887"
             ],
             [
              0.1111111111111111,
              "#46039f"
             ],
             [
              0.2222222222222222,
              "#7201a8"
             ],
             [
              0.3333333333333333,
              "#9c179e"
             ],
             [
              0.4444444444444444,
              "#bd3786"
             ],
             [
              0.5555555555555556,
              "#d8576b"
             ],
             [
              0.6666666666666666,
              "#ed7953"
             ],
             [
              0.7777777777777778,
              "#fb9f3a"
             ],
             [
              0.8888888888888888,
              "#fdca26"
             ],
             [
              1,
              "#f0f921"
             ]
            ],
            "type": "heatmapgl"
           }
          ],
          "histogram": [
           {
            "marker": {
             "pattern": {
              "fillmode": "overlay",
              "size": 10,
              "solidity": 0.2
             }
            },
            "type": "histogram"
           }
          ],
          "histogram2d": [
           {
            "colorbar": {
             "outlinewidth": 0,
             "ticks": ""
            },
            "colorscale": [
             [
              0,
              "#0d0887"
             ],
             [
              0.1111111111111111,
              "#46039f"
             ],
             [
              0.2222222222222222,
              "#7201a8"
             ],
             [
              0.3333333333333333,
              "#9c179e"
             ],
             [
              0.4444444444444444,
              "#bd3786"
             ],
             [
              0.5555555555555556,
              "#d8576b"
             ],
             [
              0.6666666666666666,
              "#ed7953"
             ],
             [
              0.7777777777777778,
              "#fb9f3a"
             ],
             [
              0.8888888888888888,
              "#fdca26"
             ],
             [
              1,
              "#f0f921"
             ]
            ],
            "type": "histogram2d"
           }
          ],
          "histogram2dcontour": [
           {
            "colorbar": {
             "outlinewidth": 0,
             "ticks": ""
            },
            "colorscale": [
             [
              0,
              "#0d0887"
             ],
             [
              0.1111111111111111,
              "#46039f"
             ],
             [
              0.2222222222222222,
              "#7201a8"
             ],
             [
              0.3333333333333333,
              "#9c179e"
             ],
             [
              0.4444444444444444,
              "#bd3786"
             ],
             [
              0.5555555555555556,
              "#d8576b"
             ],
             [
              0.6666666666666666,
              "#ed7953"
             ],
             [
              0.7777777777777778,
              "#fb9f3a"
             ],
             [
              0.8888888888888888,
              "#fdca26"
             ],
             [
              1,
              "#f0f921"
             ]
            ],
            "type": "histogram2dcontour"
           }
          ],
          "mesh3d": [
           {
            "colorbar": {
             "outlinewidth": 0,
             "ticks": ""
            },
            "type": "mesh3d"
           }
          ],
          "parcoords": [
           {
            "line": {
             "colorbar": {
              "outlinewidth": 0,
              "ticks": ""
             }
            },
            "type": "parcoords"
           }
          ],
          "pie": [
           {
            "automargin": true,
            "type": "pie"
           }
          ],
          "scatter": [
           {
            "fillpattern": {
             "fillmode": "overlay",
             "size": 10,
             "solidity": 0.2
            },
            "type": "scatter"
           }
          ],
          "scatter3d": [
           {
            "line": {
             "colorbar": {
              "outlinewidth": 0,
              "ticks": ""
             }
            },
            "marker": {
             "colorbar": {
              "outlinewidth": 0,
              "ticks": ""
             }
            },
            "type": "scatter3d"
           }
          ],
          "scattercarpet": [
           {
            "marker": {
             "colorbar": {
              "outlinewidth": 0,
              "ticks": ""
             }
            },
            "type": "scattercarpet"
           }
          ],
          "scattergeo": [
           {
            "marker": {
             "colorbar": {
              "outlinewidth": 0,
              "ticks": ""
             }
            },
            "type": "scattergeo"
           }
          ],
          "scattergl": [
           {
            "marker": {
             "colorbar": {
              "outlinewidth": 0,
              "ticks": ""
             }
            },
            "type": "scattergl"
           }
          ],
          "scattermapbox": [
           {
            "marker": {
             "colorbar": {
              "outlinewidth": 0,
              "ticks": ""
             }
            },
            "type": "scattermapbox"
           }
          ],
          "scatterpolar": [
           {
            "marker": {
             "colorbar": {
              "outlinewidth": 0,
              "ticks": ""
             }
            },
            "type": "scatterpolar"
           }
          ],
          "scatterpolargl": [
           {
            "marker": {
             "colorbar": {
              "outlinewidth": 0,
              "ticks": ""
             }
            },
            "type": "scatterpolargl"
           }
          ],
          "scatterternary": [
           {
            "marker": {
             "colorbar": {
              "outlinewidth": 0,
              "ticks": ""
             }
            },
            "type": "scatterternary"
           }
          ],
          "surface": [
           {
            "colorbar": {
             "outlinewidth": 0,
             "ticks": ""
            },
            "colorscale": [
             [
              0,
              "#0d0887"
             ],
             [
              0.1111111111111111,
              "#46039f"
             ],
             [
              0.2222222222222222,
              "#7201a8"
             ],
             [
              0.3333333333333333,
              "#9c179e"
             ],
             [
              0.4444444444444444,
              "#bd3786"
             ],
             [
              0.5555555555555556,
              "#d8576b"
             ],
             [
              0.6666666666666666,
              "#ed7953"
             ],
             [
              0.7777777777777778,
              "#fb9f3a"
             ],
             [
              0.8888888888888888,
              "#fdca26"
             ],
             [
              1,
              "#f0f921"
             ]
            ],
            "type": "surface"
           }
          ],
          "table": [
           {
            "cells": {
             "fill": {
              "color": "#EBF0F8"
             },
             "line": {
              "color": "white"
             }
            },
            "header": {
             "fill": {
              "color": "#C8D4E3"
             },
             "line": {
              "color": "white"
             }
            },
            "type": "table"
           }
          ]
         },
         "layout": {
          "annotationdefaults": {
           "arrowcolor": "#2a3f5f",
           "arrowhead": 0,
           "arrowwidth": 1
          },
          "autotypenumbers": "strict",
          "coloraxis": {
           "colorbar": {
            "outlinewidth": 0,
            "ticks": ""
           }
          },
          "colorscale": {
           "diverging": [
            [
             0,
             "#8e0152"
            ],
            [
             0.1,
             "#c51b7d"
            ],
            [
             0.2,
             "#de77ae"
            ],
            [
             0.3,
             "#f1b6da"
            ],
            [
             0.4,
             "#fde0ef"
            ],
            [
             0.5,
             "#f7f7f7"
            ],
            [
             0.6,
             "#e6f5d0"
            ],
            [
             0.7,
             "#b8e186"
            ],
            [
             0.8,
             "#7fbc41"
            ],
            [
             0.9,
             "#4d9221"
            ],
            [
             1,
             "#276419"
            ]
           ],
           "sequential": [
            [
             0,
             "#0d0887"
            ],
            [
             0.1111111111111111,
             "#46039f"
            ],
            [
             0.2222222222222222,
             "#7201a8"
            ],
            [
             0.3333333333333333,
             "#9c179e"
            ],
            [
             0.4444444444444444,
             "#bd3786"
            ],
            [
             0.5555555555555556,
             "#d8576b"
            ],
            [
             0.6666666666666666,
             "#ed7953"
            ],
            [
             0.7777777777777778,
             "#fb9f3a"
            ],
            [
             0.8888888888888888,
             "#fdca26"
            ],
            [
             1,
             "#f0f921"
            ]
           ],
           "sequentialminus": [
            [
             0,
             "#0d0887"
            ],
            [
             0.1111111111111111,
             "#46039f"
            ],
            [
             0.2222222222222222,
             "#7201a8"
            ],
            [
             0.3333333333333333,
             "#9c179e"
            ],
            [
             0.4444444444444444,
             "#bd3786"
            ],
            [
             0.5555555555555556,
             "#d8576b"
            ],
            [
             0.6666666666666666,
             "#ed7953"
            ],
            [
             0.7777777777777778,
             "#fb9f3a"
            ],
            [
             0.8888888888888888,
             "#fdca26"
            ],
            [
             1,
             "#f0f921"
            ]
           ]
          },
          "colorway": [
           "#636efa",
           "#EF553B",
           "#00cc96",
           "#ab63fa",
           "#FFA15A",
           "#19d3f3",
           "#FF6692",
           "#B6E880",
           "#FF97FF",
           "#FECB52"
          ],
          "font": {
           "color": "#2a3f5f"
          },
          "geo": {
           "bgcolor": "white",
           "lakecolor": "white",
           "landcolor": "#E5ECF6",
           "showlakes": true,
           "showland": true,
           "subunitcolor": "white"
          },
          "hoverlabel": {
           "align": "left"
          },
          "hovermode": "closest",
          "mapbox": {
           "style": "light"
          },
          "paper_bgcolor": "white",
          "plot_bgcolor": "#E5ECF6",
          "polar": {
           "angularaxis": {
            "gridcolor": "white",
            "linecolor": "white",
            "ticks": ""
           },
           "bgcolor": "#E5ECF6",
           "radialaxis": {
            "gridcolor": "white",
            "linecolor": "white",
            "ticks": ""
           }
          },
          "scene": {
           "xaxis": {
            "backgroundcolor": "#E5ECF6",
            "gridcolor": "white",
            "gridwidth": 2,
            "linecolor": "white",
            "showbackground": true,
            "ticks": "",
            "zerolinecolor": "white"
           },
           "yaxis": {
            "backgroundcolor": "#E5ECF6",
            "gridcolor": "white",
            "gridwidth": 2,
            "linecolor": "white",
            "showbackground": true,
            "ticks": "",
            "zerolinecolor": "white"
           },
           "zaxis": {
            "backgroundcolor": "#E5ECF6",
            "gridcolor": "white",
            "gridwidth": 2,
            "linecolor": "white",
            "showbackground": true,
            "ticks": "",
            "zerolinecolor": "white"
           }
          },
          "shapedefaults": {
           "line": {
            "color": "#2a3f5f"
           }
          },
          "ternary": {
           "aaxis": {
            "gridcolor": "white",
            "linecolor": "white",
            "ticks": ""
           },
           "baxis": {
            "gridcolor": "white",
            "linecolor": "white",
            "ticks": ""
           },
           "bgcolor": "#E5ECF6",
           "caxis": {
            "gridcolor": "white",
            "linecolor": "white",
            "ticks": ""
           }
          },
          "title": {
           "x": 0.05
          },
          "xaxis": {
           "automargin": true,
           "gridcolor": "white",
           "linecolor": "white",
           "ticks": "",
           "title": {
            "standoff": 15
           },
           "zerolinecolor": "white",
           "zerolinewidth": 2
          },
          "yaxis": {
           "automargin": true,
           "gridcolor": "white",
           "linecolor": "white",
           "ticks": "",
           "title": {
            "standoff": 15
           },
           "zerolinecolor": "white",
           "zerolinewidth": 2
          }
         }
        },
        "title": {
         "text": "Throughput vs. Table Size for Each Query Type (768)"
        },
        "xaxis": {
         "autorange": true,
         "range": [
          -1047.7792732166895,
          37047.77927321669
         ],
         "title": {
          "text": "Table Size"
         },
         "type": "linear"
        },
        "yaxis": {
         "autorange": true,
         "range": [
          -452.14381965893404,
          5983.478165358637
         ],
         "title": {
          "text": "Throughput (ops / s)"
         },
         "type": "linear"
        }
       }
      },
      "text/html": [
       "<div>                            <div id=\"9d68a2f1-2aec-4ede-a8a6-74f28b30e8ae\" class=\"plotly-graph-div\" style=\"height:525px; width:100%;\"></div>            <script type=\"text/javascript\">                require([\"plotly\"], function(Plotly) {                    window.PLOTLYENV=window.PLOTLYENV || {};                                    if (document.getElementById(\"9d68a2f1-2aec-4ede-a8a6-74f28b30e8ae\")) {                    Plotly.newPlot(                        \"9d68a2f1-2aec-4ede-a8a6-74f28b30e8ae\",                        [{\"mode\":\"lines+markers\",\"name\":\"select 1\",\"x\":[1000,2000,3000,4000,5000,6000,7000,8000,9000,10000,11000,12000,13000,14000,15000,16000,17000,18000,19000,20000,21000,22000,23000,24000,25000,26000,27000,28000,29000,30000,31000,32000,33000,34000,35000],\"y\":[27156.387180317255,34920.522854050454,41659.75367500993,21191.915925626516,41302.84588872477,30073.162687316268,37933.472008682285,40411.446189420945,37052.1554770318,21371.160705186998,28064.931415189025,22132.362408316185,18358.226462992952,35845.68840270062,39934.34256878987,16991.99481445471,27947.121535181235,9095.708368572854,35705.32050736358,6663.442688061005,38434.014478145335,39565.173096877654,27114.254315081776,40233.13189448441,19915.97340930674,18081.234642410658,28635.925445483717,37180.249977838845,29082.679240049925,11250.513666478904,20463.014099624335,17005.77359714564,25618.76374297581,36801.825041677635,37022.72045193751],\"type\":\"scatter\"},{\"mode\":\"lines+markers\",\"name\":\"select id\",\"x\":[1000,2000,3000,4000,5000,6000,7000,8000,9000,10000,11000,12000,13000,14000,15000,16000,17000,18000,19000,20000,21000,22000,23000,24000,25000,26000,27000,28000,29000,30000,31000,32000,33000,34000,35000],\"y\":[5527.621608086559,3383.158030586565,3139.778120461725,2840.5146959230665,1668.7636765840966,2169.4713266747012,1392.4896002443486,1058.2564004228682,1172.5365657288544,1057.7279914459864,727.4932268594482,722.4209855491828,623.6892545565123,757.4418596251711,645.007627577383,570.0533044114089,566.0077216534216,517.1060434391841,419.8006641858119,381.7306782190833,333.0787379501975,388.31509940016423,351.20379480266104,165.90696750848264,121.45032566829033,94.77622884382511,75.10711030490131,108.49172002266936,89.15283735866558,72.6409550640706,74.39604597888717,53.90608964855751,66.95896163341204,53.46740432909262,56.528371776084626],\"type\":\"scatter\"},{\"mode\":\"lines+markers\",\"name\":\"select int\",\"x\":[1000,2000,3000,4000,5000,6000,7000,8000,9000,10000,11000,12000,13000,14000,15000,16000,17000,18000,19000,20000,21000,22000,23000,24000,25000,26000,27000,28000,29000,30000,31000,32000,33000,34000,35000],\"y\":[3568.193148272606,3807.430941984913,1062.0991777810978,1369.6894093520082,975.244898006636,991.169916368715,645.5894078062325,290.3898585542486,513.156983579922,430.7828196461346,374.87366582712013,335.61466483374915,277.7567043516036,272.61851448627743,260.04091906704525,216.91145441155786,197.0409358813067,193.301932879225,152.04405405473986,149.5371245175335,152.023388302804,152.64098160616604,144.7659545093708,141.2741574267467,127.5039222701957,106.2143287280072,102.65038574315426,101.87606948153599,85.3923672004694,87.75375662002219,85.30790688403623,77.43674518954012,77.98969993248448,74.22631225847006,70.85679147077158],\"type\":\"scatter\"},{\"mode\":\"lines+markers\",\"name\":\"select int (indexed)\",\"x\":[1000,2000,3000,4000,5000,6000,7000,8000,9000,10000,11000,12000,13000,14000,15000,16000,17000,18000,19000,20000,21000,22000,23000,24000,25000,26000,27000,28000,29000,30000,31000,32000,33000,34000,35000],\"y\":[3202.3699179232676,3719.475728499725,2350.0002801418636,856.7689853313968,26469.165720055535,27051.299580780393,18048.55630620939,13435.9611750008,26615.292848530997,26252.1374475809,11112.799724452216,10691.027732463295,27324.456026058633,21061.02937484308,25961.277543946522,25720.880603421843,12057.448398781118,8936.029145450284,27527.098510205422,13139.22686548462,26359.376571141278,27719.93919767365,26265.288997432526,18877.105180251136,26425.8064516129,15653.89266253639,25793.641227476786,27608.636124275934,18911.150187113937,26303.17320958234,28142.13633923779,22777.799500380144,26285.041047816005,9209.749242457512,26384.24860036485],\"type\":\"scatter\"},{\"mode\":\"lines+markers\",\"name\":\"select vector\",\"x\":[1000,2000,3000,4000,5000,6000,7000,8000,9000,10000,11000,12000,13000,14000,15000,16000,17000,18000,19000,20000,21000,22000,23000,24000,25000,26000,27000,28000,29000,30000,31000,32000,33000,34000,35000],\"y\":[312.30507477578436,143.35256638547358,90.39736612288496,69.70612538481839,55.59910252532068,49.10891460070579,41.10049223924319,34.25820795838738,33.89958948422692,31.78460661973687,25.431360464012897,26.061800016590357,26.654770120859247,14.311546612218944,9.698900563390358,9.016303192386957,8.529548901317547,8.181778210449032,7.9318270862966,7.379279064669397,6.768093466373155,6.448138676896029,5.605056019503433,5.871042012589547,5.996795907124571,4.836633554502759,4.289411315546868,4.135787813531179,4.133556224338071,3.7127376131438736,4.005688161537676,4.107089221113593,4.457182708068902,4.143994334066584,4.405912532966185],\"type\":\"scatter\"},{\"mode\":\"lines+markers\",\"name\":\"select vector (indexed)\",\"x\":[1000,2000,3000,4000,5000,6000,7000,8000,9000,10000,11000,12000,13000,14000,15000,16000,17000,18000,19000,20000,21000,22000,23000,24000,25000,26000,27000,28000,29000,30000,31000,32000,33000,34000,35000],\"y\":[699.3094111487917,650.2403730627141,563.6255400348041,560.6301485949841,627.6135952140825,571.2310539770135,570.9542303226325,516.8944707145172,582.5486949854999,571.1190480405119,509.9414351488802,479.4339568723602,474.99750853891663,511.1906563948436,459.2466229643896,553.6647600893931,504.3188641744331,356.6742747128274,449.578216009141,337.4730459522262,354.82704069978934,339.7933681095361,390.12099943355634,446.12282060227534,371.18062991707893,357.6880732380193,419.9704820399033,377.786604769638,344.6389277362463,365.5058586499398,344.1271258196425,355.5655023037177,323.05700379799384,286.1836013807324,366.21209250507064],\"type\":\"scatter\"}],                        {\"showlegend\":true,\"title\":{\"text\":\"Throughput vs. Table Size for Each Query Type (768)\"},\"xaxis\":{\"title\":{\"text\":\"Table Size\"}},\"yaxis\":{\"title\":{\"text\":\"Throughput (ops \\u002f s)\"}},\"template\":{\"data\":{\"histogram2dcontour\":[{\"type\":\"histogram2dcontour\",\"colorbar\":{\"outlinewidth\":0,\"ticks\":\"\"},\"colorscale\":[[0.0,\"#0d0887\"],[0.1111111111111111,\"#46039f\"],[0.2222222222222222,\"#7201a8\"],[0.3333333333333333,\"#9c179e\"],[0.4444444444444444,\"#bd3786\"],[0.5555555555555556,\"#d8576b\"],[0.6666666666666666,\"#ed7953\"],[0.7777777777777778,\"#fb9f3a\"],[0.8888888888888888,\"#fdca26\"],[1.0,\"#f0f921\"]]}],\"choropleth\":[{\"type\":\"choropleth\",\"colorbar\":{\"outlinewidth\":0,\"ticks\":\"\"}}],\"histogram2d\":[{\"type\":\"histogram2d\",\"colorbar\":{\"outlinewidth\":0,\"ticks\":\"\"},\"colorscale\":[[0.0,\"#0d0887\"],[0.1111111111111111,\"#46039f\"],[0.2222222222222222,\"#7201a8\"],[0.3333333333333333,\"#9c179e\"],[0.4444444444444444,\"#bd3786\"],[0.5555555555555556,\"#d8576b\"],[0.6666666666666666,\"#ed7953\"],[0.7777777777777778,\"#fb9f3a\"],[0.8888888888888888,\"#fdca26\"],[1.0,\"#f0f921\"]]}],\"heatmap\":[{\"type\":\"heatmap\",\"colorbar\":{\"outlinewidth\":0,\"ticks\":\"\"},\"colorscale\":[[0.0,\"#0d0887\"],[0.1111111111111111,\"#46039f\"],[0.2222222222222222,\"#7201a8\"],[0.3333333333333333,\"#9c179e\"],[0.4444444444444444,\"#bd3786\"],[0.5555555555555556,\"#d8576b\"],[0.6666666666666666,\"#ed7953\"],[0.7777777777777778,\"#fb9f3a\"],[0.8888888888888888,\"#fdca26\"],[1.0,\"#f0f921\"]]}],\"heatmapgl\":[{\"type\":\"heatmapgl\",\"colorbar\":{\"outlinewidth\":0,\"ticks\":\"\"},\"colorscale\":[[0.0,\"#0d0887\"],[0.1111111111111111,\"#46039f\"],[0.2222222222222222,\"#7201a8\"],[0.3333333333333333,\"#9c179e\"],[0.4444444444444444,\"#bd3786\"],[0.5555555555555556,\"#d8576b\"],[0.6666666666666666,\"#ed7953\"],[0.7777777777777778,\"#fb9f3a\"],[0.8888888888888888,\"#fdca26\"],[1.0,\"#f0f921\"]]}],\"contourcarpet\":[{\"type\":\"contourcarpet\",\"colorbar\":{\"outlinewidth\":0,\"ticks\":\"\"}}],\"contour\":[{\"type\":\"contour\",\"colorbar\":{\"outlinewidth\":0,\"ticks\":\"\"},\"colorscale\":[[0.0,\"#0d0887\"],[0.1111111111111111,\"#46039f\"],[0.2222222222222222,\"#7201a8\"],[0.3333333333333333,\"#9c179e\"],[0.4444444444444444,\"#bd3786\"],[0.5555555555555556,\"#d8576b\"],[0.6666666666666666,\"#ed7953\"],[0.7777777777777778,\"#fb9f3a\"],[0.8888888888888888,\"#fdca26\"],[1.0,\"#f0f921\"]]}],\"surface\":[{\"type\":\"surface\",\"colorbar\":{\"outlinewidth\":0,\"ticks\":\"\"},\"colorscale\":[[0.0,\"#0d0887\"],[0.1111111111111111,\"#46039f\"],[0.2222222222222222,\"#7201a8\"],[0.3333333333333333,\"#9c179e\"],[0.4444444444444444,\"#bd3786\"],[0.5555555555555556,\"#d8576b\"],[0.6666666666666666,\"#ed7953\"],[0.7777777777777778,\"#fb9f3a\"],[0.8888888888888888,\"#fdca26\"],[1.0,\"#f0f921\"]]}],\"mesh3d\":[{\"type\":\"mesh3d\",\"colorbar\":{\"outlinewidth\":0,\"ticks\":\"\"}}],\"scatter\":[{\"fillpattern\":{\"fillmode\":\"overlay\",\"size\":10,\"solidity\":0.2},\"type\":\"scatter\"}],\"parcoords\":[{\"type\":\"parcoords\",\"line\":{\"colorbar\":{\"outlinewidth\":0,\"ticks\":\"\"}}}],\"scatterpolargl\":[{\"type\":\"scatterpolargl\",\"marker\":{\"colorbar\":{\"outlinewidth\":0,\"ticks\":\"\"}}}],\"bar\":[{\"error_x\":{\"color\":\"#2a3f5f\"},\"error_y\":{\"color\":\"#2a3f5f\"},\"marker\":{\"line\":{\"color\":\"#E5ECF6\",\"width\":0.5},\"pattern\":{\"fillmode\":\"overlay\",\"size\":10,\"solidity\":0.2}},\"type\":\"bar\"}],\"scattergeo\":[{\"type\":\"scattergeo\",\"marker\":{\"colorbar\":{\"outlinewidth\":0,\"ticks\":\"\"}}}],\"scatterpolar\":[{\"type\":\"scatterpolar\",\"marker\":{\"colorbar\":{\"outlinewidth\":0,\"ticks\":\"\"}}}],\"histogram\":[{\"marker\":{\"pattern\":{\"fillmode\":\"overlay\",\"size\":10,\"solidity\":0.2}},\"type\":\"histogram\"}],\"scattergl\":[{\"type\":\"scattergl\",\"marker\":{\"colorbar\":{\"outlinewidth\":0,\"ticks\":\"\"}}}],\"scatter3d\":[{\"type\":\"scatter3d\",\"line\":{\"colorbar\":{\"outlinewidth\":0,\"ticks\":\"\"}},\"marker\":{\"colorbar\":{\"outlinewidth\":0,\"ticks\":\"\"}}}],\"scattermapbox\":[{\"type\":\"scattermapbox\",\"marker\":{\"colorbar\":{\"outlinewidth\":0,\"ticks\":\"\"}}}],\"scatterternary\":[{\"type\":\"scatterternary\",\"marker\":{\"colorbar\":{\"outlinewidth\":0,\"ticks\":\"\"}}}],\"scattercarpet\":[{\"type\":\"scattercarpet\",\"marker\":{\"colorbar\":{\"outlinewidth\":0,\"ticks\":\"\"}}}],\"carpet\":[{\"aaxis\":{\"endlinecolor\":\"#2a3f5f\",\"gridcolor\":\"white\",\"linecolor\":\"white\",\"minorgridcolor\":\"white\",\"startlinecolor\":\"#2a3f5f\"},\"baxis\":{\"endlinecolor\":\"#2a3f5f\",\"gridcolor\":\"white\",\"linecolor\":\"white\",\"minorgridcolor\":\"white\",\"startlinecolor\":\"#2a3f5f\"},\"type\":\"carpet\"}],\"table\":[{\"cells\":{\"fill\":{\"color\":\"#EBF0F8\"},\"line\":{\"color\":\"white\"}},\"header\":{\"fill\":{\"color\":\"#C8D4E3\"},\"line\":{\"color\":\"white\"}},\"type\":\"table\"}],\"barpolar\":[{\"marker\":{\"line\":{\"color\":\"#E5ECF6\",\"width\":0.5},\"pattern\":{\"fillmode\":\"overlay\",\"size\":10,\"solidity\":0.2}},\"type\":\"barpolar\"}],\"pie\":[{\"automargin\":true,\"type\":\"pie\"}]},\"layout\":{\"autotypenumbers\":\"strict\",\"colorway\":[\"#636efa\",\"#EF553B\",\"#00cc96\",\"#ab63fa\",\"#FFA15A\",\"#19d3f3\",\"#FF6692\",\"#B6E880\",\"#FF97FF\",\"#FECB52\"],\"font\":{\"color\":\"#2a3f5f\"},\"hovermode\":\"closest\",\"hoverlabel\":{\"align\":\"left\"},\"paper_bgcolor\":\"white\",\"plot_bgcolor\":\"#E5ECF6\",\"polar\":{\"bgcolor\":\"#E5ECF6\",\"angularaxis\":{\"gridcolor\":\"white\",\"linecolor\":\"white\",\"ticks\":\"\"},\"radialaxis\":{\"gridcolor\":\"white\",\"linecolor\":\"white\",\"ticks\":\"\"}},\"ternary\":{\"bgcolor\":\"#E5ECF6\",\"aaxis\":{\"gridcolor\":\"white\",\"linecolor\":\"white\",\"ticks\":\"\"},\"baxis\":{\"gridcolor\":\"white\",\"linecolor\":\"white\",\"ticks\":\"\"},\"caxis\":{\"gridcolor\":\"white\",\"linecolor\":\"white\",\"ticks\":\"\"}},\"coloraxis\":{\"colorbar\":{\"outlinewidth\":0,\"ticks\":\"\"}},\"colorscale\":{\"sequential\":[[0.0,\"#0d0887\"],[0.1111111111111111,\"#46039f\"],[0.2222222222222222,\"#7201a8\"],[0.3333333333333333,\"#9c179e\"],[0.4444444444444444,\"#bd3786\"],[0.5555555555555556,\"#d8576b\"],[0.6666666666666666,\"#ed7953\"],[0.7777777777777778,\"#fb9f3a\"],[0.8888888888888888,\"#fdca26\"],[1.0,\"#f0f921\"]],\"sequentialminus\":[[0.0,\"#0d0887\"],[0.1111111111111111,\"#46039f\"],[0.2222222222222222,\"#7201a8\"],[0.3333333333333333,\"#9c179e\"],[0.4444444444444444,\"#bd3786\"],[0.5555555555555556,\"#d8576b\"],[0.6666666666666666,\"#ed7953\"],[0.7777777777777778,\"#fb9f3a\"],[0.8888888888888888,\"#fdca26\"],[1.0,\"#f0f921\"]],\"diverging\":[[0,\"#8e0152\"],[0.1,\"#c51b7d\"],[0.2,\"#de77ae\"],[0.3,\"#f1b6da\"],[0.4,\"#fde0ef\"],[0.5,\"#f7f7f7\"],[0.6,\"#e6f5d0\"],[0.7,\"#b8e186\"],[0.8,\"#7fbc41\"],[0.9,\"#4d9221\"],[1,\"#276419\"]]},\"xaxis\":{\"gridcolor\":\"white\",\"linecolor\":\"white\",\"ticks\":\"\",\"title\":{\"standoff\":15},\"zerolinecolor\":\"white\",\"automargin\":true,\"zerolinewidth\":2},\"yaxis\":{\"gridcolor\":\"white\",\"linecolor\":\"white\",\"ticks\":\"\",\"title\":{\"standoff\":15},\"zerolinecolor\":\"white\",\"automargin\":true,\"zerolinewidth\":2},\"scene\":{\"xaxis\":{\"backgroundcolor\":\"#E5ECF6\",\"gridcolor\":\"white\",\"linecolor\":\"white\",\"showbackground\":true,\"ticks\":\"\",\"zerolinecolor\":\"white\",\"gridwidth\":2},\"yaxis\":{\"backgroundcolor\":\"#E5ECF6\",\"gridcolor\":\"white\",\"linecolor\":\"white\",\"showbackground\":true,\"ticks\":\"\",\"zerolinecolor\":\"white\",\"gridwidth\":2},\"zaxis\":{\"backgroundcolor\":\"#E5ECF6\",\"gridcolor\":\"white\",\"linecolor\":\"white\",\"showbackground\":true,\"ticks\":\"\",\"zerolinecolor\":\"white\",\"gridwidth\":2}},\"shapedefaults\":{\"line\":{\"color\":\"#2a3f5f\"}},\"annotationdefaults\":{\"arrowcolor\":\"#2a3f5f\",\"arrowhead\":0,\"arrowwidth\":1},\"geo\":{\"bgcolor\":\"white\",\"landcolor\":\"#E5ECF6\",\"subunitcolor\":\"white\",\"showland\":true,\"showlakes\":true,\"lakecolor\":\"white\"},\"title\":{\"x\":0.05},\"mapbox\":{\"style\":\"light\"}}}},                        {\"responsive\": true}                    ).then(function(){\n",
       "                            \n",
       "var gd = document.getElementById('9d68a2f1-2aec-4ede-a8a6-74f28b30e8ae');\n",
       "var x = new MutationObserver(function (mutations, observer) {{\n",
       "        var display = window.getComputedStyle(gd).display;\n",
       "        if (!display || display === 'none') {{\n",
       "            console.log([gd, 'removed!']);\n",
       "            Plotly.purge(gd);\n",
       "            observer.disconnect();\n",
       "        }}\n",
       "}});\n",
       "\n",
       "// Listen for the removal of the full notebook cells\n",
       "var notebookContainer = gd.closest('#notebook-container');\n",
       "if (notebookContainer) {{\n",
       "    x.observe(notebookContainer, {childList: true});\n",
       "}}\n",
       "\n",
       "// Listen for the clearing of the current output cell\n",
       "var outputEl = gd.closest('.output');\n",
       "if (outputEl) {{\n",
       "    x.observe(outputEl, {childList: true});\n",
       "}}\n",
       "\n",
       "                        })                };                });            </script>        </div>"
      ]
     },
     "metadata": {},
     "output_type": "display_data"
    },
    {
     "name": "stdout",
     "output_type": "stream",
     "text": [
      "\n",
      "========================================\n",
      "select 1 (768)\n",
      "----------------------------------------\n",
      "Table Size     Throughput (ops/s)  \n",
      "----------------------------------------\n",
      "1000           27156.387           \n",
      "2000           34920.523           \n",
      "3000           41659.754           \n",
      "4000           21191.916           \n",
      "5000           41302.846           \n",
      "6000           30073.163           \n",
      "7000           37933.472           \n",
      "8000           40411.446           \n",
      "9000           37052.155           \n",
      "10000          21371.161           \n",
      "11000          28064.931           \n",
      "12000          22132.362           \n",
      "13000          18358.226           \n",
      "14000          35845.688           \n",
      "15000          39934.343           \n",
      "16000          16991.995           \n",
      "17000          27947.122           \n",
      "18000          9095.708            \n",
      "19000          35705.321           \n",
      "20000          6663.443            \n",
      "21000          38434.014           \n",
      "22000          39565.173           \n",
      "23000          27114.254           \n",
      "24000          40233.132           \n",
      "25000          19915.973           \n",
      "26000          18081.235           \n",
      "27000          28635.925           \n",
      "28000          37180.250           \n",
      "29000          29082.679           \n",
      "30000          11250.514           \n",
      "31000          20463.014           \n",
      "32000          17005.774           \n",
      "33000          25618.764           \n",
      "34000          36801.825           \n",
      "35000          37022.720           \n",
      "========================================\n",
      "\n",
      "\n",
      "========================================\n",
      "select id (768)\n",
      "----------------------------------------\n",
      "Table Size     Throughput (ops/s)  \n",
      "----------------------------------------\n",
      "1000           5527.622            \n",
      "2000           3383.158            \n",
      "3000           3139.778            \n",
      "4000           2840.515            \n",
      "5000           1668.764            \n",
      "6000           2169.471            \n",
      "7000           1392.490            \n",
      "8000           1058.256            \n",
      "9000           1172.537            \n",
      "10000          1057.728            \n",
      "11000          727.493             \n",
      "12000          722.421             \n",
      "13000          623.689             \n",
      "14000          757.442             \n",
      "15000          645.008             \n",
      "16000          570.053             \n",
      "17000          566.008             \n",
      "18000          517.106             \n",
      "19000          419.801             \n",
      "20000          381.731             \n",
      "21000          333.079             \n",
      "22000          388.315             \n",
      "23000          351.204             \n",
      "24000          165.907             \n",
      "25000          121.450             \n",
      "26000          94.776              \n",
      "27000          75.107              \n",
      "28000          108.492             \n",
      "29000          89.153              \n",
      "30000          72.641              \n",
      "31000          74.396              \n",
      "32000          53.906              \n",
      "33000          66.959              \n",
      "34000          53.467              \n",
      "35000          56.528              \n",
      "========================================\n",
      "\n",
      "\n",
      "========================================\n",
      "select int (768)\n",
      "----------------------------------------\n",
      "Table Size     Throughput (ops/s)  \n",
      "----------------------------------------\n",
      "1000           3568.193            \n",
      "2000           3807.431            \n",
      "3000           1062.099            \n",
      "4000           1369.689            \n",
      "5000           975.245             \n",
      "6000           991.170             \n",
      "7000           645.589             \n",
      "8000           290.390             \n",
      "9000           513.157             \n",
      "10000          430.783             \n",
      "11000          374.874             \n",
      "12000          335.615             \n",
      "13000          277.757             \n",
      "14000          272.619             \n",
      "15000          260.041             \n",
      "16000          216.911             \n",
      "17000          197.041             \n",
      "18000          193.302             \n",
      "19000          152.044             \n",
      "20000          149.537             \n",
      "21000          152.023             \n",
      "22000          152.641             \n",
      "23000          144.766             \n",
      "24000          141.274             \n",
      "25000          127.504             \n",
      "26000          106.214             \n",
      "27000          102.650             \n",
      "28000          101.876             \n",
      "29000          85.392              \n",
      "30000          87.754              \n",
      "31000          85.308              \n",
      "32000          77.437              \n",
      "33000          77.990              \n",
      "34000          74.226              \n",
      "35000          70.857              \n",
      "========================================\n",
      "\n",
      "\n",
      "========================================\n",
      "select int (indexed) (768)\n",
      "----------------------------------------\n",
      "Table Size     Throughput (ops/s)  \n",
      "----------------------------------------\n",
      "1000           3202.370            \n",
      "2000           3719.476            \n",
      "3000           2350.000            \n",
      "4000           856.769             \n",
      "5000           26469.166           \n",
      "6000           27051.300           \n",
      "7000           18048.556           \n",
      "8000           13435.961           \n",
      "9000           26615.293           \n",
      "10000          26252.137           \n",
      "11000          11112.800           \n",
      "12000          10691.028           \n",
      "13000          27324.456           \n",
      "14000          21061.029           \n",
      "15000          25961.278           \n",
      "16000          25720.881           \n",
      "17000          12057.448           \n",
      "18000          8936.029            \n",
      "19000          27527.099           \n",
      "20000          13139.227           \n",
      "21000          26359.377           \n",
      "22000          27719.939           \n",
      "23000          26265.289           \n",
      "24000          18877.105           \n",
      "25000          26425.806           \n",
      "26000          15653.893           \n",
      "27000          25793.641           \n",
      "28000          27608.636           \n",
      "29000          18911.150           \n",
      "30000          26303.173           \n",
      "31000          28142.136           \n",
      "32000          22777.800           \n",
      "33000          26285.041           \n",
      "34000          9209.749            \n",
      "35000          26384.249           \n",
      "========================================\n",
      "\n",
      "\n",
      "========================================\n",
      "select vector (768)\n",
      "----------------------------------------\n",
      "Table Size     Throughput (ops/s)  \n",
      "----------------------------------------\n",
      "1000           312.305             \n",
      "2000           143.353             \n",
      "3000           90.397              \n",
      "4000           69.706              \n",
      "5000           55.599              \n",
      "6000           49.109              \n",
      "7000           41.100              \n",
      "8000           34.258              \n",
      "9000           33.900              \n",
      "10000          31.785              \n",
      "11000          25.431              \n",
      "12000          26.062              \n",
      "13000          26.655              \n",
      "14000          14.312              \n",
      "15000          9.699               \n",
      "16000          9.016               \n",
      "17000          8.530               \n",
      "18000          8.182               \n",
      "19000          7.932               \n",
      "20000          7.379               \n",
      "21000          6.768               \n",
      "22000          6.448               \n",
      "23000          5.605               \n",
      "24000          5.871               \n",
      "25000          5.997               \n",
      "26000          4.837               \n",
      "27000          4.289               \n",
      "28000          4.136               \n",
      "29000          4.134               \n",
      "30000          3.713               \n",
      "31000          4.006               \n",
      "32000          4.107               \n",
      "33000          4.457               \n",
      "34000          4.144               \n",
      "35000          4.406               \n",
      "========================================\n",
      "\n",
      "\n",
      "========================================\n",
      "select vector (indexed) (768)\n",
      "----------------------------------------\n",
      "Table Size     Throughput (ops/s)  \n",
      "----------------------------------------\n",
      "1000           699.309             \n",
      "2000           650.240             \n",
      "3000           563.626             \n",
      "4000           560.630             \n",
      "5000           627.614             \n",
      "6000           571.231             \n",
      "7000           570.954             \n",
      "8000           516.894             \n",
      "9000           582.549             \n",
      "10000          571.119             \n",
      "11000          509.941             \n",
      "12000          479.434             \n",
      "13000          474.998             \n",
      "14000          511.191             \n",
      "15000          459.247             \n",
      "16000          553.665             \n",
      "17000          504.319             \n",
      "18000          356.674             \n",
      "19000          449.578             \n",
      "20000          337.473             \n",
      "21000          354.827             \n",
      "22000          339.793             \n",
      "23000          390.121             \n",
      "24000          446.123             \n",
      "25000          371.181             \n",
      "26000          357.688             \n",
      "27000          419.970             \n",
      "28000          377.787             \n",
      "29000          344.639             \n",
      "30000          365.506             \n",
      "31000          344.127             \n",
      "32000          355.566             \n",
      "33000          323.057             \n",
      "34000          286.184             \n",
      "35000          366.212             \n",
      "========================================\n",
      "\n"
     ]
    }
   ],
   "source": [
    "# Generate, plot, and print experiment data for (throughput vs. table size) / query\n",
    "\n",
    "import os\n",
    "import time\n",
    "import numpy as np\n",
    "from pgvector.psycopg2 import register_vector\n",
    "import psycopg2\n",
    "\n",
    "N_INTERVAL = 1000\n",
    "\n",
    "def column_experiments(column, dimensions):\n",
    "    results = {}\n",
    "    \n",
    "    max_count = get_table_count(column)\n",
    "    start = N_INTERVAL\n",
    "    end = max_count - (max_count % N_INTERVAL) + 1\n",
    "    for count in range(start, end, N_INTERVAL):\n",
    "        create_test_table(count, column)\n",
    "\n",
    "        experiment_inputs = [\n",
    "            {\n",
    "                'label': 'select 1',\n",
    "                'query': 'SELECT 1'\n",
    "            },\n",
    "            {\n",
    "                'label': 'select id',\n",
    "                'query': f\"SELECT 1 FROM test_table WHERE id < 100\"\n",
    "            },\n",
    "            {\n",
    "                'label': 'select int',\n",
    "                'query': f\"SELECT 1 FROM test_table WHERE original_height < 100\"\n",
    "            },\n",
    "            {\n",
    "                'label': 'select int (indexed)',\n",
    "                'query': \"SELECT 1 FROM test_table WHERE original_width < 100\",\n",
    "            },\n",
    "            {\n",
    "                'label': 'select vector',\n",
    "                'query': f\"SELECT 1 FROM test_table ORDER BY {column}1 <-> %s LIMIT 10\",\n",
    "                'generate_args': lambda: np.random.rand(dimensions)\n",
    "            },\n",
    "            {\n",
    "                'label': 'select vector (indexed)',\n",
    "                'query': f\"SELECT * FROM test_table ORDER BY {column}2 <-> %s LIMIT 10\",\n",
    "                'generate_args': lambda: np.random.rand(dimensions)\n",
    "            },\n",
    "        ]\n",
    "\n",
    "        for input in experiment_inputs:\n",
    "            label = input['label']\n",
    "            query = input['query']\n",
    "            generate_args = input['generate_args'] if 'generate_args' in input else None\n",
    "            throughput = measure_throughput(query, generate_args)\n",
    "            if label not in results:\n",
    "                results[label] = []\n",
    "            results[label].append((count, throughput))\n",
    "\n",
    "        drop_test_table()\n",
    "\n",
    "    return results\n",
    "\n",
    "def run_experiment(column, dimension):\n",
    "    results = column_experiments(column, dimension)\n",
    "    generate_plots(\n",
    "        f\"Throughput vs. Table Size for Each Query Type (Dimension = {dimension})\",\n",
    "        'Table Size',\n",
    "        results,\n",
    "        dimension\n",
    "    )\n",
    "    print_throughput_results('Table Size', results, dimension)\n",
    "\n",
    "run_experiment('image_url_ai', 512)\n",
    "run_experiment('context_page_description_ai', 768)"
   ]
  },
  {
   "cell_type": "code",
   "execution_count": 31,
   "id": "c9815bb3-2d52-4228-a0cf-a74f530734b8",
   "metadata": {},
   "outputs": [
    {
     "data": {
      "application/vnd.plotly.v1+json": {
       "config": {
        "plotlyServerURL": "https://plot.ly"
       },
       "data": [
        {
         "mode": "lines+markers",
         "name": "512",
         "type": "scatter",
         "x": [
          25,
          50,
          75,
          100,
          125,
          150,
          175,
          200
         ],
         "y": [
          334.32523645778036,
          178.2931685594242,
          118.78330980401041,
          96.25091533860817,
          67.73536737878929,
          67.58691435566736,
          65.80902519327059,
          68.13228726284974
         ]
        },
        {
         "mode": "lines+markers",
         "name": "768",
         "type": "scatter",
         "x": [
          25,
          50,
          75,
          100,
          125,
          150,
          175,
          200
         ],
         "y": [
          274.2968953856195,
          175.15691569106798,
          130.7543894159593,
          104.62736747786496,
          86.09912012420037,
          76.03112228232004,
          64.50208201751087,
          58.009053403462865
         ]
        }
       ],
       "layout": {
        "autosize": true,
        "showlegend": true,
        "template": {
         "data": {
          "bar": [
           {
            "error_x": {
             "color": "#2a3f5f"
            },
            "error_y": {
             "color": "#2a3f5f"
            },
            "marker": {
             "line": {
              "color": "#E5ECF6",
              "width": 0.5
             },
             "pattern": {
              "fillmode": "overlay",
              "size": 10,
              "solidity": 0.2
             }
            },
            "type": "bar"
           }
          ],
          "barpolar": [
           {
            "marker": {
             "line": {
              "color": "#E5ECF6",
              "width": 0.5
             },
             "pattern": {
              "fillmode": "overlay",
              "size": 10,
              "solidity": 0.2
             }
            },
            "type": "barpolar"
           }
          ],
          "carpet": [
           {
            "aaxis": {
             "endlinecolor": "#2a3f5f",
             "gridcolor": "white",
             "linecolor": "white",
             "minorgridcolor": "white",
             "startlinecolor": "#2a3f5f"
            },
            "baxis": {
             "endlinecolor": "#2a3f5f",
             "gridcolor": "white",
             "linecolor": "white",
             "minorgridcolor": "white",
             "startlinecolor": "#2a3f5f"
            },
            "type": "carpet"
           }
          ],
          "choropleth": [
           {
            "colorbar": {
             "outlinewidth": 0,
             "ticks": ""
            },
            "type": "choropleth"
           }
          ],
          "contour": [
           {
            "colorbar": {
             "outlinewidth": 0,
             "ticks": ""
            },
            "colorscale": [
             [
              0,
              "#0d0887"
             ],
             [
              0.1111111111111111,
              "#46039f"
             ],
             [
              0.2222222222222222,
              "#7201a8"
             ],
             [
              0.3333333333333333,
              "#9c179e"
             ],
             [
              0.4444444444444444,
              "#bd3786"
             ],
             [
              0.5555555555555556,
              "#d8576b"
             ],
             [
              0.6666666666666666,
              "#ed7953"
             ],
             [
              0.7777777777777778,
              "#fb9f3a"
             ],
             [
              0.8888888888888888,
              "#fdca26"
             ],
             [
              1,
              "#f0f921"
             ]
            ],
            "type": "contour"
           }
          ],
          "contourcarpet": [
           {
            "colorbar": {
             "outlinewidth": 0,
             "ticks": ""
            },
            "type": "contourcarpet"
           }
          ],
          "heatmap": [
           {
            "colorbar": {
             "outlinewidth": 0,
             "ticks": ""
            },
            "colorscale": [
             [
              0,
              "#0d0887"
             ],
             [
              0.1111111111111111,
              "#46039f"
             ],
             [
              0.2222222222222222,
              "#7201a8"
             ],
             [
              0.3333333333333333,
              "#9c179e"
             ],
             [
              0.4444444444444444,
              "#bd3786"
             ],
             [
              0.5555555555555556,
              "#d8576b"
             ],
             [
              0.6666666666666666,
              "#ed7953"
             ],
             [
              0.7777777777777778,
              "#fb9f3a"
             ],
             [
              0.8888888888888888,
              "#fdca26"
             ],
             [
              1,
              "#f0f921"
             ]
            ],
            "type": "heatmap"
           }
          ],
          "heatmapgl": [
           {
            "colorbar": {
             "outlinewidth": 0,
             "ticks": ""
            },
            "colorscale": [
             [
              0,
              "#0d0887"
             ],
             [
              0.1111111111111111,
              "#46039f"
             ],
             [
              0.2222222222222222,
              "#7201a8"
             ],
             [
              0.3333333333333333,
              "#9c179e"
             ],
             [
              0.4444444444444444,
              "#bd3786"
             ],
             [
              0.5555555555555556,
              "#d8576b"
             ],
             [
              0.6666666666666666,
              "#ed7953"
             ],
             [
              0.7777777777777778,
              "#fb9f3a"
             ],
             [
              0.8888888888888888,
              "#fdca26"
             ],
             [
              1,
              "#f0f921"
             ]
            ],
            "type": "heatmapgl"
           }
          ],
          "histogram": [
           {
            "marker": {
             "pattern": {
              "fillmode": "overlay",
              "size": 10,
              "solidity": 0.2
             }
            },
            "type": "histogram"
           }
          ],
          "histogram2d": [
           {
            "colorbar": {
             "outlinewidth": 0,
             "ticks": ""
            },
            "colorscale": [
             [
              0,
              "#0d0887"
             ],
             [
              0.1111111111111111,
              "#46039f"
             ],
             [
              0.2222222222222222,
              "#7201a8"
             ],
             [
              0.3333333333333333,
              "#9c179e"
             ],
             [
              0.4444444444444444,
              "#bd3786"
             ],
             [
              0.5555555555555556,
              "#d8576b"
             ],
             [
              0.6666666666666666,
              "#ed7953"
             ],
             [
              0.7777777777777778,
              "#fb9f3a"
             ],
             [
              0.8888888888888888,
              "#fdca26"
             ],
             [
              1,
              "#f0f921"
             ]
            ],
            "type": "histogram2d"
           }
          ],
          "histogram2dcontour": [
           {
            "colorbar": {
             "outlinewidth": 0,
             "ticks": ""
            },
            "colorscale": [
             [
              0,
              "#0d0887"
             ],
             [
              0.1111111111111111,
              "#46039f"
             ],
             [
              0.2222222222222222,
              "#7201a8"
             ],
             [
              0.3333333333333333,
              "#9c179e"
             ],
             [
              0.4444444444444444,
              "#bd3786"
             ],
             [
              0.5555555555555556,
              "#d8576b"
             ],
             [
              0.6666666666666666,
              "#ed7953"
             ],
             [
              0.7777777777777778,
              "#fb9f3a"
             ],
             [
              0.8888888888888888,
              "#fdca26"
             ],
             [
              1,
              "#f0f921"
             ]
            ],
            "type": "histogram2dcontour"
           }
          ],
          "mesh3d": [
           {
            "colorbar": {
             "outlinewidth": 0,
             "ticks": ""
            },
            "type": "mesh3d"
           }
          ],
          "parcoords": [
           {
            "line": {
             "colorbar": {
              "outlinewidth": 0,
              "ticks": ""
             }
            },
            "type": "parcoords"
           }
          ],
          "pie": [
           {
            "automargin": true,
            "type": "pie"
           }
          ],
          "scatter": [
           {
            "fillpattern": {
             "fillmode": "overlay",
             "size": 10,
             "solidity": 0.2
            },
            "type": "scatter"
           }
          ],
          "scatter3d": [
           {
            "line": {
             "colorbar": {
              "outlinewidth": 0,
              "ticks": ""
             }
            },
            "marker": {
             "colorbar": {
              "outlinewidth": 0,
              "ticks": ""
             }
            },
            "type": "scatter3d"
           }
          ],
          "scattercarpet": [
           {
            "marker": {
             "colorbar": {
              "outlinewidth": 0,
              "ticks": ""
             }
            },
            "type": "scattercarpet"
           }
          ],
          "scattergeo": [
           {
            "marker": {
             "colorbar": {
              "outlinewidth": 0,
              "ticks": ""
             }
            },
            "type": "scattergeo"
           }
          ],
          "scattergl": [
           {
            "marker": {
             "colorbar": {
              "outlinewidth": 0,
              "ticks": ""
             }
            },
            "type": "scattergl"
           }
          ],
          "scattermapbox": [
           {
            "marker": {
             "colorbar": {
              "outlinewidth": 0,
              "ticks": ""
             }
            },
            "type": "scattermapbox"
           }
          ],
          "scatterpolar": [
           {
            "marker": {
             "colorbar": {
              "outlinewidth": 0,
              "ticks": ""
             }
            },
            "type": "scatterpolar"
           }
          ],
          "scatterpolargl": [
           {
            "marker": {
             "colorbar": {
              "outlinewidth": 0,
              "ticks": ""
             }
            },
            "type": "scatterpolargl"
           }
          ],
          "scatterternary": [
           {
            "marker": {
             "colorbar": {
              "outlinewidth": 0,
              "ticks": ""
             }
            },
            "type": "scatterternary"
           }
          ],
          "surface": [
           {
            "colorbar": {
             "outlinewidth": 0,
             "ticks": ""
            },
            "colorscale": [
             [
              0,
              "#0d0887"
             ],
             [
              0.1111111111111111,
              "#46039f"
             ],
             [
              0.2222222222222222,
              "#7201a8"
             ],
             [
              0.3333333333333333,
              "#9c179e"
             ],
             [
              0.4444444444444444,
              "#bd3786"
             ],
             [
              0.5555555555555556,
              "#d8576b"
             ],
             [
              0.6666666666666666,
              "#ed7953"
             ],
             [
              0.7777777777777778,
              "#fb9f3a"
             ],
             [
              0.8888888888888888,
              "#fdca26"
             ],
             [
              1,
              "#f0f921"
             ]
            ],
            "type": "surface"
           }
          ],
          "table": [
           {
            "cells": {
             "fill": {
              "color": "#EBF0F8"
             },
             "line": {
              "color": "white"
             }
            },
            "header": {
             "fill": {
              "color": "#C8D4E3"
             },
             "line": {
              "color": "white"
             }
            },
            "type": "table"
           }
          ]
         },
         "layout": {
          "annotationdefaults": {
           "arrowcolor": "#2a3f5f",
           "arrowhead": 0,
           "arrowwidth": 1
          },
          "autotypenumbers": "strict",
          "coloraxis": {
           "colorbar": {
            "outlinewidth": 0,
            "ticks": ""
           }
          },
          "colorscale": {
           "diverging": [
            [
             0,
             "#8e0152"
            ],
            [
             0.1,
             "#c51b7d"
            ],
            [
             0.2,
             "#de77ae"
            ],
            [
             0.3,
             "#f1b6da"
            ],
            [
             0.4,
             "#fde0ef"
            ],
            [
             0.5,
             "#f7f7f7"
            ],
            [
             0.6,
             "#e6f5d0"
            ],
            [
             0.7,
             "#b8e186"
            ],
            [
             0.8,
             "#7fbc41"
            ],
            [
             0.9,
             "#4d9221"
            ],
            [
             1,
             "#276419"
            ]
           ],
           "sequential": [
            [
             0,
             "#0d0887"
            ],
            [
             0.1111111111111111,
             "#46039f"
            ],
            [
             0.2222222222222222,
             "#7201a8"
            ],
            [
             0.3333333333333333,
             "#9c179e"
            ],
            [
             0.4444444444444444,
             "#bd3786"
            ],
            [
             0.5555555555555556,
             "#d8576b"
            ],
            [
             0.6666666666666666,
             "#ed7953"
            ],
            [
             0.7777777777777778,
             "#fb9f3a"
            ],
            [
             0.8888888888888888,
             "#fdca26"
            ],
            [
             1,
             "#f0f921"
            ]
           ],
           "sequentialminus": [
            [
             0,
             "#0d0887"
            ],
            [
             0.1111111111111111,
             "#46039f"
            ],
            [
             0.2222222222222222,
             "#7201a8"
            ],
            [
             0.3333333333333333,
             "#9c179e"
            ],
            [
             0.4444444444444444,
             "#bd3786"
            ],
            [
             0.5555555555555556,
             "#d8576b"
            ],
            [
             0.6666666666666666,
             "#ed7953"
            ],
            [
             0.7777777777777778,
             "#fb9f3a"
            ],
            [
             0.8888888888888888,
             "#fdca26"
            ],
            [
             1,
             "#f0f921"
            ]
           ]
          },
          "colorway": [
           "#636efa",
           "#EF553B",
           "#00cc96",
           "#ab63fa",
           "#FFA15A",
           "#19d3f3",
           "#FF6692",
           "#B6E880",
           "#FF97FF",
           "#FECB52"
          ],
          "font": {
           "color": "#2a3f5f"
          },
          "geo": {
           "bgcolor": "white",
           "lakecolor": "white",
           "landcolor": "#E5ECF6",
           "showlakes": true,
           "showland": true,
           "subunitcolor": "white"
          },
          "hoverlabel": {
           "align": "left"
          },
          "hovermode": "closest",
          "mapbox": {
           "style": "light"
          },
          "paper_bgcolor": "white",
          "plot_bgcolor": "#E5ECF6",
          "polar": {
           "angularaxis": {
            "gridcolor": "white",
            "linecolor": "white",
            "ticks": ""
           },
           "bgcolor": "#E5ECF6",
           "radialaxis": {
            "gridcolor": "white",
            "linecolor": "white",
            "ticks": ""
           }
          },
          "scene": {
           "xaxis": {
            "backgroundcolor": "#E5ECF6",
            "gridcolor": "white",
            "gridwidth": 2,
            "linecolor": "white",
            "showbackground": true,
            "ticks": "",
            "zerolinecolor": "white"
           },
           "yaxis": {
            "backgroundcolor": "#E5ECF6",
            "gridcolor": "white",
            "gridwidth": 2,
            "linecolor": "white",
            "showbackground": true,
            "ticks": "",
            "zerolinecolor": "white"
           },
           "zaxis": {
            "backgroundcolor": "#E5ECF6",
            "gridcolor": "white",
            "gridwidth": 2,
            "linecolor": "white",
            "showbackground": true,
            "ticks": "",
            "zerolinecolor": "white"
           }
          },
          "shapedefaults": {
           "line": {
            "color": "#2a3f5f"
           }
          },
          "ternary": {
           "aaxis": {
            "gridcolor": "white",
            "linecolor": "white",
            "ticks": ""
           },
           "baxis": {
            "gridcolor": "white",
            "linecolor": "white",
            "ticks": ""
           },
           "bgcolor": "#E5ECF6",
           "caxis": {
            "gridcolor": "white",
            "linecolor": "white",
            "ticks": ""
           }
          },
          "title": {
           "x": 0.05
          },
          "xaxis": {
           "automargin": true,
           "gridcolor": "white",
           "linecolor": "white",
           "ticks": "",
           "title": {
            "standoff": 15
           },
           "zerolinecolor": "white",
           "zerolinewidth": 2
          },
          "yaxis": {
           "automargin": true,
           "gridcolor": "white",
           "linecolor": "white",
           "ticks": "",
           "title": {
            "standoff": 15
           },
           "zerolinecolor": "white",
           "zerolinewidth": 2
          }
         }
        },
        "title": {
         "text": "Throughput vs. K for Each Dimension (N = 13048)"
        },
        "xaxis": {
         "autorange": true,
         "range": [
          14.545020600944628,
          210.45497939905536
         ],
         "title": {
          "text": "K"
         },
         "type": "linear"
        },
        "yaxis": {
         "autorange": true,
         "range": [
          35.206261598009476,
          357.1280282632338
         ],
         "title": {
          "text": "Throughput (ops / s)"
         },
         "type": "linear"
        }
       }
      },
      "text/html": [
       "<div>                            <div id=\"8d8f8d58-10e4-4bd9-aabe-b5fa466ba303\" class=\"plotly-graph-div\" style=\"height:525px; width:100%;\"></div>            <script type=\"text/javascript\">                require([\"plotly\"], function(Plotly) {                    window.PLOTLYENV=window.PLOTLYENV || {};                                    if (document.getElementById(\"8d8f8d58-10e4-4bd9-aabe-b5fa466ba303\")) {                    Plotly.newPlot(                        \"8d8f8d58-10e4-4bd9-aabe-b5fa466ba303\",                        [{\"mode\":\"lines+markers\",\"name\":\"512\",\"x\":[25,50,75,100,125,150,175,200],\"y\":[334.32523645778036,178.2931685594242,118.78330980401041,96.25091533860817,67.73536737878929,67.58691435566736,65.80902519327059,68.13228726284974],\"type\":\"scatter\"},{\"mode\":\"lines+markers\",\"name\":\"768\",\"x\":[25,50,75,100,125,150,175,200],\"y\":[274.2968953856195,175.15691569106798,130.7543894159593,104.62736747786496,86.09912012420037,76.03112228232004,64.50208201751087,58.009053403462865],\"type\":\"scatter\"}],                        {\"showlegend\":true,\"title\":{\"text\":\"Throughput vs. K for Each Dimension (N = 13048)\"},\"xaxis\":{\"title\":{\"text\":\"K\"}},\"yaxis\":{\"title\":{\"text\":\"Throughput (ops \\u002f s)\"}},\"template\":{\"data\":{\"histogram2dcontour\":[{\"type\":\"histogram2dcontour\",\"colorbar\":{\"outlinewidth\":0,\"ticks\":\"\"},\"colorscale\":[[0.0,\"#0d0887\"],[0.1111111111111111,\"#46039f\"],[0.2222222222222222,\"#7201a8\"],[0.3333333333333333,\"#9c179e\"],[0.4444444444444444,\"#bd3786\"],[0.5555555555555556,\"#d8576b\"],[0.6666666666666666,\"#ed7953\"],[0.7777777777777778,\"#fb9f3a\"],[0.8888888888888888,\"#fdca26\"],[1.0,\"#f0f921\"]]}],\"choropleth\":[{\"type\":\"choropleth\",\"colorbar\":{\"outlinewidth\":0,\"ticks\":\"\"}}],\"histogram2d\":[{\"type\":\"histogram2d\",\"colorbar\":{\"outlinewidth\":0,\"ticks\":\"\"},\"colorscale\":[[0.0,\"#0d0887\"],[0.1111111111111111,\"#46039f\"],[0.2222222222222222,\"#7201a8\"],[0.3333333333333333,\"#9c179e\"],[0.4444444444444444,\"#bd3786\"],[0.5555555555555556,\"#d8576b\"],[0.6666666666666666,\"#ed7953\"],[0.7777777777777778,\"#fb9f3a\"],[0.8888888888888888,\"#fdca26\"],[1.0,\"#f0f921\"]]}],\"heatmap\":[{\"type\":\"heatmap\",\"colorbar\":{\"outlinewidth\":0,\"ticks\":\"\"},\"colorscale\":[[0.0,\"#0d0887\"],[0.1111111111111111,\"#46039f\"],[0.2222222222222222,\"#7201a8\"],[0.3333333333333333,\"#9c179e\"],[0.4444444444444444,\"#bd3786\"],[0.5555555555555556,\"#d8576b\"],[0.6666666666666666,\"#ed7953\"],[0.7777777777777778,\"#fb9f3a\"],[0.8888888888888888,\"#fdca26\"],[1.0,\"#f0f921\"]]}],\"heatmapgl\":[{\"type\":\"heatmapgl\",\"colorbar\":{\"outlinewidth\":0,\"ticks\":\"\"},\"colorscale\":[[0.0,\"#0d0887\"],[0.1111111111111111,\"#46039f\"],[0.2222222222222222,\"#7201a8\"],[0.3333333333333333,\"#9c179e\"],[0.4444444444444444,\"#bd3786\"],[0.5555555555555556,\"#d8576b\"],[0.6666666666666666,\"#ed7953\"],[0.7777777777777778,\"#fb9f3a\"],[0.8888888888888888,\"#fdca26\"],[1.0,\"#f0f921\"]]}],\"contourcarpet\":[{\"type\":\"contourcarpet\",\"colorbar\":{\"outlinewidth\":0,\"ticks\":\"\"}}],\"contour\":[{\"type\":\"contour\",\"colorbar\":{\"outlinewidth\":0,\"ticks\":\"\"},\"colorscale\":[[0.0,\"#0d0887\"],[0.1111111111111111,\"#46039f\"],[0.2222222222222222,\"#7201a8\"],[0.3333333333333333,\"#9c179e\"],[0.4444444444444444,\"#bd3786\"],[0.5555555555555556,\"#d8576b\"],[0.6666666666666666,\"#ed7953\"],[0.7777777777777778,\"#fb9f3a\"],[0.8888888888888888,\"#fdca26\"],[1.0,\"#f0f921\"]]}],\"surface\":[{\"type\":\"surface\",\"colorbar\":{\"outlinewidth\":0,\"ticks\":\"\"},\"colorscale\":[[0.0,\"#0d0887\"],[0.1111111111111111,\"#46039f\"],[0.2222222222222222,\"#7201a8\"],[0.3333333333333333,\"#9c179e\"],[0.4444444444444444,\"#bd3786\"],[0.5555555555555556,\"#d8576b\"],[0.6666666666666666,\"#ed7953\"],[0.7777777777777778,\"#fb9f3a\"],[0.8888888888888888,\"#fdca26\"],[1.0,\"#f0f921\"]]}],\"mesh3d\":[{\"type\":\"mesh3d\",\"colorbar\":{\"outlinewidth\":0,\"ticks\":\"\"}}],\"scatter\":[{\"fillpattern\":{\"fillmode\":\"overlay\",\"size\":10,\"solidity\":0.2},\"type\":\"scatter\"}],\"parcoords\":[{\"type\":\"parcoords\",\"line\":{\"colorbar\":{\"outlinewidth\":0,\"ticks\":\"\"}}}],\"scatterpolargl\":[{\"type\":\"scatterpolargl\",\"marker\":{\"colorbar\":{\"outlinewidth\":0,\"ticks\":\"\"}}}],\"bar\":[{\"error_x\":{\"color\":\"#2a3f5f\"},\"error_y\":{\"color\":\"#2a3f5f\"},\"marker\":{\"line\":{\"color\":\"#E5ECF6\",\"width\":0.5},\"pattern\":{\"fillmode\":\"overlay\",\"size\":10,\"solidity\":0.2}},\"type\":\"bar\"}],\"scattergeo\":[{\"type\":\"scattergeo\",\"marker\":{\"colorbar\":{\"outlinewidth\":0,\"ticks\":\"\"}}}],\"scatterpolar\":[{\"type\":\"scatterpolar\",\"marker\":{\"colorbar\":{\"outlinewidth\":0,\"ticks\":\"\"}}}],\"histogram\":[{\"marker\":{\"pattern\":{\"fillmode\":\"overlay\",\"size\":10,\"solidity\":0.2}},\"type\":\"histogram\"}],\"scattergl\":[{\"type\":\"scattergl\",\"marker\":{\"colorbar\":{\"outlinewidth\":0,\"ticks\":\"\"}}}],\"scatter3d\":[{\"type\":\"scatter3d\",\"line\":{\"colorbar\":{\"outlinewidth\":0,\"ticks\":\"\"}},\"marker\":{\"colorbar\":{\"outlinewidth\":0,\"ticks\":\"\"}}}],\"scattermapbox\":[{\"type\":\"scattermapbox\",\"marker\":{\"colorbar\":{\"outlinewidth\":0,\"ticks\":\"\"}}}],\"scatterternary\":[{\"type\":\"scatterternary\",\"marker\":{\"colorbar\":{\"outlinewidth\":0,\"ticks\":\"\"}}}],\"scattercarpet\":[{\"type\":\"scattercarpet\",\"marker\":{\"colorbar\":{\"outlinewidth\":0,\"ticks\":\"\"}}}],\"carpet\":[{\"aaxis\":{\"endlinecolor\":\"#2a3f5f\",\"gridcolor\":\"white\",\"linecolor\":\"white\",\"minorgridcolor\":\"white\",\"startlinecolor\":\"#2a3f5f\"},\"baxis\":{\"endlinecolor\":\"#2a3f5f\",\"gridcolor\":\"white\",\"linecolor\":\"white\",\"minorgridcolor\":\"white\",\"startlinecolor\":\"#2a3f5f\"},\"type\":\"carpet\"}],\"table\":[{\"cells\":{\"fill\":{\"color\":\"#EBF0F8\"},\"line\":{\"color\":\"white\"}},\"header\":{\"fill\":{\"color\":\"#C8D4E3\"},\"line\":{\"color\":\"white\"}},\"type\":\"table\"}],\"barpolar\":[{\"marker\":{\"line\":{\"color\":\"#E5ECF6\",\"width\":0.5},\"pattern\":{\"fillmode\":\"overlay\",\"size\":10,\"solidity\":0.2}},\"type\":\"barpolar\"}],\"pie\":[{\"automargin\":true,\"type\":\"pie\"}]},\"layout\":{\"autotypenumbers\":\"strict\",\"colorway\":[\"#636efa\",\"#EF553B\",\"#00cc96\",\"#ab63fa\",\"#FFA15A\",\"#19d3f3\",\"#FF6692\",\"#B6E880\",\"#FF97FF\",\"#FECB52\"],\"font\":{\"color\":\"#2a3f5f\"},\"hovermode\":\"closest\",\"hoverlabel\":{\"align\":\"left\"},\"paper_bgcolor\":\"white\",\"plot_bgcolor\":\"#E5ECF6\",\"polar\":{\"bgcolor\":\"#E5ECF6\",\"angularaxis\":{\"gridcolor\":\"white\",\"linecolor\":\"white\",\"ticks\":\"\"},\"radialaxis\":{\"gridcolor\":\"white\",\"linecolor\":\"white\",\"ticks\":\"\"}},\"ternary\":{\"bgcolor\":\"#E5ECF6\",\"aaxis\":{\"gridcolor\":\"white\",\"linecolor\":\"white\",\"ticks\":\"\"},\"baxis\":{\"gridcolor\":\"white\",\"linecolor\":\"white\",\"ticks\":\"\"},\"caxis\":{\"gridcolor\":\"white\",\"linecolor\":\"white\",\"ticks\":\"\"}},\"coloraxis\":{\"colorbar\":{\"outlinewidth\":0,\"ticks\":\"\"}},\"colorscale\":{\"sequential\":[[0.0,\"#0d0887\"],[0.1111111111111111,\"#46039f\"],[0.2222222222222222,\"#7201a8\"],[0.3333333333333333,\"#9c179e\"],[0.4444444444444444,\"#bd3786\"],[0.5555555555555556,\"#d8576b\"],[0.6666666666666666,\"#ed7953\"],[0.7777777777777778,\"#fb9f3a\"],[0.8888888888888888,\"#fdca26\"],[1.0,\"#f0f921\"]],\"sequentialminus\":[[0.0,\"#0d0887\"],[0.1111111111111111,\"#46039f\"],[0.2222222222222222,\"#7201a8\"],[0.3333333333333333,\"#9c179e\"],[0.4444444444444444,\"#bd3786\"],[0.5555555555555556,\"#d8576b\"],[0.6666666666666666,\"#ed7953\"],[0.7777777777777778,\"#fb9f3a\"],[0.8888888888888888,\"#fdca26\"],[1.0,\"#f0f921\"]],\"diverging\":[[0,\"#8e0152\"],[0.1,\"#c51b7d\"],[0.2,\"#de77ae\"],[0.3,\"#f1b6da\"],[0.4,\"#fde0ef\"],[0.5,\"#f7f7f7\"],[0.6,\"#e6f5d0\"],[0.7,\"#b8e186\"],[0.8,\"#7fbc41\"],[0.9,\"#4d9221\"],[1,\"#276419\"]]},\"xaxis\":{\"gridcolor\":\"white\",\"linecolor\":\"white\",\"ticks\":\"\",\"title\":{\"standoff\":15},\"zerolinecolor\":\"white\",\"automargin\":true,\"zerolinewidth\":2},\"yaxis\":{\"gridcolor\":\"white\",\"linecolor\":\"white\",\"ticks\":\"\",\"title\":{\"standoff\":15},\"zerolinecolor\":\"white\",\"automargin\":true,\"zerolinewidth\":2},\"scene\":{\"xaxis\":{\"backgroundcolor\":\"#E5ECF6\",\"gridcolor\":\"white\",\"linecolor\":\"white\",\"showbackground\":true,\"ticks\":\"\",\"zerolinecolor\":\"white\",\"gridwidth\":2},\"yaxis\":{\"backgroundcolor\":\"#E5ECF6\",\"gridcolor\":\"white\",\"linecolor\":\"white\",\"showbackground\":true,\"ticks\":\"\",\"zerolinecolor\":\"white\",\"gridwidth\":2},\"zaxis\":{\"backgroundcolor\":\"#E5ECF6\",\"gridcolor\":\"white\",\"linecolor\":\"white\",\"showbackground\":true,\"ticks\":\"\",\"zerolinecolor\":\"white\",\"gridwidth\":2}},\"shapedefaults\":{\"line\":{\"color\":\"#2a3f5f\"}},\"annotationdefaults\":{\"arrowcolor\":\"#2a3f5f\",\"arrowhead\":0,\"arrowwidth\":1},\"geo\":{\"bgcolor\":\"white\",\"landcolor\":\"#E5ECF6\",\"subunitcolor\":\"white\",\"showland\":true,\"showlakes\":true,\"lakecolor\":\"white\"},\"title\":{\"x\":0.05},\"mapbox\":{\"style\":\"light\"}}}},                        {\"responsive\": true}                    ).then(function(){\n",
       "                            \n",
       "var gd = document.getElementById('8d8f8d58-10e4-4bd9-aabe-b5fa466ba303');\n",
       "var x = new MutationObserver(function (mutations, observer) {{\n",
       "        var display = window.getComputedStyle(gd).display;\n",
       "        if (!display || display === 'none') {{\n",
       "            console.log([gd, 'removed!']);\n",
       "            Plotly.purge(gd);\n",
       "            observer.disconnect();\n",
       "        }}\n",
       "}});\n",
       "\n",
       "// Listen for the removal of the full notebook cells\n",
       "var notebookContainer = gd.closest('#notebook-container');\n",
       "if (notebookContainer) {{\n",
       "    x.observe(notebookContainer, {childList: true});\n",
       "}}\n",
       "\n",
       "// Listen for the clearing of the current output cell\n",
       "var outputEl = gd.closest('.output');\n",
       "if (outputEl) {{\n",
       "    x.observe(outputEl, {childList: true});\n",
       "}}\n",
       "\n",
       "                        })                };                });            </script>        </div>"
      ]
     },
     "metadata": {},
     "output_type": "display_data"
    },
    {
     "name": "stdout",
     "output_type": "stream",
     "text": [
      "\n",
      "========================================\n",
      "512 (768)\n",
      "----------------------------------------\n",
      "K              Throughput (ops/s)  \n",
      "----------------------------------------\n",
      "25             334.325             \n",
      "50             178.293             \n",
      "75             118.783             \n",
      "100            96.251              \n",
      "125            67.735              \n",
      "150            67.587              \n",
      "175            65.809              \n",
      "200            68.132              \n",
      "========================================\n",
      "\n",
      "\n",
      "========================================\n",
      "768 (768)\n",
      "----------------------------------------\n",
      "K              Throughput (ops/s)  \n",
      "----------------------------------------\n",
      "25             274.297             \n",
      "50             175.157             \n",
      "75             130.754             \n",
      "100            104.627             \n",
      "125            86.099              \n",
      "150            76.031              \n",
      "175            64.502              \n",
      "200            58.009              \n",
      "========================================\n",
      "\n"
     ]
    }
   ],
   "source": [
    "# Generate, plot, and print experiment data for (throughput vs. k) / dimension\n",
    "\n",
    "import os\n",
    "import time\n",
    "import numpy as np\n",
    "from pgvector.psycopg2 import register_vector\n",
    "import psycopg2\n",
    "import plotly.graph_objects as go\n",
    "\n",
    "N_INTERVAL = 1000\n",
    "\n",
    "def column_experiments(count, column, dimensions):\n",
    "    create_test_table(count, column)\n",
    "\n",
    "    results = []\n",
    "    for k in range(25, 201, 25):\n",
    "        query = f\"SELECT * FROM test_table ORDER BY {column}2 <-> %s LIMIT {k}\"\n",
    "        generate_args = input['generate_args'] if 'generate_args' in input else None\n",
    "        throughput = measure_throughput(query, lambda: np.random.rand(dimensions))\n",
    "        results.append((k, throughput))\n",
    "\n",
    "    drop_test_table()\n",
    "\n",
    "    return results\n",
    "\n",
    "def run_experiment(inputs):\n",
    "    shared_max_count = min(get_table_count(column) for column, _ in inputs)\n",
    "    results = {}\n",
    "    for column, dimension in inputs:\n",
    "        results[dimension] = column_experiments(shared_max_count, column, dimension)\n",
    "    generate_plots(\n",
    "        f\"Throughput vs. K for Each Dimension (N = {shared_max_count})\",\n",
    "        'K',\n",
    "        results,\n",
    "        dimension\n",
    "    )\n",
    "    print_throughput_results('K', results, dimension)\n",
    "\n",
    "inputs = [\n",
    "    ('image_url_ai', 512),\n",
    "    ('context_page_description_ai', 768)\n",
    "]\n",
    "run_experiment(inputs)"
   ]
  }
 ],
 "metadata": {
  "kernelspec": {
   "display_name": "Python 3 (ipykernel)",
   "language": "python",
   "name": "python3"
  },
  "language_info": {
   "codemirror_mode": {
    "name": "ipython",
    "version": 3
   },
   "file_extension": ".py",
   "mimetype": "text/x-python",
   "name": "python",
   "nbconvert_exporter": "python",
   "pygments_lexer": "ipython3",
   "version": "3.9.17"
  }
 },
 "nbformat": 4,
 "nbformat_minor": 5
}
