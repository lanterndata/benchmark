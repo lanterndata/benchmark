{
 "cells": [
  {
   "cell_type": "code",
   "execution_count": 2,
   "id": "d97bea16-bf9a-4b8d-ac8a-eb6ae9b5e246",
   "metadata": {},
   "outputs": [
    {
     "name": "stdout",
     "output_type": "stream",
     "text": [
      "The file exists\n"
     ]
    }
   ],
   "source": [
    "# Download initial data\n",
    "\n",
    "import os\n",
    "import urllib.request\n",
    "import gzip\n",
    "import shutil\n",
    "\n",
    "url = 'https://storage.googleapis.com/gresearch/wit/wit_v1.train.all-1percent_sample.tsv.gz'\n",
    "filename = 'data/wit/data.tsv'\n",
    "\n",
    "if os.path.exists(filename):\n",
    "    print(\"The file exists\")\n",
    "\n",
    "else:\n",
    "    # Download the data from the URL\n",
    "    with urllib.request.urlopen(url) as response:\n",
    "      with open(filename + '.gz', 'wb') as f:\n",
    "        f.write(response.read())\n",
    "    \n",
    "    # Extract the data from the compressed file\n",
    "    with gzip.open(filename + '.gz', 'rb') as f_in:\n",
    "      with open(filename, 'wb') as f_out:\n",
    "        shutil.copyfileobj(f_in, f_out)\n",
    "\n",
    "    print(\"The file was downloaded\")"
   ]
  },
  {
   "cell_type": "code",
   "execution_count": 14,
   "id": "dbc3aa6a-73e9-43fe-90ac-9efac1e748a3",
   "metadata": {},
   "outputs": [
    {
     "name": "stdout",
     "output_type": "stream",
     "text": [
      "Create table\n",
      "Copied data\n",
      "Completed\n"
     ]
    }
   ],
   "source": [
    "# Create Postgres table with initial data\n",
    "\n",
    "import os\n",
    "import psycopg2\n",
    "\n",
    "db_connection_string = os.environ.get('DATABASE_URL')\n",
    "with psycopg2.connect(db_connection_string) as conn:\n",
    "    with conn.cursor() as cursor:\n",
    "        with open('data/wit/create_table.sql', 'r') as sql_file:\n",
    "            sql_script = sql_file.read()\n",
    "        cursor.execute(sql_script)\n",
    "        print(\"Create table\")\n",
    "        \n",
    "        count_query = \"SELECT COUNT(*) FROM tsv_data\"\n",
    "        cursor.execute(count_query)\n",
    "        row_count = cursor.fetchone()[0]\n",
    "        \n",
    "        if row_count == 0:\n",
    "            with open('data/wit/copy_data.sql', 'r') as sql_file:\n",
    "                sql_script = sql_file.read()\n",
    "            cursor.execute(sql_script)\n",
    "            print(\"Copied data\")\n",
    "        else:\n",
    "            print(\"No need to copy data\")\n",
    "        \n",
    "        image_urls_query = \"SELECT id, image_url FROM tsv_data WHERE image_url_ai IS NULL LIMIT 10\"\n",
    "        cursor.execute(image_urls_query)\n",
    "        image_urls = cursor.fetchall()\n",
    "        \n",
    "        conn.commit()\n",
    "        print(\"Completed\")"
   ]
  },
  {
   "cell_type": "code",
   "execution_count": 44,
   "id": "33f2d683-f7cd-428d-9aaa-e6336b1cb61c",
   "metadata": {},
   "outputs": [
    {
     "name": "stderr",
     "output_type": "stream",
     "text": [
      "100%|██████████| 1000/1000 [08:17<00:00,  2.01it/s]\n"
     ]
    }
   ],
   "source": [
    "# Process image data\n",
    "\n",
    "import asyncio\n",
    "import aiohttp\n",
    "import asyncpg\n",
    "import torch\n",
    "import clip\n",
    "import PIL\n",
    "import io\n",
    "import os\n",
    "import json\n",
    "from tqdm.asyncio import tqdm as async_tqdm\n",
    "import nest_asyncio\n",
    "\n",
    "device = torch.device(\"cuda\" if torch.cuda.is_available() else \"cpu\")\n",
    "model, preprocess = clip.load('ViT-B/32', device)\n",
    "model.eval()\n",
    "model.to(device)\n",
    "\n",
    "BATCH_SIZE = 8\n",
    "\n",
    "async def process_batch(session, items):\n",
    "    images = []\n",
    "    ids = []\n",
    "    for item in items:\n",
    "        id, image_url = item\n",
    "        try:\n",
    "            req_headers = {'User-Agent': 'SelectImages/0.0 (narekg.me; ngalstjan4@gmail.com)'}\n",
    "            async with session.get(image_url, headers=req_headers) as response:\n",
    "                image_bytes = await response.read()\n",
    "                image = PIL.Image.open(io.BytesIO(image_bytes)).convert(\"RGB\")\n",
    "                images.append(image)\n",
    "                ids.append(id)\n",
    "        except Exception as e:\n",
    "            pass\n",
    "\n",
    "    if len(images) > 0:\n",
    "        preprocessed_images = torch.stack([preprocess(image) for image in images]).to(device)\n",
    "        with torch.no_grad():\n",
    "            image_embeddings = model.encode_image(preprocessed_images).tolist()\n",
    "        image_embeddings = [json.dumps(embedding) for embedding in image_embeddings]\n",
    "        return list(zip(image_embeddings, image_embeddings, ids))\n",
    "    else:\n",
    "        return None\n",
    "\n",
    "async def main():\n",
    "    db_connection_string = os.environ.get('DATABASE_URL')\n",
    "    conn = await asyncpg.connect(db_connection_string)\n",
    "    async with conn.transaction():\n",
    "        rows = await conn.fetch('''\n",
    "            SELECT\n",
    "                id,\n",
    "                image_url\n",
    "            FROM\n",
    "                tsv_data\n",
    "            WHERE\n",
    "                language = 'en'\n",
    "                AND image_url IS NOT NULL\n",
    "            ORDER BY\n",
    "                RANDOM()\n",
    "            LIMIT 1000\n",
    "        ''')\n",
    "\n",
    "        async with aiohttp.ClientSession() as session:\n",
    "            results = []\n",
    "            batch = []\n",
    "            for item in async_tqdm(rows, total=len(rows)):\n",
    "                batch.append(item)\n",
    "                if len(batch) == BATCH_SIZE:\n",
    "                    batch_result = await process_batch(session, batch)\n",
    "                    if batch_result is not None:\n",
    "                        results.extend(batch_result)\n",
    "                    batch = []\n",
    "\n",
    "            # Process the last batch if it's not empty\n",
    "            if len(batch) > 0:\n",
    "                batch_result = await process_batch(session, batch)\n",
    "                if batch_result is not None:\n",
    "                    results.extend(batch_result)\n",
    "\n",
    "            # Execute the SQL update queries for the entire batch at once\n",
    "            update_query = \"UPDATE tsv_data SET image_url_ai1 = $1, image_url_ai2 = $2 WHERE id = $3\"\n",
    "            await conn.executemany(update_query, results)\n",
    "\n",
    "    await conn.close()\n",
    "\n",
    "nest_asyncio.apply()\n",
    "asyncio.run(main())"
   ]
  },
  {
   "cell_type": "code",
   "execution_count": null,
   "id": "1a980251-c7f2-4b71-a17a-650e774898eb",
   "metadata": {},
   "outputs": [
    {
     "name": "stderr",
     "output_type": "stream",
     "text": [
      " 12%|█▎        | 4/32 [00:26<03:02,  6.51s/it]"
     ]
    }
   ],
   "source": [
    "# Process text data\n",
    "import asyncio\n",
    "import os\n",
    "import torch\n",
    "import asyncpg\n",
    "from tqdm import tqdm\n",
    "from transformers import DistilBertModel, DistilBertTokenizer\n",
    "import json\n",
    "import nest_asyncio\n",
    "nest_asyncio.apply()\n",
    "import logging\n",
    "logging.getLogger(\"transformers\").setLevel(logging.ERROR)\n",
    "\n",
    "device = torch.device(\"cuda\" if torch.cuda.is_available() else \"cpu\")\n",
    "\n",
    "model_name = 'distilbert-base-uncased'\n",
    "model = DistilBertModel.from_pretrained(model_name)\n",
    "tokenizer = DistilBertTokenizer.from_pretrained(model_name)\n",
    "model.eval()\n",
    "model.to(device)\n",
    "\n",
    "def process_batch(batch):\n",
    "    # Unpack IDs and texts from the batch\n",
    "    ids, texts = zip(*batch)\n",
    "\n",
    "    inputs = tokenizer.batch_encode_plus(\n",
    "        texts,\n",
    "        add_special_tokens=True,\n",
    "        padding='longest',\n",
    "        truncation=True,\n",
    "        max_length=128,\n",
    "        return_tensors='pt'\n",
    "    )\n",
    "    inputs = {key: value.to(device) for key, value in inputs.items()}\n",
    "\n",
    "    with torch.no_grad():\n",
    "        outputs = model(**inputs)\n",
    "        text_embeddings = torch.mean(outputs.last_hidden_state, dim=1).tolist()\n",
    "\n",
    "    text_embeddings = [json.dumps(embedding) for embedding in text_embeddings]\n",
    "\n",
    "    return list(zip(text_embeddings, text_embeddings, ids))\n",
    "\n",
    "async def main():\n",
    "    db_connection_string = os.environ.get('DATABASE_URL')\n",
    "    conn = await asyncpg.connect(db_connection_string)\n",
    "    async with conn.transaction():\n",
    "        rows = await conn.fetch('''\n",
    "            SELECT\n",
    "                id,\n",
    "                context_page_description\n",
    "            FROM\n",
    "                tsv_data\n",
    "            WHERE\n",
    "                language = 'en'\n",
    "                AND context_page_description IS NOT NULL\n",
    "            ORDER BY\n",
    "                RANDOM()\n",
    "            LIMIT 1000\n",
    "        ''')\n",
    "        \n",
    "        batch_size = 32\n",
    "        results = []\n",
    "        for i in tqdm(range(0, len(rows), batch_size)):\n",
    "            batch = rows[i:i+batch_size]\n",
    "            batch_result = process_batch(batch)\n",
    "            results.extend(batch_result)\n",
    "\n",
    "        # Execute the SQL update queries for the entire batch at once\n",
    "        update_query = \"UPDATE tsv_data SET context_page_description_ai1 = $1, context_page_description_ai2 = $2 WHERE id = $3\"\n",
    "        await conn.executemany(update_query, results)\n",
    "\n",
    "    await conn.close()\n",
    "\n",
    "asyncio.run(main())"
   ]
  },
  {
   "cell_type": "code",
   "execution_count": 11,
   "id": "da5ce55d-b7a2-4955-8734-3f98e3c08f6b",
   "metadata": {},
   "outputs": [],
   "source": [
    "# Generate experiment data\n",
    "\n",
    "import os\n",
    "import time\n",
    "import numpy as np\n",
    "from pgvector.psycopg2 import register_vector\n",
    "import psycopg2\n",
    "\n",
    "db_connection_string = os.environ.get('DATABASE_URL')\n",
    "\n",
    "n_interval = 1000\n",
    "num_iterations = 100  # Increase the sample size\n",
    "warm_up_iterations = 10  # Number of iterations for warm-up\n",
    "\n",
    "def measure_throughput(label, query, generate_args):\n",
    "    with psycopg2.connect(db_connection_string) as conn:\n",
    "        register_vector(conn)\n",
    "        with conn.cursor() as cursor:\n",
    "            # Create table\n",
    "\n",
    "            # Helper for executing query\n",
    "            def execute_query():\n",
    "                if generate_args is not None:\n",
    "                    vector = generate_args()\n",
    "                    cursor.execute(query, (vector,))\n",
    "                else:\n",
    "                    cursor.execute(query)\n",
    "            \n",
    "            # Warm-up\n",
    "            for _ in range(warm_up_iterations):\n",
    "                execute_query()\n",
    "\n",
    "            # Measured\n",
    "            start_time = time.time()\n",
    "            for _ in range(num_iterations):\n",
    "                execute_query()\n",
    "            end_time = time.time()\n",
    "\n",
    "    elapsed_time = end_time - start_time\n",
    "    throughput = num_iterations / elapsed_time\n",
    "    return throughput\n",
    "\n",
    "def create_test_table(n, column):\n",
    "    with psycopg2.connect(db_connection_string) as conn:\n",
    "        with conn.cursor() as cursor:\n",
    "            cursor.execute(\"DROP TABLE IF EXISTS test_table\")\n",
    "            cursor.execute(f'''\n",
    "                CREATE TABLE test_table AS\n",
    "                SELECT * FROM tsv_data\n",
    "                WHERE {column}1 IS NOT NULL\n",
    "                ORDER BY RANDOM()\n",
    "                LIMIT {n}\n",
    "            ''')\n",
    "            cursor.execute('CREATE INDEX ON test_table USING ivfflat (image_url_ai2 vector_l2_ops) WITH (lists = 100)')\n",
    "            cursor.execute('CREATE INDEX ON test_table USING ivfflat (context_page_description_ai2 vector_l2_ops) WITH (lists = 100)')\n",
    "            cursor.execute('CREATE INDEX ON test_table (original_width)')\n",
    "\n",
    "def drop_test_table():\n",
    "    with psycopg2.connect(db_connection_string) as conn:\n",
    "        with conn.cursor() as cursor:\n",
    "            cursor.execute(\"DROP TABLE IF EXISTS test_table\")\n",
    "\n",
    "def get_table_count(column):\n",
    "    with psycopg2.connect(db_connection_string) as conn:\n",
    "        with conn.cursor() as cursor:\n",
    "            cursor.execute(f\"SELECT COUNT(*) FROM tsv_data WHERE {column}1 IS NOT NULL\")\n",
    "            count = cursor.fetchone()[0]\n",
    "            return count\n",
    "\n",
    "def column_experiments(column, dimensions):\n",
    "    results = {}\n",
    "    \n",
    "    max_count = get_table_count(column)\n",
    "    start = n_interval\n",
    "    end = max_count - (max_count % n_interval) + 1\n",
    "    for count in range(start, end, n_interval):\n",
    "        create_test_table(count, column)\n",
    "\n",
    "        experiment_inputs = [\n",
    "            {\n",
    "                'label': 'select 1',\n",
    "                'query': 'SELECT 1'\n",
    "            },\n",
    "            {\n",
    "                'label': 'select id',\n",
    "                'query': f\"SELECT 1 FROM test_table WHERE id < 100\"\n",
    "            },\n",
    "            {\n",
    "                'label': 'select int',\n",
    "                'query': f\"SELECT 1 FROM test_table WHERE original_height < 100\"\n",
    "            },\n",
    "            {\n",
    "                'label': 'select int (indexed)',\n",
    "                'query': \"SELECT 1 FROM test_table WHERE original_width < 100\",\n",
    "            },\n",
    "            {\n",
    "                'label': 'select vector',\n",
    "                'query': f\"SELECT 1 FROM test_table ORDER BY {column}1 <-> %s LIMIT 10\",\n",
    "                'generate_args': lambda: np.random.rand(dimensions)\n",
    "            },\n",
    "            {\n",
    "                'label': 'select vector (indexed)',\n",
    "                'query': f\"SELECT * FROM test_table ORDER BY {column}2 <-> %s LIMIT 10\",\n",
    "                'generate_args': lambda: np.random.rand(dimensions)\n",
    "            },\n",
    "        ]\n",
    "\n",
    "        for input in experiment_inputs:\n",
    "            label = input['label']\n",
    "            query = input['query']\n",
    "            generate_args = input['generate_args'] if 'generate_args' in input else None\n",
    "            throughput = measure_throughput(label, query, generate_args=generate_args)\n",
    "            if label not in results:\n",
    "                results[label] = []\n",
    "            results[label].append((count, throughput))\n",
    "\n",
    "        drop_test_table()\n",
    "\n",
    "    return results\n",
    "    \n",
    "results1 = column_experiments('image_url_ai', 512)\n",
    "results2 = column_experiments('context_page_description_ai', 768)"
   ]
  },
  {
   "cell_type": "code",
   "execution_count": 13,
   "id": "8b825267-c4d2-488a-a3c9-76156e0211a0",
   "metadata": {},
   "outputs": [
    {
     "data": {
      "application/vnd.plotly.v1+json": {
       "config": {
        "plotlyServerURL": "https://plot.ly"
       },
       "data": [
        {
         "mode": "lines+markers",
         "name": "select 1",
         "type": "scatter",
         "visible": "legendonly",
         "x": [
          1000,
          2000,
          3000,
          4000,
          5000,
          6000,
          7000,
          8000,
          9000,
          10000,
          11000,
          12000,
          13000
         ],
         "y": [
          21693.927795593256,
          16148.086548086549,
          14719.95507826209,
          16810.8376753507,
          17669.89931330834,
          18458.407780662765,
          13082.261938180343,
          13546.618435501583,
          11520.281256866623,
          12040.488014927516,
          12400.011825572801,
          11958.442150880994,
          16557.334596557714
         ]
        },
        {
         "mode": "lines+markers",
         "name": "select id",
         "type": "scatter",
         "visible": true,
         "x": [
          1000,
          2000,
          3000,
          4000,
          5000,
          6000,
          7000,
          8000,
          9000,
          10000,
          11000,
          12000,
          13000
         ],
         "y": [
          7654.258444805372,
          4433.303385513006,
          3227.1075855383124,
          2559.1877577917166,
          2103.5784321100964,
          1994.9222112828122,
          1707.9940872015604,
          1346.1964842232971,
          1022.9860050828524,
          1177.3385767979498,
          890.2098866836885,
          882.3482140791026,
          804.9823143195475
         ]
        },
        {
         "mode": "lines+markers",
         "name": "select int",
         "type": "scatter",
         "x": [
          1000,
          2000,
          3000,
          4000,
          5000,
          6000,
          7000,
          8000,
          9000,
          10000,
          11000,
          12000,
          13000
         ],
         "y": [
          4938.716780293664,
          2757.37877353529,
          1965.530265753797,
          1452.1302598688537,
          1170.0767720049992,
          914.2617990949595,
          616.0294098208004,
          542.46814168334,
          476.6444119936588,
          423.7051613730931,
          360.01620556345233,
          327.88697865527615,
          287.3533278570709
         ]
        },
        {
         "mode": "lines+markers",
         "name": "select int (indexed)",
         "type": "scatter",
         "visible": "legendonly",
         "x": [
          1000,
          2000,
          3000,
          4000,
          5000,
          6000,
          7000,
          8000,
          9000,
          10000,
          11000,
          12000,
          13000
         ],
         "y": [
          4773.4689929097385,
          2976.6892587204143,
          1702.9248883475436,
          1385.4887672554182,
          10617.95352134069,
          10510.45958001303,
          9945.47222156356,
          10512.040100250626,
          10790.316688533869,
          10333.343187977334,
          10381.426662046433,
          10830.159058045858,
          10253.267166988535
         ]
        },
        {
         "mode": "lines+markers",
         "name": "select vector",
         "type": "scatter",
         "x": [
          1000,
          2000,
          3000,
          4000,
          5000,
          6000,
          7000,
          8000,
          9000,
          10000,
          11000,
          12000,
          13000
         ],
         "y": [
          412.3106202102101,
          200.43831353467465,
          122.56477870975584,
          91.71253418744736,
          73.52672346664768,
          62.09444451928926,
          53.893095617847784,
          43.65609649525449,
          42.69212455588242,
          38.75959794221228,
          34.937539306047825,
          32.875312210529714,
          30.59957989544661
         ]
        },
        {
         "mode": "lines+markers",
         "name": "select vector (indexed)",
         "type": "scatter",
         "x": [
          1000,
          2000,
          3000,
          4000,
          5000,
          6000,
          7000,
          8000,
          9000,
          10000,
          11000,
          12000,
          13000
         ],
         "y": [
          1095.710736612216,
          1033.4794489494707,
          782.9167039990443,
          696.8856751691412,
          680.2099837987477,
          792.7841832684384,
          674.2148393671778,
          755.7930927608414,
          704.7438221768184,
          756.368252869086,
          759.9684728349988,
          692.7420953186316,
          732.6103246203156
         ]
        }
       ],
       "layout": {
        "autosize": true,
        "showlegend": true,
        "template": {
         "data": {
          "bar": [
           {
            "error_x": {
             "color": "#2a3f5f"
            },
            "error_y": {
             "color": "#2a3f5f"
            },
            "marker": {
             "line": {
              "color": "#E5ECF6",
              "width": 0.5
             },
             "pattern": {
              "fillmode": "overlay",
              "size": 10,
              "solidity": 0.2
             }
            },
            "type": "bar"
           }
          ],
          "barpolar": [
           {
            "marker": {
             "line": {
              "color": "#E5ECF6",
              "width": 0.5
             },
             "pattern": {
              "fillmode": "overlay",
              "size": 10,
              "solidity": 0.2
             }
            },
            "type": "barpolar"
           }
          ],
          "carpet": [
           {
            "aaxis": {
             "endlinecolor": "#2a3f5f",
             "gridcolor": "white",
             "linecolor": "white",
             "minorgridcolor": "white",
             "startlinecolor": "#2a3f5f"
            },
            "baxis": {
             "endlinecolor": "#2a3f5f",
             "gridcolor": "white",
             "linecolor": "white",
             "minorgridcolor": "white",
             "startlinecolor": "#2a3f5f"
            },
            "type": "carpet"
           }
          ],
          "choropleth": [
           {
            "colorbar": {
             "outlinewidth": 0,
             "ticks": ""
            },
            "type": "choropleth"
           }
          ],
          "contour": [
           {
            "colorbar": {
             "outlinewidth": 0,
             "ticks": ""
            },
            "colorscale": [
             [
              0,
              "#0d0887"
             ],
             [
              0.1111111111111111,
              "#46039f"
             ],
             [
              0.2222222222222222,
              "#7201a8"
             ],
             [
              0.3333333333333333,
              "#9c179e"
             ],
             [
              0.4444444444444444,
              "#bd3786"
             ],
             [
              0.5555555555555556,
              "#d8576b"
             ],
             [
              0.6666666666666666,
              "#ed7953"
             ],
             [
              0.7777777777777778,
              "#fb9f3a"
             ],
             [
              0.8888888888888888,
              "#fdca26"
             ],
             [
              1,
              "#f0f921"
             ]
            ],
            "type": "contour"
           }
          ],
          "contourcarpet": [
           {
            "colorbar": {
             "outlinewidth": 0,
             "ticks": ""
            },
            "type": "contourcarpet"
           }
          ],
          "heatmap": [
           {
            "colorbar": {
             "outlinewidth": 0,
             "ticks": ""
            },
            "colorscale": [
             [
              0,
              "#0d0887"
             ],
             [
              0.1111111111111111,
              "#46039f"
             ],
             [
              0.2222222222222222,
              "#7201a8"
             ],
             [
              0.3333333333333333,
              "#9c179e"
             ],
             [
              0.4444444444444444,
              "#bd3786"
             ],
             [
              0.5555555555555556,
              "#d8576b"
             ],
             [
              0.6666666666666666,
              "#ed7953"
             ],
             [
              0.7777777777777778,
              "#fb9f3a"
             ],
             [
              0.8888888888888888,
              "#fdca26"
             ],
             [
              1,
              "#f0f921"
             ]
            ],
            "type": "heatmap"
           }
          ],
          "heatmapgl": [
           {
            "colorbar": {
             "outlinewidth": 0,
             "ticks": ""
            },
            "colorscale": [
             [
              0,
              "#0d0887"
             ],
             [
              0.1111111111111111,
              "#46039f"
             ],
             [
              0.2222222222222222,
              "#7201a8"
             ],
             [
              0.3333333333333333,
              "#9c179e"
             ],
             [
              0.4444444444444444,
              "#bd3786"
             ],
             [
              0.5555555555555556,
              "#d8576b"
             ],
             [
              0.6666666666666666,
              "#ed7953"
             ],
             [
              0.7777777777777778,
              "#fb9f3a"
             ],
             [
              0.8888888888888888,
              "#fdca26"
             ],
             [
              1,
              "#f0f921"
             ]
            ],
            "type": "heatmapgl"
           }
          ],
          "histogram": [
           {
            "marker": {
             "pattern": {
              "fillmode": "overlay",
              "size": 10,
              "solidity": 0.2
             }
            },
            "type": "histogram"
           }
          ],
          "histogram2d": [
           {
            "colorbar": {
             "outlinewidth": 0,
             "ticks": ""
            },
            "colorscale": [
             [
              0,
              "#0d0887"
             ],
             [
              0.1111111111111111,
              "#46039f"
             ],
             [
              0.2222222222222222,
              "#7201a8"
             ],
             [
              0.3333333333333333,
              "#9c179e"
             ],
             [
              0.4444444444444444,
              "#bd3786"
             ],
             [
              0.5555555555555556,
              "#d8576b"
             ],
             [
              0.6666666666666666,
              "#ed7953"
             ],
             [
              0.7777777777777778,
              "#fb9f3a"
             ],
             [
              0.8888888888888888,
              "#fdca26"
             ],
             [
              1,
              "#f0f921"
             ]
            ],
            "type": "histogram2d"
           }
          ],
          "histogram2dcontour": [
           {
            "colorbar": {
             "outlinewidth": 0,
             "ticks": ""
            },
            "colorscale": [
             [
              0,
              "#0d0887"
             ],
             [
              0.1111111111111111,
              "#46039f"
             ],
             [
              0.2222222222222222,
              "#7201a8"
             ],
             [
              0.3333333333333333,
              "#9c179e"
             ],
             [
              0.4444444444444444,
              "#bd3786"
             ],
             [
              0.5555555555555556,
              "#d8576b"
             ],
             [
              0.6666666666666666,
              "#ed7953"
             ],
             [
              0.7777777777777778,
              "#fb9f3a"
             ],
             [
              0.8888888888888888,
              "#fdca26"
             ],
             [
              1,
              "#f0f921"
             ]
            ],
            "type": "histogram2dcontour"
           }
          ],
          "mesh3d": [
           {
            "colorbar": {
             "outlinewidth": 0,
             "ticks": ""
            },
            "type": "mesh3d"
           }
          ],
          "parcoords": [
           {
            "line": {
             "colorbar": {
              "outlinewidth": 0,
              "ticks": ""
             }
            },
            "type": "parcoords"
           }
          ],
          "pie": [
           {
            "automargin": true,
            "type": "pie"
           }
          ],
          "scatter": [
           {
            "fillpattern": {
             "fillmode": "overlay",
             "size": 10,
             "solidity": 0.2
            },
            "type": "scatter"
           }
          ],
          "scatter3d": [
           {
            "line": {
             "colorbar": {
              "outlinewidth": 0,
              "ticks": ""
             }
            },
            "marker": {
             "colorbar": {
              "outlinewidth": 0,
              "ticks": ""
             }
            },
            "type": "scatter3d"
           }
          ],
          "scattercarpet": [
           {
            "marker": {
             "colorbar": {
              "outlinewidth": 0,
              "ticks": ""
             }
            },
            "type": "scattercarpet"
           }
          ],
          "scattergeo": [
           {
            "marker": {
             "colorbar": {
              "outlinewidth": 0,
              "ticks": ""
             }
            },
            "type": "scattergeo"
           }
          ],
          "scattergl": [
           {
            "marker": {
             "colorbar": {
              "outlinewidth": 0,
              "ticks": ""
             }
            },
            "type": "scattergl"
           }
          ],
          "scattermapbox": [
           {
            "marker": {
             "colorbar": {
              "outlinewidth": 0,
              "ticks": ""
             }
            },
            "type": "scattermapbox"
           }
          ],
          "scatterpolar": [
           {
            "marker": {
             "colorbar": {
              "outlinewidth": 0,
              "ticks": ""
             }
            },
            "type": "scatterpolar"
           }
          ],
          "scatterpolargl": [
           {
            "marker": {
             "colorbar": {
              "outlinewidth": 0,
              "ticks": ""
             }
            },
            "type": "scatterpolargl"
           }
          ],
          "scatterternary": [
           {
            "marker": {
             "colorbar": {
              "outlinewidth": 0,
              "ticks": ""
             }
            },
            "type": "scatterternary"
           }
          ],
          "surface": [
           {
            "colorbar": {
             "outlinewidth": 0,
             "ticks": ""
            },
            "colorscale": [
             [
              0,
              "#0d0887"
             ],
             [
              0.1111111111111111,
              "#46039f"
             ],
             [
              0.2222222222222222,
              "#7201a8"
             ],
             [
              0.3333333333333333,
              "#9c179e"
             ],
             [
              0.4444444444444444,
              "#bd3786"
             ],
             [
              0.5555555555555556,
              "#d8576b"
             ],
             [
              0.6666666666666666,
              "#ed7953"
             ],
             [
              0.7777777777777778,
              "#fb9f3a"
             ],
             [
              0.8888888888888888,
              "#fdca26"
             ],
             [
              1,
              "#f0f921"
             ]
            ],
            "type": "surface"
           }
          ],
          "table": [
           {
            "cells": {
             "fill": {
              "color": "#EBF0F8"
             },
             "line": {
              "color": "white"
             }
            },
            "header": {
             "fill": {
              "color": "#C8D4E3"
             },
             "line": {
              "color": "white"
             }
            },
            "type": "table"
           }
          ]
         },
         "layout": {
          "annotationdefaults": {
           "arrowcolor": "#2a3f5f",
           "arrowhead": 0,
           "arrowwidth": 1
          },
          "autotypenumbers": "strict",
          "coloraxis": {
           "colorbar": {
            "outlinewidth": 0,
            "ticks": ""
           }
          },
          "colorscale": {
           "diverging": [
            [
             0,
             "#8e0152"
            ],
            [
             0.1,
             "#c51b7d"
            ],
            [
             0.2,
             "#de77ae"
            ],
            [
             0.3,
             "#f1b6da"
            ],
            [
             0.4,
             "#fde0ef"
            ],
            [
             0.5,
             "#f7f7f7"
            ],
            [
             0.6,
             "#e6f5d0"
            ],
            [
             0.7,
             "#b8e186"
            ],
            [
             0.8,
             "#7fbc41"
            ],
            [
             0.9,
             "#4d9221"
            ],
            [
             1,
             "#276419"
            ]
           ],
           "sequential": [
            [
             0,
             "#0d0887"
            ],
            [
             0.1111111111111111,
             "#46039f"
            ],
            [
             0.2222222222222222,
             "#7201a8"
            ],
            [
             0.3333333333333333,
             "#9c179e"
            ],
            [
             0.4444444444444444,
             "#bd3786"
            ],
            [
             0.5555555555555556,
             "#d8576b"
            ],
            [
             0.6666666666666666,
             "#ed7953"
            ],
            [
             0.7777777777777778,
             "#fb9f3a"
            ],
            [
             0.8888888888888888,
             "#fdca26"
            ],
            [
             1,
             "#f0f921"
            ]
           ],
           "sequentialminus": [
            [
             0,
             "#0d0887"
            ],
            [
             0.1111111111111111,
             "#46039f"
            ],
            [
             0.2222222222222222,
             "#7201a8"
            ],
            [
             0.3333333333333333,
             "#9c179e"
            ],
            [
             0.4444444444444444,
             "#bd3786"
            ],
            [
             0.5555555555555556,
             "#d8576b"
            ],
            [
             0.6666666666666666,
             "#ed7953"
            ],
            [
             0.7777777777777778,
             "#fb9f3a"
            ],
            [
             0.8888888888888888,
             "#fdca26"
            ],
            [
             1,
             "#f0f921"
            ]
           ]
          },
          "colorway": [
           "#636efa",
           "#EF553B",
           "#00cc96",
           "#ab63fa",
           "#FFA15A",
           "#19d3f3",
           "#FF6692",
           "#B6E880",
           "#FF97FF",
           "#FECB52"
          ],
          "font": {
           "color": "#2a3f5f"
          },
          "geo": {
           "bgcolor": "white",
           "lakecolor": "white",
           "landcolor": "#E5ECF6",
           "showlakes": true,
           "showland": true,
           "subunitcolor": "white"
          },
          "hoverlabel": {
           "align": "left"
          },
          "hovermode": "closest",
          "mapbox": {
           "style": "light"
          },
          "paper_bgcolor": "white",
          "plot_bgcolor": "#E5ECF6",
          "polar": {
           "angularaxis": {
            "gridcolor": "white",
            "linecolor": "white",
            "ticks": ""
           },
           "bgcolor": "#E5ECF6",
           "radialaxis": {
            "gridcolor": "white",
            "linecolor": "white",
            "ticks": ""
           }
          },
          "scene": {
           "xaxis": {
            "backgroundcolor": "#E5ECF6",
            "gridcolor": "white",
            "gridwidth": 2,
            "linecolor": "white",
            "showbackground": true,
            "ticks": "",
            "zerolinecolor": "white"
           },
           "yaxis": {
            "backgroundcolor": "#E5ECF6",
            "gridcolor": "white",
            "gridwidth": 2,
            "linecolor": "white",
            "showbackground": true,
            "ticks": "",
            "zerolinecolor": "white"
           },
           "zaxis": {
            "backgroundcolor": "#E5ECF6",
            "gridcolor": "white",
            "gridwidth": 2,
            "linecolor": "white",
            "showbackground": true,
            "ticks": "",
            "zerolinecolor": "white"
           }
          },
          "shapedefaults": {
           "line": {
            "color": "#2a3f5f"
           }
          },
          "ternary": {
           "aaxis": {
            "gridcolor": "white",
            "linecolor": "white",
            "ticks": ""
           },
           "baxis": {
            "gridcolor": "white",
            "linecolor": "white",
            "ticks": ""
           },
           "bgcolor": "#E5ECF6",
           "caxis": {
            "gridcolor": "white",
            "linecolor": "white",
            "ticks": ""
           }
          },
          "title": {
           "x": 0.05
          },
          "xaxis": {
           "automargin": true,
           "gridcolor": "white",
           "linecolor": "white",
           "ticks": "",
           "title": {
            "standoff": 15
           },
           "zerolinecolor": "white",
           "zerolinewidth": 2
          },
          "yaxis": {
           "automargin": true,
           "gridcolor": "white",
           "linecolor": "white",
           "ticks": "",
           "title": {
            "standoff": 15
           },
           "zerolinecolor": "white",
           "zerolinewidth": 2
          }
         }
        },
        "title": {
         "text": "Throughput vs. Table Size for Each Query Type"
        },
        "xaxis": {
         "autorange": true,
         "range": [
          277.2543741588155,
          13722.745625841184
         ],
         "title": {
          "text": "Table Size"
         },
         "type": "linear"
        },
        "yaxis": {
         "autorange": true,
         "range": [
          -598.5373167233337,
          8283.395341424153
         ],
         "title": {
          "text": "Throughput (ops/s)"
         },
         "type": "linear"
        }
       }
      },
      "text/html": [
       "<div>                            <div id=\"83c42ef5-a0e0-4399-8cb6-14d15b3f39d6\" class=\"plotly-graph-div\" style=\"height:525px; width:100%;\"></div>            <script type=\"text/javascript\">                require([\"plotly\"], function(Plotly) {                    window.PLOTLYENV=window.PLOTLYENV || {};                                    if (document.getElementById(\"83c42ef5-a0e0-4399-8cb6-14d15b3f39d6\")) {                    Plotly.newPlot(                        \"83c42ef5-a0e0-4399-8cb6-14d15b3f39d6\",                        [{\"mode\":\"lines+markers\",\"name\":\"select 1\",\"x\":[1000,2000,3000,4000,5000,6000,7000,8000,9000,10000,11000,12000,13000],\"y\":[21693.927795593256,16148.086548086549,14719.95507826209,16810.8376753507,17669.89931330834,18458.407780662765,13082.261938180343,13546.618435501583,11520.281256866623,12040.488014927516,12400.011825572801,11958.442150880994,16557.334596557714],\"type\":\"scatter\"},{\"mode\":\"lines+markers\",\"name\":\"select id\",\"x\":[1000,2000,3000,4000,5000,6000,7000,8000,9000,10000,11000,12000,13000],\"y\":[7654.258444805372,4433.303385513006,3227.1075855383124,2559.1877577917166,2103.5784321100964,1994.9222112828122,1707.9940872015604,1346.1964842232971,1022.9860050828524,1177.3385767979498,890.2098866836885,882.3482140791026,804.9823143195475],\"type\":\"scatter\"},{\"mode\":\"lines+markers\",\"name\":\"select int\",\"x\":[1000,2000,3000,4000,5000,6000,7000,8000,9000,10000,11000,12000,13000],\"y\":[4938.716780293664,2757.37877353529,1965.530265753797,1452.1302598688537,1170.0767720049992,914.2617990949595,616.0294098208004,542.46814168334,476.6444119936588,423.7051613730931,360.01620556345233,327.88697865527615,287.3533278570709],\"type\":\"scatter\"},{\"mode\":\"lines+markers\",\"name\":\"select int (indexed)\",\"x\":[1000,2000,3000,4000,5000,6000,7000,8000,9000,10000,11000,12000,13000],\"y\":[4773.4689929097385,2976.6892587204143,1702.9248883475436,1385.4887672554182,10617.95352134069,10510.45958001303,9945.47222156356,10512.040100250626,10790.316688533869,10333.343187977334,10381.426662046433,10830.159058045858,10253.267166988535],\"type\":\"scatter\"},{\"mode\":\"lines+markers\",\"name\":\"select vector\",\"x\":[1000,2000,3000,4000,5000,6000,7000,8000,9000,10000,11000,12000,13000],\"y\":[412.3106202102101,200.43831353467465,122.56477870975584,91.71253418744736,73.52672346664768,62.09444451928926,53.893095617847784,43.65609649525449,42.69212455588242,38.75959794221228,34.937539306047825,32.875312210529714,30.59957989544661],\"type\":\"scatter\"},{\"mode\":\"lines+markers\",\"name\":\"select vector (indexed)\",\"x\":[1000,2000,3000,4000,5000,6000,7000,8000,9000,10000,11000,12000,13000],\"y\":[1095.710736612216,1033.4794489494707,782.9167039990443,696.8856751691412,680.2099837987477,792.7841832684384,674.2148393671778,755.7930927608414,704.7438221768184,756.368252869086,759.9684728349988,692.7420953186316,732.6103246203156],\"type\":\"scatter\"}],                        {\"showlegend\":true,\"title\":{\"text\":\"Throughput vs. Table Size for Each Query Type\"},\"xaxis\":{\"title\":{\"text\":\"Table Size\"}},\"yaxis\":{\"title\":{\"text\":\"Throughput (ops\\u002fs)\"}},\"template\":{\"data\":{\"histogram2dcontour\":[{\"type\":\"histogram2dcontour\",\"colorbar\":{\"outlinewidth\":0,\"ticks\":\"\"},\"colorscale\":[[0.0,\"#0d0887\"],[0.1111111111111111,\"#46039f\"],[0.2222222222222222,\"#7201a8\"],[0.3333333333333333,\"#9c179e\"],[0.4444444444444444,\"#bd3786\"],[0.5555555555555556,\"#d8576b\"],[0.6666666666666666,\"#ed7953\"],[0.7777777777777778,\"#fb9f3a\"],[0.8888888888888888,\"#fdca26\"],[1.0,\"#f0f921\"]]}],\"choropleth\":[{\"type\":\"choropleth\",\"colorbar\":{\"outlinewidth\":0,\"ticks\":\"\"}}],\"histogram2d\":[{\"type\":\"histogram2d\",\"colorbar\":{\"outlinewidth\":0,\"ticks\":\"\"},\"colorscale\":[[0.0,\"#0d0887\"],[0.1111111111111111,\"#46039f\"],[0.2222222222222222,\"#7201a8\"],[0.3333333333333333,\"#9c179e\"],[0.4444444444444444,\"#bd3786\"],[0.5555555555555556,\"#d8576b\"],[0.6666666666666666,\"#ed7953\"],[0.7777777777777778,\"#fb9f3a\"],[0.8888888888888888,\"#fdca26\"],[1.0,\"#f0f921\"]]}],\"heatmap\":[{\"type\":\"heatmap\",\"colorbar\":{\"outlinewidth\":0,\"ticks\":\"\"},\"colorscale\":[[0.0,\"#0d0887\"],[0.1111111111111111,\"#46039f\"],[0.2222222222222222,\"#7201a8\"],[0.3333333333333333,\"#9c179e\"],[0.4444444444444444,\"#bd3786\"],[0.5555555555555556,\"#d8576b\"],[0.6666666666666666,\"#ed7953\"],[0.7777777777777778,\"#fb9f3a\"],[0.8888888888888888,\"#fdca26\"],[1.0,\"#f0f921\"]]}],\"heatmapgl\":[{\"type\":\"heatmapgl\",\"colorbar\":{\"outlinewidth\":0,\"ticks\":\"\"},\"colorscale\":[[0.0,\"#0d0887\"],[0.1111111111111111,\"#46039f\"],[0.2222222222222222,\"#7201a8\"],[0.3333333333333333,\"#9c179e\"],[0.4444444444444444,\"#bd3786\"],[0.5555555555555556,\"#d8576b\"],[0.6666666666666666,\"#ed7953\"],[0.7777777777777778,\"#fb9f3a\"],[0.8888888888888888,\"#fdca26\"],[1.0,\"#f0f921\"]]}],\"contourcarpet\":[{\"type\":\"contourcarpet\",\"colorbar\":{\"outlinewidth\":0,\"ticks\":\"\"}}],\"contour\":[{\"type\":\"contour\",\"colorbar\":{\"outlinewidth\":0,\"ticks\":\"\"},\"colorscale\":[[0.0,\"#0d0887\"],[0.1111111111111111,\"#46039f\"],[0.2222222222222222,\"#7201a8\"],[0.3333333333333333,\"#9c179e\"],[0.4444444444444444,\"#bd3786\"],[0.5555555555555556,\"#d8576b\"],[0.6666666666666666,\"#ed7953\"],[0.7777777777777778,\"#fb9f3a\"],[0.8888888888888888,\"#fdca26\"],[1.0,\"#f0f921\"]]}],\"surface\":[{\"type\":\"surface\",\"colorbar\":{\"outlinewidth\":0,\"ticks\":\"\"},\"colorscale\":[[0.0,\"#0d0887\"],[0.1111111111111111,\"#46039f\"],[0.2222222222222222,\"#7201a8\"],[0.3333333333333333,\"#9c179e\"],[0.4444444444444444,\"#bd3786\"],[0.5555555555555556,\"#d8576b\"],[0.6666666666666666,\"#ed7953\"],[0.7777777777777778,\"#fb9f3a\"],[0.8888888888888888,\"#fdca26\"],[1.0,\"#f0f921\"]]}],\"mesh3d\":[{\"type\":\"mesh3d\",\"colorbar\":{\"outlinewidth\":0,\"ticks\":\"\"}}],\"scatter\":[{\"fillpattern\":{\"fillmode\":\"overlay\",\"size\":10,\"solidity\":0.2},\"type\":\"scatter\"}],\"parcoords\":[{\"type\":\"parcoords\",\"line\":{\"colorbar\":{\"outlinewidth\":0,\"ticks\":\"\"}}}],\"scatterpolargl\":[{\"type\":\"scatterpolargl\",\"marker\":{\"colorbar\":{\"outlinewidth\":0,\"ticks\":\"\"}}}],\"bar\":[{\"error_x\":{\"color\":\"#2a3f5f\"},\"error_y\":{\"color\":\"#2a3f5f\"},\"marker\":{\"line\":{\"color\":\"#E5ECF6\",\"width\":0.5},\"pattern\":{\"fillmode\":\"overlay\",\"size\":10,\"solidity\":0.2}},\"type\":\"bar\"}],\"scattergeo\":[{\"type\":\"scattergeo\",\"marker\":{\"colorbar\":{\"outlinewidth\":0,\"ticks\":\"\"}}}],\"scatterpolar\":[{\"type\":\"scatterpolar\",\"marker\":{\"colorbar\":{\"outlinewidth\":0,\"ticks\":\"\"}}}],\"histogram\":[{\"marker\":{\"pattern\":{\"fillmode\":\"overlay\",\"size\":10,\"solidity\":0.2}},\"type\":\"histogram\"}],\"scattergl\":[{\"type\":\"scattergl\",\"marker\":{\"colorbar\":{\"outlinewidth\":0,\"ticks\":\"\"}}}],\"scatter3d\":[{\"type\":\"scatter3d\",\"line\":{\"colorbar\":{\"outlinewidth\":0,\"ticks\":\"\"}},\"marker\":{\"colorbar\":{\"outlinewidth\":0,\"ticks\":\"\"}}}],\"scattermapbox\":[{\"type\":\"scattermapbox\",\"marker\":{\"colorbar\":{\"outlinewidth\":0,\"ticks\":\"\"}}}],\"scatterternary\":[{\"type\":\"scatterternary\",\"marker\":{\"colorbar\":{\"outlinewidth\":0,\"ticks\":\"\"}}}],\"scattercarpet\":[{\"type\":\"scattercarpet\",\"marker\":{\"colorbar\":{\"outlinewidth\":0,\"ticks\":\"\"}}}],\"carpet\":[{\"aaxis\":{\"endlinecolor\":\"#2a3f5f\",\"gridcolor\":\"white\",\"linecolor\":\"white\",\"minorgridcolor\":\"white\",\"startlinecolor\":\"#2a3f5f\"},\"baxis\":{\"endlinecolor\":\"#2a3f5f\",\"gridcolor\":\"white\",\"linecolor\":\"white\",\"minorgridcolor\":\"white\",\"startlinecolor\":\"#2a3f5f\"},\"type\":\"carpet\"}],\"table\":[{\"cells\":{\"fill\":{\"color\":\"#EBF0F8\"},\"line\":{\"color\":\"white\"}},\"header\":{\"fill\":{\"color\":\"#C8D4E3\"},\"line\":{\"color\":\"white\"}},\"type\":\"table\"}],\"barpolar\":[{\"marker\":{\"line\":{\"color\":\"#E5ECF6\",\"width\":0.5},\"pattern\":{\"fillmode\":\"overlay\",\"size\":10,\"solidity\":0.2}},\"type\":\"barpolar\"}],\"pie\":[{\"automargin\":true,\"type\":\"pie\"}]},\"layout\":{\"autotypenumbers\":\"strict\",\"colorway\":[\"#636efa\",\"#EF553B\",\"#00cc96\",\"#ab63fa\",\"#FFA15A\",\"#19d3f3\",\"#FF6692\",\"#B6E880\",\"#FF97FF\",\"#FECB52\"],\"font\":{\"color\":\"#2a3f5f\"},\"hovermode\":\"closest\",\"hoverlabel\":{\"align\":\"left\"},\"paper_bgcolor\":\"white\",\"plot_bgcolor\":\"#E5ECF6\",\"polar\":{\"bgcolor\":\"#E5ECF6\",\"angularaxis\":{\"gridcolor\":\"white\",\"linecolor\":\"white\",\"ticks\":\"\"},\"radialaxis\":{\"gridcolor\":\"white\",\"linecolor\":\"white\",\"ticks\":\"\"}},\"ternary\":{\"bgcolor\":\"#E5ECF6\",\"aaxis\":{\"gridcolor\":\"white\",\"linecolor\":\"white\",\"ticks\":\"\"},\"baxis\":{\"gridcolor\":\"white\",\"linecolor\":\"white\",\"ticks\":\"\"},\"caxis\":{\"gridcolor\":\"white\",\"linecolor\":\"white\",\"ticks\":\"\"}},\"coloraxis\":{\"colorbar\":{\"outlinewidth\":0,\"ticks\":\"\"}},\"colorscale\":{\"sequential\":[[0.0,\"#0d0887\"],[0.1111111111111111,\"#46039f\"],[0.2222222222222222,\"#7201a8\"],[0.3333333333333333,\"#9c179e\"],[0.4444444444444444,\"#bd3786\"],[0.5555555555555556,\"#d8576b\"],[0.6666666666666666,\"#ed7953\"],[0.7777777777777778,\"#fb9f3a\"],[0.8888888888888888,\"#fdca26\"],[1.0,\"#f0f921\"]],\"sequentialminus\":[[0.0,\"#0d0887\"],[0.1111111111111111,\"#46039f\"],[0.2222222222222222,\"#7201a8\"],[0.3333333333333333,\"#9c179e\"],[0.4444444444444444,\"#bd3786\"],[0.5555555555555556,\"#d8576b\"],[0.6666666666666666,\"#ed7953\"],[0.7777777777777778,\"#fb9f3a\"],[0.8888888888888888,\"#fdca26\"],[1.0,\"#f0f921\"]],\"diverging\":[[0,\"#8e0152\"],[0.1,\"#c51b7d\"],[0.2,\"#de77ae\"],[0.3,\"#f1b6da\"],[0.4,\"#fde0ef\"],[0.5,\"#f7f7f7\"],[0.6,\"#e6f5d0\"],[0.7,\"#b8e186\"],[0.8,\"#7fbc41\"],[0.9,\"#4d9221\"],[1,\"#276419\"]]},\"xaxis\":{\"gridcolor\":\"white\",\"linecolor\":\"white\",\"ticks\":\"\",\"title\":{\"standoff\":15},\"zerolinecolor\":\"white\",\"automargin\":true,\"zerolinewidth\":2},\"yaxis\":{\"gridcolor\":\"white\",\"linecolor\":\"white\",\"ticks\":\"\",\"title\":{\"standoff\":15},\"zerolinecolor\":\"white\",\"automargin\":true,\"zerolinewidth\":2},\"scene\":{\"xaxis\":{\"backgroundcolor\":\"#E5ECF6\",\"gridcolor\":\"white\",\"linecolor\":\"white\",\"showbackground\":true,\"ticks\":\"\",\"zerolinecolor\":\"white\",\"gridwidth\":2},\"yaxis\":{\"backgroundcolor\":\"#E5ECF6\",\"gridcolor\":\"white\",\"linecolor\":\"white\",\"showbackground\":true,\"ticks\":\"\",\"zerolinecolor\":\"white\",\"gridwidth\":2},\"zaxis\":{\"backgroundcolor\":\"#E5ECF6\",\"gridcolor\":\"white\",\"linecolor\":\"white\",\"showbackground\":true,\"ticks\":\"\",\"zerolinecolor\":\"white\",\"gridwidth\":2}},\"shapedefaults\":{\"line\":{\"color\":\"#2a3f5f\"}},\"annotationdefaults\":{\"arrowcolor\":\"#2a3f5f\",\"arrowhead\":0,\"arrowwidth\":1},\"geo\":{\"bgcolor\":\"white\",\"landcolor\":\"#E5ECF6\",\"subunitcolor\":\"white\",\"showland\":true,\"showlakes\":true,\"lakecolor\":\"white\"},\"title\":{\"x\":0.05},\"mapbox\":{\"style\":\"light\"}}}},                        {\"responsive\": true}                    ).then(function(){\n",
       "                            \n",
       "var gd = document.getElementById('83c42ef5-a0e0-4399-8cb6-14d15b3f39d6');\n",
       "var x = new MutationObserver(function (mutations, observer) {{\n",
       "        var display = window.getComputedStyle(gd).display;\n",
       "        if (!display || display === 'none') {{\n",
       "            console.log([gd, 'removed!']);\n",
       "            Plotly.purge(gd);\n",
       "            observer.disconnect();\n",
       "        }}\n",
       "}});\n",
       "\n",
       "// Listen for the removal of the full notebook cells\n",
       "var notebookContainer = gd.closest('#notebook-container');\n",
       "if (notebookContainer) {{\n",
       "    x.observe(notebookContainer, {childList: true});\n",
       "}}\n",
       "\n",
       "// Listen for the clearing of the current output cell\n",
       "var outputEl = gd.closest('.output');\n",
       "if (outputEl) {{\n",
       "    x.observe(outputEl, {childList: true});\n",
       "}}\n",
       "\n",
       "                        })                };                });            </script>        </div>"
      ]
     },
     "metadata": {},
     "output_type": "display_data"
    }
   ],
   "source": [
    "# Plot experiments\n",
    "\n",
    "import plotly.graph_objects as go\n",
    "\n",
    "def generate_plots(results):\n",
    "    # Create traces for each query type\n",
    "    data = []\n",
    "    for query_type, query_results in results.items():\n",
    "        sizes, throughputs = zip(*query_results)  # Unpack the table sizes and throughput values\n",
    "        trace = go.Scatter(\n",
    "            x=sizes,\n",
    "            y=throughputs,\n",
    "            mode='lines+markers',\n",
    "            name=query_type\n",
    "        )\n",
    "        data.append(trace)\n",
    "    \n",
    "    # Create layout\n",
    "    layout = go.Layout(\n",
    "        title='Throughput vs. Table Size for Each Query Type',\n",
    "        xaxis=dict(title='Table Size'),\n",
    "        yaxis=dict(title='Throughput (ops/s)'),\n",
    "        showlegend=True\n",
    "    )\n",
    "    \n",
    "    # Create figure\n",
    "    fig = go.Figure(data=data, layout=layout)\n",
    "    \n",
    "    # Display the figure\n",
    "    fig.show()\n",
    "\n",
    "generate_plots(results1)"
   ]
  },
  {
   "cell_type": "code",
   "execution_count": 14,
   "id": "b8ea3aa8-d626-4278-8800-375852fc2972",
   "metadata": {},
   "outputs": [
    {
     "name": "stdout",
     "output_type": "stream",
     "text": [
      "\n",
      "========================================\n",
      "select 1\n",
      "----------------------------------------\n",
      "Table Size     Throughput (ops/s)  \n",
      "----------------------------------------\n",
      "1000           21693.928           \n",
      "2000           16148.087           \n",
      "3000           14719.955           \n",
      "4000           16810.838           \n",
      "5000           17669.899           \n",
      "6000           18458.408           \n",
      "7000           13082.262           \n",
      "8000           13546.618           \n",
      "9000           11520.281           \n",
      "10000          12040.488           \n",
      "11000          12400.012           \n",
      "12000          11958.442           \n",
      "13000          16557.335           \n",
      "========================================\n",
      "\n",
      "\n",
      "========================================\n",
      "select id\n",
      "----------------------------------------\n",
      "Table Size     Throughput (ops/s)  \n",
      "----------------------------------------\n",
      "1000           7654.258            \n",
      "2000           4433.303            \n",
      "3000           3227.108            \n",
      "4000           2559.188            \n",
      "5000           2103.578            \n",
      "6000           1994.922            \n",
      "7000           1707.994            \n",
      "8000           1346.196            \n",
      "9000           1022.986            \n",
      "10000          1177.339            \n",
      "11000          890.210             \n",
      "12000          882.348             \n",
      "13000          804.982             \n",
      "========================================\n",
      "\n",
      "\n",
      "========================================\n",
      "select int\n",
      "----------------------------------------\n",
      "Table Size     Throughput (ops/s)  \n",
      "----------------------------------------\n",
      "1000           4938.717            \n",
      "2000           2757.379            \n",
      "3000           1965.530            \n",
      "4000           1452.130            \n",
      "5000           1170.077            \n",
      "6000           914.262             \n",
      "7000           616.029             \n",
      "8000           542.468             \n",
      "9000           476.644             \n",
      "10000          423.705             \n",
      "11000          360.016             \n",
      "12000          327.887             \n",
      "13000          287.353             \n",
      "========================================\n",
      "\n",
      "\n",
      "========================================\n",
      "select int (indexed)\n",
      "----------------------------------------\n",
      "Table Size     Throughput (ops/s)  \n",
      "----------------------------------------\n",
      "1000           4773.469            \n",
      "2000           2976.689            \n",
      "3000           1702.925            \n",
      "4000           1385.489            \n",
      "5000           10617.954           \n",
      "6000           10510.460           \n",
      "7000           9945.472            \n",
      "8000           10512.040           \n",
      "9000           10790.317           \n",
      "10000          10333.343           \n",
      "11000          10381.427           \n",
      "12000          10830.159           \n",
      "13000          10253.267           \n",
      "========================================\n",
      "\n",
      "\n",
      "========================================\n",
      "select vector\n",
      "----------------------------------------\n",
      "Table Size     Throughput (ops/s)  \n",
      "----------------------------------------\n",
      "1000           412.311             \n",
      "2000           200.438             \n",
      "3000           122.565             \n",
      "4000           91.713              \n",
      "5000           73.527              \n",
      "6000           62.094              \n",
      "7000           53.893              \n",
      "8000           43.656              \n",
      "9000           42.692              \n",
      "10000          38.760              \n",
      "11000          34.938              \n",
      "12000          32.875              \n",
      "13000          30.600              \n",
      "========================================\n",
      "\n",
      "\n",
      "========================================\n",
      "select vector (indexed)\n",
      "----------------------------------------\n",
      "Table Size     Throughput (ops/s)  \n",
      "----------------------------------------\n",
      "1000           1095.711            \n",
      "2000           1033.479            \n",
      "3000           782.917             \n",
      "4000           696.886             \n",
      "5000           680.210             \n",
      "6000           792.784             \n",
      "7000           674.215             \n",
      "8000           755.793             \n",
      "9000           704.744             \n",
      "10000          756.368             \n",
      "11000          759.968             \n",
      "12000          692.742             \n",
      "13000          732.610             \n",
      "========================================\n",
      "\n"
     ]
    }
   ],
   "source": [
    "# Print experiment tables\n",
    "print_double_line = lambda: print(\"=\" * 40)\n",
    "print_line = lambda: print(\"-\" * 40)\n",
    "\n",
    "def print_throughput_results(results):\n",
    "    for label, data in results.items():\n",
    "\n",
    "        print(\"\")\n",
    "        print_double_line()\n",
    "        print(f\"{label}\")\n",
    "        print_line()\n",
    "\n",
    "        print(f\"{'Table Size':<15}{'Throughput (ops/s)':<20}\")\n",
    "        print_line()\n",
    "\n",
    "        for table_size, throughput in data:\n",
    "            print(f\"{table_size:<15}{throughput:<20.3f}\")\n",
    "\n",
    "        print_double_line()\n",
    "        print(\"\")\n",
    "\n",
    "# Example usage:\n",
    "print_throughput_results(results1)"
   ]
  }
 ],
 "metadata": {
  "kernelspec": {
   "display_name": "Python 3 (ipykernel)",
   "language": "python",
   "name": "python3"
  },
  "language_info": {
   "codemirror_mode": {
    "name": "ipython",
    "version": 3
   },
   "file_extension": ".py",
   "mimetype": "text/x-python",
   "name": "python",
   "nbconvert_exporter": "python",
   "pygments_lexer": "ipython3",
   "version": "3.9.17"
  }
 },
 "nbformat": 4,
 "nbformat_minor": 5
}
