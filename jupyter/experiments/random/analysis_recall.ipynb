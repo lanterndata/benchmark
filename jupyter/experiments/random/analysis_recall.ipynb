{
 "cells": [
  {
   "cell_type": "markdown",
   "id": "f7c903a8-7f38-4b1c-ba4d-3c3ba87e3328",
   "metadata": {},
   "source": [
    "# Generate data"
   ]
  },
  {
   "cell_type": "code",
   "execution_count": null,
   "id": "155da9b9-0545-4151-b59f-b77b9da3d27f",
   "metadata": {},
   "outputs": [],
   "source": [
    "# Generate a set of query vectors\n",
    "# query_vectors = \n",
    "\n",
    "# Delete indices if exist\n",
    "\n",
    "# Create (all) tables if not exist\n",
    "\n",
    "# For each query vector, get the top max(k) nearest vectors using unindex\n",
    "# nearest_vector_ids = []\n",
    "\n",
    "# Create indices\n",
    "\n",
    "# For each query vector, get the nearest vectors, and calculate the number of matches\n",
    "\n",
    "# Write to a file"
   ]
  },
  {
   "cell_type": "markdown",
   "id": "4fdec2f7-6b4e-41fb-be45-fef86c2dc889",
   "metadata": {},
   "source": [
    "# Process data and generate plots"
   ]
  },
  {
   "cell_type": "code",
   "execution_count": 1,
   "id": "b92ad687-9332-4def-8acf-db6e750e71de",
   "metadata": {},
   "outputs": [],
   "source": [
    "# Reference: sift"
   ]
  }
 ],
 "metadata": {
  "kernelspec": {
   "display_name": "Python 3 (ipykernel)",
   "language": "python",
   "name": "python3"
  },
  "language_info": {
   "codemirror_mode": {
    "name": "ipython",
    "version": 3
   },
   "file_extension": ".py",
   "mimetype": "text/x-python",
   "name": "python",
   "nbconvert_exporter": "python",
   "pygments_lexer": "ipython3",
   "version": "3.9.17"
  }
 },
 "nbformat": 4,
 "nbformat_minor": 5
}
