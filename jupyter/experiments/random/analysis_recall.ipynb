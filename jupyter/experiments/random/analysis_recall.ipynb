{
 "cells": [
  {
   "cell_type": "markdown",
   "id": "f7c903a8-7f38-4b1c-ba4d-3c3ba87e3328",
   "metadata": {},
   "source": [
    "# Generate data"
   ]
  },
  {
   "cell_type": "code",
   "execution_count": null,
   "id": "155da9b9-0545-4151-b59f-b77b9da3d27f",
   "metadata": {},
   "outputs": [],
   "source": [
    "import random\n",
    "import psycopg2\n",
    "\n",
    "Q = 10\n",
    "D_values = 20\n",
    "K_values = [1, 5, 10, 20, 30, 40, 50, 60, 70, 80, 90, 100]\n",
    "N_values = [\"100k\"]\n",
    "\n",
    "# Open DB connection\n",
    "conn = psycopg2.connect(dbname='postgres', user='postgres', host='localhost', password='postgres', port='5432')\n",
    "cur = conn.cursor()\n",
    "\n",
    "for N in N_values:\n",
    "    # Generate a set of query vectors\n",
    "    query_vectors = np.random.rand(Q, D)\n",
    "   \n",
    "    # Delete indices if exist\n",
    "    cur.execute(open('./delete_tables.sql', 'r').read())\n",
    "        \n",
    "    # Create tables if not exist\n",
    "    cur.execute(open('./create_tables.sql', 'r').read())\n",
    "    \n",
    "    # For each query vector, get the top max(k) nearest vectors using unindexed\n",
    "    nearest_vector_ids = []\n",
    "    for query_vector in query_vectors:\n",
    "        query = f\"\"\"\n",
    "            SELECT\n",
    "                id\n",
    "            FROM\n",
    "                random_table_{N}\n",
    "            ORDER BY\n",
    "                vector{D} <-> %s\n",
    "            LIMIT {K}\n",
    "        \"\"\"\n",
    "        cursor.execute(query, (query_vector,))\n",
    "        nearest_vector_ids.push(map(lambda res: res[0], cur.fetchall()))\n",
    "        \n",
    "    # Create indices\n",
    "    cur.execute(open('./create_indices.sql', 'r').read())\n",
    "\n",
    "    # For each query vector, get the nearest vectors, and calculate the number of matches\n",
    "    for query in query_vectors:\n",
    "        query = \"\"\"\n",
    "            TODO: Get intersection query\n",
    "        \"\"\"\n",
    "        cursor.execute(query, (query_vector,))\n",
    "        match = \n",
    "    \n",
    "    # Write to a file\n",
    "\n",
    "\n",
    "cur.close()\n",
    "conn.close()"
   ]
  },
  {
   "cell_type": "markdown",
   "id": "4fdec2f7-6b4e-41fb-be45-fef86c2dc889",
   "metadata": {},
   "source": [
    "# Process data and generate plots"
   ]
  },
  {
   "cell_type": "code",
   "execution_count": 1,
   "id": "b92ad687-9332-4def-8acf-db6e750e71de",
   "metadata": {},
   "outputs": [],
   "source": [
    "# Reference: sift"
   ]
  }
 ],
 "metadata": {
  "kernelspec": {
   "display_name": "Python 3 (ipykernel)",
   "language": "python",
   "name": "python3"
  },
  "language_info": {
   "codemirror_mode": {
    "name": "ipython",
    "version": 3
   },
   "file_extension": ".py",
   "mimetype": "text/x-python",
   "name": "python",
   "nbconvert_exporter": "python",
   "pygments_lexer": "ipython3",
   "version": "3.9.17"
  }
 },
 "nbformat": 4,
 "nbformat_minor": 5
}
